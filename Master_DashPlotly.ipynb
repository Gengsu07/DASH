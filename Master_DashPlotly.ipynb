{
 "cells": [
  {
   "cell_type": "code",
   "execution_count": 108,
   "metadata": {},
   "outputs": [],
   "source": [
    "from dash import Dash, html, dcc , callback, Input, Output\n",
    "from jupyter_dash import JupyterDash\n",
    "import dash\n",
    "import plotly.express as px\n",
    "import pandas as pd"
   ]
  },
  {
   "attachments": {},
   "cell_type": "markdown",
   "metadata": {},
   "source": [
    "### Data Preparation"
   ]
  },
  {
   "cell_type": "code",
<<<<<<< HEAD
   "execution_count": 109,
=======
   "execution_count": 2,
>>>>>>> d29416a41798516db7e0998c80f1acdba4d4a550
   "metadata": {},
   "outputs": [],
   "source": [
    "df = pd.read_json('Liga1_2022_2023.json', orient='records')"
   ]
  },
  {
   "cell_type": "code",
<<<<<<< HEAD
   "execution_count": 110,
=======
   "execution_count": 3,
>>>>>>> d29416a41798516db7e0998c80f1acdba4d4a550
   "metadata": {},
   "outputs": [
    {
     "name": "stdout",
     "output_type": "stream",
     "text": [
      "<class 'pandas.core.frame.DataFrame'>\n",
      "RangeIndex: 686 entries, 0 to 685\n",
      "Data columns (total 5 columns):\n",
      " #   Column  Non-Null Count  Dtype \n",
      "---  ------  --------------  ----- \n",
      " 0   nama    686 non-null    object\n",
      " 1   posisi  686 non-null    object\n",
      " 2   ttl     686 non-null    object\n",
      " 3   value   683 non-null    object\n",
      " 4   klub    686 non-null    object\n",
      "dtypes: object(5)\n",
      "memory usage: 26.9+ KB\n"
     ]
    }
   ],
   "source": [
    "df.info()"
   ]
  },
  {
   "cell_type": "code",
<<<<<<< HEAD
   "execution_count": 111,
   "metadata": {},
   "outputs": [
    {
     "data": {
      "text/html": [
       "<div>\n",
       "<style scoped>\n",
       "    .dataframe tbody tr th:only-of-type {\n",
       "        vertical-align: middle;\n",
       "    }\n",
       "\n",
       "    .dataframe tbody tr th {\n",
       "        vertical-align: top;\n",
       "    }\n",
       "\n",
       "    .dataframe thead th {\n",
       "        text-align: right;\n",
       "    }\n",
       "</style>\n",
       "<table border=\"1\" class=\"dataframe\">\n",
       "  <thead>\n",
       "    <tr style=\"text-align: right;\">\n",
       "      <th></th>\n",
       "      <th>nama</th>\n",
       "      <th>posisi</th>\n",
       "      <th>ttl</th>\n",
       "      <th>value</th>\n",
       "      <th>klub</th>\n",
       "    </tr>\n",
       "  </thead>\n",
       "  <tbody>\n",
       "    <tr>\n",
       "      <th>0</th>\n",
       "      <td>Angga Saputro</td>\n",
       "      <td>Kiper</td>\n",
       "      <td>30 Nov 1993 (29)</td>\n",
       "      <td>Rp3,48Mlyr.</td>\n",
       "      <td>Borneo FC Samarinda</td>\n",
       "    </tr>\n",
       "    <tr>\n",
       "      <th>1</th>\n",
       "      <td>Shahar Ginanjar</td>\n",
       "      <td>Kiper</td>\n",
       "      <td>4 Nov 1990 (32)</td>\n",
       "      <td>Rp1,30Mlyr.</td>\n",
       "      <td>Borneo FC Samarinda</td>\n",
       "    </tr>\n",
       "    <tr>\n",
       "      <th>2</th>\n",
       "      <td>Dwi Kuswanto</td>\n",
       "      <td>Kiper</td>\n",
       "      <td>16 Agt 1985 (37)</td>\n",
       "      <td>Rp869,08Jt.</td>\n",
       "      <td>Borneo FC Samarinda</td>\n",
       "    </tr>\n",
       "    <tr>\n",
       "      <th>3</th>\n",
       "      <td>Zulfikri</td>\n",
       "      <td>Kiper</td>\n",
       "      <td>5 Nov 1999 (23)</td>\n",
       "      <td>Rp434,54Jt.</td>\n",
       "      <td>Borneo FC Samarinda</td>\n",
       "    </tr>\n",
       "    <tr>\n",
       "      <th>4</th>\n",
       "      <td>Pualam Bahari</td>\n",
       "      <td>Kiper</td>\n",
       "      <td>11 Mei 2002 (20)</td>\n",
       "      <td>Rp434,54Jt.</td>\n",
       "      <td>Borneo FC Samarinda</td>\n",
       "    </tr>\n",
       "  </tbody>\n",
       "</table>\n",
       "</div>"
      ],
      "text/plain": [
       "              nama posisi               ttl        value                 klub\n",
       "0    Angga Saputro  Kiper  30 Nov 1993 (29)  Rp3,48Mlyr.  Borneo FC Samarinda\n",
       "1  Shahar Ginanjar  Kiper   4 Nov 1990 (32)  Rp1,30Mlyr.  Borneo FC Samarinda\n",
       "2     Dwi Kuswanto  Kiper  16 Agt 1985 (37)  Rp869,08Jt.  Borneo FC Samarinda\n",
       "3         Zulfikri  Kiper   5 Nov 1999 (23)  Rp434,54Jt.  Borneo FC Samarinda\n",
       "4    Pualam Bahari  Kiper  11 Mei 2002 (20)  Rp434,54Jt.  Borneo FC Samarinda"
      ]
     },
     "execution_count": 111,
     "metadata": {},
     "output_type": "execute_result"
    }
   ],
   "source": [
    "df.head()"
   ]
  },
  {
   "cell_type": "code",
   "execution_count": 112,
   "metadata": {},
   "outputs": [],
   "source": [
    "df['umur'] = df['ttl'].str.extract('\\((\\d+)\\)')"
   ]
  },
  {
   "cell_type": "code",
   "execution_count": 113,
   "metadata": {},
   "outputs": [],
   "source": [
    "df['ttl'] = df['ttl'].str.replace(r'\\s*\\(\\d+\\)','')\n",
    "df['cek'] = df['ttl'].str.split()\n",
    "# df['ttl'] = pd.to_datetime(df['ttl'], format='%d %b %Y')"
   ]
  },
  {
   "cell_type": "code",
   "execution_count": 114,
   "metadata": {},
   "outputs": [],
   "source": [
    "df['lahir'] = df['cek'].apply(lambda x:' '.join(x[:-1]))"
   ]
  },
  {
   "cell_type": "code",
   "execution_count": 115,
   "metadata": {},
   "outputs": [],
   "source": [
    "df.drop(['ttl','cek'],inplace=True, axis=1)"
   ]
  },
  {
   "cell_type": "code",
   "execution_count": 116,
   "metadata": {},
   "outputs": [
    {
     "data": {
      "text/html": [
       "<div>\n",
       "<style scoped>\n",
       "    .dataframe tbody tr th:only-of-type {\n",
       "        vertical-align: middle;\n",
       "    }\n",
       "\n",
       "    .dataframe tbody tr th {\n",
       "        vertical-align: top;\n",
       "    }\n",
       "\n",
       "    .dataframe thead th {\n",
       "        text-align: right;\n",
       "    }\n",
       "</style>\n",
       "<table border=\"1\" class=\"dataframe\">\n",
       "  <thead>\n",
       "    <tr style=\"text-align: right;\">\n",
       "      <th></th>\n",
       "      <th>nama</th>\n",
       "      <th>posisi</th>\n",
       "      <th>value</th>\n",
       "      <th>klub</th>\n",
       "      <th>umur</th>\n",
       "      <th>lahir</th>\n",
       "    </tr>\n",
       "  </thead>\n",
       "  <tbody>\n",
       "    <tr>\n",
       "      <th>0</th>\n",
       "      <td>Angga Saputro</td>\n",
       "      <td>Kiper</td>\n",
       "      <td>Rp3,48Mlyr.</td>\n",
       "      <td>Borneo FC Samarinda</td>\n",
       "      <td>29</td>\n",
       "      <td>30 Nov 1993</td>\n",
       "    </tr>\n",
       "    <tr>\n",
       "      <th>1</th>\n",
       "      <td>Shahar Ginanjar</td>\n",
       "      <td>Kiper</td>\n",
       "      <td>Rp1,30Mlyr.</td>\n",
       "      <td>Borneo FC Samarinda</td>\n",
       "      <td>32</td>\n",
       "      <td>4 Nov 1990</td>\n",
       "    </tr>\n",
       "    <tr>\n",
       "      <th>2</th>\n",
       "      <td>Dwi Kuswanto</td>\n",
       "      <td>Kiper</td>\n",
       "      <td>Rp869,08Jt.</td>\n",
       "      <td>Borneo FC Samarinda</td>\n",
       "      <td>37</td>\n",
       "      <td>16 Agt 1985</td>\n",
       "    </tr>\n",
       "    <tr>\n",
       "      <th>3</th>\n",
       "      <td>Zulfikri</td>\n",
       "      <td>Kiper</td>\n",
       "      <td>Rp434,54Jt.</td>\n",
       "      <td>Borneo FC Samarinda</td>\n",
       "      <td>23</td>\n",
       "      <td>5 Nov 1999</td>\n",
       "    </tr>\n",
       "    <tr>\n",
       "      <th>4</th>\n",
       "      <td>Pualam Bahari</td>\n",
       "      <td>Kiper</td>\n",
       "      <td>Rp434,54Jt.</td>\n",
       "      <td>Borneo FC Samarinda</td>\n",
       "      <td>20</td>\n",
       "      <td>11 Mei 2002</td>\n",
       "    </tr>\n",
       "    <tr>\n",
       "      <th>...</th>\n",
       "      <td>...</td>\n",
       "      <td>...</td>\n",
       "      <td>...</td>\n",
       "      <td>...</td>\n",
       "      <td>...</td>\n",
       "      <td>...</td>\n",
       "    </tr>\n",
       "    <tr>\n",
       "      <th>681</th>\n",
       "      <td>Antoni Nugroho</td>\n",
       "      <td>Sayap Kanan</td>\n",
       "      <td>Rp2,17Mlyr.</td>\n",
       "      <td>Bhayangkara FC</td>\n",
       "      <td>29</td>\n",
       "      <td>25 Feb 1994</td>\n",
       "    </tr>\n",
       "    <tr>\n",
       "      <th>682</th>\n",
       "      <td>Dendy Sulistyawan</td>\n",
       "      <td>Depan-Tengah</td>\n",
       "      <td>Rp3,91Mlyr.</td>\n",
       "      <td>Bhayangkara FC</td>\n",
       "      <td>26</td>\n",
       "      <td>12 Okt 1996</td>\n",
       "    </tr>\n",
       "    <tr>\n",
       "      <th>683</th>\n",
       "      <td>Alex</td>\n",
       "      <td>Depan-Tengah</td>\n",
       "      <td>Rp3,04Mlyr.</td>\n",
       "      <td>Bhayangkara FC</td>\n",
       "      <td>29</td>\n",
       "      <td>8 Jul 1993</td>\n",
       "    </tr>\n",
       "    <tr>\n",
       "      <th>684</th>\n",
       "      <td>Titan Agung</td>\n",
       "      <td>Depan-Tengah</td>\n",
       "      <td>Rp1,74Mlyr.</td>\n",
       "      <td>Bhayangkara FC</td>\n",
       "      <td>21</td>\n",
       "      <td>5 Jun 2001</td>\n",
       "    </tr>\n",
       "    <tr>\n",
       "      <th>685</th>\n",
       "      <td>Faiz Maulana</td>\n",
       "      <td>Depan-Tengah</td>\n",
       "      <td>Rp434,54Jt.</td>\n",
       "      <td>Bhayangkara FC</td>\n",
       "      <td>18</td>\n",
       "      <td>15 Jul 2004</td>\n",
       "    </tr>\n",
       "  </tbody>\n",
       "</table>\n",
       "<p>686 rows × 6 columns</p>\n",
       "</div>"
      ],
      "text/plain": [
       "                  nama        posisi        value                 klub umur   \n",
       "0        Angga Saputro         Kiper  Rp3,48Mlyr.  Borneo FC Samarinda   29  \\\n",
       "1      Shahar Ginanjar         Kiper  Rp1,30Mlyr.  Borneo FC Samarinda   32   \n",
       "2         Dwi Kuswanto         Kiper  Rp869,08Jt.  Borneo FC Samarinda   37   \n",
       "3             Zulfikri         Kiper  Rp434,54Jt.  Borneo FC Samarinda   23   \n",
       "4        Pualam Bahari         Kiper  Rp434,54Jt.  Borneo FC Samarinda   20   \n",
       "..                 ...           ...          ...                  ...  ...   \n",
       "681     Antoni Nugroho   Sayap Kanan  Rp2,17Mlyr.       Bhayangkara FC   29   \n",
       "682  Dendy Sulistyawan  Depan-Tengah  Rp3,91Mlyr.       Bhayangkara FC   26   \n",
       "683               Alex  Depan-Tengah  Rp3,04Mlyr.       Bhayangkara FC   29   \n",
       "684        Titan Agung  Depan-Tengah  Rp1,74Mlyr.       Bhayangkara FC   21   \n",
       "685       Faiz Maulana  Depan-Tengah  Rp434,54Jt.       Bhayangkara FC   18   \n",
       "\n",
       "           lahir  \n",
       "0    30 Nov 1993  \n",
       "1     4 Nov 1990  \n",
       "2    16 Agt 1985  \n",
       "3     5 Nov 1999  \n",
       "4    11 Mei 2002  \n",
       "..           ...  \n",
       "681  25 Feb 1994  \n",
       "682  12 Okt 1996  \n",
       "683   8 Jul 1993  \n",
       "684   5 Jun 2001  \n",
       "685  15 Jul 2004  \n",
       "\n",
       "[686 rows x 6 columns]"
      ]
     },
     "execution_count": 116,
     "metadata": {},
     "output_type": "execute_result"
    }
   ],
   "source": [
    "df"
   ]
  },
  {
   "cell_type": "code",
   "execution_count": 121,
   "metadata": {},
   "outputs": [],
   "source": [
    "def value(value):\n",
    "    for x in value:\n",
    "        if str(x).str.contains('Mlyr.'):\n",
    "            x = x.str.replace('Mlyr.','')\n",
    "            \n",
    "        elif str(x).str.contains('Jt.',''):\n",
    "            x = x.str.replace('Jt.','')\n",
    "        \n",
    "    return x"
   ]
  },
  {
   "cell_type": "code",
   "execution_count": 122,
   "metadata": {},
   "outputs": [
    {
     "ename": "AttributeError",
     "evalue": "'str' object has no attribute 'str'",
     "output_type": "error",
     "traceback": [
      "\u001b[0;31m---------------------------------------------------------------------------\u001b[0m",
      "\u001b[0;31mAttributeError\u001b[0m                            Traceback (most recent call last)",
      "Cell \u001b[0;32mIn[122], line 3\u001b[0m\n\u001b[1;32m      1\u001b[0m df\u001b[39m=\u001b[39m (df\n\u001b[1;32m      2\u001b[0m      \u001b[39m.\u001b[39massign(value \u001b[39m=\u001b[39m df[\u001b[39m'\u001b[39m\u001b[39mvalue\u001b[39m\u001b[39m'\u001b[39m]\u001b[39m.\u001b[39mstr\u001b[39m.\u001b[39mreplace(\u001b[39m'\u001b[39m\u001b[39mRp\u001b[39m\u001b[39m'\u001b[39m,\u001b[39m'\u001b[39m\u001b[39m'\u001b[39m) )\n\u001b[0;32m----> 3\u001b[0m      \u001b[39m.\u001b[39massign(nilai_pasar \u001b[39m=\u001b[39m value(df[\u001b[39m'\u001b[39;49m\u001b[39mvalue\u001b[39;49m\u001b[39m'\u001b[39;49m]))\n\u001b[1;32m      4\u001b[0m )\n",
      "Cell \u001b[0;32mIn[121], line 3\u001b[0m, in \u001b[0;36mvalue\u001b[0;34m(value)\u001b[0m\n\u001b[1;32m      1\u001b[0m \u001b[39mdef\u001b[39;00m \u001b[39mvalue\u001b[39m(value):\n\u001b[1;32m      2\u001b[0m     \u001b[39mfor\u001b[39;00m x \u001b[39min\u001b[39;00m value:\n\u001b[0;32m----> 3\u001b[0m         \u001b[39mif\u001b[39;00m x\u001b[39m.\u001b[39;49mstr\u001b[39m.\u001b[39mcontains(\u001b[39m'\u001b[39m\u001b[39mMlyr.\u001b[39m\u001b[39m'\u001b[39m):\n\u001b[1;32m      4\u001b[0m             x \u001b[39m=\u001b[39m x\u001b[39m.\u001b[39mstr\u001b[39m.\u001b[39mreplace(\u001b[39m'\u001b[39m\u001b[39mMlyr.\u001b[39m\u001b[39m'\u001b[39m,\u001b[39m'\u001b[39m\u001b[39m'\u001b[39m)\n\u001b[1;32m      6\u001b[0m         \u001b[39melif\u001b[39;00m x\u001b[39m.\u001b[39mstr\u001b[39m.\u001b[39mcontains(\u001b[39m'\u001b[39m\u001b[39mJt.\u001b[39m\u001b[39m'\u001b[39m,\u001b[39m'\u001b[39m\u001b[39m'\u001b[39m):\n",
      "\u001b[0;31mAttributeError\u001b[0m: 'str' object has no attribute 'str'"
     ]
    }
   ],
   "source": [
    "df= (df\n",
    "     .assign(value = df['value'].str.replace('Rp','') )\n",
    "     .assign(nilai_pasar = value(df['value']))\n",
    ")"
   ]
  },
  {
   "cell_type": "code",
   "execution_count": 100,
   "metadata": {},
   "outputs": [
    {
     "data": {
      "text/html": [
       "<div>\n",
       "<style scoped>\n",
       "    .dataframe tbody tr th:only-of-type {\n",
       "        vertical-align: middle;\n",
       "    }\n",
       "\n",
       "    .dataframe tbody tr th {\n",
       "        vertical-align: top;\n",
       "    }\n",
       "\n",
       "    .dataframe thead th {\n",
       "        text-align: right;\n",
       "    }\n",
       "</style>\n",
       "<table border=\"1\" class=\"dataframe\">\n",
       "  <thead>\n",
       "    <tr style=\"text-align: right;\">\n",
       "      <th></th>\n",
       "      <th>nama</th>\n",
       "      <th>posisi</th>\n",
       "      <th>value</th>\n",
       "      <th>klub</th>\n",
       "      <th>umur</th>\n",
       "      <th>lahir</th>\n",
       "    </tr>\n",
       "  </thead>\n",
       "  <tbody>\n",
       "    <tr>\n",
       "      <th>0</th>\n",
       "      <td>Angga Saputro</td>\n",
       "      <td>Kiper</td>\n",
       "      <td>3,48</td>\n",
       "      <td>Borneo FC Samarinda</td>\n",
       "      <td>29</td>\n",
       "      <td>30 Nov 1993</td>\n",
       "    </tr>\n",
       "    <tr>\n",
       "      <th>1</th>\n",
       "      <td>Shahar Ginanjar</td>\n",
       "      <td>Kiper</td>\n",
       "      <td>1,30</td>\n",
       "      <td>Borneo FC Samarinda</td>\n",
       "      <td>32</td>\n",
       "      <td>4 Nov 1990</td>\n",
       "    </tr>\n",
       "    <tr>\n",
       "      <th>2</th>\n",
       "      <td>Dwi Kuswanto</td>\n",
       "      <td>Kiper</td>\n",
       "      <td>869,08Jt.</td>\n",
       "      <td>Borneo FC Samarinda</td>\n",
       "      <td>37</td>\n",
       "      <td>16 Agt 1985</td>\n",
       "    </tr>\n",
       "    <tr>\n",
       "      <th>3</th>\n",
       "      <td>Zulfikri</td>\n",
       "      <td>Kiper</td>\n",
       "      <td>434,54Jt.</td>\n",
       "      <td>Borneo FC Samarinda</td>\n",
       "      <td>23</td>\n",
       "      <td>5 Nov 1999</td>\n",
       "    </tr>\n",
       "    <tr>\n",
       "      <th>4</th>\n",
       "      <td>Pualam Bahari</td>\n",
       "      <td>Kiper</td>\n",
       "      <td>434,54Jt.</td>\n",
       "      <td>Borneo FC Samarinda</td>\n",
       "      <td>20</td>\n",
       "      <td>11 Mei 2002</td>\n",
       "    </tr>\n",
       "    <tr>\n",
       "      <th>...</th>\n",
       "      <td>...</td>\n",
       "      <td>...</td>\n",
       "      <td>...</td>\n",
       "      <td>...</td>\n",
       "      <td>...</td>\n",
       "      <td>...</td>\n",
       "    </tr>\n",
       "    <tr>\n",
       "      <th>681</th>\n",
       "      <td>Antoni Nugroho</td>\n",
       "      <td>Sayap Kanan</td>\n",
       "      <td>2,17</td>\n",
       "      <td>Bhayangkara FC</td>\n",
       "      <td>29</td>\n",
       "      <td>25 Feb 1994</td>\n",
       "    </tr>\n",
       "    <tr>\n",
       "      <th>682</th>\n",
       "      <td>Dendy Sulistyawan</td>\n",
       "      <td>Depan-Tengah</td>\n",
       "      <td>3,91</td>\n",
       "      <td>Bhayangkara FC</td>\n",
       "      <td>26</td>\n",
       "      <td>12 Okt 1996</td>\n",
       "    </tr>\n",
       "    <tr>\n",
       "      <th>683</th>\n",
       "      <td>Alex</td>\n",
       "      <td>Depan-Tengah</td>\n",
       "      <td>3,04</td>\n",
       "      <td>Bhayangkara FC</td>\n",
       "      <td>29</td>\n",
       "      <td>8 Jul 1993</td>\n",
       "    </tr>\n",
       "    <tr>\n",
       "      <th>684</th>\n",
       "      <td>Titan Agung</td>\n",
       "      <td>Depan-Tengah</td>\n",
       "      <td>1,74</td>\n",
       "      <td>Bhayangkara FC</td>\n",
       "      <td>21</td>\n",
       "      <td>5 Jun 2001</td>\n",
       "    </tr>\n",
       "    <tr>\n",
       "      <th>685</th>\n",
       "      <td>Faiz Maulana</td>\n",
       "      <td>Depan-Tengah</td>\n",
       "      <td>434,54Jt.</td>\n",
       "      <td>Bhayangkara FC</td>\n",
       "      <td>18</td>\n",
       "      <td>15 Jul 2004</td>\n",
       "    </tr>\n",
       "  </tbody>\n",
       "</table>\n",
       "<p>686 rows × 6 columns</p>\n",
       "</div>"
      ],
      "text/plain": [
       "                  nama        posisi      value                 klub umur   \n",
       "0        Angga Saputro         Kiper       3,48  Borneo FC Samarinda   29  \\\n",
       "1      Shahar Ginanjar         Kiper       1,30  Borneo FC Samarinda   32   \n",
       "2         Dwi Kuswanto         Kiper  869,08Jt.  Borneo FC Samarinda   37   \n",
       "3             Zulfikri         Kiper  434,54Jt.  Borneo FC Samarinda   23   \n",
       "4        Pualam Bahari         Kiper  434,54Jt.  Borneo FC Samarinda   20   \n",
       "..                 ...           ...        ...                  ...  ...   \n",
       "681     Antoni Nugroho   Sayap Kanan       2,17       Bhayangkara FC   29   \n",
       "682  Dendy Sulistyawan  Depan-Tengah       3,91       Bhayangkara FC   26   \n",
       "683               Alex  Depan-Tengah       3,04       Bhayangkara FC   29   \n",
       "684        Titan Agung  Depan-Tengah       1,74       Bhayangkara FC   21   \n",
       "685       Faiz Maulana  Depan-Tengah  434,54Jt.       Bhayangkara FC   18   \n",
       "\n",
       "           lahir  \n",
       "0    30 Nov 1993  \n",
       "1     4 Nov 1990  \n",
       "2    16 Agt 1985  \n",
       "3     5 Nov 1999  \n",
       "4    11 Mei 2002  \n",
       "..           ...  \n",
       "681  25 Feb 1994  \n",
       "682  12 Okt 1996  \n",
       "683   8 Jul 1993  \n",
       "684   5 Jun 2001  \n",
       "685  15 Jul 2004  \n",
       "\n",
       "[686 rows x 6 columns]"
      ]
     },
     "execution_count": 100,
     "metadata": {},
     "output_type": "execute_result"
    }
   ],
   "source": [
    "df"
   ]
  },
  {
   "cell_type": "code",
=======
>>>>>>> d29416a41798516db7e0998c80f1acdba4d4a550
   "execution_count": 4,
   "metadata": {},
   "outputs": [
    {
     "name": "stdout",
     "output_type": "stream",
     "text": [
      "Dash is running on http://127.0.0.1:8050/\n",
      "\n"
     ]
    },
    {
     "data": {
      "text/html": [
       "\n",
       "        <iframe\n",
       "            width=\"100%\"\n",
       "            height=\"650\"\n",
       "            src=\"http://127.0.0.1:8050/\"\n",
       "            frameborder=\"0\"\n",
       "            allowfullscreen\n",
       "            \n",
       "        ></iframe>\n",
       "        "
      ],
      "text/plain": [
<<<<<<< HEAD
       "<IPython.lib.display.IFrame at 0x10d286910>"
=======
       "<IPython.lib.display.IFrame at 0x11ab35e90>"
>>>>>>> d29416a41798516db7e0998c80f1acdba4d4a550
      ]
     },
     "metadata": {},
     "output_type": "display_data"
    }
   ],
   "source": [
    "app = JupyterDash(__name__)\n",
    "app.layout = html.Div([\n",
    "    html.H1('Testing by gengsu'),\n",
    "    dcc.Dropdown(df['NM_KATEGORI'].unique(),id='sektor'),\n",
    "    dcc.Graph(id='monthly_grap', figure={})\n",
    "    ])\n",
    "\n",
    "@callback(Output(component_id='monthly_grap', component_property='figure'),\n",
    "          Input(component_id='sektor', component_property='value'))\n",
    "def filtersektor(sektor):\n",
    "    if not sektor:\n",
    "        raise dash.exceptions.PreventUpdate\n",
    "    else:\n",
    "        sektor = df[(df['NM_KATEGORI']==sektor) & (df['TAHUNBAYAR']==2023)]\n",
    "        sektor = sektor.groupby('BULANBAYAR')['NOMINAL'].sum().reset_index()\n",
    "        bar = px.bar(sektor, x='NOMINAL', y='BULANBAYAR', orientation='h', title='PerSektor per bulan')\n",
    "    return bar\n",
    "\n",
    "\n",
    "\n",
    "\n",
    "if __name__ == '__main__':\n",
    "    app.run_server(debug=True, mode='inline')"
   ]
  },
  {
   "cell_type": "code",
   "execution_count": 5,
   "metadata": {},
   "outputs": [],
   "source": [
    "dict_sektor = {\n",
    "    'PERDAGANGAN BESAR DAN ECERAN; REPARASI DAN PERAWATAN MOBIL DAN SEPEDA MOTOR': 'PERDAGANGAN BESAR ECERAN<br>REPARASI PERAWATAN MOBIL',\n",
    "    'PENYEDIAAN AKOMODASI DAN PENYEDIAAN MAKAN MINUM': 'PENYEDIAAN AKOMODASI<br>DAN PENYEDIAAN MAKAN MINUM',\n",
    "    \"PENGADAAN LISTRIK, GAS,UAP/AIR PANAS DAN UDARA DINGIN\": \"PENGADAAN LISTRIK, GAS,UAP/AIR PANAS<br>UDARA DINGIN\",\n",
    "    \"PENGADAAN AIR, PENGELOLAAN SAMPAH DAN DAUR ULANG, PEMBUANGAN DAN PEMBERSIHAN LIMBAH DAN SAMPAH\": \"PENGADAAN AIR, PENGELOLAAN SAMPAH\",\n",
    "    \"KEGIATAN BADAN INTERNASIONAL DAN BADAN EKSTRA INTERNASIONAL LAINNYA\": \"KEGIATAN BADAN INTERNASIONAL\",\n",
    "    \"JASA PERSEWAAN, KETENAGAKERJAAN, AGEN PERJALANAN DAN PENUNJANG USAHA LAINNYA\": \"JASA PERSEWAAN, KETENAGAKERJAAN\",\n",
    "    \"JASA PERORANGAN YANG MELAYANI RUMAH TANGGA; KEGIATAN YANG MENGHASILKAN BARANG DAN JASA OLEH RUMAH TANGGA YANG DIGUNAKAN SENDIRI UNTUK MEMENUHI KEBUTUHAN\": \"JASA PERORANGAN MELAYANI<br>RUMAH TANGGA\",\n",
    "    \"ADMINISTRASI PEMERINTAHAN DAN JAMINAN SOSIAL WAJIB\": \"ADMINISTRASI PEMERINTAHAN<br>JAMINAN SOSIAL WAJIB\",\n",
    "    \"JASA PENDIDIKAN\": \"JASA PENDIDIKAN\",\n",
    "    \"INFORMASI DAN KOMUNIKASI\":\"INFORMASI KOMUNIKASI\",\n",
    "    \"TRANSPORTASI DAN PERGUDANGAN\" : \"TRANSPORTASI DAN PERGUDANGAN\",\n",
    "    \"JASA KESEHATAN DAN KEGIATAN SOSIAL\": \"JASA KESEHATAN DAN KEGIATAN SOSIAL\",\n",
    "    \"KONSTRUKSI\": \"KONSTRUKSI\",\n",
    "    \"REAL ESTAT\" : \"REAL ESTAT\",\n",
    "    \"KEGIATAN JASA LAINNYA\": \"KEGIATAN JASA LAINNYA\",\n",
    "    \"INDUSTRI PENGOLAHAN\" : \"INDUSTRI PENGOLAHAN\",\n",
    "    \"KLU ERROR\":\"KLU ERROR\",\n",
    "    \"PERTAMBANGAN DAN PENGGALIAN\" : \"PERTAMBANGAN DAN PENGGALIAN\",\n",
    "    \"JASA KEUANGAN DAN ASURANSI\" :\"JASA KEUANGAN DAN ASURANSI\",\n",
    "    \"PERTANIAN, KEHUTANAN DAN PERIKANAN\" :\"PERTANIAN,KEHUTANAN,PERIKANAN\",\n",
    "    \"JASA PROFESIONAL, ILMIAH DAN TEKNIS\":\"JASA PROFESIONAL,ILMIAH,TEKNIS\"\n",
    "}"
   ]
  },
  {
   "attachments": {},
   "cell_type": "markdown",
   "metadata": {},
   "source": [
    "### Set Default Color Themes"
   ]
  },
  {
   "cell_type": "code",
   "execution_count": 6,
   "metadata": {},
   "outputs": [],
   "source": [
    "px.defaults.color_continuous_scale = px.colors.sequential.Darkmint"
   ]
  },
  {
   "cell_type": "code",
<<<<<<< HEAD
   "execution_count": 7,
=======
   "execution_count": 236,
   "metadata": {},
   "outputs": [
    {
     "data": {
      "text/html": [
       "<div>\n",
       "<style scoped>\n",
       "    .dataframe tbody tr th:only-of-type {\n",
       "        vertical-align: middle;\n",
       "    }\n",
       "\n",
       "    .dataframe tbody tr th {\n",
       "        vertical-align: top;\n",
       "    }\n",
       "\n",
       "    .dataframe thead th {\n",
       "        text-align: right;\n",
       "    }\n",
       "</style>\n",
       "<table border=\"1\" class=\"dataframe\">\n",
       "  <thead>\n",
       "    <tr style=\"text-align: right;\">\n",
       "      <th></th>\n",
       "      <th>NM_KATEGORI</th>\n",
       "      <th>NOMINAL</th>\n",
       "      <th>milyar</th>\n",
       "    </tr>\n",
       "  </thead>\n",
       "  <tbody>\n",
       "    <tr>\n",
       "      <th>17</th>\n",
       "      <td>PERDAGANGAN BESAR ECERAN&lt;br&gt;REPARASI PERAWATAN...</td>\n",
       "      <td>3.028313e+12</td>\n",
       "      <td>3028.31M</td>\n",
       "    </tr>\n",
       "    <tr>\n",
       "      <th>1</th>\n",
       "      <td>INDUSTRI PENGOLAHAN</td>\n",
       "      <td>1.206458e+12</td>\n",
       "      <td>1206.46M</td>\n",
       "    </tr>\n",
       "    <tr>\n",
       "      <th>13</th>\n",
       "      <td>KONSTRUKSI</td>\n",
       "      <td>6.075319e+11</td>\n",
       "      <td>607.53M</td>\n",
       "    </tr>\n",
       "    <tr>\n",
       "      <th>21</th>\n",
       "      <td>TRANSPORTASI DAN PERGUDANGAN</td>\n",
       "      <td>5.381683e+11</td>\n",
       "      <td>538.17M</td>\n",
       "    </tr>\n",
       "    <tr>\n",
       "      <th>18</th>\n",
       "      <td>PERTAMBANGAN DAN PENGGALIAN</td>\n",
       "      <td>5.321257e+11</td>\n",
       "      <td>532.13M</td>\n",
       "    </tr>\n",
       "    <tr>\n",
       "      <th>11</th>\n",
       "      <td>KEGIATAN JASA LAINNYA</td>\n",
       "      <td>3.434559e+11</td>\n",
       "      <td>343.46M</td>\n",
       "    </tr>\n",
       "    <tr>\n",
       "      <th>0</th>\n",
       "      <td>ADMINISTRASI PEMERINTAHAN&lt;br&gt;JAMINAN SOSIAL WAJIB</td>\n",
       "      <td>3.397922e+11</td>\n",
       "      <td>339.79M</td>\n",
       "    </tr>\n",
       "    <tr>\n",
       "      <th>7</th>\n",
       "      <td>JASA PERSEWAAN, KETENAGAKERJAAN</td>\n",
       "      <td>2.189145e+11</td>\n",
       "      <td>218.91M</td>\n",
       "    </tr>\n",
       "    <tr>\n",
       "      <th>4</th>\n",
       "      <td>JASA KEUANGAN DAN ASURANSI</td>\n",
       "      <td>1.820475e+11</td>\n",
       "      <td>182.05M</td>\n",
       "    </tr>\n",
       "    <tr>\n",
       "      <th>8</th>\n",
       "      <td>JASA PROFESIONAL,ILMIAH,TEKNIS</td>\n",
       "      <td>1.764841e+11</td>\n",
       "      <td>176.48M</td>\n",
       "    </tr>\n",
       "  </tbody>\n",
       "</table>\n",
       "</div>"
      ],
      "text/plain": [
       "                                          NM_KATEGORI       NOMINAL    milyar\n",
       "17  PERDAGANGAN BESAR ECERAN<br>REPARASI PERAWATAN...  3.028313e+12  3028.31M\n",
       "1                                 INDUSTRI PENGOLAHAN  1.206458e+12  1206.46M\n",
       "13                                         KONSTRUKSI  6.075319e+11   607.53M\n",
       "21                       TRANSPORTASI DAN PERGUDANGAN  5.381683e+11   538.17M\n",
       "18                        PERTAMBANGAN DAN PENGGALIAN  5.321257e+11   532.13M\n",
       "11                              KEGIATAN JASA LAINNYA  3.434559e+11   343.46M\n",
       "0   ADMINISTRASI PEMERINTAHAN<br>JAMINAN SOSIAL WAJIB  3.397922e+11   339.79M\n",
       "7                     JASA PERSEWAAN, KETENAGAKERJAAN  2.189145e+11   218.91M\n",
       "4                          JASA KEUANGAN DAN ASURANSI  1.820475e+11   182.05M\n",
       "8                      JASA PROFESIONAL,ILMIAH,TEKNIS  1.764841e+11   176.48M"
      ]
     },
     "execution_count": 236,
     "metadata": {},
     "output_type": "execute_result"
    }
   ],
   "source": [
    "(df\n",
    "    .query(\"TAHUNBAYAR == 2023 & KET not in ('SPMKP')\")\n",
    "    .groupby('NM_KATEGORI', as_index=False)['NOMINAL']\n",
    "    .sum()\n",
    "    .replace(dict_sektor)\n",
    "    .assign(milyar = lambda x:(x['NOMINAL']/1000000000).apply(lambda y:'{:.2f}M'.format(y)))\n",
    "    .sort_values(by='NOMINAL', ascending=False)[:10]\n",
    ")"
   ]
  },
  {
   "cell_type": "code",
   "execution_count": 235,
>>>>>>> d29416a41798516db7e0998c80f1acdba4d4a550
   "metadata": {},
   "outputs": [
    {
     "data": {
      "application/vnd.plotly.v1+json": {
       "config": {
        "plotlyServerURL": "https://plot.ly"
       },
       "data": [
        {
         "alignmentgroup": "True",
         "hovertemplate": "=%{marker.color}<br>milyar=%{text}<extra></extra>",
         "legendgroup": "",
         "marker": {
          "color": [
           3028312872814.84,
           1206457870986,
           607531884088,
           538168327853,
           532125695840,
           343455942071,
           339792194910,
           218914530530,
           182047465700,
           176484052265
          ],
          "coloraxis": "coloraxis",
          "pattern": {
           "shape": ""
          }
         },
         "name": "",
         "offsetgroup": "",
         "orientation": "h",
         "showlegend": false,
         "text": [
          "3028.31M",
          "1206.46M",
          "607.53M",
          "538.17M",
          "532.13M",
          "343.46M",
          "339.79M",
          "218.91M",
          "182.05M",
          "176.48M"
         ],
         "textposition": "auto",
         "type": "bar",
         "x": [
          3028312872814.84,
          1206457870986,
          607531884088,
          538168327853,
          532125695840,
          343455942071,
          339792194910,
          218914530530,
          182047465700,
          176484052265
         ],
         "xaxis": "x",
         "y": [
          "PERDAGANGAN BESAR ECERAN<br>REPARASI PERAWATAN MOBIL",
          "INDUSTRI PENGOLAHAN",
          "KONSTRUKSI",
          "TRANSPORTASI DAN PERGUDANGAN",
          "PERTAMBANGAN DAN PENGGALIAN",
          "KEGIATAN JASA LAINNYA",
          "ADMINISTRASI PEMERINTAHAN<br>JAMINAN SOSIAL WAJIB",
          "JASA PERSEWAAN, KETENAGAKERJAAN",
          "JASA KEUANGAN DAN ASURANSI",
          "JASA PROFESIONAL,ILMIAH,TEKNIS"
         ],
         "yaxis": "y"
        }
       ],
       "layout": {
        "barmode": "relative",
        "coloraxis": {
         "colorbar": {
          "title": {
           "text": ""
          }
         },
         "colorscale": [
          [
           0,
           "rgb(210, 251, 212)"
          ],
          [
           0.16666666666666666,
           "rgb(165, 219, 194)"
          ],
          [
           0.3333333333333333,
           "rgb(123, 188, 176)"
          ],
          [
           0.5,
           "rgb(85, 156, 158)"
          ],
          [
           0.6666666666666666,
           "rgb(58, 124, 137)"
          ],
          [
           0.8333333333333334,
           "rgb(35, 93, 114)"
          ],
          [
           1,
           "rgb(18, 63, 90)"
          ]
         ],
         "showscale": false
        },
        "height": 720,
        "legend": {
         "tracegroupgap": 0
        },
        "margin": {
         "l": 0
        },
        "plot_bgcolor": "white",
        "template": {
         "data": {
          "bar": [
           {
            "error_x": {
             "color": "#2a3f5f"
            },
            "error_y": {
             "color": "#2a3f5f"
            },
            "marker": {
             "line": {
              "color": "#E5ECF6",
              "width": 0.5
             },
             "pattern": {
              "fillmode": "overlay",
              "size": 10,
              "solidity": 0.2
             }
            },
            "type": "bar"
           }
          ],
          "barpolar": [
           {
            "marker": {
             "line": {
              "color": "#E5ECF6",
              "width": 0.5
             },
             "pattern": {
              "fillmode": "overlay",
              "size": 10,
              "solidity": 0.2
             }
            },
            "type": "barpolar"
           }
          ],
          "carpet": [
           {
            "aaxis": {
             "endlinecolor": "#2a3f5f",
             "gridcolor": "white",
             "linecolor": "white",
             "minorgridcolor": "white",
             "startlinecolor": "#2a3f5f"
            },
            "baxis": {
             "endlinecolor": "#2a3f5f",
             "gridcolor": "white",
             "linecolor": "white",
             "minorgridcolor": "white",
             "startlinecolor": "#2a3f5f"
            },
            "type": "carpet"
           }
          ],
          "choropleth": [
           {
            "colorbar": {
             "outlinewidth": 0,
             "ticks": ""
            },
            "type": "choropleth"
           }
          ],
          "contour": [
           {
            "colorbar": {
             "outlinewidth": 0,
             "ticks": ""
            },
            "colorscale": [
             [
              0,
              "#0d0887"
             ],
             [
              0.1111111111111111,
              "#46039f"
             ],
             [
              0.2222222222222222,
              "#7201a8"
             ],
             [
              0.3333333333333333,
              "#9c179e"
             ],
             [
              0.4444444444444444,
              "#bd3786"
             ],
             [
              0.5555555555555556,
              "#d8576b"
             ],
             [
              0.6666666666666666,
              "#ed7953"
             ],
             [
              0.7777777777777778,
              "#fb9f3a"
             ],
             [
              0.8888888888888888,
              "#fdca26"
             ],
             [
              1,
              "#f0f921"
             ]
            ],
            "type": "contour"
           }
          ],
          "contourcarpet": [
           {
            "colorbar": {
             "outlinewidth": 0,
             "ticks": ""
            },
            "type": "contourcarpet"
           }
          ],
          "heatmap": [
           {
            "colorbar": {
             "outlinewidth": 0,
             "ticks": ""
            },
            "colorscale": [
             [
              0,
              "#0d0887"
             ],
             [
              0.1111111111111111,
              "#46039f"
             ],
             [
              0.2222222222222222,
              "#7201a8"
             ],
             [
              0.3333333333333333,
              "#9c179e"
             ],
             [
              0.4444444444444444,
              "#bd3786"
             ],
             [
              0.5555555555555556,
              "#d8576b"
             ],
             [
              0.6666666666666666,
              "#ed7953"
             ],
             [
              0.7777777777777778,
              "#fb9f3a"
             ],
             [
              0.8888888888888888,
              "#fdca26"
             ],
             [
              1,
              "#f0f921"
             ]
            ],
            "type": "heatmap"
           }
          ],
          "heatmapgl": [
           {
            "colorbar": {
             "outlinewidth": 0,
             "ticks": ""
            },
            "colorscale": [
             [
              0,
              "#0d0887"
             ],
             [
              0.1111111111111111,
              "#46039f"
             ],
             [
              0.2222222222222222,
              "#7201a8"
             ],
             [
              0.3333333333333333,
              "#9c179e"
             ],
             [
              0.4444444444444444,
              "#bd3786"
             ],
             [
              0.5555555555555556,
              "#d8576b"
             ],
             [
              0.6666666666666666,
              "#ed7953"
             ],
             [
              0.7777777777777778,
              "#fb9f3a"
             ],
             [
              0.8888888888888888,
              "#fdca26"
             ],
             [
              1,
              "#f0f921"
             ]
            ],
            "type": "heatmapgl"
           }
          ],
          "histogram": [
           {
            "marker": {
             "pattern": {
              "fillmode": "overlay",
              "size": 10,
              "solidity": 0.2
             }
            },
            "type": "histogram"
           }
          ],
          "histogram2d": [
           {
            "colorbar": {
             "outlinewidth": 0,
             "ticks": ""
            },
            "colorscale": [
             [
              0,
              "#0d0887"
             ],
             [
              0.1111111111111111,
              "#46039f"
             ],
             [
              0.2222222222222222,
              "#7201a8"
             ],
             [
              0.3333333333333333,
              "#9c179e"
             ],
             [
              0.4444444444444444,
              "#bd3786"
             ],
             [
              0.5555555555555556,
              "#d8576b"
             ],
             [
              0.6666666666666666,
              "#ed7953"
             ],
             [
              0.7777777777777778,
              "#fb9f3a"
             ],
             [
              0.8888888888888888,
              "#fdca26"
             ],
             [
              1,
              "#f0f921"
             ]
            ],
            "type": "histogram2d"
           }
          ],
          "histogram2dcontour": [
           {
            "colorbar": {
             "outlinewidth": 0,
             "ticks": ""
            },
            "colorscale": [
             [
              0,
              "#0d0887"
             ],
             [
              0.1111111111111111,
              "#46039f"
             ],
             [
              0.2222222222222222,
              "#7201a8"
             ],
             [
              0.3333333333333333,
              "#9c179e"
             ],
             [
              0.4444444444444444,
              "#bd3786"
             ],
             [
              0.5555555555555556,
              "#d8576b"
             ],
             [
              0.6666666666666666,
              "#ed7953"
             ],
             [
              0.7777777777777778,
              "#fb9f3a"
             ],
             [
              0.8888888888888888,
              "#fdca26"
             ],
             [
              1,
              "#f0f921"
             ]
            ],
            "type": "histogram2dcontour"
           }
          ],
          "mesh3d": [
           {
            "colorbar": {
             "outlinewidth": 0,
             "ticks": ""
            },
            "type": "mesh3d"
           }
          ],
          "parcoords": [
           {
            "line": {
             "colorbar": {
              "outlinewidth": 0,
              "ticks": ""
             }
            },
            "type": "parcoords"
           }
          ],
          "pie": [
           {
            "automargin": true,
            "type": "pie"
           }
          ],
          "scatter": [
           {
            "fillpattern": {
             "fillmode": "overlay",
             "size": 10,
             "solidity": 0.2
            },
            "type": "scatter"
           }
          ],
          "scatter3d": [
           {
            "line": {
             "colorbar": {
              "outlinewidth": 0,
              "ticks": ""
             }
            },
            "marker": {
             "colorbar": {
              "outlinewidth": 0,
              "ticks": ""
             }
            },
            "type": "scatter3d"
           }
          ],
          "scattercarpet": [
           {
            "marker": {
             "colorbar": {
              "outlinewidth": 0,
              "ticks": ""
             }
            },
            "type": "scattercarpet"
           }
          ],
          "scattergeo": [
           {
            "marker": {
             "colorbar": {
              "outlinewidth": 0,
              "ticks": ""
             }
            },
            "type": "scattergeo"
           }
          ],
          "scattergl": [
           {
            "marker": {
             "colorbar": {
              "outlinewidth": 0,
              "ticks": ""
             }
            },
            "type": "scattergl"
           }
          ],
          "scattermapbox": [
           {
            "marker": {
             "colorbar": {
              "outlinewidth": 0,
              "ticks": ""
             }
            },
            "type": "scattermapbox"
           }
          ],
          "scatterpolar": [
           {
            "marker": {
             "colorbar": {
              "outlinewidth": 0,
              "ticks": ""
             }
            },
            "type": "scatterpolar"
           }
          ],
          "scatterpolargl": [
           {
            "marker": {
             "colorbar": {
              "outlinewidth": 0,
              "ticks": ""
             }
            },
            "type": "scatterpolargl"
           }
          ],
          "scatterternary": [
           {
            "marker": {
             "colorbar": {
              "outlinewidth": 0,
              "ticks": ""
             }
            },
            "type": "scatterternary"
           }
          ],
          "surface": [
           {
            "colorbar": {
             "outlinewidth": 0,
             "ticks": ""
            },
            "colorscale": [
             [
              0,
              "#0d0887"
             ],
             [
              0.1111111111111111,
              "#46039f"
             ],
             [
              0.2222222222222222,
              "#7201a8"
             ],
             [
              0.3333333333333333,
              "#9c179e"
             ],
             [
              0.4444444444444444,
              "#bd3786"
             ],
             [
              0.5555555555555556,
              "#d8576b"
             ],
             [
              0.6666666666666666,
              "#ed7953"
             ],
             [
              0.7777777777777778,
              "#fb9f3a"
             ],
             [
              0.8888888888888888,
              "#fdca26"
             ],
             [
              1,
              "#f0f921"
             ]
            ],
            "type": "surface"
           }
          ],
          "table": [
           {
            "cells": {
             "fill": {
              "color": "#EBF0F8"
             },
             "line": {
              "color": "white"
             }
            },
            "header": {
             "fill": {
              "color": "#C8D4E3"
             },
             "line": {
              "color": "white"
             }
            },
            "type": "table"
           }
          ]
         },
         "layout": {
          "annotationdefaults": {
           "arrowcolor": "#2a3f5f",
           "arrowhead": 0,
           "arrowwidth": 1
          },
          "autotypenumbers": "strict",
          "coloraxis": {
           "colorbar": {
            "outlinewidth": 0,
            "ticks": ""
           }
          },
          "colorscale": {
           "diverging": [
            [
             0,
             "#8e0152"
            ],
            [
             0.1,
             "#c51b7d"
            ],
            [
             0.2,
             "#de77ae"
            ],
            [
             0.3,
             "#f1b6da"
            ],
            [
             0.4,
             "#fde0ef"
            ],
            [
             0.5,
             "#f7f7f7"
            ],
            [
             0.6,
             "#e6f5d0"
            ],
            [
             0.7,
             "#b8e186"
            ],
            [
             0.8,
             "#7fbc41"
            ],
            [
             0.9,
             "#4d9221"
            ],
            [
             1,
             "#276419"
            ]
           ],
           "sequential": [
            [
             0,
             "#0d0887"
            ],
            [
             0.1111111111111111,
             "#46039f"
            ],
            [
             0.2222222222222222,
             "#7201a8"
            ],
            [
             0.3333333333333333,
             "#9c179e"
            ],
            [
             0.4444444444444444,
             "#bd3786"
            ],
            [
             0.5555555555555556,
             "#d8576b"
            ],
            [
             0.6666666666666666,
             "#ed7953"
            ],
            [
             0.7777777777777778,
             "#fb9f3a"
            ],
            [
             0.8888888888888888,
             "#fdca26"
            ],
            [
             1,
             "#f0f921"
            ]
           ],
           "sequentialminus": [
            [
             0,
             "#0d0887"
            ],
            [
             0.1111111111111111,
             "#46039f"
            ],
            [
             0.2222222222222222,
             "#7201a8"
            ],
            [
             0.3333333333333333,
             "#9c179e"
            ],
            [
             0.4444444444444444,
             "#bd3786"
            ],
            [
             0.5555555555555556,
             "#d8576b"
            ],
            [
             0.6666666666666666,
             "#ed7953"
            ],
            [
             0.7777777777777778,
             "#fb9f3a"
            ],
            [
             0.8888888888888888,
             "#fdca26"
            ],
            [
             1,
             "#f0f921"
            ]
           ]
          },
          "colorway": [
           "#636efa",
           "#EF553B",
           "#00cc96",
           "#ab63fa",
           "#FFA15A",
           "#19d3f3",
           "#FF6692",
           "#B6E880",
           "#FF97FF",
           "#FECB52"
          ],
          "font": {
           "color": "#2a3f5f"
          },
          "geo": {
           "bgcolor": "white",
           "lakecolor": "white",
           "landcolor": "#E5ECF6",
           "showlakes": true,
           "showland": true,
           "subunitcolor": "white"
          },
          "hoverlabel": {
           "align": "left"
          },
          "hovermode": "closest",
          "mapbox": {
           "style": "light"
          },
          "paper_bgcolor": "white",
          "plot_bgcolor": "#E5ECF6",
          "polar": {
           "angularaxis": {
            "gridcolor": "white",
            "linecolor": "white",
            "ticks": ""
           },
           "bgcolor": "#E5ECF6",
           "radialaxis": {
            "gridcolor": "white",
            "linecolor": "white",
            "ticks": ""
           }
          },
          "scene": {
           "xaxis": {
            "backgroundcolor": "#E5ECF6",
            "gridcolor": "white",
            "gridwidth": 2,
            "linecolor": "white",
            "showbackground": true,
            "ticks": "",
            "zerolinecolor": "white"
           },
           "yaxis": {
            "backgroundcolor": "#E5ECF6",
            "gridcolor": "white",
            "gridwidth": 2,
            "linecolor": "white",
            "showbackground": true,
            "ticks": "",
            "zerolinecolor": "white"
           },
           "zaxis": {
            "backgroundcolor": "#E5ECF6",
            "gridcolor": "white",
            "gridwidth": 2,
            "linecolor": "white",
            "showbackground": true,
            "ticks": "",
            "zerolinecolor": "white"
           }
          },
          "shapedefaults": {
           "line": {
            "color": "#2a3f5f"
           }
          },
          "ternary": {
           "aaxis": {
            "gridcolor": "white",
            "linecolor": "white",
            "ticks": ""
           },
           "baxis": {
            "gridcolor": "white",
            "linecolor": "white",
            "ticks": ""
           },
           "bgcolor": "#E5ECF6",
           "caxis": {
            "gridcolor": "white",
            "linecolor": "white",
            "ticks": ""
           }
          },
          "title": {
           "x": 0.05
          },
          "xaxis": {
           "automargin": true,
           "gridcolor": "white",
           "linecolor": "white",
           "ticks": "",
           "title": {
            "standoff": 15
           },
           "zerolinecolor": "white",
           "zerolinewidth": 2
          },
          "yaxis": {
           "automargin": true,
           "gridcolor": "white",
           "linecolor": "white",
           "ticks": "",
           "title": {
            "standoff": 15
           },
           "zerolinecolor": "white",
           "zerolinewidth": 2
          }
         }
        },
        "title": {
         "text": "Penerimaan Per Sektor 2023 (bruto)",
         "x": 0.5,
         "y": 0.9
        },
        "xaxis": {
         "anchor": "y",
         "domain": [
          0,
          1
         ],
         "title": {
          "text": ""
         },
         "visible": false
        },
        "yaxis": {
         "anchor": "x",
         "domain": [
          0,
          1
         ],
         "title": {
          "text": ""
         }
        }
       }
      }
     },
     "metadata": {},
     "output_type": "display_data"
    }
   ],
   "source": [
    "px.bar(df\n",
    "    .query(\"TAHUNBAYAR == 2023 & KET not in ('SPMKP')\")\n",
    "    .groupby('NM_KATEGORI', as_index=False)['NOMINAL']\n",
    "    .sum()\n",
    "    .replace(dict_sektor)\n",
    "    .assign(milyar = lambda x:(x['NOMINAL']/1000000000).apply(lambda y:'{:.2f}M'.format(y)))\n",
    "    .sort_values(by='NOMINAL', ascending=False)[:10],\n",
    "    x='NOMINAL',\n",
    "    y='NM_KATEGORI',\n",
    "    orientation='h',\n",
    "    height=720,\n",
    "    title='Penerimaan Per Sektor 2023 (bruto)',\n",
    "    labels={'NM_KATEGORI':'', 'NOMINAL':''},\n",
    "    color='NOMINAL',\n",
    "    # color_continuous_scale='ylgnbu',\n",
    "    text = 'milyar'\n",
    "    # text_auto=',.2f'\n",
    ").update_layout(\n",
    "    title = dict(x=0.5, y=0.9),\n",
    "    coloraxis_showscale=False,\n",
    "    plot_bgcolor='white',\n",
    "    xaxis_visible=False,\n",
    "    margin = dict(l=0)\n",
    "    )"
   ]
  },
  {
   "attachments": {},
   "cell_type": "markdown",
   "metadata": {},
   "source": [
    "### Analyze Penerimaan by Day"
   ]
  },
  {
   "cell_type": "code",
   "execution_count": 8,
   "metadata": {},
   "outputs": [
    {
     "data": {
      "application/vnd.plotly.v1+json": {
       "config": {
        "plotlyServerURL": "https://plot.ly"
       },
       "data": [
        {
         "hovertemplate": "MAP=Bea Meterai<br>TANGGALBAYAR=%{x}<br>NOMINAL=%{y}<extra></extra>",
         "legendgroup": "Bea Meterai",
         "marker": {
          "color": "#636efa",
          "symbol": "circle"
         },
         "mode": "markers",
         "name": "Bea Meterai",
         "orientation": "v",
         "showlegend": true,
         "type": "scatter",
         "x": [
          1,
          2,
          3,
          4,
          5,
          6,
          8,
          9,
          10,
          12,
          14,
          15,
          16,
          24,
          25,
          28
         ],
         "xaxis": "x",
         "y": [
          15000000,
          7000,
          350000,
          21000,
          30028000,
          14464000,
          63760000,
          4330000,
          1864577000,
          7000,
          195000000,
          35000,
          105000,
          798067000,
          15000000,
          15476000
         ],
         "yaxis": "y"
        },
        {
         "alignmentgroup": "True",
         "bingroup": "x",
         "hovertemplate": "MAP=Bea Meterai<br>TANGGALBAYAR=%{x}<br>count=%{y}<extra></extra>",
         "legendgroup": "Bea Meterai",
         "marker": {
          "color": "#636efa"
         },
         "name": "Bea Meterai",
         "offsetgroup": "Bea Meterai",
         "opacity": 0.5,
         "showlegend": false,
         "type": "histogram",
         "x": [
          1,
          2,
          3,
          4,
          5,
          6,
          8,
          9,
          10,
          12,
          14,
          15,
          16,
          24,
          25,
          28
         ],
         "xaxis": "x3",
         "yaxis": "y3"
        },
        {
         "alignmentgroup": "True",
         "hovertemplate": "MAP=Bea Meterai<br>NOMINAL=%{y}<extra></extra>",
         "legendgroup": "Bea Meterai",
         "marker": {
          "color": "#636efa",
          "symbol": "circle"
         },
         "name": "Bea Meterai",
         "offsetgroup": "Bea Meterai",
         "scalegroup": "y",
         "showlegend": false,
         "type": "violin",
         "xaxis": "x2",
         "y": [
          15000000,
          7000,
          350000,
          21000,
          30028000,
          14464000,
          63760000,
          4330000,
          1864577000,
          7000,
          195000000,
          35000,
          105000,
          798067000,
          15000000,
          15476000
         ],
         "yaxis": "y2"
        },
        {
         "hovertemplate": "MAP=PPN DN<br>TANGGALBAYAR=%{x}<br>NOMINAL=%{y}<extra></extra>",
         "legendgroup": "PPN DN",
         "marker": {
          "color": "#EF553B",
          "symbol": "circle"
         },
         "mode": "markers",
         "name": "PPN DN",
         "orientation": "v",
         "showlegend": true,
         "type": "scatter",
         "x": [
          1,
          2,
          3,
          4,
          5,
          6,
          7,
          8,
          9,
          10,
          11,
          12,
          13,
          14,
          15,
          16,
          17,
          18,
          19,
          20,
          21,
          22,
          23,
          24,
          25,
          26,
          27,
          28,
          29,
          30,
          31
         ],
         "xaxis": "x",
         "y": [
          23006295947,
          54819280378,
          26280453927,
          10538294029,
          27221071569,
          46724441035,
          67925249314,
          27231182037,
          54916172599,
          54689762945,
          18301772872,
          17286438373,
          95515488888,
          62832799202,
          184257538729,
          89635596205,
          80719778760,
          13858419504,
          11891998770,
          61984007815,
          59226705581,
          34298669072,
          61930749874,
          225318827686,
          70231635673,
          61465235948,
          357030414389,
          284874829759,
          83483412562,
          296800789322,
          278196478736
         ],
         "yaxis": "y"
        },
        {
         "alignmentgroup": "True",
         "bingroup": "x",
         "hovertemplate": "MAP=PPN DN<br>TANGGALBAYAR=%{x}<br>count=%{y}<extra></extra>",
         "legendgroup": "PPN DN",
         "marker": {
          "color": "#EF553B"
         },
         "name": "PPN DN",
         "offsetgroup": "PPN DN",
         "opacity": 0.5,
         "showlegend": false,
         "type": "histogram",
         "x": [
          1,
          2,
          3,
          4,
          5,
          6,
          7,
          8,
          9,
          10,
          11,
          12,
          13,
          14,
          15,
          16,
          17,
          18,
          19,
          20,
          21,
          22,
          23,
          24,
          25,
          26,
          27,
          28,
          29,
          30,
          31
         ],
         "xaxis": "x3",
         "yaxis": "y3"
        },
        {
         "alignmentgroup": "True",
         "hovertemplate": "MAP=PPN DN<br>NOMINAL=%{y}<extra></extra>",
         "legendgroup": "PPN DN",
         "marker": {
          "color": "#EF553B",
          "symbol": "circle"
         },
         "name": "PPN DN",
         "offsetgroup": "PPN DN",
         "scalegroup": "y",
         "showlegend": false,
         "type": "violin",
         "xaxis": "x2",
         "y": [
          23006295947,
          54819280378,
          26280453927,
          10538294029,
          27221071569,
          46724441035,
          67925249314,
          27231182037,
          54916172599,
          54689762945,
          18301772872,
          17286438373,
          95515488888,
          62832799202,
          184257538729,
          89635596205,
          80719778760,
          13858419504,
          11891998770,
          61984007815,
          59226705581,
          34298669072,
          61930749874,
          225318827686,
          70231635673,
          61465235948,
          357030414389,
          284874829759,
          83483412562,
          296800789322,
          278196478736
         ],
         "yaxis": "y2"
        },
        {
         "hovertemplate": "MAP=PPN Impor<br>TANGGALBAYAR=%{x}<br>NOMINAL=%{y}<extra></extra>",
         "legendgroup": "PPN Impor",
         "marker": {
          "color": "#00cc96",
          "symbol": "circle"
         },
         "mode": "markers",
         "name": "PPN Impor",
         "orientation": "v",
         "showlegend": true,
         "type": "scatter",
         "x": [
          1,
          2,
          3,
          4,
          5,
          6,
          7,
          8,
          9,
          10,
          11,
          12,
          13,
          14,
          15,
          16,
          17,
          18,
          19,
          20,
          21,
          22,
          23,
          24,
          25,
          26,
          27,
          28,
          29,
          30,
          31
         ],
         "xaxis": "x",
         "y": [
          20366690000,
          80262877000,
          33625606000,
          10660147000,
          17790263000,
          46605372000,
          39113303000,
          17051243000,
          57452770000.00001,
          54945615749,
          11935066000,
          9394578000,
          35859228000,
          22673971000,
          51951688913,
          42431455000,
          54646632000,
          17076977000,
          11095116000,
          46845305000,
          55788365000,
          42481438000,
          14864053973,
          72312615000,
          14518701000,
          8037256000,
          90010593000,
          95145195689,
          30827159000,
          37782201000,
          66414389000
         ],
         "yaxis": "y"
        },
        {
         "alignmentgroup": "True",
         "bingroup": "x",
         "hovertemplate": "MAP=PPN Impor<br>TANGGALBAYAR=%{x}<br>count=%{y}<extra></extra>",
         "legendgroup": "PPN Impor",
         "marker": {
          "color": "#00cc96"
         },
         "name": "PPN Impor",
         "offsetgroup": "PPN Impor",
         "opacity": 0.5,
         "showlegend": false,
         "type": "histogram",
         "x": [
          1,
          2,
          3,
          4,
          5,
          6,
          7,
          8,
          9,
          10,
          11,
          12,
          13,
          14,
          15,
          16,
          17,
          18,
          19,
          20,
          21,
          22,
          23,
          24,
          25,
          26,
          27,
          28,
          29,
          30,
          31
         ],
         "xaxis": "x3",
         "yaxis": "y3"
        },
        {
         "alignmentgroup": "True",
         "hovertemplate": "MAP=PPN Impor<br>NOMINAL=%{y}<extra></extra>",
         "legendgroup": "PPN Impor",
         "marker": {
          "color": "#00cc96",
          "symbol": "circle"
         },
         "name": "PPN Impor",
         "offsetgroup": "PPN Impor",
         "scalegroup": "y",
         "showlegend": false,
         "type": "violin",
         "xaxis": "x2",
         "y": [
          20366690000,
          80262877000,
          33625606000,
          10660147000,
          17790263000,
          46605372000,
          39113303000,
          17051243000,
          57452770000.00001,
          54945615749,
          11935066000,
          9394578000,
          35859228000,
          22673971000,
          51951688913,
          42431455000,
          54646632000,
          17076977000,
          11095116000,
          46845305000,
          55788365000,
          42481438000,
          14864053973,
          72312615000,
          14518701000,
          8037256000,
          90010593000,
          95145195689,
          30827159000,
          37782201000,
          66414389000
         ],
         "yaxis": "y2"
        },
        {
         "hovertemplate": "MAP=PPh 21<br>TANGGALBAYAR=%{x}<br>NOMINAL=%{y}<extra></extra>",
         "legendgroup": "PPh 21",
         "marker": {
          "color": "#ab63fa",
          "symbol": "circle"
         },
         "mode": "markers",
         "name": "PPh 21",
         "orientation": "v",
         "showlegend": true,
         "type": "scatter",
         "x": [
          1,
          2,
          3,
          4,
          5,
          6,
          7,
          8,
          9,
          10,
          11,
          12,
          13,
          14,
          15,
          16,
          17,
          18,
          19,
          20,
          21,
          22,
          23,
          24,
          25,
          26,
          27,
          28,
          29,
          30,
          31
         ],
         "xaxis": "x",
         "y": [
          10747186810,
          12650102295,
          6038992737,
          2737700402,
          6839402977,
          24576956291,
          22175743841,
          34913000365,
          146907208487,
          360495103514,
          4444408417,
          2727140269,
          5826240981,
          3596485910,
          3392716331,
          9104648054,
          6172533259,
          1384450630,
          1951380865,
          12235938276,
          7107341015,
          7333817368,
          1925017347,
          6143606630,
          4399490578,
          3794141993,
          7370102557,
          7381285892,
          1821532249,
          8683913614,
          6381869683
         ],
         "yaxis": "y"
        },
        {
         "alignmentgroup": "True",
         "bingroup": "x",
         "hovertemplate": "MAP=PPh 21<br>TANGGALBAYAR=%{x}<br>count=%{y}<extra></extra>",
         "legendgroup": "PPh 21",
         "marker": {
          "color": "#ab63fa"
         },
         "name": "PPh 21",
         "offsetgroup": "PPh 21",
         "opacity": 0.5,
         "showlegend": false,
         "type": "histogram",
         "x": [
          1,
          2,
          3,
          4,
          5,
          6,
          7,
          8,
          9,
          10,
          11,
          12,
          13,
          14,
          15,
          16,
          17,
          18,
          19,
          20,
          21,
          22,
          23,
          24,
          25,
          26,
          27,
          28,
          29,
          30,
          31
         ],
         "xaxis": "x3",
         "yaxis": "y3"
        },
        {
         "alignmentgroup": "True",
         "hovertemplate": "MAP=PPh 21<br>NOMINAL=%{y}<extra></extra>",
         "legendgroup": "PPh 21",
         "marker": {
          "color": "#ab63fa",
          "symbol": "circle"
         },
         "name": "PPh 21",
         "offsetgroup": "PPh 21",
         "scalegroup": "y",
         "showlegend": false,
         "type": "violin",
         "xaxis": "x2",
         "y": [
          10747186810,
          12650102295,
          6038992737,
          2737700402,
          6839402977,
          24576956291,
          22175743841,
          34913000365,
          146907208487,
          360495103514,
          4444408417,
          2727140269,
          5826240981,
          3596485910,
          3392716331,
          9104648054,
          6172533259,
          1384450630,
          1951380865,
          12235938276,
          7107341015,
          7333817368,
          1925017347,
          6143606630,
          4399490578,
          3794141993,
          7370102557,
          7381285892,
          1821532249,
          8683913614,
          6381869683
         ],
         "yaxis": "y2"
        },
        {
         "hovertemplate": "MAP=PPh 22<br>TANGGALBAYAR=%{x}<br>NOMINAL=%{y}<extra></extra>",
         "legendgroup": "PPh 22",
         "marker": {
          "color": "#FFA15A",
          "symbol": "circle"
         },
         "mode": "markers",
         "name": "PPh 22",
         "orientation": "v",
         "showlegend": true,
         "type": "scatter",
         "x": [
          1,
          2,
          3,
          4,
          5,
          6,
          7,
          8,
          9,
          10,
          11,
          12,
          13,
          14,
          15,
          16,
          17,
          18,
          19,
          20,
          21,
          22,
          23,
          24,
          25,
          26,
          27,
          28,
          29,
          30,
          31
         ],
         "xaxis": "x",
         "y": [
          400638868,
          1748603516,
          524783463,
          67270202,
          374460049,
          1566138530,
          1209030913,
          1087077175,
          6644829842,
          42616716395,
          71195436,
          91705089,
          744067048,
          470369738,
          1936013362,
          748364326,
          770703134,
          359003953,
          321383063,
          2298380905,
          1002452586,
          1472428620,
          539310223,
          1742238174,
          187110228,
          333844210,
          1180361541,
          1332922922,
          963187115,
          614800570,
          1216958157
         ],
         "yaxis": "y"
        },
        {
         "alignmentgroup": "True",
         "bingroup": "x",
         "hovertemplate": "MAP=PPh 22<br>TANGGALBAYAR=%{x}<br>count=%{y}<extra></extra>",
         "legendgroup": "PPh 22",
         "marker": {
          "color": "#FFA15A"
         },
         "name": "PPh 22",
         "offsetgroup": "PPh 22",
         "opacity": 0.5,
         "showlegend": false,
         "type": "histogram",
         "x": [
          1,
          2,
          3,
          4,
          5,
          6,
          7,
          8,
          9,
          10,
          11,
          12,
          13,
          14,
          15,
          16,
          17,
          18,
          19,
          20,
          21,
          22,
          23,
          24,
          25,
          26,
          27,
          28,
          29,
          30,
          31
         ],
         "xaxis": "x3",
         "yaxis": "y3"
        },
        {
         "alignmentgroup": "True",
         "hovertemplate": "MAP=PPh 22<br>NOMINAL=%{y}<extra></extra>",
         "legendgroup": "PPh 22",
         "marker": {
          "color": "#FFA15A",
          "symbol": "circle"
         },
         "name": "PPh 22",
         "offsetgroup": "PPh 22",
         "scalegroup": "y",
         "showlegend": false,
         "type": "violin",
         "xaxis": "x2",
         "y": [
          400638868,
          1748603516,
          524783463,
          67270202,
          374460049,
          1566138530,
          1209030913,
          1087077175,
          6644829842,
          42616716395,
          71195436,
          91705089,
          744067048,
          470369738,
          1936013362,
          748364326,
          770703134,
          359003953,
          321383063,
          2298380905,
          1002452586,
          1472428620,
          539310223,
          1742238174,
          187110228,
          333844210,
          1180361541,
          1332922922,
          963187115,
          614800570,
          1216958157
         ],
         "yaxis": "y2"
        },
        {
         "hovertemplate": "MAP=PPh 22 Impor<br>TANGGALBAYAR=%{x}<br>NOMINAL=%{y}<extra></extra>",
         "legendgroup": "PPh 22 Impor",
         "marker": {
          "color": "#19d3f3",
          "symbol": "circle"
         },
         "mode": "markers",
         "name": "PPh 22 Impor",
         "orientation": "v",
         "showlegend": true,
         "type": "scatter",
         "x": [
          1,
          2,
          3,
          4,
          5,
          6,
          7,
          8,
          9,
          10,
          11,
          12,
          13,
          14,
          15,
          16,
          17,
          18,
          19,
          20,
          21,
          22,
          23,
          24,
          25,
          26,
          27,
          28,
          29,
          30,
          31
         ],
         "xaxis": "x",
         "y": [
          7184283000,
          20813479000,
          12673644614,
          4134238000,
          5772448000,
          17999589000,
          7605635000,
          4834015000,
          14059659000,
          24908676000,
          4478178000,
          2583255000,
          11945654000,
          10689447000,
          27831479000,
          13230990000,
          15889883000,
          5181384000,
          3288795000,
          18490044000,
          15745952649,
          10366872000,
          4912924000,
          32118418000,
          5403910000,
          2892517000,
          37977660000,
          33357755000,
          6884705000,
          15306740521,
          17759624000
         ],
         "yaxis": "y"
        },
        {
         "alignmentgroup": "True",
         "bingroup": "x",
         "hovertemplate": "MAP=PPh 22 Impor<br>TANGGALBAYAR=%{x}<br>count=%{y}<extra></extra>",
         "legendgroup": "PPh 22 Impor",
         "marker": {
          "color": "#19d3f3"
         },
         "name": "PPh 22 Impor",
         "offsetgroup": "PPh 22 Impor",
         "opacity": 0.5,
         "showlegend": false,
         "type": "histogram",
         "x": [
          1,
          2,
          3,
          4,
          5,
          6,
          7,
          8,
          9,
          10,
          11,
          12,
          13,
          14,
          15,
          16,
          17,
          18,
          19,
          20,
          21,
          22,
          23,
          24,
          25,
          26,
          27,
          28,
          29,
          30,
          31
         ],
         "xaxis": "x3",
         "yaxis": "y3"
        },
        {
         "alignmentgroup": "True",
         "hovertemplate": "MAP=PPh 22 Impor<br>NOMINAL=%{y}<extra></extra>",
         "legendgroup": "PPh 22 Impor",
         "marker": {
          "color": "#19d3f3",
          "symbol": "circle"
         },
         "name": "PPh 22 Impor",
         "offsetgroup": "PPh 22 Impor",
         "scalegroup": "y",
         "showlegend": false,
         "type": "violin",
         "xaxis": "x2",
         "y": [
          7184283000,
          20813479000,
          12673644614,
          4134238000,
          5772448000,
          17999589000,
          7605635000,
          4834015000,
          14059659000,
          24908676000,
          4478178000,
          2583255000,
          11945654000,
          10689447000,
          27831479000,
          13230990000,
          15889883000,
          5181384000,
          3288795000,
          18490044000,
          15745952649,
          10366872000,
          4912924000,
          32118418000,
          5403910000,
          2892517000,
          37977660000,
          33357755000,
          6884705000,
          15306740521,
          17759624000
         ],
         "yaxis": "y2"
        },
        {
         "hovertemplate": "MAP=PPh 23<br>TANGGALBAYAR=%{x}<br>NOMINAL=%{y}<extra></extra>",
         "legendgroup": "PPh 23",
         "marker": {
          "color": "#FF6692",
          "symbol": "circle"
         },
         "mode": "markers",
         "name": "PPh 23",
         "orientation": "v",
         "showlegend": true,
         "type": "scatter",
         "x": [
          1,
          2,
          3,
          4,
          5,
          6,
          7,
          8,
          9,
          10,
          11,
          12,
          13,
          14,
          15,
          16,
          17,
          18,
          19,
          20,
          21,
          22,
          23,
          24,
          25,
          26,
          27,
          28,
          29,
          30,
          31
         ],
         "xaxis": "x",
         "y": [
          727799758,
          1156311809,
          1244300468,
          1172054445,
          2177123281,
          7912125408,
          7208059230,
          12338963203,
          108344749329,
          190488434257,
          1334565167,
          785126154,
          1270060810,
          954125262,
          959348314,
          5993575880,
          2886690028,
          436356322,
          436450075,
          1356746574,
          2073059706,
          293986612,
          293560710,
          950675706,
          148557362,
          532861779,
          2106934461,
          1121751370,
          679580240,
          1841536749,
          1867620520
         ],
         "yaxis": "y"
        },
        {
         "alignmentgroup": "True",
         "bingroup": "x",
         "hovertemplate": "MAP=PPh 23<br>TANGGALBAYAR=%{x}<br>count=%{y}<extra></extra>",
         "legendgroup": "PPh 23",
         "marker": {
          "color": "#FF6692"
         },
         "name": "PPh 23",
         "offsetgroup": "PPh 23",
         "opacity": 0.5,
         "showlegend": false,
         "type": "histogram",
         "x": [
          1,
          2,
          3,
          4,
          5,
          6,
          7,
          8,
          9,
          10,
          11,
          12,
          13,
          14,
          15,
          16,
          17,
          18,
          19,
          20,
          21,
          22,
          23,
          24,
          25,
          26,
          27,
          28,
          29,
          30,
          31
         ],
         "xaxis": "x3",
         "yaxis": "y3"
        },
        {
         "alignmentgroup": "True",
         "hovertemplate": "MAP=PPh 23<br>NOMINAL=%{y}<extra></extra>",
         "legendgroup": "PPh 23",
         "marker": {
          "color": "#FF6692",
          "symbol": "circle"
         },
         "name": "PPh 23",
         "offsetgroup": "PPh 23",
         "scalegroup": "y",
         "showlegend": false,
         "type": "violin",
         "xaxis": "x2",
         "y": [
          727799758,
          1156311809,
          1244300468,
          1172054445,
          2177123281,
          7912125408,
          7208059230,
          12338963203,
          108344749329,
          190488434257,
          1334565167,
          785126154,
          1270060810,
          954125262,
          959348314,
          5993575880,
          2886690028,
          436356322,
          436450075,
          1356746574,
          2073059706,
          293986612,
          293560710,
          950675706,
          148557362,
          532861779,
          2106934461,
          1121751370,
          679580240,
          1841536749,
          1867620520
         ],
         "yaxis": "y2"
        },
        {
         "hovertemplate": "MAP=PPh 25 Badan<br>TANGGALBAYAR=%{x}<br>NOMINAL=%{y}<extra></extra>",
         "legendgroup": "PPh 25 Badan",
         "marker": {
          "color": "#B6E880",
          "symbol": "circle"
         },
         "mode": "markers",
         "name": "PPh 25 Badan",
         "orientation": "v",
         "showlegend": true,
         "type": "scatter",
         "x": [
          1,
          2,
          3,
          4,
          5,
          6,
          7,
          8,
          9,
          10,
          11,
          12,
          13,
          14,
          15,
          16,
          17,
          18,
          19,
          20,
          21,
          22,
          23,
          24,
          25,
          26,
          27,
          28,
          29,
          30,
          31
         ],
         "xaxis": "x",
         "y": [
          3366800964,
          10325939226,
          5674779656,
          2815062683,
          7198297434,
          38241657981,
          24619196443,
          51308736805,
          260299891319,
          213239717630.03998,
          4562922737,
          7019791726,
          93616814439.79999,
          172702581664,
          215519519941,
          97536260260,
          4823197648,
          768573191,
          426461053,
          4331832693,
          2295012574,
          825440732,
          1370335555,
          5874443155,
          216266856,
          1937883015,
          5642339203,
          8236970934,
          1955493088,
          3480576744,
          5217337807
         ],
         "yaxis": "y"
        },
        {
         "alignmentgroup": "True",
         "bingroup": "x",
         "hovertemplate": "MAP=PPh 25 Badan<br>TANGGALBAYAR=%{x}<br>count=%{y}<extra></extra>",
         "legendgroup": "PPh 25 Badan",
         "marker": {
          "color": "#B6E880"
         },
         "name": "PPh 25 Badan",
         "offsetgroup": "PPh 25 Badan",
         "opacity": 0.5,
         "showlegend": false,
         "type": "histogram",
         "x": [
          1,
          2,
          3,
          4,
          5,
          6,
          7,
          8,
          9,
          10,
          11,
          12,
          13,
          14,
          15,
          16,
          17,
          18,
          19,
          20,
          21,
          22,
          23,
          24,
          25,
          26,
          27,
          28,
          29,
          30,
          31
         ],
         "xaxis": "x3",
         "yaxis": "y3"
        },
        {
         "alignmentgroup": "True",
         "hovertemplate": "MAP=PPh 25 Badan<br>NOMINAL=%{y}<extra></extra>",
         "legendgroup": "PPh 25 Badan",
         "marker": {
          "color": "#B6E880",
          "symbol": "circle"
         },
         "name": "PPh 25 Badan",
         "offsetgroup": "PPh 25 Badan",
         "scalegroup": "y",
         "showlegend": false,
         "type": "violin",
         "xaxis": "x2",
         "y": [
          3366800964,
          10325939226,
          5674779656,
          2815062683,
          7198297434,
          38241657981,
          24619196443,
          51308736805,
          260299891319,
          213239717630.03998,
          4562922737,
          7019791726,
          93616814439.79999,
          172702581664,
          215519519941,
          97536260260,
          4823197648,
          768573191,
          426461053,
          4331832693,
          2295012574,
          825440732,
          1370335555,
          5874443155,
          216266856,
          1937883015,
          5642339203,
          8236970934,
          1955493088,
          3480576744,
          5217337807
         ],
         "yaxis": "y2"
        },
        {
         "hovertemplate": "MAP=PPh 25 OP<br>TANGGALBAYAR=%{x}<br>NOMINAL=%{y}<extra></extra>",
         "legendgroup": "PPh 25 OP",
         "marker": {
          "color": "#FF97FF",
          "symbol": "circle"
         },
         "mode": "markers",
         "name": "PPh 25 OP",
         "orientation": "v",
         "showlegend": true,
         "type": "scatter",
         "x": [
          1,
          2,
          3,
          4,
          5,
          6,
          7,
          8,
          9,
          10,
          11,
          12,
          13,
          14,
          15,
          16,
          17,
          18,
          19,
          20,
          21,
          22,
          23,
          24,
          25,
          26,
          27,
          28,
          29,
          30,
          31
         ],
         "xaxis": "x",
         "y": [
          2191061326,
          6232057866,
          3604003610,
          523312850,
          730792305,
          4388022860,
          4590742500,
          4229320984,
          8375320997,
          8746891186,
          803101007,
          1433772280,
          4345129750,
          11507387605,
          8265131631,
          6607882657,
          7551072906,
          1856591364,
          1576105130,
          19874973826,
          11267000347,
          3048448579,
          3586327292,
          20551208250,
          3171866742,
          4191633056,
          28244963981,
          15961663505,
          30724318124,
          26210000174,
          26345087947
         ],
         "yaxis": "y"
        },
        {
         "alignmentgroup": "True",
         "bingroup": "x",
         "hovertemplate": "MAP=PPh 25 OP<br>TANGGALBAYAR=%{x}<br>count=%{y}<extra></extra>",
         "legendgroup": "PPh 25 OP",
         "marker": {
          "color": "#FF97FF"
         },
         "name": "PPh 25 OP",
         "offsetgroup": "PPh 25 OP",
         "opacity": 0.5,
         "showlegend": false,
         "type": "histogram",
         "x": [
          1,
          2,
          3,
          4,
          5,
          6,
          7,
          8,
          9,
          10,
          11,
          12,
          13,
          14,
          15,
          16,
          17,
          18,
          19,
          20,
          21,
          22,
          23,
          24,
          25,
          26,
          27,
          28,
          29,
          30,
          31
         ],
         "xaxis": "x3",
         "yaxis": "y3"
        },
        {
         "alignmentgroup": "True",
         "hovertemplate": "MAP=PPh 25 OP<br>NOMINAL=%{y}<extra></extra>",
         "legendgroup": "PPh 25 OP",
         "marker": {
          "color": "#FF97FF",
          "symbol": "circle"
         },
         "name": "PPh 25 OP",
         "offsetgroup": "PPh 25 OP",
         "scalegroup": "y",
         "showlegend": false,
         "type": "violin",
         "xaxis": "x2",
         "y": [
          2191061326,
          6232057866,
          3604003610,
          523312850,
          730792305,
          4388022860,
          4590742500,
          4229320984,
          8375320997,
          8746891186,
          803101007,
          1433772280,
          4345129750,
          11507387605,
          8265131631,
          6607882657,
          7551072906,
          1856591364,
          1576105130,
          19874973826,
          11267000347,
          3048448579,
          3586327292,
          20551208250,
          3171866742,
          4191633056,
          28244963981,
          15961663505,
          30724318124,
          26210000174,
          26345087947
         ],
         "yaxis": "y2"
        },
        {
         "hovertemplate": "MAP=PPh 26<br>TANGGALBAYAR=%{x}<br>NOMINAL=%{y}<extra></extra>",
         "legendgroup": "PPh 26",
         "marker": {
          "color": "#FECB52",
          "symbol": "circle"
         },
         "mode": "markers",
         "name": "PPh 26",
         "orientation": "v",
         "showlegend": true,
         "type": "scatter",
         "x": [
          1,
          2,
          3,
          4,
          5,
          6,
          7,
          8,
          9,
          10,
          11,
          12,
          13,
          14,
          15,
          16,
          17,
          18,
          19,
          20,
          21,
          22,
          23,
          24,
          25,
          26,
          27,
          28,
          29,
          30,
          31
         ],
         "xaxis": "x",
         "y": [
          384245597,
          1485460,
          36568662,
          98165831.99999999,
          20184850,
          826074909,
          1944508769,
          2996077567,
          34504394658.00001,
          19749778519,
          31920356,
          308281127,
          9763419,
          188087957,
          39773906,
          477090384,
          455782780,
          10751079,
          2922664,
          680000,
          310149299,
          48,
          463782780,
          64745322,
          29660796,
          64703707.99999999,
          358378611,
          0,
          7476624,
          27760801,
          469109748
         ],
         "yaxis": "y"
        },
        {
         "alignmentgroup": "True",
         "bingroup": "x",
         "hovertemplate": "MAP=PPh 26<br>TANGGALBAYAR=%{x}<br>count=%{y}<extra></extra>",
         "legendgroup": "PPh 26",
         "marker": {
          "color": "#FECB52"
         },
         "name": "PPh 26",
         "offsetgroup": "PPh 26",
         "opacity": 0.5,
         "showlegend": false,
         "type": "histogram",
         "x": [
          1,
          2,
          3,
          4,
          5,
          6,
          7,
          8,
          9,
          10,
          11,
          12,
          13,
          14,
          15,
          16,
          17,
          18,
          19,
          20,
          21,
          22,
          23,
          24,
          25,
          26,
          27,
          28,
          29,
          30,
          31
         ],
         "xaxis": "x3",
         "yaxis": "y3"
        },
        {
         "alignmentgroup": "True",
         "hovertemplate": "MAP=PPh 26<br>NOMINAL=%{y}<extra></extra>",
         "legendgroup": "PPh 26",
         "marker": {
          "color": "#FECB52",
          "symbol": "circle"
         },
         "name": "PPh 26",
         "offsetgroup": "PPh 26",
         "scalegroup": "y",
         "showlegend": false,
         "type": "violin",
         "xaxis": "x2",
         "y": [
          384245597,
          1485460,
          36568662,
          98165831.99999999,
          20184850,
          826074909,
          1944508769,
          2996077567,
          34504394658.00001,
          19749778519,
          31920356,
          308281127,
          9763419,
          188087957,
          39773906,
          477090384,
          455782780,
          10751079,
          2922664,
          680000,
          310149299,
          48,
          463782780,
          64745322,
          29660796,
          64703707.99999999,
          358378611,
          0,
          7476624,
          27760801,
          469109748
         ],
         "yaxis": "y2"
        },
        {
         "hovertemplate": "MAP=PPh Final<br>TANGGALBAYAR=%{x}<br>NOMINAL=%{y}<extra></extra>",
         "legendgroup": "PPh Final",
         "marker": {
          "color": "#636efa",
          "symbol": "circle"
         },
         "mode": "markers",
         "name": "PPh Final",
         "orientation": "v",
         "showlegend": true,
         "type": "scatter",
         "x": [
          1,
          2,
          3,
          4,
          5,
          6,
          7,
          8,
          9,
          10,
          11,
          12,
          13,
          14,
          15,
          16,
          17,
          18,
          19,
          20,
          21,
          22,
          23,
          24,
          25,
          26,
          27,
          28,
          29,
          30,
          31
         ],
         "xaxis": "x",
         "y": [
          4548628845,
          6190237796,
          8301920922,
          1796476921,
          3016515428,
          14293095209,
          10868730153,
          25915538091,
          77974931181,
          164560892865,
          4124509904,
          3304580325,
          7974528235,
          7893962639,
          9871255795,
          5863229256,
          5820065548,
          17372609575,
          1542889279,
          6053558248,
          5126984460,
          2137989365,
          15630462207,
          15119698844,
          7220202210,
          2082236954,
          10055043853,
          22142251072,
          3125332598,
          6227608743,
          6849386400
         ],
         "yaxis": "y"
        },
        {
         "alignmentgroup": "True",
         "bingroup": "x",
         "hovertemplate": "MAP=PPh Final<br>TANGGALBAYAR=%{x}<br>count=%{y}<extra></extra>",
         "legendgroup": "PPh Final",
         "marker": {
          "color": "#636efa"
         },
         "name": "PPh Final",
         "offsetgroup": "PPh Final",
         "opacity": 0.5,
         "showlegend": false,
         "type": "histogram",
         "x": [
          1,
          2,
          3,
          4,
          5,
          6,
          7,
          8,
          9,
          10,
          11,
          12,
          13,
          14,
          15,
          16,
          17,
          18,
          19,
          20,
          21,
          22,
          23,
          24,
          25,
          26,
          27,
          28,
          29,
          30,
          31
         ],
         "xaxis": "x3",
         "yaxis": "y3"
        },
        {
         "alignmentgroup": "True",
         "hovertemplate": "MAP=PPh Final<br>NOMINAL=%{y}<extra></extra>",
         "legendgroup": "PPh Final",
         "marker": {
          "color": "#636efa",
          "symbol": "circle"
         },
         "name": "PPh Final",
         "offsetgroup": "PPh Final",
         "scalegroup": "y",
         "showlegend": false,
         "type": "violin",
         "xaxis": "x2",
         "y": [
          4548628845,
          6190237796,
          8301920922,
          1796476921,
          3016515428,
          14293095209,
          10868730153,
          25915538091,
          77974931181,
          164560892865,
          4124509904,
          3304580325,
          7974528235,
          7893962639,
          9871255795,
          5863229256,
          5820065548,
          17372609575,
          1542889279,
          6053558248,
          5126984460,
          2137989365,
          15630462207,
          15119698844,
          7220202210,
          2082236954,
          10055043853,
          22142251072,
          3125332598,
          6227608743,
          6849386400
         ],
         "yaxis": "y2"
        },
        {
         "hovertemplate": "MAP=PPnBM Impor<br>TANGGALBAYAR=%{x}<br>NOMINAL=%{y}<extra></extra>",
         "legendgroup": "PPnBM Impor",
         "marker": {
          "color": "#EF553B",
          "symbol": "circle"
         },
         "mode": "markers",
         "name": "PPnBM Impor",
         "orientation": "v",
         "showlegend": true,
         "type": "scatter",
         "x": [
          1,
          3,
          6,
          10,
          14,
          15,
          16,
          17,
          20,
          21,
          24,
          27,
          28,
          29,
          30,
          31
         ],
         "xaxis": "x",
         "y": [
          640438000,
          7278276000,
          8971882000,
          3135489000,
          9416479000,
          9817078000,
          2018113999.9999998,
          1449695000,
          10617483000,
          1541382000,
          3157201000,
          27427131000,
          1026739000,
          1537866000,
          15632594000,
          1006183000
         ],
         "yaxis": "y"
        },
        {
         "alignmentgroup": "True",
         "bingroup": "x",
         "hovertemplate": "MAP=PPnBM Impor<br>TANGGALBAYAR=%{x}<br>count=%{y}<extra></extra>",
         "legendgroup": "PPnBM Impor",
         "marker": {
          "color": "#EF553B"
         },
         "name": "PPnBM Impor",
         "offsetgroup": "PPnBM Impor",
         "opacity": 0.5,
         "showlegend": false,
         "type": "histogram",
         "x": [
          1,
          3,
          6,
          10,
          14,
          15,
          16,
          17,
          20,
          21,
          24,
          27,
          28,
          29,
          30,
          31
         ],
         "xaxis": "x3",
         "yaxis": "y3"
        },
        {
         "alignmentgroup": "True",
         "hovertemplate": "MAP=PPnBM Impor<br>NOMINAL=%{y}<extra></extra>",
         "legendgroup": "PPnBM Impor",
         "marker": {
          "color": "#EF553B",
          "symbol": "circle"
         },
         "name": "PPnBM Impor",
         "offsetgroup": "PPnBM Impor",
         "scalegroup": "y",
         "showlegend": false,
         "type": "violin",
         "xaxis": "x2",
         "y": [
          640438000,
          7278276000,
          8971882000,
          3135489000,
          9416479000,
          9817078000,
          2018113999.9999998,
          1449695000,
          10617483000,
          1541382000,
          3157201000,
          27427131000,
          1026739000,
          1537866000,
          15632594000,
          1006183000
         ],
         "yaxis": "y2"
        },
        {
         "hovertemplate": "MAP=Pajak Tidak Langsung<br>TANGGALBAYAR=%{x}<br>NOMINAL=%{y}<extra></extra>",
         "legendgroup": "Pajak Tidak Langsung",
         "marker": {
          "color": "#00cc96",
          "symbol": "circle"
         },
         "mode": "markers",
         "name": "Pajak Tidak Langsung",
         "orientation": "v",
         "showlegend": true,
         "type": "scatter",
         "x": [
          1,
          28
         ],
         "xaxis": "x",
         "y": [
          2235081,
          120000
         ],
         "yaxis": "y"
        },
        {
         "alignmentgroup": "True",
         "bingroup": "x",
         "hovertemplate": "MAP=Pajak Tidak Langsung<br>TANGGALBAYAR=%{x}<br>count=%{y}<extra></extra>",
         "legendgroup": "Pajak Tidak Langsung",
         "marker": {
          "color": "#00cc96"
         },
         "name": "Pajak Tidak Langsung",
         "offsetgroup": "Pajak Tidak Langsung",
         "opacity": 0.5,
         "showlegend": false,
         "type": "histogram",
         "x": [
          1,
          28
         ],
         "xaxis": "x3",
         "yaxis": "y3"
        },
        {
         "alignmentgroup": "True",
         "hovertemplate": "MAP=Pajak Tidak Langsung<br>NOMINAL=%{y}<extra></extra>",
         "legendgroup": "Pajak Tidak Langsung",
         "marker": {
          "color": "#00cc96",
          "symbol": "circle"
         },
         "name": "Pajak Tidak Langsung",
         "offsetgroup": "Pajak Tidak Langsung",
         "scalegroup": "y",
         "showlegend": false,
         "type": "violin",
         "xaxis": "x2",
         "y": [
          2235081,
          120000
         ],
         "yaxis": "y2"
        },
        {
         "hovertemplate": "MAP=STP atas Bunga Penagihan<br>TANGGALBAYAR=%{x}<br>NOMINAL=%{y}<extra></extra>",
         "legendgroup": "STP atas Bunga Penagihan",
         "marker": {
          "color": "#ab63fa",
          "symbol": "circle"
         },
         "mode": "markers",
         "name": "STP atas Bunga Penagihan",
         "orientation": "v",
         "showlegend": true,
         "type": "scatter",
         "x": [
          1,
          6,
          16,
          21,
          29,
          31
         ],
         "xaxis": "x",
         "y": [
          866490514.9999999,
          2118543497,
          75750000,
          39082248,
          200000000,
          325000000
         ],
         "yaxis": "y"
        },
        {
         "alignmentgroup": "True",
         "bingroup": "x",
         "hovertemplate": "MAP=STP atas Bunga Penagihan<br>TANGGALBAYAR=%{x}<br>count=%{y}<extra></extra>",
         "legendgroup": "STP atas Bunga Penagihan",
         "marker": {
          "color": "#ab63fa"
         },
         "name": "STP atas Bunga Penagihan",
         "offsetgroup": "STP atas Bunga Penagihan",
         "opacity": 0.5,
         "showlegend": false,
         "type": "histogram",
         "x": [
          1,
          6,
          16,
          21,
          29,
          31
         ],
         "xaxis": "x3",
         "yaxis": "y3"
        },
        {
         "alignmentgroup": "True",
         "hovertemplate": "MAP=STP atas Bunga Penagihan<br>NOMINAL=%{y}<extra></extra>",
         "legendgroup": "STP atas Bunga Penagihan",
         "marker": {
          "color": "#ab63fa",
          "symbol": "circle"
         },
         "name": "STP atas Bunga Penagihan",
         "offsetgroup": "STP atas Bunga Penagihan",
         "scalegroup": "y",
         "showlegend": false,
         "type": "violin",
         "xaxis": "x2",
         "y": [
          866490514.9999999,
          2118543497,
          75750000,
          39082248,
          200000000,
          325000000
         ],
         "yaxis": "y2"
        },
        {
         "hovertemplate": "MAP=PPh Migas Lainnya<br>TANGGALBAYAR=%{x}<br>NOMINAL=%{y}<extra></extra>",
         "legendgroup": "PPh Migas Lainnya",
         "marker": {
          "color": "#FFA15A",
          "symbol": "circle"
         },
         "mode": "markers",
         "name": "PPh Migas Lainnya",
         "orientation": "v",
         "showlegend": true,
         "type": "scatter",
         "x": [
          2,
          9
         ],
         "xaxis": "x",
         "y": [
          37500,
          5174833
         ],
         "yaxis": "y"
        },
        {
         "alignmentgroup": "True",
         "bingroup": "x",
         "hovertemplate": "MAP=PPh Migas Lainnya<br>TANGGALBAYAR=%{x}<br>count=%{y}<extra></extra>",
         "legendgroup": "PPh Migas Lainnya",
         "marker": {
          "color": "#FFA15A"
         },
         "name": "PPh Migas Lainnya",
         "offsetgroup": "PPh Migas Lainnya",
         "opacity": 0.5,
         "showlegend": false,
         "type": "histogram",
         "x": [
          2,
          9
         ],
         "xaxis": "x3",
         "yaxis": "y3"
        },
        {
         "alignmentgroup": "True",
         "hovertemplate": "MAP=PPh Migas Lainnya<br>NOMINAL=%{y}<extra></extra>",
         "legendgroup": "PPh Migas Lainnya",
         "marker": {
          "color": "#FFA15A",
          "symbol": "circle"
         },
         "name": "PPh Migas Lainnya",
         "offsetgroup": "PPh Migas Lainnya",
         "scalegroup": "y",
         "showlegend": false,
         "type": "violin",
         "xaxis": "x2",
         "y": [
          37500,
          5174833
         ],
         "yaxis": "y2"
        },
        {
         "hovertemplate": "MAP=PPnBM DN<br>TANGGALBAYAR=%{x}<br>NOMINAL=%{y}<extra></extra>",
         "legendgroup": "PPnBM DN",
         "marker": {
          "color": "#19d3f3",
          "symbol": "circle"
         },
         "mode": "markers",
         "name": "PPnBM DN",
         "orientation": "v",
         "showlegend": true,
         "type": "scatter",
         "x": [
          2,
          3,
          4,
          5,
          6,
          7,
          8,
          9,
          10,
          11,
          12,
          13,
          14,
          15,
          16,
          17,
          18,
          19,
          20,
          21,
          22,
          23,
          24,
          25,
          26,
          27,
          28,
          29,
          30,
          31
         ],
         "xaxis": "x",
         "y": [
          2054622.0000000019,
          5470249.999999996,
          4558934,
          30346759,
          594594,
          4337574,
          369360707,
          7213853,
          18192379,
          0,
          0,
          19396473,
          5505698,
          0,
          36692269,
          775772117,
          0,
          2226400,
          56137733,
          6163395,
          26788759.999999996,
          492984294,
          254031923,
          3568400,
          0,
          351466947,
          132069368,
          343608521,
          33983400,
          1126994209
         ],
         "yaxis": "y"
        },
        {
         "alignmentgroup": "True",
         "bingroup": "x",
         "hovertemplate": "MAP=PPnBM DN<br>TANGGALBAYAR=%{x}<br>count=%{y}<extra></extra>",
         "legendgroup": "PPnBM DN",
         "marker": {
          "color": "#19d3f3"
         },
         "name": "PPnBM DN",
         "offsetgroup": "PPnBM DN",
         "opacity": 0.5,
         "showlegend": false,
         "type": "histogram",
         "x": [
          2,
          3,
          4,
          5,
          6,
          7,
          8,
          9,
          10,
          11,
          12,
          13,
          14,
          15,
          16,
          17,
          18,
          19,
          20,
          21,
          22,
          23,
          24,
          25,
          26,
          27,
          28,
          29,
          30,
          31
         ],
         "xaxis": "x3",
         "yaxis": "y3"
        },
        {
         "alignmentgroup": "True",
         "hovertemplate": "MAP=PPnBM DN<br>NOMINAL=%{y}<extra></extra>",
         "legendgroup": "PPnBM DN",
         "marker": {
          "color": "#19d3f3",
          "symbol": "circle"
         },
         "name": "PPnBM DN",
         "offsetgroup": "PPnBM DN",
         "scalegroup": "y",
         "showlegend": false,
         "type": "violin",
         "xaxis": "x2",
         "y": [
          2054622.0000000019,
          5470249.999999996,
          4558934,
          30346759,
          594594,
          4337574,
          369360707,
          7213853,
          18192379,
          0,
          0,
          19396473,
          5505698,
          0,
          36692269,
          775772117,
          0,
          2226400,
          56137733,
          6163395,
          26788759.999999996,
          492984294,
          254031923,
          3568400,
          0,
          351466947,
          132069368,
          343608521,
          33983400,
          1126994209
         ],
         "yaxis": "y2"
        },
        {
         "hovertemplate": "MAP=PPN Lainnya<br>TANGGALBAYAR=%{x}<br>NOMINAL=%{y}<extra></extra>",
         "legendgroup": "PPN Lainnya",
         "marker": {
          "color": "#FF6692",
          "symbol": "circle"
         },
         "mode": "markers",
         "name": "PPN Lainnya",
         "orientation": "v",
         "showlegend": true,
         "type": "scatter",
         "x": [
          3,
          6,
          8,
          10,
          13,
          17,
          24,
          26,
          27,
          28
         ],
         "xaxis": "x",
         "y": [
          267568,
          4241600,
          0,
          594594,
          161154900,
          0,
          31993681.000000004,
          874500,
          825000,
          25300000.000000004
         ],
         "yaxis": "y"
        },
        {
         "alignmentgroup": "True",
         "bingroup": "x",
         "hovertemplate": "MAP=PPN Lainnya<br>TANGGALBAYAR=%{x}<br>count=%{y}<extra></extra>",
         "legendgroup": "PPN Lainnya",
         "marker": {
          "color": "#FF6692"
         },
         "name": "PPN Lainnya",
         "offsetgroup": "PPN Lainnya",
         "opacity": 0.5,
         "showlegend": false,
         "type": "histogram",
         "x": [
          3,
          6,
          8,
          10,
          13,
          17,
          24,
          26,
          27,
          28
         ],
         "xaxis": "x3",
         "yaxis": "y3"
        },
        {
         "alignmentgroup": "True",
         "hovertemplate": "MAP=PPN Lainnya<br>NOMINAL=%{y}<extra></extra>",
         "legendgroup": "PPN Lainnya",
         "marker": {
          "color": "#FF6692",
          "symbol": "circle"
         },
         "name": "PPN Lainnya",
         "offsetgroup": "PPN Lainnya",
         "scalegroup": "y",
         "showlegend": false,
         "type": "violin",
         "xaxis": "x2",
         "y": [
          267568,
          4241600,
          0,
          594594,
          161154900,
          0,
          31993681.000000004,
          874500,
          825000,
          25300000.000000004
         ],
         "yaxis": "y2"
        },
        {
         "hovertemplate": "MAP=PPh Non Migas Lainnya<br>TANGGALBAYAR=%{x}<br>NOMINAL=%{y}<extra></extra>",
         "legendgroup": "PPh Non Migas Lainnya",
         "marker": {
          "color": "#B6E880",
          "symbol": "circle"
         },
         "mode": "markers",
         "name": "PPh Non Migas Lainnya",
         "orientation": "v",
         "showlegend": true,
         "type": "scatter",
         "x": [
          3,
          6,
          9,
          10,
          15,
          17,
          19,
          20,
          29
         ],
         "xaxis": "x",
         "y": [
          24390956,
          188111132,
          116079165,
          105215016,
          14894848.999999998,
          17008521,
          85697955,
          16136086,
          21734759
         ],
         "yaxis": "y"
        },
        {
         "alignmentgroup": "True",
         "bingroup": "x",
         "hovertemplate": "MAP=PPh Non Migas Lainnya<br>TANGGALBAYAR=%{x}<br>count=%{y}<extra></extra>",
         "legendgroup": "PPh Non Migas Lainnya",
         "marker": {
          "color": "#B6E880"
         },
         "name": "PPh Non Migas Lainnya",
         "offsetgroup": "PPh Non Migas Lainnya",
         "opacity": 0.5,
         "showlegend": false,
         "type": "histogram",
         "x": [
          3,
          6,
          9,
          10,
          15,
          17,
          19,
          20,
          29
         ],
         "xaxis": "x3",
         "yaxis": "y3"
        },
        {
         "alignmentgroup": "True",
         "hovertemplate": "MAP=PPh Non Migas Lainnya<br>NOMINAL=%{y}<extra></extra>",
         "legendgroup": "PPh Non Migas Lainnya",
         "marker": {
          "color": "#B6E880",
          "symbol": "circle"
         },
         "name": "PPh Non Migas Lainnya",
         "offsetgroup": "PPh Non Migas Lainnya",
         "scalegroup": "y",
         "showlegend": false,
         "type": "violin",
         "xaxis": "x2",
         "y": [
          24390956,
          188111132,
          116079165,
          105215016,
          14894848.999999998,
          17008521,
          85697955,
          16136086,
          21734759
         ],
         "yaxis": "y2"
        },
        {
         "hovertemplate": "MAP=STP atas Bunga Penagihan PPN<br>TANGGALBAYAR=%{x}<br>NOMINAL=%{y}<extra></extra>",
         "legendgroup": "STP atas Bunga Penagihan PPN",
         "marker": {
          "color": "#FF97FF",
          "symbol": "circle"
         },
         "mode": "markers",
         "name": "STP atas Bunga Penagihan PPN",
         "orientation": "v",
         "showlegend": true,
         "type": "scatter",
         "x": [
          7,
          15,
          28
         ],
         "xaxis": "x",
         "y": [
          1562759185,
          1086000,
          1500000
         ],
         "yaxis": "y"
        },
        {
         "alignmentgroup": "True",
         "bingroup": "x",
         "hovertemplate": "MAP=STP atas Bunga Penagihan PPN<br>TANGGALBAYAR=%{x}<br>count=%{y}<extra></extra>",
         "legendgroup": "STP atas Bunga Penagihan PPN",
         "marker": {
          "color": "#FF97FF"
         },
         "name": "STP atas Bunga Penagihan PPN",
         "offsetgroup": "STP atas Bunga Penagihan PPN",
         "opacity": 0.5,
         "showlegend": false,
         "type": "histogram",
         "x": [
          7,
          15,
          28
         ],
         "xaxis": "x3",
         "yaxis": "y3"
        },
        {
         "alignmentgroup": "True",
         "hovertemplate": "MAP=STP atas Bunga Penagihan PPN<br>NOMINAL=%{y}<extra></extra>",
         "legendgroup": "STP atas Bunga Penagihan PPN",
         "marker": {
          "color": "#FF97FF",
          "symbol": "circle"
         },
         "name": "STP atas Bunga Penagihan PPN",
         "offsetgroup": "STP atas Bunga Penagihan PPN",
         "scalegroup": "y",
         "showlegend": false,
         "type": "violin",
         "xaxis": "x2",
         "y": [
          1562759185,
          1086000,
          1500000
         ],
         "yaxis": "y2"
        },
        {
         "hovertemplate": "MAP=PPnBM Lainnya<br>TANGGALBAYAR=%{x}<br>NOMINAL=%{y}<extra></extra>",
         "legendgroup": "PPnBM Lainnya",
         "marker": {
          "color": "#FECB52",
          "symbol": "circle"
         },
         "mode": "markers",
         "name": "PPnBM Lainnya",
         "orientation": "v",
         "showlegend": true,
         "type": "scatter",
         "x": [
          20
         ],
         "xaxis": "x",
         "y": [
          0
         ],
         "yaxis": "y"
        },
        {
         "alignmentgroup": "True",
         "bingroup": "x",
         "hovertemplate": "MAP=PPnBM Lainnya<br>TANGGALBAYAR=%{x}<br>count=%{y}<extra></extra>",
         "legendgroup": "PPnBM Lainnya",
         "marker": {
          "color": "#FECB52"
         },
         "name": "PPnBM Lainnya",
         "offsetgroup": "PPnBM Lainnya",
         "opacity": 0.5,
         "showlegend": false,
         "type": "histogram",
         "x": [
          20
         ],
         "xaxis": "x3",
         "yaxis": "y3"
        },
        {
         "alignmentgroup": "True",
         "hovertemplate": "MAP=PPnBM Lainnya<br>NOMINAL=%{y}<extra></extra>",
         "legendgroup": "PPnBM Lainnya",
         "marker": {
          "color": "#FECB52",
          "symbol": "circle"
         },
         "name": "PPnBM Lainnya",
         "offsetgroup": "PPnBM Lainnya",
         "scalegroup": "y",
         "showlegend": false,
         "type": "violin",
         "xaxis": "x2",
         "y": [
          0
         ],
         "yaxis": "y2"
        },
        {
         "hovertemplate": "MAP=PPh Minyak Bumi<br>TANGGALBAYAR=%{x}<br>NOMINAL=%{y}<extra></extra>",
         "legendgroup": "PPh Minyak Bumi",
         "marker": {
          "color": "#636efa",
          "symbol": "circle"
         },
         "mode": "markers",
         "name": "PPh Minyak Bumi",
         "orientation": "v",
         "showlegend": true,
         "type": "scatter",
         "x": [
          21
         ],
         "xaxis": "x",
         "y": [
          0
         ],
         "yaxis": "y"
        },
        {
         "alignmentgroup": "True",
         "bingroup": "x",
         "hovertemplate": "MAP=PPh Minyak Bumi<br>TANGGALBAYAR=%{x}<br>count=%{y}<extra></extra>",
         "legendgroup": "PPh Minyak Bumi",
         "marker": {
          "color": "#636efa"
         },
         "name": "PPh Minyak Bumi",
         "offsetgroup": "PPh Minyak Bumi",
         "opacity": 0.5,
         "showlegend": false,
         "type": "histogram",
         "x": [
          21
         ],
         "xaxis": "x3",
         "yaxis": "y3"
        },
        {
         "alignmentgroup": "True",
         "hovertemplate": "MAP=PPh Minyak Bumi<br>NOMINAL=%{y}<extra></extra>",
         "legendgroup": "PPh Minyak Bumi",
         "marker": {
          "color": "#636efa",
          "symbol": "circle"
         },
         "name": "PPh Minyak Bumi",
         "offsetgroup": "PPh Minyak Bumi",
         "scalegroup": "y",
         "showlegend": false,
         "type": "violin",
         "xaxis": "x2",
         "y": [
          0
         ],
         "yaxis": "y2"
        },
        {
         "hovertemplate": "<b>OLS trendline</b><br>NOMINAL = 2.64627e+08 * TANGGALBAYAR + 1.51201e+10<br>R<sup>2</sup>=0.002511<br><br>TANGGALBAYAR=%{x}<br>NOMINAL=%{y} <b>(trend)</b><extra></extra>",
         "legendgroup": "Overall Trendline",
         "line": {
          "color": "#EF553B"
         },
         "mode": "lines",
         "name": "Overall Trendline",
         "showlegend": false,
         "type": "scatter",
         "x": [
          1,
          1,
          1,
          1,
          1,
          1,
          1,
          1,
          1,
          1,
          1,
          1,
          1,
          1,
          2,
          2,
          2,
          2,
          2,
          2,
          2,
          2,
          2,
          2,
          2,
          2,
          2,
          3,
          3,
          3,
          3,
          3,
          3,
          3,
          3,
          3,
          3,
          3,
          3,
          3,
          3,
          3,
          4,
          4,
          4,
          4,
          4,
          4,
          4,
          4,
          4,
          4,
          4,
          4,
          5,
          5,
          5,
          5,
          5,
          5,
          5,
          5,
          5,
          5,
          5,
          5,
          6,
          6,
          6,
          6,
          6,
          6,
          6,
          6,
          6,
          6,
          6,
          6,
          6,
          6,
          6,
          6,
          7,
          7,
          7,
          7,
          7,
          7,
          7,
          7,
          7,
          7,
          7,
          7,
          8,
          8,
          8,
          8,
          8,
          8,
          8,
          8,
          8,
          8,
          8,
          8,
          8,
          9,
          9,
          9,
          9,
          9,
          9,
          9,
          9,
          9,
          9,
          9,
          9,
          9,
          9,
          10,
          10,
          10,
          10,
          10,
          10,
          10,
          10,
          10,
          10,
          10,
          10,
          10,
          10,
          10,
          11,
          11,
          11,
          11,
          11,
          11,
          11,
          11,
          11,
          11,
          11,
          12,
          12,
          12,
          12,
          12,
          12,
          12,
          12,
          12,
          12,
          12,
          12,
          13,
          13,
          13,
          13,
          13,
          13,
          13,
          13,
          13,
          13,
          13,
          13,
          14,
          14,
          14,
          14,
          14,
          14,
          14,
          14,
          14,
          14,
          14,
          14,
          14,
          15,
          15,
          15,
          15,
          15,
          15,
          15,
          15,
          15,
          15,
          15,
          15,
          15,
          15,
          15,
          16,
          16,
          16,
          16,
          16,
          16,
          16,
          16,
          16,
          16,
          16,
          16,
          16,
          16,
          17,
          17,
          17,
          17,
          17,
          17,
          17,
          17,
          17,
          17,
          17,
          17,
          17,
          17,
          18,
          18,
          18,
          18,
          18,
          18,
          18,
          18,
          18,
          18,
          18,
          19,
          19,
          19,
          19,
          19,
          19,
          19,
          19,
          19,
          19,
          19,
          19,
          20,
          20,
          20,
          20,
          20,
          20,
          20,
          20,
          20,
          20,
          20,
          20,
          20,
          20,
          21,
          21,
          21,
          21,
          21,
          21,
          21,
          21,
          21,
          21,
          21,
          21,
          21,
          21,
          22,
          22,
          22,
          22,
          22,
          22,
          22,
          22,
          22,
          22,
          22,
          23,
          23,
          23,
          23,
          23,
          23,
          23,
          23,
          23,
          23,
          23,
          24,
          24,
          24,
          24,
          24,
          24,
          24,
          24,
          24,
          24,
          24,
          24,
          24,
          24,
          25,
          25,
          25,
          25,
          25,
          25,
          25,
          25,
          25,
          25,
          25,
          25,
          26,
          26,
          26,
          26,
          26,
          26,
          26,
          26,
          26,
          26,
          26,
          26,
          27,
          27,
          27,
          27,
          27,
          27,
          27,
          27,
          27,
          27,
          27,
          27,
          27,
          28,
          28,
          28,
          28,
          28,
          28,
          28,
          28,
          28,
          28,
          28,
          28,
          28,
          28,
          28,
          28,
          29,
          29,
          29,
          29,
          29,
          29,
          29,
          29,
          29,
          29,
          29,
          29,
          29,
          29,
          30,
          30,
          30,
          30,
          30,
          30,
          30,
          30,
          30,
          30,
          30,
          30,
          31,
          31,
          31,
          31,
          31,
          31,
          31,
          31,
          31,
          31,
          31,
          31,
          31
         ],
         "xaxis": "x",
         "y": [
          15384700465.059711,
          15384700465.059711,
          15384700465.059711,
          15384700465.059711,
          15384700465.059711,
          15384700465.059711,
          15384700465.059711,
          15384700465.059711,
          15384700465.059711,
          15384700465.059711,
          15384700465.059711,
          15384700465.059711,
          15384700465.059711,
          15384700465.059711,
          15649327960.006735,
          15649327960.006735,
          15649327960.006735,
          15649327960.006735,
          15649327960.006735,
          15649327960.006735,
          15649327960.006735,
          15649327960.006735,
          15649327960.006735,
          15649327960.006735,
          15649327960.006735,
          15649327960.006735,
          15649327960.006735,
          15913955454.953756,
          15913955454.953756,
          15913955454.953756,
          15913955454.953756,
          15913955454.953756,
          15913955454.953756,
          15913955454.953756,
          15913955454.953756,
          15913955454.953756,
          15913955454.953756,
          15913955454.953756,
          15913955454.953756,
          15913955454.953756,
          15913955454.953756,
          15913955454.953756,
          16178582949.900778,
          16178582949.900778,
          16178582949.900778,
          16178582949.900778,
          16178582949.900778,
          16178582949.900778,
          16178582949.900778,
          16178582949.900778,
          16178582949.900778,
          16178582949.900778,
          16178582949.900778,
          16178582949.900778,
          16443210444.8478,
          16443210444.8478,
          16443210444.8478,
          16443210444.8478,
          16443210444.8478,
          16443210444.8478,
          16443210444.8478,
          16443210444.8478,
          16443210444.8478,
          16443210444.8478,
          16443210444.8478,
          16443210444.8478,
          16707837939.794823,
          16707837939.794823,
          16707837939.794823,
          16707837939.794823,
          16707837939.794823,
          16707837939.794823,
          16707837939.794823,
          16707837939.794823,
          16707837939.794823,
          16707837939.794823,
          16707837939.794823,
          16707837939.794823,
          16707837939.794823,
          16707837939.794823,
          16707837939.794823,
          16707837939.794823,
          16972465434.741844,
          16972465434.741844,
          16972465434.741844,
          16972465434.741844,
          16972465434.741844,
          16972465434.741844,
          16972465434.741844,
          16972465434.741844,
          16972465434.741844,
          16972465434.741844,
          16972465434.741844,
          16972465434.741844,
          17237092929.688866,
          17237092929.688866,
          17237092929.688866,
          17237092929.688866,
          17237092929.688866,
          17237092929.688866,
          17237092929.688866,
          17237092929.688866,
          17237092929.688866,
          17237092929.688866,
          17237092929.688866,
          17237092929.688866,
          17237092929.688866,
          17501720424.635887,
          17501720424.635887,
          17501720424.635887,
          17501720424.635887,
          17501720424.635887,
          17501720424.635887,
          17501720424.635887,
          17501720424.635887,
          17501720424.635887,
          17501720424.635887,
          17501720424.635887,
          17501720424.635887,
          17501720424.635887,
          17501720424.635887,
          17766347919.58291,
          17766347919.58291,
          17766347919.58291,
          17766347919.58291,
          17766347919.58291,
          17766347919.58291,
          17766347919.58291,
          17766347919.58291,
          17766347919.58291,
          17766347919.58291,
          17766347919.58291,
          17766347919.58291,
          17766347919.58291,
          17766347919.58291,
          17766347919.58291,
          18030975414.52993,
          18030975414.52993,
          18030975414.52993,
          18030975414.52993,
          18030975414.52993,
          18030975414.52993,
          18030975414.52993,
          18030975414.52993,
          18030975414.52993,
          18030975414.52993,
          18030975414.52993,
          18295602909.476955,
          18295602909.476955,
          18295602909.476955,
          18295602909.476955,
          18295602909.476955,
          18295602909.476955,
          18295602909.476955,
          18295602909.476955,
          18295602909.476955,
          18295602909.476955,
          18295602909.476955,
          18295602909.476955,
          18560230404.423977,
          18560230404.423977,
          18560230404.423977,
          18560230404.423977,
          18560230404.423977,
          18560230404.423977,
          18560230404.423977,
          18560230404.423977,
          18560230404.423977,
          18560230404.423977,
          18560230404.423977,
          18560230404.423977,
          18824857899.371,
          18824857899.371,
          18824857899.371,
          18824857899.371,
          18824857899.371,
          18824857899.371,
          18824857899.371,
          18824857899.371,
          18824857899.371,
          18824857899.371,
          18824857899.371,
          18824857899.371,
          18824857899.371,
          19089485394.31802,
          19089485394.31802,
          19089485394.31802,
          19089485394.31802,
          19089485394.31802,
          19089485394.31802,
          19089485394.31802,
          19089485394.31802,
          19089485394.31802,
          19089485394.31802,
          19089485394.31802,
          19089485394.31802,
          19089485394.31802,
          19089485394.31802,
          19089485394.31802,
          19354112889.26504,
          19354112889.26504,
          19354112889.26504,
          19354112889.26504,
          19354112889.26504,
          19354112889.26504,
          19354112889.26504,
          19354112889.26504,
          19354112889.26504,
          19354112889.26504,
          19354112889.26504,
          19354112889.26504,
          19354112889.26504,
          19354112889.26504,
          19618740384.212067,
          19618740384.212067,
          19618740384.212067,
          19618740384.212067,
          19618740384.212067,
          19618740384.212067,
          19618740384.212067,
          19618740384.212067,
          19618740384.212067,
          19618740384.212067,
          19618740384.212067,
          19618740384.212067,
          19618740384.212067,
          19618740384.212067,
          19883367879.15909,
          19883367879.15909,
          19883367879.15909,
          19883367879.15909,
          19883367879.15909,
          19883367879.15909,
          19883367879.15909,
          19883367879.15909,
          19883367879.15909,
          19883367879.15909,
          19883367879.15909,
          20147995374.10611,
          20147995374.10611,
          20147995374.10611,
          20147995374.10611,
          20147995374.10611,
          20147995374.10611,
          20147995374.10611,
          20147995374.10611,
          20147995374.10611,
          20147995374.10611,
          20147995374.10611,
          20147995374.10611,
          20412622869.05313,
          20412622869.05313,
          20412622869.05313,
          20412622869.05313,
          20412622869.05313,
          20412622869.05313,
          20412622869.05313,
          20412622869.05313,
          20412622869.05313,
          20412622869.05313,
          20412622869.05313,
          20412622869.05313,
          20412622869.05313,
          20412622869.05313,
          20677250364.000153,
          20677250364.000153,
          20677250364.000153,
          20677250364.000153,
          20677250364.000153,
          20677250364.000153,
          20677250364.000153,
          20677250364.000153,
          20677250364.000153,
          20677250364.000153,
          20677250364.000153,
          20677250364.000153,
          20677250364.000153,
          20677250364.000153,
          20941877858.947174,
          20941877858.947174,
          20941877858.947174,
          20941877858.947174,
          20941877858.947174,
          20941877858.947174,
          20941877858.947174,
          20941877858.947174,
          20941877858.947174,
          20941877858.947174,
          20941877858.947174,
          21206505353.894196,
          21206505353.894196,
          21206505353.894196,
          21206505353.894196,
          21206505353.894196,
          21206505353.894196,
          21206505353.894196,
          21206505353.894196,
          21206505353.894196,
          21206505353.894196,
          21206505353.894196,
          21471132848.841217,
          21471132848.841217,
          21471132848.841217,
          21471132848.841217,
          21471132848.841217,
          21471132848.841217,
          21471132848.841217,
          21471132848.841217,
          21471132848.841217,
          21471132848.841217,
          21471132848.841217,
          21471132848.841217,
          21471132848.841217,
          21471132848.841217,
          21735760343.78824,
          21735760343.78824,
          21735760343.78824,
          21735760343.78824,
          21735760343.78824,
          21735760343.78824,
          21735760343.78824,
          21735760343.78824,
          21735760343.78824,
          21735760343.78824,
          21735760343.78824,
          21735760343.78824,
          22000387838.735264,
          22000387838.735264,
          22000387838.735264,
          22000387838.735264,
          22000387838.735264,
          22000387838.735264,
          22000387838.735264,
          22000387838.735264,
          22000387838.735264,
          22000387838.735264,
          22000387838.735264,
          22000387838.735264,
          22265015333.682285,
          22265015333.682285,
          22265015333.682285,
          22265015333.682285,
          22265015333.682285,
          22265015333.682285,
          22265015333.682285,
          22265015333.682285,
          22265015333.682285,
          22265015333.682285,
          22265015333.682285,
          22265015333.682285,
          22265015333.682285,
          22529642828.629307,
          22529642828.629307,
          22529642828.629307,
          22529642828.629307,
          22529642828.629307,
          22529642828.629307,
          22529642828.629307,
          22529642828.629307,
          22529642828.629307,
          22529642828.629307,
          22529642828.629307,
          22529642828.629307,
          22529642828.629307,
          22529642828.629307,
          22529642828.629307,
          22529642828.629307,
          22794270323.57633,
          22794270323.57633,
          22794270323.57633,
          22794270323.57633,
          22794270323.57633,
          22794270323.57633,
          22794270323.57633,
          22794270323.57633,
          22794270323.57633,
          22794270323.57633,
          22794270323.57633,
          22794270323.57633,
          22794270323.57633,
          22794270323.57633,
          23058897818.52335,
          23058897818.52335,
          23058897818.52335,
          23058897818.52335,
          23058897818.52335,
          23058897818.52335,
          23058897818.52335,
          23058897818.52335,
          23058897818.52335,
          23058897818.52335,
          23058897818.52335,
          23058897818.52335,
          23323525313.47037,
          23323525313.47037,
          23323525313.47037,
          23323525313.47037,
          23323525313.47037,
          23323525313.47037,
          23323525313.47037,
          23323525313.47037,
          23323525313.47037,
          23323525313.47037,
          23323525313.47037,
          23323525313.47037,
          23323525313.47037
         ],
         "yaxis": "y"
        },
        {
         "hovertemplate": "<b>OLS trendline</b><br>NOMINAL = 2.64627e+08 * TANGGALBAYAR + 1.51201e+10<br>R<sup>2</sup>=0.002511<br><br>TANGGALBAYAR=%{x}<br>NOMINAL=%{y} <b>(trend)</b><extra></extra>",
         "legendgroup": "Overall Trendline",
         "line": {
          "color": "#EF553B"
         },
         "mode": "lines",
         "name": "Overall Trendline",
         "showlegend": false,
         "type": "scatter",
         "x": [
          1,
          1,
          1,
          1,
          1,
          1,
          1,
          1,
          1,
          1,
          1,
          1,
          1,
          1,
          2,
          2,
          2,
          2,
          2,
          2,
          2,
          2,
          2,
          2,
          2,
          2,
          2,
          3,
          3,
          3,
          3,
          3,
          3,
          3,
          3,
          3,
          3,
          3,
          3,
          3,
          3,
          3,
          4,
          4,
          4,
          4,
          4,
          4,
          4,
          4,
          4,
          4,
          4,
          4,
          5,
          5,
          5,
          5,
          5,
          5,
          5,
          5,
          5,
          5,
          5,
          5,
          6,
          6,
          6,
          6,
          6,
          6,
          6,
          6,
          6,
          6,
          6,
          6,
          6,
          6,
          6,
          6,
          7,
          7,
          7,
          7,
          7,
          7,
          7,
          7,
          7,
          7,
          7,
          7,
          8,
          8,
          8,
          8,
          8,
          8,
          8,
          8,
          8,
          8,
          8,
          8,
          8,
          9,
          9,
          9,
          9,
          9,
          9,
          9,
          9,
          9,
          9,
          9,
          9,
          9,
          9,
          10,
          10,
          10,
          10,
          10,
          10,
          10,
          10,
          10,
          10,
          10,
          10,
          10,
          10,
          10,
          11,
          11,
          11,
          11,
          11,
          11,
          11,
          11,
          11,
          11,
          11,
          12,
          12,
          12,
          12,
          12,
          12,
          12,
          12,
          12,
          12,
          12,
          12,
          13,
          13,
          13,
          13,
          13,
          13,
          13,
          13,
          13,
          13,
          13,
          13,
          14,
          14,
          14,
          14,
          14,
          14,
          14,
          14,
          14,
          14,
          14,
          14,
          14,
          15,
          15,
          15,
          15,
          15,
          15,
          15,
          15,
          15,
          15,
          15,
          15,
          15,
          15,
          15,
          16,
          16,
          16,
          16,
          16,
          16,
          16,
          16,
          16,
          16,
          16,
          16,
          16,
          16,
          17,
          17,
          17,
          17,
          17,
          17,
          17,
          17,
          17,
          17,
          17,
          17,
          17,
          17,
          18,
          18,
          18,
          18,
          18,
          18,
          18,
          18,
          18,
          18,
          18,
          19,
          19,
          19,
          19,
          19,
          19,
          19,
          19,
          19,
          19,
          19,
          19,
          20,
          20,
          20,
          20,
          20,
          20,
          20,
          20,
          20,
          20,
          20,
          20,
          20,
          20,
          21,
          21,
          21,
          21,
          21,
          21,
          21,
          21,
          21,
          21,
          21,
          21,
          21,
          21,
          22,
          22,
          22,
          22,
          22,
          22,
          22,
          22,
          22,
          22,
          22,
          23,
          23,
          23,
          23,
          23,
          23,
          23,
          23,
          23,
          23,
          23,
          24,
          24,
          24,
          24,
          24,
          24,
          24,
          24,
          24,
          24,
          24,
          24,
          24,
          24,
          25,
          25,
          25,
          25,
          25,
          25,
          25,
          25,
          25,
          25,
          25,
          25,
          26,
          26,
          26,
          26,
          26,
          26,
          26,
          26,
          26,
          26,
          26,
          26,
          27,
          27,
          27,
          27,
          27,
          27,
          27,
          27,
          27,
          27,
          27,
          27,
          27,
          28,
          28,
          28,
          28,
          28,
          28,
          28,
          28,
          28,
          28,
          28,
          28,
          28,
          28,
          28,
          28,
          29,
          29,
          29,
          29,
          29,
          29,
          29,
          29,
          29,
          29,
          29,
          29,
          29,
          29,
          30,
          30,
          30,
          30,
          30,
          30,
          30,
          30,
          30,
          30,
          30,
          30,
          31,
          31,
          31,
          31,
          31,
          31,
          31,
          31,
          31,
          31,
          31,
          31,
          31
         ],
         "xaxis": "x2",
         "y": [
          15384700465.059711,
          15384700465.059711,
          15384700465.059711,
          15384700465.059711,
          15384700465.059711,
          15384700465.059711,
          15384700465.059711,
          15384700465.059711,
          15384700465.059711,
          15384700465.059711,
          15384700465.059711,
          15384700465.059711,
          15384700465.059711,
          15384700465.059711,
          15649327960.006735,
          15649327960.006735,
          15649327960.006735,
          15649327960.006735,
          15649327960.006735,
          15649327960.006735,
          15649327960.006735,
          15649327960.006735,
          15649327960.006735,
          15649327960.006735,
          15649327960.006735,
          15649327960.006735,
          15649327960.006735,
          15913955454.953756,
          15913955454.953756,
          15913955454.953756,
          15913955454.953756,
          15913955454.953756,
          15913955454.953756,
          15913955454.953756,
          15913955454.953756,
          15913955454.953756,
          15913955454.953756,
          15913955454.953756,
          15913955454.953756,
          15913955454.953756,
          15913955454.953756,
          15913955454.953756,
          16178582949.900778,
          16178582949.900778,
          16178582949.900778,
          16178582949.900778,
          16178582949.900778,
          16178582949.900778,
          16178582949.900778,
          16178582949.900778,
          16178582949.900778,
          16178582949.900778,
          16178582949.900778,
          16178582949.900778,
          16443210444.8478,
          16443210444.8478,
          16443210444.8478,
          16443210444.8478,
          16443210444.8478,
          16443210444.8478,
          16443210444.8478,
          16443210444.8478,
          16443210444.8478,
          16443210444.8478,
          16443210444.8478,
          16443210444.8478,
          16707837939.794823,
          16707837939.794823,
          16707837939.794823,
          16707837939.794823,
          16707837939.794823,
          16707837939.794823,
          16707837939.794823,
          16707837939.794823,
          16707837939.794823,
          16707837939.794823,
          16707837939.794823,
          16707837939.794823,
          16707837939.794823,
          16707837939.794823,
          16707837939.794823,
          16707837939.794823,
          16972465434.741844,
          16972465434.741844,
          16972465434.741844,
          16972465434.741844,
          16972465434.741844,
          16972465434.741844,
          16972465434.741844,
          16972465434.741844,
          16972465434.741844,
          16972465434.741844,
          16972465434.741844,
          16972465434.741844,
          17237092929.688866,
          17237092929.688866,
          17237092929.688866,
          17237092929.688866,
          17237092929.688866,
          17237092929.688866,
          17237092929.688866,
          17237092929.688866,
          17237092929.688866,
          17237092929.688866,
          17237092929.688866,
          17237092929.688866,
          17237092929.688866,
          17501720424.635887,
          17501720424.635887,
          17501720424.635887,
          17501720424.635887,
          17501720424.635887,
          17501720424.635887,
          17501720424.635887,
          17501720424.635887,
          17501720424.635887,
          17501720424.635887,
          17501720424.635887,
          17501720424.635887,
          17501720424.635887,
          17501720424.635887,
          17766347919.58291,
          17766347919.58291,
          17766347919.58291,
          17766347919.58291,
          17766347919.58291,
          17766347919.58291,
          17766347919.58291,
          17766347919.58291,
          17766347919.58291,
          17766347919.58291,
          17766347919.58291,
          17766347919.58291,
          17766347919.58291,
          17766347919.58291,
          17766347919.58291,
          18030975414.52993,
          18030975414.52993,
          18030975414.52993,
          18030975414.52993,
          18030975414.52993,
          18030975414.52993,
          18030975414.52993,
          18030975414.52993,
          18030975414.52993,
          18030975414.52993,
          18030975414.52993,
          18295602909.476955,
          18295602909.476955,
          18295602909.476955,
          18295602909.476955,
          18295602909.476955,
          18295602909.476955,
          18295602909.476955,
          18295602909.476955,
          18295602909.476955,
          18295602909.476955,
          18295602909.476955,
          18295602909.476955,
          18560230404.423977,
          18560230404.423977,
          18560230404.423977,
          18560230404.423977,
          18560230404.423977,
          18560230404.423977,
          18560230404.423977,
          18560230404.423977,
          18560230404.423977,
          18560230404.423977,
          18560230404.423977,
          18560230404.423977,
          18824857899.371,
          18824857899.371,
          18824857899.371,
          18824857899.371,
          18824857899.371,
          18824857899.371,
          18824857899.371,
          18824857899.371,
          18824857899.371,
          18824857899.371,
          18824857899.371,
          18824857899.371,
          18824857899.371,
          19089485394.31802,
          19089485394.31802,
          19089485394.31802,
          19089485394.31802,
          19089485394.31802,
          19089485394.31802,
          19089485394.31802,
          19089485394.31802,
          19089485394.31802,
          19089485394.31802,
          19089485394.31802,
          19089485394.31802,
          19089485394.31802,
          19089485394.31802,
          19089485394.31802,
          19354112889.26504,
          19354112889.26504,
          19354112889.26504,
          19354112889.26504,
          19354112889.26504,
          19354112889.26504,
          19354112889.26504,
          19354112889.26504,
          19354112889.26504,
          19354112889.26504,
          19354112889.26504,
          19354112889.26504,
          19354112889.26504,
          19354112889.26504,
          19618740384.212067,
          19618740384.212067,
          19618740384.212067,
          19618740384.212067,
          19618740384.212067,
          19618740384.212067,
          19618740384.212067,
          19618740384.212067,
          19618740384.212067,
          19618740384.212067,
          19618740384.212067,
          19618740384.212067,
          19618740384.212067,
          19618740384.212067,
          19883367879.15909,
          19883367879.15909,
          19883367879.15909,
          19883367879.15909,
          19883367879.15909,
          19883367879.15909,
          19883367879.15909,
          19883367879.15909,
          19883367879.15909,
          19883367879.15909,
          19883367879.15909,
          20147995374.10611,
          20147995374.10611,
          20147995374.10611,
          20147995374.10611,
          20147995374.10611,
          20147995374.10611,
          20147995374.10611,
          20147995374.10611,
          20147995374.10611,
          20147995374.10611,
          20147995374.10611,
          20147995374.10611,
          20412622869.05313,
          20412622869.05313,
          20412622869.05313,
          20412622869.05313,
          20412622869.05313,
          20412622869.05313,
          20412622869.05313,
          20412622869.05313,
          20412622869.05313,
          20412622869.05313,
          20412622869.05313,
          20412622869.05313,
          20412622869.05313,
          20412622869.05313,
          20677250364.000153,
          20677250364.000153,
          20677250364.000153,
          20677250364.000153,
          20677250364.000153,
          20677250364.000153,
          20677250364.000153,
          20677250364.000153,
          20677250364.000153,
          20677250364.000153,
          20677250364.000153,
          20677250364.000153,
          20677250364.000153,
          20677250364.000153,
          20941877858.947174,
          20941877858.947174,
          20941877858.947174,
          20941877858.947174,
          20941877858.947174,
          20941877858.947174,
          20941877858.947174,
          20941877858.947174,
          20941877858.947174,
          20941877858.947174,
          20941877858.947174,
          21206505353.894196,
          21206505353.894196,
          21206505353.894196,
          21206505353.894196,
          21206505353.894196,
          21206505353.894196,
          21206505353.894196,
          21206505353.894196,
          21206505353.894196,
          21206505353.894196,
          21206505353.894196,
          21471132848.841217,
          21471132848.841217,
          21471132848.841217,
          21471132848.841217,
          21471132848.841217,
          21471132848.841217,
          21471132848.841217,
          21471132848.841217,
          21471132848.841217,
          21471132848.841217,
          21471132848.841217,
          21471132848.841217,
          21471132848.841217,
          21471132848.841217,
          21735760343.78824,
          21735760343.78824,
          21735760343.78824,
          21735760343.78824,
          21735760343.78824,
          21735760343.78824,
          21735760343.78824,
          21735760343.78824,
          21735760343.78824,
          21735760343.78824,
          21735760343.78824,
          21735760343.78824,
          22000387838.735264,
          22000387838.735264,
          22000387838.735264,
          22000387838.735264,
          22000387838.735264,
          22000387838.735264,
          22000387838.735264,
          22000387838.735264,
          22000387838.735264,
          22000387838.735264,
          22000387838.735264,
          22000387838.735264,
          22265015333.682285,
          22265015333.682285,
          22265015333.682285,
          22265015333.682285,
          22265015333.682285,
          22265015333.682285,
          22265015333.682285,
          22265015333.682285,
          22265015333.682285,
          22265015333.682285,
          22265015333.682285,
          22265015333.682285,
          22265015333.682285,
          22529642828.629307,
          22529642828.629307,
          22529642828.629307,
          22529642828.629307,
          22529642828.629307,
          22529642828.629307,
          22529642828.629307,
          22529642828.629307,
          22529642828.629307,
          22529642828.629307,
          22529642828.629307,
          22529642828.629307,
          22529642828.629307,
          22529642828.629307,
          22529642828.629307,
          22529642828.629307,
          22794270323.57633,
          22794270323.57633,
          22794270323.57633,
          22794270323.57633,
          22794270323.57633,
          22794270323.57633,
          22794270323.57633,
          22794270323.57633,
          22794270323.57633,
          22794270323.57633,
          22794270323.57633,
          22794270323.57633,
          22794270323.57633,
          22794270323.57633,
          23058897818.52335,
          23058897818.52335,
          23058897818.52335,
          23058897818.52335,
          23058897818.52335,
          23058897818.52335,
          23058897818.52335,
          23058897818.52335,
          23058897818.52335,
          23058897818.52335,
          23058897818.52335,
          23058897818.52335,
          23323525313.47037,
          23323525313.47037,
          23323525313.47037,
          23323525313.47037,
          23323525313.47037,
          23323525313.47037,
          23323525313.47037,
          23323525313.47037,
          23323525313.47037,
          23323525313.47037,
          23323525313.47037,
          23323525313.47037,
          23323525313.47037
         ],
         "yaxis": "y2"
        },
        {
         "hovertemplate": "<b>OLS trendline</b><br>NOMINAL = 2.64627e+08 * TANGGALBAYAR + 1.51201e+10<br>R<sup>2</sup>=0.002511<br><br>TANGGALBAYAR=%{x}<br>NOMINAL=%{y} <b>(trend)</b><extra></extra>",
         "legendgroup": "Overall Trendline",
         "line": {
          "color": "#EF553B"
         },
         "mode": "lines",
         "name": "Overall Trendline",
         "showlegend": true,
         "type": "scatter",
         "x": [
          1,
          1,
          1,
          1,
          1,
          1,
          1,
          1,
          1,
          1,
          1,
          1,
          1,
          1,
          2,
          2,
          2,
          2,
          2,
          2,
          2,
          2,
          2,
          2,
          2,
          2,
          2,
          3,
          3,
          3,
          3,
          3,
          3,
          3,
          3,
          3,
          3,
          3,
          3,
          3,
          3,
          3,
          4,
          4,
          4,
          4,
          4,
          4,
          4,
          4,
          4,
          4,
          4,
          4,
          5,
          5,
          5,
          5,
          5,
          5,
          5,
          5,
          5,
          5,
          5,
          5,
          6,
          6,
          6,
          6,
          6,
          6,
          6,
          6,
          6,
          6,
          6,
          6,
          6,
          6,
          6,
          6,
          7,
          7,
          7,
          7,
          7,
          7,
          7,
          7,
          7,
          7,
          7,
          7,
          8,
          8,
          8,
          8,
          8,
          8,
          8,
          8,
          8,
          8,
          8,
          8,
          8,
          9,
          9,
          9,
          9,
          9,
          9,
          9,
          9,
          9,
          9,
          9,
          9,
          9,
          9,
          10,
          10,
          10,
          10,
          10,
          10,
          10,
          10,
          10,
          10,
          10,
          10,
          10,
          10,
          10,
          11,
          11,
          11,
          11,
          11,
          11,
          11,
          11,
          11,
          11,
          11,
          12,
          12,
          12,
          12,
          12,
          12,
          12,
          12,
          12,
          12,
          12,
          12,
          13,
          13,
          13,
          13,
          13,
          13,
          13,
          13,
          13,
          13,
          13,
          13,
          14,
          14,
          14,
          14,
          14,
          14,
          14,
          14,
          14,
          14,
          14,
          14,
          14,
          15,
          15,
          15,
          15,
          15,
          15,
          15,
          15,
          15,
          15,
          15,
          15,
          15,
          15,
          15,
          16,
          16,
          16,
          16,
          16,
          16,
          16,
          16,
          16,
          16,
          16,
          16,
          16,
          16,
          17,
          17,
          17,
          17,
          17,
          17,
          17,
          17,
          17,
          17,
          17,
          17,
          17,
          17,
          18,
          18,
          18,
          18,
          18,
          18,
          18,
          18,
          18,
          18,
          18,
          19,
          19,
          19,
          19,
          19,
          19,
          19,
          19,
          19,
          19,
          19,
          19,
          20,
          20,
          20,
          20,
          20,
          20,
          20,
          20,
          20,
          20,
          20,
          20,
          20,
          20,
          21,
          21,
          21,
          21,
          21,
          21,
          21,
          21,
          21,
          21,
          21,
          21,
          21,
          21,
          22,
          22,
          22,
          22,
          22,
          22,
          22,
          22,
          22,
          22,
          22,
          23,
          23,
          23,
          23,
          23,
          23,
          23,
          23,
          23,
          23,
          23,
          24,
          24,
          24,
          24,
          24,
          24,
          24,
          24,
          24,
          24,
          24,
          24,
          24,
          24,
          25,
          25,
          25,
          25,
          25,
          25,
          25,
          25,
          25,
          25,
          25,
          25,
          26,
          26,
          26,
          26,
          26,
          26,
          26,
          26,
          26,
          26,
          26,
          26,
          27,
          27,
          27,
          27,
          27,
          27,
          27,
          27,
          27,
          27,
          27,
          27,
          27,
          28,
          28,
          28,
          28,
          28,
          28,
          28,
          28,
          28,
          28,
          28,
          28,
          28,
          28,
          28,
          28,
          29,
          29,
          29,
          29,
          29,
          29,
          29,
          29,
          29,
          29,
          29,
          29,
          29,
          29,
          30,
          30,
          30,
          30,
          30,
          30,
          30,
          30,
          30,
          30,
          30,
          30,
          31,
          31,
          31,
          31,
          31,
          31,
          31,
          31,
          31,
          31,
          31,
          31,
          31
         ],
         "xaxis": "x3",
         "y": [
          15384700465.059711,
          15384700465.059711,
          15384700465.059711,
          15384700465.059711,
          15384700465.059711,
          15384700465.059711,
          15384700465.059711,
          15384700465.059711,
          15384700465.059711,
          15384700465.059711,
          15384700465.059711,
          15384700465.059711,
          15384700465.059711,
          15384700465.059711,
          15649327960.006735,
          15649327960.006735,
          15649327960.006735,
          15649327960.006735,
          15649327960.006735,
          15649327960.006735,
          15649327960.006735,
          15649327960.006735,
          15649327960.006735,
          15649327960.006735,
          15649327960.006735,
          15649327960.006735,
          15649327960.006735,
          15913955454.953756,
          15913955454.953756,
          15913955454.953756,
          15913955454.953756,
          15913955454.953756,
          15913955454.953756,
          15913955454.953756,
          15913955454.953756,
          15913955454.953756,
          15913955454.953756,
          15913955454.953756,
          15913955454.953756,
          15913955454.953756,
          15913955454.953756,
          15913955454.953756,
          16178582949.900778,
          16178582949.900778,
          16178582949.900778,
          16178582949.900778,
          16178582949.900778,
          16178582949.900778,
          16178582949.900778,
          16178582949.900778,
          16178582949.900778,
          16178582949.900778,
          16178582949.900778,
          16178582949.900778,
          16443210444.8478,
          16443210444.8478,
          16443210444.8478,
          16443210444.8478,
          16443210444.8478,
          16443210444.8478,
          16443210444.8478,
          16443210444.8478,
          16443210444.8478,
          16443210444.8478,
          16443210444.8478,
          16443210444.8478,
          16707837939.794823,
          16707837939.794823,
          16707837939.794823,
          16707837939.794823,
          16707837939.794823,
          16707837939.794823,
          16707837939.794823,
          16707837939.794823,
          16707837939.794823,
          16707837939.794823,
          16707837939.794823,
          16707837939.794823,
          16707837939.794823,
          16707837939.794823,
          16707837939.794823,
          16707837939.794823,
          16972465434.741844,
          16972465434.741844,
          16972465434.741844,
          16972465434.741844,
          16972465434.741844,
          16972465434.741844,
          16972465434.741844,
          16972465434.741844,
          16972465434.741844,
          16972465434.741844,
          16972465434.741844,
          16972465434.741844,
          17237092929.688866,
          17237092929.688866,
          17237092929.688866,
          17237092929.688866,
          17237092929.688866,
          17237092929.688866,
          17237092929.688866,
          17237092929.688866,
          17237092929.688866,
          17237092929.688866,
          17237092929.688866,
          17237092929.688866,
          17237092929.688866,
          17501720424.635887,
          17501720424.635887,
          17501720424.635887,
          17501720424.635887,
          17501720424.635887,
          17501720424.635887,
          17501720424.635887,
          17501720424.635887,
          17501720424.635887,
          17501720424.635887,
          17501720424.635887,
          17501720424.635887,
          17501720424.635887,
          17501720424.635887,
          17766347919.58291,
          17766347919.58291,
          17766347919.58291,
          17766347919.58291,
          17766347919.58291,
          17766347919.58291,
          17766347919.58291,
          17766347919.58291,
          17766347919.58291,
          17766347919.58291,
          17766347919.58291,
          17766347919.58291,
          17766347919.58291,
          17766347919.58291,
          17766347919.58291,
          18030975414.52993,
          18030975414.52993,
          18030975414.52993,
          18030975414.52993,
          18030975414.52993,
          18030975414.52993,
          18030975414.52993,
          18030975414.52993,
          18030975414.52993,
          18030975414.52993,
          18030975414.52993,
          18295602909.476955,
          18295602909.476955,
          18295602909.476955,
          18295602909.476955,
          18295602909.476955,
          18295602909.476955,
          18295602909.476955,
          18295602909.476955,
          18295602909.476955,
          18295602909.476955,
          18295602909.476955,
          18295602909.476955,
          18560230404.423977,
          18560230404.423977,
          18560230404.423977,
          18560230404.423977,
          18560230404.423977,
          18560230404.423977,
          18560230404.423977,
          18560230404.423977,
          18560230404.423977,
          18560230404.423977,
          18560230404.423977,
          18560230404.423977,
          18824857899.371,
          18824857899.371,
          18824857899.371,
          18824857899.371,
          18824857899.371,
          18824857899.371,
          18824857899.371,
          18824857899.371,
          18824857899.371,
          18824857899.371,
          18824857899.371,
          18824857899.371,
          18824857899.371,
          19089485394.31802,
          19089485394.31802,
          19089485394.31802,
          19089485394.31802,
          19089485394.31802,
          19089485394.31802,
          19089485394.31802,
          19089485394.31802,
          19089485394.31802,
          19089485394.31802,
          19089485394.31802,
          19089485394.31802,
          19089485394.31802,
          19089485394.31802,
          19089485394.31802,
          19354112889.26504,
          19354112889.26504,
          19354112889.26504,
          19354112889.26504,
          19354112889.26504,
          19354112889.26504,
          19354112889.26504,
          19354112889.26504,
          19354112889.26504,
          19354112889.26504,
          19354112889.26504,
          19354112889.26504,
          19354112889.26504,
          19354112889.26504,
          19618740384.212067,
          19618740384.212067,
          19618740384.212067,
          19618740384.212067,
          19618740384.212067,
          19618740384.212067,
          19618740384.212067,
          19618740384.212067,
          19618740384.212067,
          19618740384.212067,
          19618740384.212067,
          19618740384.212067,
          19618740384.212067,
          19618740384.212067,
          19883367879.15909,
          19883367879.15909,
          19883367879.15909,
          19883367879.15909,
          19883367879.15909,
          19883367879.15909,
          19883367879.15909,
          19883367879.15909,
          19883367879.15909,
          19883367879.15909,
          19883367879.15909,
          20147995374.10611,
          20147995374.10611,
          20147995374.10611,
          20147995374.10611,
          20147995374.10611,
          20147995374.10611,
          20147995374.10611,
          20147995374.10611,
          20147995374.10611,
          20147995374.10611,
          20147995374.10611,
          20147995374.10611,
          20412622869.05313,
          20412622869.05313,
          20412622869.05313,
          20412622869.05313,
          20412622869.05313,
          20412622869.05313,
          20412622869.05313,
          20412622869.05313,
          20412622869.05313,
          20412622869.05313,
          20412622869.05313,
          20412622869.05313,
          20412622869.05313,
          20412622869.05313,
          20677250364.000153,
          20677250364.000153,
          20677250364.000153,
          20677250364.000153,
          20677250364.000153,
          20677250364.000153,
          20677250364.000153,
          20677250364.000153,
          20677250364.000153,
          20677250364.000153,
          20677250364.000153,
          20677250364.000153,
          20677250364.000153,
          20677250364.000153,
          20941877858.947174,
          20941877858.947174,
          20941877858.947174,
          20941877858.947174,
          20941877858.947174,
          20941877858.947174,
          20941877858.947174,
          20941877858.947174,
          20941877858.947174,
          20941877858.947174,
          20941877858.947174,
          21206505353.894196,
          21206505353.894196,
          21206505353.894196,
          21206505353.894196,
          21206505353.894196,
          21206505353.894196,
          21206505353.894196,
          21206505353.894196,
          21206505353.894196,
          21206505353.894196,
          21206505353.894196,
          21471132848.841217,
          21471132848.841217,
          21471132848.841217,
          21471132848.841217,
          21471132848.841217,
          21471132848.841217,
          21471132848.841217,
          21471132848.841217,
          21471132848.841217,
          21471132848.841217,
          21471132848.841217,
          21471132848.841217,
          21471132848.841217,
          21471132848.841217,
          21735760343.78824,
          21735760343.78824,
          21735760343.78824,
          21735760343.78824,
          21735760343.78824,
          21735760343.78824,
          21735760343.78824,
          21735760343.78824,
          21735760343.78824,
          21735760343.78824,
          21735760343.78824,
          21735760343.78824,
          22000387838.735264,
          22000387838.735264,
          22000387838.735264,
          22000387838.735264,
          22000387838.735264,
          22000387838.735264,
          22000387838.735264,
          22000387838.735264,
          22000387838.735264,
          22000387838.735264,
          22000387838.735264,
          22000387838.735264,
          22265015333.682285,
          22265015333.682285,
          22265015333.682285,
          22265015333.682285,
          22265015333.682285,
          22265015333.682285,
          22265015333.682285,
          22265015333.682285,
          22265015333.682285,
          22265015333.682285,
          22265015333.682285,
          22265015333.682285,
          22265015333.682285,
          22529642828.629307,
          22529642828.629307,
          22529642828.629307,
          22529642828.629307,
          22529642828.629307,
          22529642828.629307,
          22529642828.629307,
          22529642828.629307,
          22529642828.629307,
          22529642828.629307,
          22529642828.629307,
          22529642828.629307,
          22529642828.629307,
          22529642828.629307,
          22529642828.629307,
          22529642828.629307,
          22794270323.57633,
          22794270323.57633,
          22794270323.57633,
          22794270323.57633,
          22794270323.57633,
          22794270323.57633,
          22794270323.57633,
          22794270323.57633,
          22794270323.57633,
          22794270323.57633,
          22794270323.57633,
          22794270323.57633,
          22794270323.57633,
          22794270323.57633,
          23058897818.52335,
          23058897818.52335,
          23058897818.52335,
          23058897818.52335,
          23058897818.52335,
          23058897818.52335,
          23058897818.52335,
          23058897818.52335,
          23058897818.52335,
          23058897818.52335,
          23058897818.52335,
          23058897818.52335,
          23323525313.47037,
          23323525313.47037,
          23323525313.47037,
          23323525313.47037,
          23323525313.47037,
          23323525313.47037,
          23323525313.47037,
          23323525313.47037,
          23323525313.47037,
          23323525313.47037,
          23323525313.47037,
          23323525313.47037,
          23323525313.47037
         ],
         "yaxis": "y3"
        }
       ],
       "layout": {
        "barmode": "overlay",
        "legend": {
         "title": {
          "text": "MAP"
         },
         "tracegroupgap": 0
        },
        "margin": {
         "t": 60
        },
        "template": {
         "data": {
          "bar": [
           {
            "error_x": {
             "color": "#2a3f5f"
            },
            "error_y": {
             "color": "#2a3f5f"
            },
            "marker": {
             "line": {
              "color": "#E5ECF6",
              "width": 0.5
             },
             "pattern": {
              "fillmode": "overlay",
              "size": 10,
              "solidity": 0.2
             }
            },
            "type": "bar"
           }
          ],
          "barpolar": [
           {
            "marker": {
             "line": {
              "color": "#E5ECF6",
              "width": 0.5
             },
             "pattern": {
              "fillmode": "overlay",
              "size": 10,
              "solidity": 0.2
             }
            },
            "type": "barpolar"
           }
          ],
          "carpet": [
           {
            "aaxis": {
             "endlinecolor": "#2a3f5f",
             "gridcolor": "white",
             "linecolor": "white",
             "minorgridcolor": "white",
             "startlinecolor": "#2a3f5f"
            },
            "baxis": {
             "endlinecolor": "#2a3f5f",
             "gridcolor": "white",
             "linecolor": "white",
             "minorgridcolor": "white",
             "startlinecolor": "#2a3f5f"
            },
            "type": "carpet"
           }
          ],
          "choropleth": [
           {
            "colorbar": {
             "outlinewidth": 0,
             "ticks": ""
            },
            "type": "choropleth"
           }
          ],
          "contour": [
           {
            "colorbar": {
             "outlinewidth": 0,
             "ticks": ""
            },
            "colorscale": [
             [
              0,
              "#0d0887"
             ],
             [
              0.1111111111111111,
              "#46039f"
             ],
             [
              0.2222222222222222,
              "#7201a8"
             ],
             [
              0.3333333333333333,
              "#9c179e"
             ],
             [
              0.4444444444444444,
              "#bd3786"
             ],
             [
              0.5555555555555556,
              "#d8576b"
             ],
             [
              0.6666666666666666,
              "#ed7953"
             ],
             [
              0.7777777777777778,
              "#fb9f3a"
             ],
             [
              0.8888888888888888,
              "#fdca26"
             ],
             [
              1,
              "#f0f921"
             ]
            ],
            "type": "contour"
           }
          ],
          "contourcarpet": [
           {
            "colorbar": {
             "outlinewidth": 0,
             "ticks": ""
            },
            "type": "contourcarpet"
           }
          ],
          "heatmap": [
           {
            "colorbar": {
             "outlinewidth": 0,
             "ticks": ""
            },
            "colorscale": [
             [
              0,
              "#0d0887"
             ],
             [
              0.1111111111111111,
              "#46039f"
             ],
             [
              0.2222222222222222,
              "#7201a8"
             ],
             [
              0.3333333333333333,
              "#9c179e"
             ],
             [
              0.4444444444444444,
              "#bd3786"
             ],
             [
              0.5555555555555556,
              "#d8576b"
             ],
             [
              0.6666666666666666,
              "#ed7953"
             ],
             [
              0.7777777777777778,
              "#fb9f3a"
             ],
             [
              0.8888888888888888,
              "#fdca26"
             ],
             [
              1,
              "#f0f921"
             ]
            ],
            "type": "heatmap"
           }
          ],
          "heatmapgl": [
           {
            "colorbar": {
             "outlinewidth": 0,
             "ticks": ""
            },
            "colorscale": [
             [
              0,
              "#0d0887"
             ],
             [
              0.1111111111111111,
              "#46039f"
             ],
             [
              0.2222222222222222,
              "#7201a8"
             ],
             [
              0.3333333333333333,
              "#9c179e"
             ],
             [
              0.4444444444444444,
              "#bd3786"
             ],
             [
              0.5555555555555556,
              "#d8576b"
             ],
             [
              0.6666666666666666,
              "#ed7953"
             ],
             [
              0.7777777777777778,
              "#fb9f3a"
             ],
             [
              0.8888888888888888,
              "#fdca26"
             ],
             [
              1,
              "#f0f921"
             ]
            ],
            "type": "heatmapgl"
           }
          ],
          "histogram": [
           {
            "marker": {
             "pattern": {
              "fillmode": "overlay",
              "size": 10,
              "solidity": 0.2
             }
            },
            "type": "histogram"
           }
          ],
          "histogram2d": [
           {
            "colorbar": {
             "outlinewidth": 0,
             "ticks": ""
            },
            "colorscale": [
             [
              0,
              "#0d0887"
             ],
             [
              0.1111111111111111,
              "#46039f"
             ],
             [
              0.2222222222222222,
              "#7201a8"
             ],
             [
              0.3333333333333333,
              "#9c179e"
             ],
             [
              0.4444444444444444,
              "#bd3786"
             ],
             [
              0.5555555555555556,
              "#d8576b"
             ],
             [
              0.6666666666666666,
              "#ed7953"
             ],
             [
              0.7777777777777778,
              "#fb9f3a"
             ],
             [
              0.8888888888888888,
              "#fdca26"
             ],
             [
              1,
              "#f0f921"
             ]
            ],
            "type": "histogram2d"
           }
          ],
          "histogram2dcontour": [
           {
            "colorbar": {
             "outlinewidth": 0,
             "ticks": ""
            },
            "colorscale": [
             [
              0,
              "#0d0887"
             ],
             [
              0.1111111111111111,
              "#46039f"
             ],
             [
              0.2222222222222222,
              "#7201a8"
             ],
             [
              0.3333333333333333,
              "#9c179e"
             ],
             [
              0.4444444444444444,
              "#bd3786"
             ],
             [
              0.5555555555555556,
              "#d8576b"
             ],
             [
              0.6666666666666666,
              "#ed7953"
             ],
             [
              0.7777777777777778,
              "#fb9f3a"
             ],
             [
              0.8888888888888888,
              "#fdca26"
             ],
             [
              1,
              "#f0f921"
             ]
            ],
            "type": "histogram2dcontour"
           }
          ],
          "mesh3d": [
           {
            "colorbar": {
             "outlinewidth": 0,
             "ticks": ""
            },
            "type": "mesh3d"
           }
          ],
          "parcoords": [
           {
            "line": {
             "colorbar": {
              "outlinewidth": 0,
              "ticks": ""
             }
            },
            "type": "parcoords"
           }
          ],
          "pie": [
           {
            "automargin": true,
            "type": "pie"
           }
          ],
          "scatter": [
           {
            "fillpattern": {
             "fillmode": "overlay",
             "size": 10,
             "solidity": 0.2
            },
            "type": "scatter"
           }
          ],
          "scatter3d": [
           {
            "line": {
             "colorbar": {
              "outlinewidth": 0,
              "ticks": ""
             }
            },
            "marker": {
             "colorbar": {
              "outlinewidth": 0,
              "ticks": ""
             }
            },
            "type": "scatter3d"
           }
          ],
          "scattercarpet": [
           {
            "marker": {
             "colorbar": {
              "outlinewidth": 0,
              "ticks": ""
             }
            },
            "type": "scattercarpet"
           }
          ],
          "scattergeo": [
           {
            "marker": {
             "colorbar": {
              "outlinewidth": 0,
              "ticks": ""
             }
            },
            "type": "scattergeo"
           }
          ],
          "scattergl": [
           {
            "marker": {
             "colorbar": {
              "outlinewidth": 0,
              "ticks": ""
             }
            },
            "type": "scattergl"
           }
          ],
          "scattermapbox": [
           {
            "marker": {
             "colorbar": {
              "outlinewidth": 0,
              "ticks": ""
             }
            },
            "type": "scattermapbox"
           }
          ],
          "scatterpolar": [
           {
            "marker": {
             "colorbar": {
              "outlinewidth": 0,
              "ticks": ""
             }
            },
            "type": "scatterpolar"
           }
          ],
          "scatterpolargl": [
           {
            "marker": {
             "colorbar": {
              "outlinewidth": 0,
              "ticks": ""
             }
            },
            "type": "scatterpolargl"
           }
          ],
          "scatterternary": [
           {
            "marker": {
             "colorbar": {
              "outlinewidth": 0,
              "ticks": ""
             }
            },
            "type": "scatterternary"
           }
          ],
          "surface": [
           {
            "colorbar": {
             "outlinewidth": 0,
             "ticks": ""
            },
            "colorscale": [
             [
              0,
              "#0d0887"
             ],
             [
              0.1111111111111111,
              "#46039f"
             ],
             [
              0.2222222222222222,
              "#7201a8"
             ],
             [
              0.3333333333333333,
              "#9c179e"
             ],
             [
              0.4444444444444444,
              "#bd3786"
             ],
             [
              0.5555555555555556,
              "#d8576b"
             ],
             [
              0.6666666666666666,
              "#ed7953"
             ],
             [
              0.7777777777777778,
              "#fb9f3a"
             ],
             [
              0.8888888888888888,
              "#fdca26"
             ],
             [
              1,
              "#f0f921"
             ]
            ],
            "type": "surface"
           }
          ],
          "table": [
           {
            "cells": {
             "fill": {
              "color": "#EBF0F8"
             },
             "line": {
              "color": "white"
             }
            },
            "header": {
             "fill": {
              "color": "#C8D4E3"
             },
             "line": {
              "color": "white"
             }
            },
            "type": "table"
           }
          ]
         },
         "layout": {
          "annotationdefaults": {
           "arrowcolor": "#2a3f5f",
           "arrowhead": 0,
           "arrowwidth": 1
          },
          "autotypenumbers": "strict",
          "coloraxis": {
           "colorbar": {
            "outlinewidth": 0,
            "ticks": ""
           }
          },
          "colorscale": {
           "diverging": [
            [
             0,
             "#8e0152"
            ],
            [
             0.1,
             "#c51b7d"
            ],
            [
             0.2,
             "#de77ae"
            ],
            [
             0.3,
             "#f1b6da"
            ],
            [
             0.4,
             "#fde0ef"
            ],
            [
             0.5,
             "#f7f7f7"
            ],
            [
             0.6,
             "#e6f5d0"
            ],
            [
             0.7,
             "#b8e186"
            ],
            [
             0.8,
             "#7fbc41"
            ],
            [
             0.9,
             "#4d9221"
            ],
            [
             1,
             "#276419"
            ]
           ],
           "sequential": [
            [
             0,
             "#0d0887"
            ],
            [
             0.1111111111111111,
             "#46039f"
            ],
            [
             0.2222222222222222,
             "#7201a8"
            ],
            [
             0.3333333333333333,
             "#9c179e"
            ],
            [
             0.4444444444444444,
             "#bd3786"
            ],
            [
             0.5555555555555556,
             "#d8576b"
            ],
            [
             0.6666666666666666,
             "#ed7953"
            ],
            [
             0.7777777777777778,
             "#fb9f3a"
            ],
            [
             0.8888888888888888,
             "#fdca26"
            ],
            [
             1,
             "#f0f921"
            ]
           ],
           "sequentialminus": [
            [
             0,
             "#0d0887"
            ],
            [
             0.1111111111111111,
             "#46039f"
            ],
            [
             0.2222222222222222,
             "#7201a8"
            ],
            [
             0.3333333333333333,
             "#9c179e"
            ],
            [
             0.4444444444444444,
             "#bd3786"
            ],
            [
             0.5555555555555556,
             "#d8576b"
            ],
            [
             0.6666666666666666,
             "#ed7953"
            ],
            [
             0.7777777777777778,
             "#fb9f3a"
            ],
            [
             0.8888888888888888,
             "#fdca26"
            ],
            [
             1,
             "#f0f921"
            ]
           ]
          },
          "colorway": [
           "#636efa",
           "#EF553B",
           "#00cc96",
           "#ab63fa",
           "#FFA15A",
           "#19d3f3",
           "#FF6692",
           "#B6E880",
           "#FF97FF",
           "#FECB52"
          ],
          "font": {
           "color": "#2a3f5f"
          },
          "geo": {
           "bgcolor": "white",
           "lakecolor": "white",
           "landcolor": "#E5ECF6",
           "showlakes": true,
           "showland": true,
           "subunitcolor": "white"
          },
          "hoverlabel": {
           "align": "left"
          },
          "hovermode": "closest",
          "mapbox": {
           "style": "light"
          },
          "paper_bgcolor": "white",
          "plot_bgcolor": "#E5ECF6",
          "polar": {
           "angularaxis": {
            "gridcolor": "white",
            "linecolor": "white",
            "ticks": ""
           },
           "bgcolor": "#E5ECF6",
           "radialaxis": {
            "gridcolor": "white",
            "linecolor": "white",
            "ticks": ""
           }
          },
          "scene": {
           "xaxis": {
            "backgroundcolor": "#E5ECF6",
            "gridcolor": "white",
            "gridwidth": 2,
            "linecolor": "white",
            "showbackground": true,
            "ticks": "",
            "zerolinecolor": "white"
           },
           "yaxis": {
            "backgroundcolor": "#E5ECF6",
            "gridcolor": "white",
            "gridwidth": 2,
            "linecolor": "white",
            "showbackground": true,
            "ticks": "",
            "zerolinecolor": "white"
           },
           "zaxis": {
            "backgroundcolor": "#E5ECF6",
            "gridcolor": "white",
            "gridwidth": 2,
            "linecolor": "white",
            "showbackground": true,
            "ticks": "",
            "zerolinecolor": "white"
           }
          },
          "shapedefaults": {
           "line": {
            "color": "#2a3f5f"
           }
          },
          "ternary": {
           "aaxis": {
            "gridcolor": "white",
            "linecolor": "white",
            "ticks": ""
           },
           "baxis": {
            "gridcolor": "white",
            "linecolor": "white",
            "ticks": ""
           },
           "bgcolor": "#E5ECF6",
           "caxis": {
            "gridcolor": "white",
            "linecolor": "white",
            "ticks": ""
           }
          },
          "title": {
           "x": 0.05
          },
          "xaxis": {
           "automargin": true,
           "gridcolor": "white",
           "linecolor": "white",
           "ticks": "",
           "title": {
            "standoff": 15
           },
           "zerolinecolor": "white",
           "zerolinewidth": 2
          },
          "yaxis": {
           "automargin": true,
           "gridcolor": "white",
           "linecolor": "white",
           "ticks": "",
           "title": {
            "standoff": 15
           },
           "zerolinecolor": "white",
           "zerolinewidth": 2
          }
         }
        },
        "xaxis": {
         "anchor": "y",
         "domain": [
          0,
          0.7363
         ],
         "title": {
          "text": "TANGGALBAYAR"
         }
        },
        "xaxis2": {
         "anchor": "y2",
         "domain": [
          0.7413,
          1
         ],
         "matches": "x2",
         "showgrid": false,
         "showline": false,
         "showticklabels": false,
         "ticks": ""
        },
        "xaxis3": {
         "anchor": "y3",
         "domain": [
          0,
          0.7363
         ],
         "matches": "x",
         "showgrid": true,
         "showticklabels": false
        },
        "xaxis4": {
         "anchor": "y4",
         "domain": [
          0.7413,
          1
         ],
         "matches": "x2",
         "showgrid": false,
         "showline": false,
         "showticklabels": false,
         "ticks": ""
        },
        "yaxis": {
         "anchor": "x",
         "domain": [
          0,
          0.7326
         ],
         "title": {
          "text": "NOMINAL"
         }
        },
        "yaxis2": {
         "anchor": "x2",
         "domain": [
          0,
          0.7326
         ],
         "matches": "y",
         "showgrid": true,
         "showticklabels": false
        },
        "yaxis3": {
         "anchor": "x3",
         "domain": [
          0.7426,
          1
         ],
         "matches": "y3",
         "showgrid": true,
         "showline": false,
         "showticklabels": false,
         "ticks": ""
        },
        "yaxis4": {
         "anchor": "x4",
         "domain": [
          0.7426,
          1
         ],
         "matches": "y3",
         "showgrid": true,
         "showline": false,
         "showticklabels": false,
         "ticks": ""
        }
       }
      }
     },
     "metadata": {},
     "output_type": "display_data"
    }
   ],
   "source": [
    "px.scatter(df\n",
    "    .query(\"TAHUNBAYAR == 2023 & KET not in ('SPMKP')\")\n",
    "    .groupby(['TANGGALBAYAR','MAP'], as_index=False)['NOMINAL']\n",
    "    .sum(),\n",
    "    x='TANGGALBAYAR',\n",
    "    y='NOMINAL',\n",
    "    color='MAP',\n",
    "    trendline='ols',\n",
    "    trendline_scope='overall',\n",
    "    marginal_x='histogram',\n",
    "    marginal_y='violin'\n",
    ")"
   ]
  },
  {
   "attachments": {},
   "cell_type": "markdown",
   "metadata": {},
   "source": [
    "### Line Chart\n",
    "### Penerimaan by Time"
   ]
  },
  {
   "cell_type": "code",
   "execution_count": 9,
   "metadata": {},
   "outputs": [],
   "source": [
    "df['DATEBAYAR'] = (pd.to_datetime(df['DATEBAYAR'])\n",
    "                   .dt.date)"
   ]
  },
  {
   "cell_type": "code",
   "execution_count": 10,
   "metadata": {},
   "outputs": [
    {
     "data": {
      "application/vnd.plotly.v1+json": {
       "config": {
        "plotlyServerURL": "https://plot.ly"
       },
       "data": [
        {
         "hovertemplate": "=%{y}<extra></extra>",
         "legendgroup": "",
         "line": {
          "color": "#018da2",
          "dash": "solid"
         },
         "marker": {
          "symbol": "circle"
         },
         "mode": "lines",
         "name": "",
         "orientation": "v",
         "showlegend": false,
         "type": "scatter",
         "x": [
          "2022-12-31",
          "2022-12-31",
          "2023-01-01",
          "2023-01-01",
          "2023-01-01",
          "2023-01-01",
          "2023-01-02",
          "2023-01-02",
          "2023-01-02",
          "2023-01-02",
          "2023-01-03",
          "2023-01-03",
          "2023-01-03",
          "2023-01-03",
          "2023-01-04",
          "2023-01-04",
          "2023-01-04",
          "2023-01-04",
          "2023-01-05",
          "2023-01-05",
          "2023-01-05",
          "2023-01-05",
          "2023-01-06",
          "2023-01-07",
          "2023-01-08",
          "2023-01-08",
          "2023-01-08",
          "2023-01-08",
          "2023-01-09",
          "2023-01-09",
          "2023-01-09",
          "2023-01-09",
          "2023-01-10",
          "2023-01-10",
          "2023-01-10",
          "2023-01-10",
          "2023-01-11",
          "2023-01-11",
          "2023-01-11",
          "2023-01-11",
          "2023-01-12",
          "2023-01-12",
          "2023-01-12",
          "2023-01-12",
          "2023-01-13",
          "2023-01-14",
          "2023-01-15",
          "2023-01-15",
          "2023-01-15",
          "2023-01-15",
          "2023-01-16",
          "2023-01-16",
          "2023-01-16",
          "2023-01-16",
          "2023-01-17",
          "2023-01-17",
          "2023-01-17",
          "2023-01-17",
          "2023-01-18",
          "2023-01-18",
          "2023-01-18",
          "2023-01-18",
          "2023-01-19",
          "2023-01-19",
          "2023-01-19",
          "2023-01-19",
          "2023-01-20",
          "2023-01-21",
          "2023-01-22",
          "2023-01-23",
          "2023-01-23",
          "2023-01-23",
          "2023-01-23",
          "2023-01-24",
          "2023-01-24",
          "2023-01-24",
          "2023-01-24",
          "2023-01-25",
          "2023-01-25",
          "2023-01-25",
          "2023-01-25",
          "2023-01-26",
          "2023-01-26",
          "2023-01-26",
          "2023-01-26",
          "2023-01-27",
          "2023-01-28",
          "2023-01-29",
          "2023-01-29",
          "2023-01-29",
          "2023-01-29",
          "2023-01-30",
          "2023-01-30",
          "2023-01-30",
          "2023-01-30",
          "2023-01-31",
          "2023-01-31",
          "2023-01-31",
          "2023-01-31",
          "2023-02-01",
          "2023-02-01",
          "2023-02-01",
          "2023-02-01",
          "2023-02-02",
          "2023-02-02",
          "2023-02-02",
          "2023-02-02",
          "2023-02-03",
          "2023-02-04",
          "2023-02-05",
          "2023-02-05",
          "2023-02-05",
          "2023-02-05",
          "2023-02-06",
          "2023-02-06",
          "2023-02-06",
          "2023-02-06",
          "2023-02-07",
          "2023-02-07",
          "2023-02-07",
          "2023-02-07",
          "2023-02-08",
          "2023-02-08",
          "2023-02-08",
          "2023-02-08",
          "2023-02-09",
          "2023-02-09",
          "2023-02-09",
          "2023-02-09",
          "2023-02-10",
          "2023-02-11",
          "2023-02-12",
          "2023-02-12",
          "2023-02-12",
          "2023-02-12",
          "2023-02-13",
          "2023-02-13",
          "2023-02-13",
          "2023-02-13",
          "2023-02-14",
          "2023-02-14",
          "2023-02-14",
          "2023-02-14",
          "2023-02-15",
          "2023-02-15",
          "2023-02-15",
          "2023-02-15",
          "2023-02-16",
          "2023-02-16",
          "2023-02-16",
          "2023-02-16",
          "2023-02-17",
          "2023-02-18",
          "2023-02-19",
          "2023-02-19",
          "2023-02-19",
          "2023-02-19",
          "2023-02-20",
          "2023-02-20",
          "2023-02-20",
          "2023-02-20",
          "2023-02-21",
          "2023-02-21",
          "2023-02-21",
          "2023-02-21",
          "2023-02-22",
          "2023-02-22",
          "2023-02-22",
          "2023-02-22",
          "2023-02-23",
          "2023-02-23",
          "2023-02-23",
          "2023-02-23",
          "2023-02-24",
          "2023-02-25",
          "2023-02-26",
          "2023-02-26",
          "2023-02-26",
          "2023-02-26",
          "2023-02-27",
          "2023-02-27",
          "2023-02-27",
          "2023-02-27",
          "2023-02-28",
          "2023-02-28",
          "2023-02-28",
          "2023-02-28",
          "2023-03-01",
          "2023-03-01",
          "2023-03-01",
          "2023-03-01",
          "2023-03-02",
          "2023-03-02",
          "2023-03-02",
          "2023-03-02",
          "2023-03-03",
          "2023-03-04",
          "2023-03-05",
          "2023-03-05",
          "2023-03-05",
          "2023-03-05",
          "2023-03-06",
          "2023-03-06",
          "2023-03-06",
          "2023-03-06",
          "2023-03-07",
          "2023-03-07",
          "2023-03-07",
          "2023-03-07",
          "2023-03-08",
          "2023-03-08",
          "2023-03-08",
          "2023-03-08",
          "2023-03-09",
          "2023-03-09",
          "2023-03-09",
          "2023-03-09",
          "2023-03-10",
          "2023-03-11",
          "2023-03-12",
          "2023-03-12",
          "2023-03-12",
          "2023-03-12",
          "2023-03-13",
          "2023-03-13",
          "2023-03-13",
          "2023-03-13",
          "2023-03-14",
          "2023-03-14",
          "2023-03-14",
          "2023-03-14",
          "2023-03-15",
          "2023-03-15",
          "2023-03-15",
          "2023-03-15",
          "2023-03-16",
          "2023-03-16",
          "2023-03-16",
          "2023-03-16",
          "2023-03-17",
          "2023-03-18",
          "2023-03-19",
          "2023-03-19",
          "2023-03-19",
          "2023-03-19",
          "2023-03-20",
          "2023-03-20",
          "2023-03-20",
          "2023-03-20",
          "2023-03-21",
          "2023-03-22",
          "2023-03-23",
          "2023-03-23",
          "2023-03-23",
          "2023-03-23",
          "2023-03-24",
          "2023-03-25",
          "2023-03-26",
          "2023-03-26",
          "2023-03-26",
          "2023-03-26",
          "2023-03-27",
          "2023-03-27",
          "2023-03-27",
          "2023-03-27",
          "2023-03-28",
          "2023-03-28",
          "2023-03-28",
          "2023-03-28",
          "2023-03-29",
          "2023-03-29",
          "2023-03-29",
          "2023-03-29",
          "2023-03-30",
          "2023-03-30",
          "2023-03-30",
          "2023-03-30"
         ],
         "xaxis": "x",
         "y": [
          656101734,
          795896180,
          50987089392,
          -338196171,
          250586014,
          488341,
          26067467584,
          -1003198858,
          988145726,
          9685503,
          29085470522,
          -88413247,
          334182243,
          102374537,
          67273326909,
          -602007568,
          2409499159,
          82464550,
          92790274047,
          -239739270,
          93901521,
          42476426,
          5599650279,
          643338110,
          345004426213,
          -447370330,
          376918580,
          148695060,
          486463573977.08,
          -105210957,
          102363772,
          417554088,
          45004258796,
          -1474981767,
          154835015,
          1472387853,
          42173147433,
          -208621209,
          208621209,
          582796218,
          178822423613,
          -377334785,
          375140247,
          274188599,
          5822037057,
          1269108480,
          171875518270,
          -972920955,
          163486838,
          609812540,
          34326446712,
          -349584380,
          267822032,
          239859394,
          52036431915,
          -198868485,
          168945426,
          687102481,
          28903835976,
          -590835186,
          779050737,
          495256852,
          48772505310,
          -81299660,
          95676618,
          9417539774,
          2239447104,
          686823882,
          3266253363,
          71740024006,
          -167642909,
          236710713,
          38699501043,
          89633248193,
          -361247251,
          72781483,
          2472869860,
          76236410232,
          -116389991,
          106031996,
          2755385209,
          167569553207,
          -178605385,
          167129209,
          521859619,
          7032687744,
          1396231025,
          203641436151,
          -966836222,
          551844801,
          1384371557,
          222543991918,
          -3663668778,
          3659804383,
          557594324,
          28849663941,
          -205928544,
          156111272,
          3023313966,
          86883271656,
          -266786167,
          107015484,
          5510756862,
          33635211609,
          -159940596,
          96105272,
          877368533,
          1757069107,
          505603558,
          52853755674,
          -321979174,
          628763127,
          6684515592,
          61825664919,
          -170181787,
          153376579,
          5037243495,
          90300419329,
          -374463084,
          501325540,
          2963986025,
          267604946839,
          -255300876,
          241526525,
          1565681971,
          283243149511,
          -352527801,
          322333608,
          4354501262,
          822099466,
          1271431783,
          32301482028.8,
          -945811528,
          816882358,
          3351156413,
          132696016303,
          -126951020,
          183464723,
          2623061502,
          258738414691,
          -695158798,
          754499098,
          1895723700,
          53424167880,
          -346440837,
          357317319,
          4734869626,
          62939746780,
          -434585875,
          439690455,
          4285372847,
          1364788621,
          569242628,
          33880465924,
          -2705906256,
          2361317087,
          11046088706,
          43615409880,
          -927432557,
          937879606,
          3279921971,
          88007656114,
          -84006981,
          85426402,
          9468919424.000002,
          83343326586,
          -281119015,
          301786016,
          1124416316,
          103719208181,
          -307259583,
          232157812,
          4907242028,
          6295918456,
          1530076827,
          231041467960,
          -98461186,
          85814377,
          10690769861,
          250045988437,
          -1462929690,
          1078025981,
          9586008124,
          34547463660,
          -355405967,
          516711986,
          6463866483,
          36255737415,
          -1250434371,
          1662444447,
          14400500566,
          41293503521,
          -1281687208,
          1522850811,
          3268296936,
          3356619136,
          1532047044,
          59186682027,
          -767149118,
          204599721,
          3275209473,
          66787345699,
          -580162458,
          571783230,
          49602575966,
          85700737188,
          -84287478,
          62833517,
          2624385787,
          152235979393,
          -11904829,
          28473663,
          3120653054,
          362023806440.96,
          -431171291,
          407797784,
          3119486655,
          4109040533,
          907299909,
          38790950371,
          -25079715,
          40570680,
          3862958662,
          155844728912,
          -52326503,
          59120712,
          6077050989,
          232284178087,
          -140710915,
          244020450,
          19507484978,
          36526758032,
          -722139822,
          688938799,
          7420385601,
          73610427650,
          -857583788,
          983755593,
          6527447281,
          4246716660,
          2464875247,
          77990350761,
          -902730797,
          1008821566,
          3278395123,
          99058976490,
          -1741104458,
          1707072091,
          13359480733,
          4121060315,
          18254844989,
          157645222136,
          -448470557,
          455944707,
          7725132794,
          7432399104,
          4821673890,
          156493607887,
          -343620449,
          359481927,
          1447217516,
          195464435692,
          -773082238,
          978888940,
          8805807521,
          156552134556,
          -708326489,
          714660076,
          4620706712,
          203100694353,
          -289208236,
          275802470,
          4944400764,
          185879906416,
          -507323303,
          410323475,
          4295410772
         ],
         "yaxis": "y"
        }
       ],
       "layout": {
        "font": {
         "color": "#018da2"
        },
        "legend": {
         "tracegroupgap": 0
        },
        "margin": {
         "l": 10,
         "pad": 10,
         "r": 10,
         "t": 10
        },
        "plot_bgcolor": "white",
        "template": {
         "data": {
          "bar": [
           {
            "error_x": {
             "color": "#2a3f5f"
            },
            "error_y": {
             "color": "#2a3f5f"
            },
            "marker": {
             "line": {
              "color": "#E5ECF6",
              "width": 0.5
             },
             "pattern": {
              "fillmode": "overlay",
              "size": 10,
              "solidity": 0.2
             }
            },
            "type": "bar"
           }
          ],
          "barpolar": [
           {
            "marker": {
             "line": {
              "color": "#E5ECF6",
              "width": 0.5
             },
             "pattern": {
              "fillmode": "overlay",
              "size": 10,
              "solidity": 0.2
             }
            },
            "type": "barpolar"
           }
          ],
          "carpet": [
           {
            "aaxis": {
             "endlinecolor": "#2a3f5f",
             "gridcolor": "white",
             "linecolor": "white",
             "minorgridcolor": "white",
             "startlinecolor": "#2a3f5f"
            },
            "baxis": {
             "endlinecolor": "#2a3f5f",
             "gridcolor": "white",
             "linecolor": "white",
             "minorgridcolor": "white",
             "startlinecolor": "#2a3f5f"
            },
            "type": "carpet"
           }
          ],
          "choropleth": [
           {
            "colorbar": {
             "outlinewidth": 0,
             "ticks": ""
            },
            "type": "choropleth"
           }
          ],
          "contour": [
           {
            "colorbar": {
             "outlinewidth": 0,
             "ticks": ""
            },
            "colorscale": [
             [
              0,
              "#0d0887"
             ],
             [
              0.1111111111111111,
              "#46039f"
             ],
             [
              0.2222222222222222,
              "#7201a8"
             ],
             [
              0.3333333333333333,
              "#9c179e"
             ],
             [
              0.4444444444444444,
              "#bd3786"
             ],
             [
              0.5555555555555556,
              "#d8576b"
             ],
             [
              0.6666666666666666,
              "#ed7953"
             ],
             [
              0.7777777777777778,
              "#fb9f3a"
             ],
             [
              0.8888888888888888,
              "#fdca26"
             ],
             [
              1,
              "#f0f921"
             ]
            ],
            "type": "contour"
           }
          ],
          "contourcarpet": [
           {
            "colorbar": {
             "outlinewidth": 0,
             "ticks": ""
            },
            "type": "contourcarpet"
           }
          ],
          "heatmap": [
           {
            "colorbar": {
             "outlinewidth": 0,
             "ticks": ""
            },
            "colorscale": [
             [
              0,
              "#0d0887"
             ],
             [
              0.1111111111111111,
              "#46039f"
             ],
             [
              0.2222222222222222,
              "#7201a8"
             ],
             [
              0.3333333333333333,
              "#9c179e"
             ],
             [
              0.4444444444444444,
              "#bd3786"
             ],
             [
              0.5555555555555556,
              "#d8576b"
             ],
             [
              0.6666666666666666,
              "#ed7953"
             ],
             [
              0.7777777777777778,
              "#fb9f3a"
             ],
             [
              0.8888888888888888,
              "#fdca26"
             ],
             [
              1,
              "#f0f921"
             ]
            ],
            "type": "heatmap"
           }
          ],
          "heatmapgl": [
           {
            "colorbar": {
             "outlinewidth": 0,
             "ticks": ""
            },
            "colorscale": [
             [
              0,
              "#0d0887"
             ],
             [
              0.1111111111111111,
              "#46039f"
             ],
             [
              0.2222222222222222,
              "#7201a8"
             ],
             [
              0.3333333333333333,
              "#9c179e"
             ],
             [
              0.4444444444444444,
              "#bd3786"
             ],
             [
              0.5555555555555556,
              "#d8576b"
             ],
             [
              0.6666666666666666,
              "#ed7953"
             ],
             [
              0.7777777777777778,
              "#fb9f3a"
             ],
             [
              0.8888888888888888,
              "#fdca26"
             ],
             [
              1,
              "#f0f921"
             ]
            ],
            "type": "heatmapgl"
           }
          ],
          "histogram": [
           {
            "marker": {
             "pattern": {
              "fillmode": "overlay",
              "size": 10,
              "solidity": 0.2
             }
            },
            "type": "histogram"
           }
          ],
          "histogram2d": [
           {
            "colorbar": {
             "outlinewidth": 0,
             "ticks": ""
            },
            "colorscale": [
             [
              0,
              "#0d0887"
             ],
             [
              0.1111111111111111,
              "#46039f"
             ],
             [
              0.2222222222222222,
              "#7201a8"
             ],
             [
              0.3333333333333333,
              "#9c179e"
             ],
             [
              0.4444444444444444,
              "#bd3786"
             ],
             [
              0.5555555555555556,
              "#d8576b"
             ],
             [
              0.6666666666666666,
              "#ed7953"
             ],
             [
              0.7777777777777778,
              "#fb9f3a"
             ],
             [
              0.8888888888888888,
              "#fdca26"
             ],
             [
              1,
              "#f0f921"
             ]
            ],
            "type": "histogram2d"
           }
          ],
          "histogram2dcontour": [
           {
            "colorbar": {
             "outlinewidth": 0,
             "ticks": ""
            },
            "colorscale": [
             [
              0,
              "#0d0887"
             ],
             [
              0.1111111111111111,
              "#46039f"
             ],
             [
              0.2222222222222222,
              "#7201a8"
             ],
             [
              0.3333333333333333,
              "#9c179e"
             ],
             [
              0.4444444444444444,
              "#bd3786"
             ],
             [
              0.5555555555555556,
              "#d8576b"
             ],
             [
              0.6666666666666666,
              "#ed7953"
             ],
             [
              0.7777777777777778,
              "#fb9f3a"
             ],
             [
              0.8888888888888888,
              "#fdca26"
             ],
             [
              1,
              "#f0f921"
             ]
            ],
            "type": "histogram2dcontour"
           }
          ],
          "mesh3d": [
           {
            "colorbar": {
             "outlinewidth": 0,
             "ticks": ""
            },
            "type": "mesh3d"
           }
          ],
          "parcoords": [
           {
            "line": {
             "colorbar": {
              "outlinewidth": 0,
              "ticks": ""
             }
            },
            "type": "parcoords"
           }
          ],
          "pie": [
           {
            "automargin": true,
            "type": "pie"
           }
          ],
          "scatter": [
           {
            "fillpattern": {
             "fillmode": "overlay",
             "size": 10,
             "solidity": 0.2
            },
            "type": "scatter"
           }
          ],
          "scatter3d": [
           {
            "line": {
             "colorbar": {
              "outlinewidth": 0,
              "ticks": ""
             }
            },
            "marker": {
             "colorbar": {
              "outlinewidth": 0,
              "ticks": ""
             }
            },
            "type": "scatter3d"
           }
          ],
          "scattercarpet": [
           {
            "marker": {
             "colorbar": {
              "outlinewidth": 0,
              "ticks": ""
             }
            },
            "type": "scattercarpet"
           }
          ],
          "scattergeo": [
           {
            "marker": {
             "colorbar": {
              "outlinewidth": 0,
              "ticks": ""
             }
            },
            "type": "scattergeo"
           }
          ],
          "scattergl": [
           {
            "marker": {
             "colorbar": {
              "outlinewidth": 0,
              "ticks": ""
             }
            },
            "type": "scattergl"
           }
          ],
          "scattermapbox": [
           {
            "marker": {
             "colorbar": {
              "outlinewidth": 0,
              "ticks": ""
             }
            },
            "type": "scattermapbox"
           }
          ],
          "scatterpolar": [
           {
            "marker": {
             "colorbar": {
              "outlinewidth": 0,
              "ticks": ""
             }
            },
            "type": "scatterpolar"
           }
          ],
          "scatterpolargl": [
           {
            "marker": {
             "colorbar": {
              "outlinewidth": 0,
              "ticks": ""
             }
            },
            "type": "scatterpolargl"
           }
          ],
          "scatterternary": [
           {
            "marker": {
             "colorbar": {
              "outlinewidth": 0,
              "ticks": ""
             }
            },
            "type": "scatterternary"
           }
          ],
          "surface": [
           {
            "colorbar": {
             "outlinewidth": 0,
             "ticks": ""
            },
            "colorscale": [
             [
              0,
              "#0d0887"
             ],
             [
              0.1111111111111111,
              "#46039f"
             ],
             [
              0.2222222222222222,
              "#7201a8"
             ],
             [
              0.3333333333333333,
              "#9c179e"
             ],
             [
              0.4444444444444444,
              "#bd3786"
             ],
             [
              0.5555555555555556,
              "#d8576b"
             ],
             [
              0.6666666666666666,
              "#ed7953"
             ],
             [
              0.7777777777777778,
              "#fb9f3a"
             ],
             [
              0.8888888888888888,
              "#fdca26"
             ],
             [
              1,
              "#f0f921"
             ]
            ],
            "type": "surface"
           }
          ],
          "table": [
           {
            "cells": {
             "fill": {
              "color": "#EBF0F8"
             },
             "line": {
              "color": "white"
             }
            },
            "header": {
             "fill": {
              "color": "#C8D4E3"
             },
             "line": {
              "color": "white"
             }
            },
            "type": "table"
           }
          ]
         },
         "layout": {
          "annotationdefaults": {
           "arrowcolor": "#2a3f5f",
           "arrowhead": 0,
           "arrowwidth": 1
          },
          "autotypenumbers": "strict",
          "coloraxis": {
           "colorbar": {
            "outlinewidth": 0,
            "ticks": ""
           }
          },
          "colorscale": {
           "diverging": [
            [
             0,
             "#8e0152"
            ],
            [
             0.1,
             "#c51b7d"
            ],
            [
             0.2,
             "#de77ae"
            ],
            [
             0.3,
             "#f1b6da"
            ],
            [
             0.4,
             "#fde0ef"
            ],
            [
             0.5,
             "#f7f7f7"
            ],
            [
             0.6,
             "#e6f5d0"
            ],
            [
             0.7,
             "#b8e186"
            ],
            [
             0.8,
             "#7fbc41"
            ],
            [
             0.9,
             "#4d9221"
            ],
            [
             1,
             "#276419"
            ]
           ],
           "sequential": [
            [
             0,
             "#0d0887"
            ],
            [
             0.1111111111111111,
             "#46039f"
            ],
            [
             0.2222222222222222,
             "#7201a8"
            ],
            [
             0.3333333333333333,
             "#9c179e"
            ],
            [
             0.4444444444444444,
             "#bd3786"
            ],
            [
             0.5555555555555556,
             "#d8576b"
            ],
            [
             0.6666666666666666,
             "#ed7953"
            ],
            [
             0.7777777777777778,
             "#fb9f3a"
            ],
            [
             0.8888888888888888,
             "#fdca26"
            ],
            [
             1,
             "#f0f921"
            ]
           ],
           "sequentialminus": [
            [
             0,
             "#0d0887"
            ],
            [
             0.1111111111111111,
             "#46039f"
            ],
            [
             0.2222222222222222,
             "#7201a8"
            ],
            [
             0.3333333333333333,
             "#9c179e"
            ],
            [
             0.4444444444444444,
             "#bd3786"
            ],
            [
             0.5555555555555556,
             "#d8576b"
            ],
            [
             0.6666666666666666,
             "#ed7953"
            ],
            [
             0.7777777777777778,
             "#fb9f3a"
            ],
            [
             0.8888888888888888,
             "#fdca26"
            ],
            [
             1,
             "#f0f921"
            ]
           ]
          },
          "colorway": [
           "#636efa",
           "#EF553B",
           "#00cc96",
           "#ab63fa",
           "#FFA15A",
           "#19d3f3",
           "#FF6692",
           "#B6E880",
           "#FF97FF",
           "#FECB52"
          ],
          "font": {
           "color": "#2a3f5f"
          },
          "geo": {
           "bgcolor": "white",
           "lakecolor": "white",
           "landcolor": "#E5ECF6",
           "showlakes": true,
           "showland": true,
           "subunitcolor": "white"
          },
          "hoverlabel": {
           "align": "left"
          },
          "hovermode": "closest",
          "mapbox": {
           "style": "light"
          },
          "paper_bgcolor": "white",
          "plot_bgcolor": "#E5ECF6",
          "polar": {
           "angularaxis": {
            "gridcolor": "white",
            "linecolor": "white",
            "ticks": ""
           },
           "bgcolor": "#E5ECF6",
           "radialaxis": {
            "gridcolor": "white",
            "linecolor": "white",
            "ticks": ""
           }
          },
          "scene": {
           "xaxis": {
            "backgroundcolor": "#E5ECF6",
            "gridcolor": "white",
            "gridwidth": 2,
            "linecolor": "white",
            "showbackground": true,
            "ticks": "",
            "zerolinecolor": "white"
           },
           "yaxis": {
            "backgroundcolor": "#E5ECF6",
            "gridcolor": "white",
            "gridwidth": 2,
            "linecolor": "white",
            "showbackground": true,
            "ticks": "",
            "zerolinecolor": "white"
           },
           "zaxis": {
            "backgroundcolor": "#E5ECF6",
            "gridcolor": "white",
            "gridwidth": 2,
            "linecolor": "white",
            "showbackground": true,
            "ticks": "",
            "zerolinecolor": "white"
           }
          },
          "shapedefaults": {
           "line": {
            "color": "#2a3f5f"
           }
          },
          "ternary": {
           "aaxis": {
            "gridcolor": "white",
            "linecolor": "white",
            "ticks": ""
           },
           "baxis": {
            "gridcolor": "white",
            "linecolor": "white",
            "ticks": ""
           },
           "bgcolor": "#E5ECF6",
           "caxis": {
            "gridcolor": "white",
            "linecolor": "white",
            "ticks": ""
           }
          },
          "title": {
           "x": 0.05
          },
          "xaxis": {
           "automargin": true,
           "gridcolor": "white",
           "linecolor": "white",
           "ticks": "",
           "title": {
            "standoff": 15
           },
           "zerolinecolor": "white",
           "zerolinewidth": 2
          },
          "yaxis": {
           "automargin": true,
           "gridcolor": "white",
           "linecolor": "white",
           "ticks": "",
           "title": {
            "standoff": 15
           },
           "zerolinecolor": "white",
           "zerolinewidth": 2
          }
         }
        },
        "title": {
         "font": {
          "size": 24
         },
         "text": "Penerimaan Pajak Bruto 2023",
         "x": 0.5,
         "y": 0.9
        },
        "xaxis": {
         "anchor": "y",
         "domain": [
          0,
          1
         ],
         "title": {
          "text": ""
         }
        },
        "yaxis": {
         "anchor": "x",
         "domain": [
          0,
          1
         ],
         "range": [
          0,
          500000000000
         ],
         "title": {
          "text": ""
         },
         "visible": false
        }
       }
      }
     },
     "metadata": {},
     "output_type": "display_data"
    }
   ],
   "source": [
    "px.line(df[['DATEBAYAR','NOMINAL','KET']]\n",
    "        .query('KET != \"SPMKP\"')\n",
    "        .groupby(['DATEBAYAR','KET'],as_index=False).sum(),\n",
    "        x='DATEBAYAR',\n",
    "        y='NOMINAL',\n",
    "        # facet_row = 'KET',\n",
    "        hover_data = 'NOMINAL',\n",
    "        # animation_frame='KET',\n",
    "        range_y = [0, 500000000000],\n",
    "        labels = {'NOMINAL':'',\n",
    "                  'DATEBAYAR':''},\n",
    "        title = 'Penerimaan Pajak Bruto 2023'\n",
    "        ).update_layout(\n",
    "        title = dict(x=0.5, y=0.9,\n",
    "                     font=dict(size=24)),\n",
    "        yaxis_visible=False,\n",
    "        plot_bgcolor='white',\n",
    "        margin=dict(l=10, r=10, t=10, pad=10),\n",
    "        font=dict(color='#018da2')\n",
    "        ).update_traces(\n",
    "        line_color='#018da2'\n",
    "        )"
   ]
  },
  {
   "attachments": {},
   "cell_type": "markdown",
   "metadata": {},
   "source": [
    "# Multiple Series Line Chart"
   ]
  },
  {
   "cell_type": "code",
   "execution_count": 11,
   "metadata": {},
   "outputs": [],
   "source": [
    "monthly_dates = pd.date_range(start=df['DATEBAYAR'].min(), end=df['DATEBAYAR'].max(), freq='D') # Get the start of each month\n",
    "tick_dates = [date for date in monthly_dates if date.day in [10, 15, 30]] # Filter for the desired dates\n",
    "tick_text = [d.strftime('%d-%b-%Y') for d in tick_dates]"
   ]
  },
  {
   "cell_type": "code",
   "execution_count": 69,
   "metadata": {},
   "outputs": [
    {
     "data": {
      "application/vnd.plotly.v1+json": {
       "config": {
        "plotlyServerURL": "https://plot.ly"
       },
       "data": [
        {
         "hovertemplate": "MAP=Bea Meterai<br>=%{y}<extra></extra>",
         "legendgroup": "Bea Meterai",
         "line": {
          "color": "#636efa",
          "dash": "solid"
         },
         "marker": {
          "symbol": "circle"
         },
         "mode": "lines",
         "name": "Bea Meterai",
         "orientation": "v",
         "showlegend": true,
         "type": "scatter",
         "x": [
          "2023-01-01T00:00:00",
          "2023-01-02T00:00:00",
          "2023-01-03T00:00:00",
          "2023-01-04T00:00:00",
          "2023-01-08T00:00:00",
          "2023-01-09T00:00:00",
          "2023-01-11T00:00:00",
          "2023-01-15T00:00:00",
          "2023-01-24T00:00:00",
          "2023-01-31T00:00:00",
          "2023-02-05T00:00:00",
          "2023-02-07T00:00:00",
          "2023-02-09T00:00:00",
          "2023-02-13T00:00:00",
          "2023-02-14T00:00:00",
          "2023-02-15T00:00:00",
          "2023-02-23T00:00:00",
          "2023-02-27T00:00:00",
          "2023-03-07T00:00:00",
          "2023-03-09T00:00:00",
          "2023-03-13T00:00:00",
          "2023-03-23T00:00:00"
         ],
         "xaxis": "x",
         "y": [
          7000,
          350000,
          21000,
          30028000,
          4330000,
          653367000,
          7000,
          7000,
          15000000,
          15000000,
          14464000,
          4410000,
          572230000,
          180000000,
          35000,
          98000,
          7000,
          15476000,
          59350000,
          638980000,
          15000000,
          798060000
         ],
         "yaxis": "y"
        },
        {
         "hovertemplate": "MAP=PPN DN<br>=%{y}<extra></extra>",
         "legendgroup": "PPN DN",
         "line": {
          "color": "#EF553B",
          "dash": "solid"
         },
         "marker": {
          "symbol": "circle"
         },
         "mode": "lines",
         "name": "PPN DN",
         "orientation": "v",
         "showlegend": true,
         "type": "scatter",
         "x": [
          "2022-12-31T00:00:00",
          "2023-01-01T00:00:00",
          "2023-01-02T00:00:00",
          "2023-01-03T00:00:00",
          "2023-01-04T00:00:00",
          "2023-01-05T00:00:00",
          "2023-01-06T00:00:00",
          "2023-01-07T00:00:00",
          "2023-01-08T00:00:00",
          "2023-01-09T00:00:00",
          "2023-01-10T00:00:00",
          "2023-01-11T00:00:00",
          "2023-01-12T00:00:00",
          "2023-01-13T00:00:00",
          "2023-01-14T00:00:00",
          "2023-01-15T00:00:00",
          "2023-01-16T00:00:00",
          "2023-01-17T00:00:00",
          "2023-01-18T00:00:00",
          "2023-01-19T00:00:00",
          "2023-01-20T00:00:00",
          "2023-01-21T00:00:00",
          "2023-01-22T00:00:00",
          "2023-01-23T00:00:00",
          "2023-01-24T00:00:00",
          "2023-01-25T00:00:00",
          "2023-01-26T00:00:00",
          "2023-01-27T00:00:00",
          "2023-01-28T00:00:00",
          "2023-01-29T00:00:00",
          "2023-01-30T00:00:00",
          "2023-01-31T00:00:00",
          "2023-02-01T00:00:00",
          "2023-02-02T00:00:00",
          "2023-02-03T00:00:00",
          "2023-02-04T00:00:00",
          "2023-02-05T00:00:00",
          "2023-02-06T00:00:00",
          "2023-02-07T00:00:00",
          "2023-02-08T00:00:00",
          "2023-02-09T00:00:00",
          "2023-02-10T00:00:00",
          "2023-02-11T00:00:00",
          "2023-02-12T00:00:00",
          "2023-02-13T00:00:00",
          "2023-02-14T00:00:00",
          "2023-02-15T00:00:00",
          "2023-02-16T00:00:00",
          "2023-02-17T00:00:00",
          "2023-02-18T00:00:00",
          "2023-02-19T00:00:00",
          "2023-02-20T00:00:00",
          "2023-02-21T00:00:00",
          "2023-02-22T00:00:00",
          "2023-02-23T00:00:00",
          "2023-02-24T00:00:00",
          "2023-02-25T00:00:00",
          "2023-02-26T00:00:00",
          "2023-02-27T00:00:00",
          "2023-02-28T00:00:00",
          "2023-03-01T00:00:00",
          "2023-03-02T00:00:00",
          "2023-03-03T00:00:00",
          "2023-03-04T00:00:00",
          "2023-03-05T00:00:00",
          "2023-03-06T00:00:00",
          "2023-03-07T00:00:00",
          "2023-03-08T00:00:00",
          "2023-03-09T00:00:00",
          "2023-03-10T00:00:00",
          "2023-03-11T00:00:00",
          "2023-03-12T00:00:00",
          "2023-03-13T00:00:00",
          "2023-03-14T00:00:00",
          "2023-03-15T00:00:00",
          "2023-03-16T00:00:00",
          "2023-03-17T00:00:00",
          "2023-03-18T00:00:00",
          "2023-03-19T00:00:00",
          "2023-03-20T00:00:00",
          "2023-03-21T00:00:00",
          "2023-03-22T00:00:00",
          "2023-03-23T00:00:00",
          "2023-03-24T00:00:00",
          "2023-03-25T00:00:00",
          "2023-03-26T00:00:00",
          "2023-03-27T00:00:00",
          "2023-03-28T00:00:00",
          "2023-03-29T00:00:00",
          "2023-03-30T00:00:00"
         ],
         "xaxis": "x",
         "y": [
          573931269,
          30742154413,
          8163695732,
          8782789836,
          26347017815,
          28457978959,
          3001448244,
          178498168,
          25199545223,
          18074516836,
          17744423827,
          16606290836,
          74492289935,
          4337706252,
          923456894,
          54553640810,
          9913232992,
          12133975062,
          11543012944,
          20059331586,
          558685950,
          634662848,
          688181900,
          54787525222,
          63130259521,
          60275299310,
          124578208840,
          4645356508,
          1117494029,
          161497408778,
          199898632489,
          7383170951,
          8413734027,
          8325236137,
          370282111,
          234474598.00000003,
          9879550932,
          6246422621,
          12722001435,
          16111136890,
          15955868565,
          70524253,
          648845838,
          10222389207,
          29360608016,
          72658687129,
          21642192744,
          15637589071,
          568888480,
          68064825,
          25453575644,
          26457631291,
          33033144067,
          50516118501,
          64905059333,
          5481243192,
          592952524,
          159308478724,
          194781498867,
          15049193727,
          15663391938,
          9791522058,
          1385222082,
          639579156,
          8386911144,
          58677378449,
          14330682434,
          13605490486,
          20659377544,
          486824792,
          31301699,
          10800809746,
          29134484934,
          110675394706,
          13439762651,
          55168956697,
          1155555962,
          280921001,
          16471100585,
          32210388340,
          630862157,
          10726449473,
          105626243131,
          1620132960,
          596984114,
          73143726825,
          85447974384,
          82365918533,
          135303380544,
          78297846247
         ],
         "yaxis": "y"
        },
        {
         "hovertemplate": "MAP=PPN Impor<br>=%{y}<extra></extra>",
         "legendgroup": "PPN Impor",
         "line": {
          "color": "#00cc96",
          "dash": "solid"
         },
         "marker": {
          "symbol": "circle"
         },
         "mode": "lines",
         "name": "PPN Impor",
         "orientation": "v",
         "showlegend": true,
         "type": "scatter",
         "x": [
          "2023-01-01T00:00:00",
          "2023-01-02T00:00:00",
          "2023-01-03T00:00:00",
          "2023-01-04T00:00:00",
          "2023-01-05T00:00:00",
          "2023-01-06T00:00:00",
          "2023-01-07T00:00:00",
          "2023-01-08T00:00:00",
          "2023-01-09T00:00:00",
          "2023-01-10T00:00:00",
          "2023-01-11T00:00:00",
          "2023-01-12T00:00:00",
          "2023-01-13T00:00:00",
          "2023-01-14T00:00:00",
          "2023-01-15T00:00:00",
          "2023-01-16T00:00:00",
          "2023-01-17T00:00:00",
          "2023-01-18T00:00:00",
          "2023-01-19T00:00:00",
          "2023-01-20T00:00:00",
          "2023-01-21T00:00:00",
          "2023-01-22T00:00:00",
          "2023-01-23T00:00:00",
          "2023-01-24T00:00:00",
          "2023-01-25T00:00:00",
          "2023-01-26T00:00:00",
          "2023-01-27T00:00:00",
          "2023-01-28T00:00:00",
          "2023-01-29T00:00:00",
          "2023-01-30T00:00:00",
          "2023-01-31T00:00:00",
          "2023-02-01T00:00:00",
          "2023-02-02T00:00:00",
          "2023-02-03T00:00:00",
          "2023-02-05T00:00:00",
          "2023-02-06T00:00:00",
          "2023-02-07T00:00:00",
          "2023-02-08T00:00:00",
          "2023-02-09T00:00:00",
          "2023-02-10T00:00:00",
          "2023-02-12T00:00:00",
          "2023-02-13T00:00:00",
          "2023-02-14T00:00:00",
          "2023-02-15T00:00:00",
          "2023-02-16T00:00:00",
          "2023-02-17T00:00:00",
          "2023-02-18T00:00:00",
          "2023-02-19T00:00:00",
          "2023-02-20T00:00:00",
          "2023-02-21T00:00:00",
          "2023-02-22T00:00:00",
          "2023-02-23T00:00:00",
          "2023-02-24T00:00:00",
          "2023-02-25T00:00:00",
          "2023-02-26T00:00:00",
          "2023-02-27T00:00:00",
          "2023-02-28T00:00:00",
          "2023-03-01T00:00:00",
          "2023-03-02T00:00:00",
          "2023-03-03T00:00:00",
          "2023-03-04T00:00:00",
          "2023-03-05T00:00:00",
          "2023-03-06T00:00:00",
          "2023-03-07T00:00:00",
          "2023-03-08T00:00:00",
          "2023-03-09T00:00:00",
          "2023-03-10T00:00:00",
          "2023-03-11T00:00:00",
          "2023-03-12T00:00:00",
          "2023-03-13T00:00:00",
          "2023-03-14T00:00:00",
          "2023-03-15T00:00:00",
          "2023-03-16T00:00:00",
          "2023-03-17T00:00:00",
          "2023-03-18T00:00:00",
          "2023-03-19T00:00:00",
          "2023-03-20T00:00:00",
          "2023-03-21T00:00:00",
          "2023-03-22T00:00:00",
          "2023-03-23T00:00:00",
          "2023-03-24T00:00:00",
          "2023-03-25T00:00:00",
          "2023-03-26T00:00:00",
          "2023-03-27T00:00:00",
          "2023-03-28T00:00:00",
          "2023-03-29T00:00:00",
          "2023-03-30T00:00:00"
         ],
         "xaxis": "x",
         "y": [
          9389729000,
          10869518000,
          8626439000,
          17365221000,
          12071876000,
          592105000,
          38918000,
          15154773000,
          13791397000,
          10817435000,
          9278283000,
          12659408000,
          640801000,
          112000,
          14563674000,
          15200902000,
          15929085000,
          10675406000,
          14488318000,
          1154301000,
          22768000,
          1671506000,
          25488222000,
          12854823000,
          7581700000,
          25689996000,
          1756361000,
          165254000,
          21583288000,
          10078219000,
          9752247000,
          62083087000,
          10339032000,
          902020000,
          15245669000,
          26271552000,
          6873688000,
          31610904000.000004,
          11682072749,
          89325000,
          8949368000,
          7448566000,
          37051599102,
          18307995000,
          33849991000,
          190334000,
          136161000,
          8614459000,
          9051873000,
          42296917000,
          10166545973,
          27960650000,
          336607000,
          410562000,
          38136161000,
          38276932979,
          10614443000,
          8790061000,
          12417056000,
          1131688000,
          425042000,
          19287827000,
          12249646000,
          10138637000,
          10687093000,
          29472146000,
          1028306000,
          116295000,
          14250452000,
          14584604000,
          14899977811,
          9559786000,
          5595739000,
          957558000,
          283549000,
          23742528000,
          45582191000,
          161753000,
          3026002000,
          18863743000,
          1327271000,
          44994000,
          26184436000,
          55111901710,
          30661905000,
          16198913000,
          56336170000
         ],
         "yaxis": "y"
        },
        {
         "hovertemplate": "MAP=PPN Lainnya<br>=%{y}<extra></extra>",
         "legendgroup": "PPN Lainnya",
         "line": {
          "color": "#ab63fa",
          "dash": "solid"
         },
         "marker": {
          "symbol": "circle"
         },
         "mode": "lines",
         "name": "PPN Lainnya",
         "orientation": "v",
         "showlegend": true,
         "type": "scatter",
         "x": [
          "2023-01-02T00:00:00",
          "2023-01-05T00:00:00",
          "2023-01-12T00:00:00",
          "2023-02-07T00:00:00",
          "2023-02-12T00:00:00",
          "2023-02-23T00:00:00",
          "2023-02-25T00:00:00",
          "2023-02-26T00:00:00",
          "2023-03-09T00:00:00",
          "2023-03-12T00:00:00",
          "2023-03-16T00:00:00",
          "2023-03-27T00:00:00"
         ],
         "xaxis": "x",
         "y": [
          267568,
          4241600,
          155442824,
          0,
          2189916,
          31993681.000000004,
          874500,
          825000,
          594594,
          3522160,
          0,
          25300000.000000004
         ],
         "yaxis": "y"
        },
        {
         "hovertemplate": "MAP=PPh 21<br>=%{y}<extra></extra>",
         "legendgroup": "PPh 21",
         "line": {
          "color": "#FFA15A",
          "dash": "solid"
         },
         "marker": {
          "symbol": "circle"
         },
         "mode": "lines",
         "name": "PPh 21",
         "orientation": "v",
         "showlegend": true,
         "type": "scatter",
         "x": [
          "2022-12-31T00:00:00",
          "2023-01-01T00:00:00",
          "2023-01-02T00:00:00",
          "2023-01-03T00:00:00",
          "2023-01-04T00:00:00",
          "2023-01-05T00:00:00",
          "2023-01-06T00:00:00",
          "2023-01-07T00:00:00",
          "2023-01-08T00:00:00",
          "2023-01-09T00:00:00",
          "2023-01-10T00:00:00",
          "2023-01-11T00:00:00",
          "2023-01-12T00:00:00",
          "2023-01-13T00:00:00",
          "2023-01-14T00:00:00",
          "2023-01-15T00:00:00",
          "2023-01-16T00:00:00",
          "2023-01-17T00:00:00",
          "2023-01-18T00:00:00",
          "2023-01-19T00:00:00",
          "2023-01-20T00:00:00",
          "2023-01-21T00:00:00",
          "2023-01-22T00:00:00",
          "2023-01-23T00:00:00",
          "2023-01-24T00:00:00",
          "2023-01-25T00:00:00",
          "2023-01-26T00:00:00",
          "2023-01-27T00:00:00",
          "2023-01-28T00:00:00",
          "2023-01-29T00:00:00",
          "2023-01-30T00:00:00",
          "2023-01-31T00:00:00",
          "2023-02-01T00:00:00",
          "2023-02-02T00:00:00",
          "2023-02-03T00:00:00",
          "2023-02-04T00:00:00",
          "2023-02-05T00:00:00",
          "2023-02-06T00:00:00",
          "2023-02-07T00:00:00",
          "2023-02-08T00:00:00",
          "2023-02-09T00:00:00",
          "2023-02-10T00:00:00",
          "2023-02-11T00:00:00",
          "2023-02-12T00:00:00",
          "2023-02-13T00:00:00",
          "2023-02-14T00:00:00",
          "2023-02-15T00:00:00",
          "2023-02-16T00:00:00",
          "2023-02-17T00:00:00",
          "2023-02-18T00:00:00",
          "2023-02-19T00:00:00",
          "2023-02-20T00:00:00",
          "2023-02-21T00:00:00",
          "2023-02-22T00:00:00",
          "2023-02-23T00:00:00",
          "2023-02-24T00:00:00",
          "2023-02-25T00:00:00",
          "2023-02-26T00:00:00",
          "2023-02-27T00:00:00",
          "2023-02-28T00:00:00",
          "2023-03-01T00:00:00",
          "2023-03-02T00:00:00",
          "2023-03-03T00:00:00",
          "2023-03-04T00:00:00",
          "2023-03-05T00:00:00",
          "2023-03-06T00:00:00",
          "2023-03-07T00:00:00",
          "2023-03-08T00:00:00",
          "2023-03-09T00:00:00",
          "2023-03-10T00:00:00",
          "2023-03-11T00:00:00",
          "2023-03-12T00:00:00",
          "2023-03-13T00:00:00",
          "2023-03-14T00:00:00",
          "2023-03-15T00:00:00",
          "2023-03-16T00:00:00",
          "2023-03-17T00:00:00",
          "2023-03-18T00:00:00",
          "2023-03-19T00:00:00",
          "2023-03-20T00:00:00",
          "2023-03-21T00:00:00",
          "2023-03-22T00:00:00",
          "2023-03-23T00:00:00",
          "2023-03-24T00:00:00",
          "2023-03-25T00:00:00",
          "2023-03-26T00:00:00",
          "2023-03-27T00:00:00",
          "2023-03-28T00:00:00",
          "2023-03-29T00:00:00",
          "2023-03-30T00:00:00"
         ],
         "xaxis": "x",
         "y": [
          805611657,
          4031885684,
          688171370,
          2646100031,
          6761821785,
          13469979136,
          760300417,
          162347279,
          68572685909,
          190292702753,
          3708714648,
          2424965643,
          1047538063,
          72012601,
          34109413,
          1821649404,
          506653753,
          1156181078,
          1546375893,
          8010733116,
          65597837,
          1690300,
          31500658,
          692913050,
          3611659962,
          3655032067,
          1890582133,
          22616922,
          37500,
          3885975095,
          3525870061,
          6025208409,
          3276151094,
          2976012570,
          47476255,
          19254738,
          6250703650,
          9553529071,
          15951229675,
          38876354257,
          103511708038,
          262995010,
          226293638,
          2817534045,
          1242927544,
          1513595477,
          3065191643,
          1547812007,
          20048526,
          1206769,
          1845561196,
          586169504,
          7203044780,
          1670840691,
          2856307013,
          7148739,
          8514429,
          2931081475,
          4881607089,
          3916366744,
          5342065517,
          2374808797,
          44124116,
          58326454,
          4856273505,
          11861914353,
          18799423411,
          39458168321,
          66690692723,
          472698759,
          75880988,
          1961168873,
          2281545765,
          1845011441,
          4217807007,
          4118067499,
          208221026,
          403798203,
          2379643964,
          6455573674,
          129082288,
          222675998,
          2594386567,
          780681877,
          130595497,
          2548438949,
          2477061881,
          1821494749,
          4797938519,
          2855999622
         ],
         "yaxis": "y"
        },
        {
         "hovertemplate": "MAP=PPh 22<br>=%{y}<extra></extra>",
         "legendgroup": "PPh 22",
         "line": {
          "color": "#19d3f3",
          "dash": "solid"
         },
         "marker": {
          "symbol": "circle"
         },
         "mode": "lines",
         "name": "PPh 22",
         "orientation": "v",
         "showlegend": true,
         "type": "scatter",
         "x": [
          "2022-12-31T00:00:00",
          "2023-01-01T00:00:00",
          "2023-01-02T00:00:00",
          "2023-01-03T00:00:00",
          "2023-01-04T00:00:00",
          "2023-01-05T00:00:00",
          "2023-01-06T00:00:00",
          "2023-01-08T00:00:00",
          "2023-01-09T00:00:00",
          "2023-01-10T00:00:00",
          "2023-01-11T00:00:00",
          "2023-01-12T00:00:00",
          "2023-01-14T00:00:00",
          "2023-01-15T00:00:00",
          "2023-01-16T00:00:00",
          "2023-01-17T00:00:00",
          "2023-01-18T00:00:00",
          "2023-01-19T00:00:00",
          "2023-01-20T00:00:00",
          "2023-01-23T00:00:00",
          "2023-01-24T00:00:00",
          "2023-01-25T00:00:00",
          "2023-01-26T00:00:00",
          "2023-01-27T00:00:00",
          "2023-01-29T00:00:00",
          "2023-01-30T00:00:00",
          "2023-01-31T00:00:00",
          "2023-02-01T00:00:00",
          "2023-02-02T00:00:00",
          "2023-02-03T00:00:00",
          "2023-02-05T00:00:00",
          "2023-02-06T00:00:00",
          "2023-02-07T00:00:00",
          "2023-02-08T00:00:00",
          "2023-02-09T00:00:00",
          "2023-02-10T00:00:00",
          "2023-02-11T00:00:00",
          "2023-02-12T00:00:00",
          "2023-02-13T00:00:00",
          "2023-02-14T00:00:00",
          "2023-02-15T00:00:00",
          "2023-02-16T00:00:00",
          "2023-02-17T00:00:00",
          "2023-02-19T00:00:00",
          "2023-02-20T00:00:00",
          "2023-02-21T00:00:00",
          "2023-02-22T00:00:00",
          "2023-02-23T00:00:00",
          "2023-02-24T00:00:00",
          "2023-02-25T00:00:00",
          "2023-02-26T00:00:00",
          "2023-02-27T00:00:00",
          "2023-02-28T00:00:00",
          "2023-03-01T00:00:00",
          "2023-03-02T00:00:00",
          "2023-03-03T00:00:00",
          "2023-03-05T00:00:00",
          "2023-03-06T00:00:00",
          "2023-03-07T00:00:00",
          "2023-03-08T00:00:00",
          "2023-03-09T00:00:00",
          "2023-03-10T00:00:00",
          "2023-03-11T00:00:00",
          "2023-03-12T00:00:00",
          "2023-03-13T00:00:00",
          "2023-03-14T00:00:00",
          "2023-03-15T00:00:00",
          "2023-03-16T00:00:00",
          "2023-03-17T00:00:00",
          "2023-03-18T00:00:00",
          "2023-03-19T00:00:00",
          "2023-03-20T00:00:00",
          "2023-03-21T00:00:00",
          "2023-03-22T00:00:00",
          "2023-03-23T00:00:00",
          "2023-03-24T00:00:00",
          "2023-03-25T00:00:00",
          "2023-03-26T00:00:00",
          "2023-03-27T00:00:00",
          "2023-03-28T00:00:00",
          "2023-03-29T00:00:00",
          "2023-03-30T00:00:00"
         ],
         "xaxis": "x",
         "y": [
          2672141,
          226016951,
          45275606,
          65932062,
          374460049,
          368947041,
          106549385,
          2900630340,
          14039984819,
          59961537,
          73155375,
          261490111.99999997,
          285318,
          123936393,
          103409012,
          355719603,
          207202426,
          1133656827,
          53323,
          575464296,
          174559137,
          332403443,
          238959972,
          3986652,
          178547159,
          354376429,
          150012788,
          133188823,
          199236052,
          890279,
          964091426,
          307749843,
          599695562,
          1867315238,
          14693683890,
          8407198,
          5117214,
          198656744,
          219855323,
          393915310,
          185354957,
          353219490,
          381415,
          256184573,
          301070371,
          1470403647,
          538897723,
          464192880,
          9425934,
          1191433,
          437880947,
          775423686,
          247953939,
          1389397742,
          280271805,
          447861,
          233100063,
          794731685,
          487381613,
          1876884264,
          13883047686,
          2826701,
          13432500,
          283920192,
          250514415,
          1541812734,
          439072976,
          314074632,
          2902935,
          114180637,
          908539505,
          701328892,
          2024973,
          412500,
          702580998,
          3125157,
          249334,
          503520622,
          553512584,
          963187115,
          436253411,
          862581728
         ],
         "yaxis": "y"
        },
        {
         "hovertemplate": "MAP=PPh 22 Impor<br>=%{y}<extra></extra>",
         "legendgroup": "PPh 22 Impor",
         "line": {
          "color": "#FF6692",
          "dash": "solid"
         },
         "marker": {
          "symbol": "circle"
         },
         "mode": "lines",
         "name": "PPh 22 Impor",
         "orientation": "v",
         "showlegend": true,
         "type": "scatter",
         "x": [
          "2023-01-01T00:00:00",
          "2023-01-02T00:00:00",
          "2023-01-03T00:00:00",
          "2023-01-04T00:00:00",
          "2023-01-05T00:00:00",
          "2023-01-06T00:00:00",
          "2023-01-07T00:00:00",
          "2023-01-08T00:00:00",
          "2023-01-09T00:00:00",
          "2023-01-10T00:00:00",
          "2023-01-11T00:00:00",
          "2023-01-12T00:00:00",
          "2023-01-13T00:00:00",
          "2023-01-15T00:00:00",
          "2023-01-16T00:00:00",
          "2023-01-17T00:00:00",
          "2023-01-18T00:00:00",
          "2023-01-19T00:00:00",
          "2023-01-20T00:00:00",
          "2023-01-21T00:00:00",
          "2023-01-22T00:00:00",
          "2023-01-23T00:00:00",
          "2023-01-24T00:00:00",
          "2023-01-25T00:00:00",
          "2023-01-26T00:00:00",
          "2023-01-27T00:00:00",
          "2023-01-28T00:00:00",
          "2023-01-29T00:00:00",
          "2023-01-30T00:00:00",
          "2023-01-31T00:00:00",
          "2023-02-01T00:00:00",
          "2023-02-02T00:00:00",
          "2023-02-03T00:00:00",
          "2023-02-04T00:00:00",
          "2023-02-05T00:00:00",
          "2023-02-06T00:00:00",
          "2023-02-07T00:00:00",
          "2023-02-08T00:00:00",
          "2023-02-09T00:00:00",
          "2023-02-10T00:00:00",
          "2023-02-12T00:00:00",
          "2023-02-13T00:00:00",
          "2023-02-14T00:00:00",
          "2023-02-15T00:00:00",
          "2023-02-16T00:00:00",
          "2023-02-17T00:00:00",
          "2023-02-18T00:00:00",
          "2023-02-19T00:00:00",
          "2023-02-20T00:00:00",
          "2023-02-21T00:00:00",
          "2023-02-22T00:00:00",
          "2023-02-23T00:00:00",
          "2023-02-24T00:00:00",
          "2023-02-25T00:00:00",
          "2023-02-26T00:00:00",
          "2023-02-27T00:00:00",
          "2023-02-28T00:00:00",
          "2023-03-01T00:00:00",
          "2023-03-02T00:00:00",
          "2023-03-03T00:00:00",
          "2023-03-04T00:00:00",
          "2023-03-05T00:00:00",
          "2023-03-06T00:00:00",
          "2023-03-07T00:00:00",
          "2023-03-08T00:00:00",
          "2023-03-09T00:00:00",
          "2023-03-10T00:00:00",
          "2023-03-11T00:00:00",
          "2023-03-12T00:00:00",
          "2023-03-13T00:00:00",
          "2023-03-14T00:00:00",
          "2023-03-15T00:00:00",
          "2023-03-16T00:00:00",
          "2023-03-17T00:00:00",
          "2023-03-18T00:00:00",
          "2023-03-19T00:00:00",
          "2023-03-20T00:00:00",
          "2023-03-21T00:00:00",
          "2023-03-22T00:00:00",
          "2023-03-23T00:00:00",
          "2023-03-24T00:00:00",
          "2023-03-25T00:00:00",
          "2023-03-26T00:00:00",
          "2023-03-27T00:00:00",
          "2023-03-28T00:00:00",
          "2023-03-29T00:00:00",
          "2023-03-30T00:00:00"
         ],
         "xaxis": "x",
         "y": [
          3374306000,
          3583508000,
          3593232000,
          5634011000,
          3069812000,
          211995000,
          7623000,
          5946252000,
          4473576000,
          4074260000,
          2539116000,
          4689834000,
          229305000,
          4234622000,
          4524092000,
          4760400000,
          3205647000,
          4724799000,
          367150000,
          11455000,
          728880000,
          12987040000,
          4732726000,
          2798537000,
          12647212000,
          510322000,
          78825000,
          7878057521,
          3286260000,
          2911813000,
          14643334000,
          3110346000,
          199857000,
          41616000,
          6712273000,
          4039166000,
          1894759000,
          4468129000,
          4264599000,
          19397000,
          2517800000,
          3106649000,
          23615918000,
          5132254000,
          9089147000,
          47260000,
          30785000.000000004,
          2902777000,
          3703357649,
          10319070000,
          3060781000,
          8035363000,
          125324000,
          92274000,
          13897074000,
          10022922000,
          4272470000,
          2795839000,
          5979790614,
          341149000,
          96821000,
          8217504000,
          3354474000,
          2931633000,
          3645278000,
          16170501000,
          384521000,
          44139000,
          4738020000,
          7353493000,
          4215561000,
          3864114000,
          2276644000,
          373724000,
          52363000,
          10862468000,
          11675445000,
          36347000,
          1123263000,
          11096015000,
          545860000,
          1706000,
          11433374000,
          22824511000,
          6805880000,
          7428683000,
          14473364000
         ],
         "yaxis": "y"
        },
        {
         "hovertemplate": "MAP=PPh 23<br>=%{y}<extra></extra>",
         "legendgroup": "PPh 23",
         "line": {
          "color": "#B6E880",
          "dash": "solid"
         },
         "marker": {
          "symbol": "circle"
         },
         "mode": "lines",
         "name": "PPh 23",
         "orientation": "v",
         "showlegend": true,
         "type": "scatter",
         "x": [
          "2023-01-01T00:00:00",
          "2023-01-02T00:00:00",
          "2023-01-03T00:00:00",
          "2023-01-04T00:00:00",
          "2023-01-05T00:00:00",
          "2023-01-06T00:00:00",
          "2023-01-07T00:00:00",
          "2023-01-08T00:00:00",
          "2023-01-09T00:00:00",
          "2023-01-10T00:00:00",
          "2023-01-11T00:00:00",
          "2023-01-12T00:00:00",
          "2023-01-13T00:00:00",
          "2023-01-14T00:00:00",
          "2023-01-15T00:00:00",
          "2023-01-16T00:00:00",
          "2023-01-17T00:00:00",
          "2023-01-18T00:00:00",
          "2023-01-19T00:00:00",
          "2023-01-20T00:00:00",
          "2023-01-21T00:00:00",
          "2023-01-22T00:00:00",
          "2023-01-23T00:00:00",
          "2023-01-24T00:00:00",
          "2023-01-25T00:00:00",
          "2023-01-26T00:00:00",
          "2023-01-27T00:00:00",
          "2023-01-29T00:00:00",
          "2023-01-30T00:00:00",
          "2023-01-31T00:00:00",
          "2023-02-01T00:00:00",
          "2023-02-02T00:00:00",
          "2023-02-03T00:00:00",
          "2023-02-04T00:00:00",
          "2023-02-05T00:00:00",
          "2023-02-06T00:00:00",
          "2023-02-07T00:00:00",
          "2023-02-08T00:00:00",
          "2023-02-09T00:00:00",
          "2023-02-10T00:00:00",
          "2023-02-11T00:00:00",
          "2023-02-12T00:00:00",
          "2023-02-13T00:00:00",
          "2023-02-14T00:00:00",
          "2023-02-15T00:00:00",
          "2023-02-16T00:00:00",
          "2023-02-17T00:00:00",
          "2023-02-18T00:00:00",
          "2023-02-19T00:00:00",
          "2023-02-20T00:00:00",
          "2023-02-21T00:00:00",
          "2023-02-22T00:00:00",
          "2023-02-23T00:00:00",
          "2023-02-24T00:00:00",
          "2023-02-25T00:00:00",
          "2023-02-26T00:00:00",
          "2023-02-27T00:00:00",
          "2023-02-28T00:00:00",
          "2023-03-01T00:00:00",
          "2023-03-02T00:00:00",
          "2023-03-03T00:00:00",
          "2023-03-04T00:00:00",
          "2023-03-05T00:00:00",
          "2023-03-06T00:00:00",
          "2023-03-07T00:00:00",
          "2023-03-08T00:00:00",
          "2023-03-09T00:00:00",
          "2023-03-10T00:00:00",
          "2023-03-11T00:00:00",
          "2023-03-12T00:00:00",
          "2023-03-13T00:00:00",
          "2023-03-14T00:00:00",
          "2023-03-15T00:00:00",
          "2023-03-16T00:00:00",
          "2023-03-17T00:00:00",
          "2023-03-18T00:00:00",
          "2023-03-19T00:00:00",
          "2023-03-20T00:00:00",
          "2023-03-21T00:00:00",
          "2023-03-22T00:00:00",
          "2023-03-23T00:00:00",
          "2023-03-24T00:00:00",
          "2023-03-25T00:00:00",
          "2023-03-26T00:00:00",
          "2023-03-27T00:00:00",
          "2023-03-28T00:00:00",
          "2023-03-29T00:00:00",
          "2023-03-30T00:00:00"
         ],
         "xaxis": "x",
         "y": [
          175091625,
          385514720,
          1126784965,
          2175209700,
          6492740419,
          43417605,
          16331568,
          50435554832,
          93904060894,
          946985484,
          774217858,
          316208844,
          8822809,
          1243568,
          425884324,
          476089103,
          408440572,
          418457091,
          584876248,
          15359090,
          323400,
          8008142,
          186701087,
          145265542,
          529530583,
          251325585,
          1984228,
          539891611,
          781987574,
          348363992,
          458011339,
          291358616,
          26565000,
          1857581,
          814053322,
          4064398348,
          6008746585,
          35739196403,
          43849101328,
          24185444,
          5577749,
          384892988,
          451151766,
          559699808,
          4303396175,
          571991363,
          25528976,
          16557984,
          443882243,
          421094907,
          255233380,
          231033500,
          270742094,
          28500,
          1234572,
          1040791647,
          588052294,
          379435766,
          523208845,
          567427132,
          18704480,
          56000,
          605331667,
          3100243277,
          6313885050,
          22169998094,
          52735272035,
          363394239,
          5330547,
          568958978,
          494150687,
          398404938,
          1264295381,
          1838609562,
          2386774,
          1435000,
          327988083,
          1636605709,
          38429832,
          54519068,
          493232525,
          3263320,
          2096624,
          814817229,
          531714848,
          679580240,
          1301645138,
          1085632946
         ],
         "yaxis": "y"
        },
        {
         "hovertemplate": "MAP=PPh 25 Badan<br>=%{y}<extra></extra>",
         "legendgroup": "PPh 25 Badan",
         "line": {
          "color": "#FF97FF",
          "dash": "solid"
         },
         "marker": {
          "symbol": "circle"
         },
         "mode": "lines",
         "name": "PPh 25 Badan",
         "orientation": "v",
         "showlegend": true,
         "type": "scatter",
         "x": [
          "2022-12-31T00:00:00",
          "2023-01-01T00:00:00",
          "2023-01-02T00:00:00",
          "2023-01-03T00:00:00",
          "2023-01-04T00:00:00",
          "2023-01-05T00:00:00",
          "2023-01-06T00:00:00",
          "2023-01-07T00:00:00",
          "2023-01-08T00:00:00",
          "2023-01-09T00:00:00",
          "2023-01-10T00:00:00",
          "2023-01-11T00:00:00",
          "2023-01-12T00:00:00",
          "2023-01-13T00:00:00",
          "2023-01-14T00:00:00",
          "2023-01-15T00:00:00",
          "2023-01-16T00:00:00",
          "2023-01-17T00:00:00",
          "2023-01-18T00:00:00",
          "2023-01-19T00:00:00",
          "2023-01-20T00:00:00",
          "2023-01-21T00:00:00",
          "2023-01-22T00:00:00",
          "2023-01-23T00:00:00",
          "2023-01-24T00:00:00",
          "2023-01-25T00:00:00",
          "2023-01-26T00:00:00",
          "2023-01-27T00:00:00",
          "2023-01-28T00:00:00",
          "2023-01-29T00:00:00",
          "2023-01-30T00:00:00",
          "2023-01-31T00:00:00",
          "2023-02-01T00:00:00",
          "2023-02-02T00:00:00",
          "2023-02-03T00:00:00",
          "2023-02-04T00:00:00",
          "2023-02-05T00:00:00",
          "2023-02-06T00:00:00",
          "2023-02-07T00:00:00",
          "2023-02-08T00:00:00",
          "2023-02-09T00:00:00",
          "2023-02-10T00:00:00",
          "2023-02-11T00:00:00",
          "2023-02-12T00:00:00",
          "2023-02-13T00:00:00",
          "2023-02-14T00:00:00",
          "2023-02-15T00:00:00",
          "2023-02-16T00:00:00",
          "2023-02-17T00:00:00",
          "2023-02-18T00:00:00",
          "2023-02-19T00:00:00",
          "2023-02-20T00:00:00",
          "2023-02-21T00:00:00",
          "2023-02-22T00:00:00",
          "2023-02-23T00:00:00",
          "2023-02-24T00:00:00",
          "2023-02-25T00:00:00",
          "2023-02-26T00:00:00",
          "2023-02-27T00:00:00",
          "2023-02-28T00:00:00",
          "2023-03-01T00:00:00",
          "2023-03-02T00:00:00",
          "2023-03-03T00:00:00",
          "2023-03-04T00:00:00",
          "2023-03-05T00:00:00",
          "2023-03-06T00:00:00",
          "2023-03-07T00:00:00",
          "2023-03-08T00:00:00",
          "2023-03-09T00:00:00",
          "2023-03-10T00:00:00",
          "2023-03-11T00:00:00",
          "2023-03-12T00:00:00",
          "2023-03-13T00:00:00",
          "2023-03-14T00:00:00",
          "2023-03-15T00:00:00",
          "2023-03-16T00:00:00",
          "2023-03-17T00:00:00",
          "2023-03-18T00:00:00",
          "2023-03-19T00:00:00",
          "2023-03-20T00:00:00",
          "2023-03-21T00:00:00",
          "2023-03-22T00:00:00",
          "2023-03-23T00:00:00",
          "2023-03-24T00:00:00",
          "2023-03-25T00:00:00",
          "2023-03-26T00:00:00",
          "2023-03-27T00:00:00",
          "2023-03-28T00:00:00",
          "2023-03-29T00:00:00",
          "2023-03-30T00:00:00"
         ],
         "xaxis": "x",
         "y": [
          11280277,
          963776522,
          634237575,
          2721860969,
          7175875862,
          18282551466,
          302697127,
          64446152,
          108583697711,
          63198547121.08,
          4307672394,
          6816636987,
          81892430115,
          334828742,
          84247656,
          93519971186,
          1209276359,
          663816337,
          405604196,
          712113452,
          4550096,
          1871524,
          18477197,
          4748870069,
          194936640,
          1793024497,
          704522353,
          14454742,
          5304053,
          511692094,
          1355315924,
          1196907239,
          1175320888,
          2864551935,
          70549456,
          14169321.999999998,
          10561753819,
          8433217917,
          27674611589,
          115787729640,
          34858262727,
          111405575,
          165256706,
          6418074184.8,
          84667789897,
          108296017910,
          1635543271,
          998045204,
          11978510,
          11474134,
          1007238208,
          1205251945,
          312358772,
          1335148203,
          612953620,
          8646757,
          14012742,
          3382631601,
          5162181040,
          2158613448,
          8186841816,
          2175990146,
          22652258,
          8252250,
          9397352696,
          15883281399,
          23569679064,
          35928463968,
          115182907781.95999,
          143844768,
          37898033,
          5306310140,
          87699963025,
          107139254375,
          2380745803,
          2615876085,
          92778344,
          9382723,
          2612481033,
          1085210533,
          511210436,
          16710155,
          512619466,
          12683459,
          130845776,
          1555185249,
          3060335152,
          1950189035,
          2968884650,
          3862021883
         ],
         "yaxis": "y"
        },
        {
         "hovertemplate": "MAP=PPh 25 OP<br>=%{y}<extra></extra>",
         "legendgroup": "PPh 25 OP",
         "line": {
          "color": "#FECB52",
          "dash": "solid"
         },
         "marker": {
          "symbol": "circle"
         },
         "mode": "lines",
         "name": "PPh 25 OP",
         "orientation": "v",
         "showlegend": true,
         "type": "scatter",
         "x": [
          "2022-12-31T00:00:00",
          "2023-01-01T00:00:00",
          "2023-01-02T00:00:00",
          "2023-01-03T00:00:00",
          "2023-01-04T00:00:00",
          "2023-01-05T00:00:00",
          "2023-01-06T00:00:00",
          "2023-01-07T00:00:00",
          "2023-01-08T00:00:00",
          "2023-01-09T00:00:00",
          "2023-01-10T00:00:00",
          "2023-01-11T00:00:00",
          "2023-01-12T00:00:00",
          "2023-01-13T00:00:00",
          "2023-01-14T00:00:00",
          "2023-01-15T00:00:00",
          "2023-01-16T00:00:00",
          "2023-01-17T00:00:00",
          "2023-01-18T00:00:00",
          "2023-01-19T00:00:00",
          "2023-01-20T00:00:00",
          "2023-01-21T00:00:00",
          "2023-01-22T00:00:00",
          "2023-01-23T00:00:00",
          "2023-01-24T00:00:00",
          "2023-01-25T00:00:00",
          "2023-01-26T00:00:00",
          "2023-01-27T00:00:00",
          "2023-01-28T00:00:00",
          "2023-01-29T00:00:00",
          "2023-01-30T00:00:00",
          "2023-01-31T00:00:00",
          "2023-02-01T00:00:00",
          "2023-02-02T00:00:00",
          "2023-02-03T00:00:00",
          "2023-02-04T00:00:00",
          "2023-02-05T00:00:00",
          "2023-02-06T00:00:00",
          "2023-02-07T00:00:00",
          "2023-02-08T00:00:00",
          "2023-02-09T00:00:00",
          "2023-02-10T00:00:00",
          "2023-02-11T00:00:00",
          "2023-02-12T00:00:00",
          "2023-02-13T00:00:00",
          "2023-02-14T00:00:00",
          "2023-02-15T00:00:00",
          "2023-02-16T00:00:00",
          "2023-02-17T00:00:00",
          "2023-02-18T00:00:00",
          "2023-02-19T00:00:00",
          "2023-02-20T00:00:00",
          "2023-02-21T00:00:00",
          "2023-02-22T00:00:00",
          "2023-02-23T00:00:00",
          "2023-02-24T00:00:00",
          "2023-02-25T00:00:00",
          "2023-02-26T00:00:00",
          "2023-02-27T00:00:00",
          "2023-02-28T00:00:00",
          "2023-03-01T00:00:00",
          "2023-03-02T00:00:00",
          "2023-03-03T00:00:00",
          "2023-03-04T00:00:00",
          "2023-03-05T00:00:00",
          "2023-03-06T00:00:00",
          "2023-03-07T00:00:00",
          "2023-03-08T00:00:00",
          "2023-03-09T00:00:00",
          "2023-03-10T00:00:00",
          "2023-03-11T00:00:00",
          "2023-03-12T00:00:00",
          "2023-03-13T00:00:00",
          "2023-03-14T00:00:00",
          "2023-03-15T00:00:00",
          "2023-03-16T00:00:00",
          "2023-03-17T00:00:00",
          "2023-03-18T00:00:00",
          "2023-03-19T00:00:00",
          "2023-03-20T00:00:00",
          "2023-03-21T00:00:00",
          "2023-03-22T00:00:00",
          "2023-03-23T00:00:00",
          "2023-03-24T00:00:00",
          "2023-03-25T00:00:00",
          "2023-03-26T00:00:00",
          "2023-03-27T00:00:00",
          "2023-03-28T00:00:00",
          "2023-03-29T00:00:00",
          "2023-03-30T00:00:00"
         ],
         "xaxis": "x",
         "y": [
          266200,
          438139251,
          304842727,
          256534016,
          446089662,
          343339640,
          21664787,
          36107739,
          880547407,
          1012220620,
          295004989,
          968591788,
          594513706,
          29193652,
          47201487,
          152464649,
          58070211,
          453956060,
          109280584,
          6269422682,
          12247706,
          2629652,
          96866264,
          203694955,
          61257374,
          128602645,
          59052243,
          6166658,
          2248550,
          98156151,
          184123441,
          482586142,
          289827564,
          680565082,
          12218943,
          46182112,
          738151839,
          835907827,
          799560734,
          1263724223,
          1032489563,
          112137389,
          52467092,
          699892157,
          3019716599,
          1458463772,
          2202841820,
          1395333778,
          322084137,
          220741950,
          2073628663,
          1449819045,
          578217343,
          1221609653,
          1438658951,
          192509037,
          300471018,
          1573722374,
          1485237284,
          1708208984,
          5504091051,
          2618595801,
          254559891,
          238520531,
          3306531381,
          3733169886,
          3393652511,
          6231049367,
          6702181003,
          395958629,
          412713400,
          3050723887,
          8458477354,
          6759466372,
          4252576188,
          6097668917,
          1080551167,
          1246082596,
          11531922481,
          9804933596,
          2467601584,
          2267851375,
          18908854344,
          2918100331,
          3762559393,
          26612189364,
          14470259563,
          30722069574,
          26111844023,
          26160964506
         ],
         "yaxis": "y"
        },
        {
         "hovertemplate": "MAP=PPh 26<br>=%{y}<extra></extra>",
         "legendgroup": "PPh 26",
         "line": {
          "color": "#636efa",
          "dash": "solid"
         },
         "marker": {
          "symbol": "circle"
         },
         "mode": "lines",
         "name": "PPh 26",
         "orientation": "v",
         "showlegend": true,
         "type": "scatter",
         "x": [
          "2023-01-02T00:00:00",
          "2023-01-03T00:00:00",
          "2023-01-04T00:00:00",
          "2023-01-05T00:00:00",
          "2023-01-08T00:00:00",
          "2023-01-09T00:00:00",
          "2023-01-10T00:00:00",
          "2023-01-11T00:00:00",
          "2023-01-12T00:00:00",
          "2023-01-15T00:00:00",
          "2023-01-16T00:00:00",
          "2023-01-17T00:00:00",
          "2023-01-23T00:00:00",
          "2023-01-24T00:00:00",
          "2023-01-26T00:00:00",
          "2023-01-29T00:00:00",
          "2023-01-30T00:00:00",
          "2023-01-31T00:00:00",
          "2023-02-01T00:00:00",
          "2023-02-02T00:00:00",
          "2023-02-05T00:00:00",
          "2023-02-06T00:00:00",
          "2023-02-07T00:00:00",
          "2023-02-08T00:00:00",
          "2023-02-09T00:00:00",
          "2023-02-10T00:00:00",
          "2023-02-13T00:00:00",
          "2023-02-14T00:00:00",
          "2023-02-18T00:00:00",
          "2023-02-19T00:00:00",
          "2023-02-20T00:00:00",
          "2023-02-21T00:00:00",
          "2023-02-22T00:00:00",
          "2023-02-23T00:00:00",
          "2023-02-27T00:00:00",
          "2023-02-28T00:00:00",
          "2023-03-01T00:00:00",
          "2023-03-02T00:00:00",
          "2023-03-05T00:00:00",
          "2023-03-06T00:00:00",
          "2023-03-07T00:00:00",
          "2023-03-08T00:00:00",
          "2023-03-09T00:00:00",
          "2023-03-12T00:00:00",
          "2023-03-14T00:00:00",
          "2023-03-15T00:00:00",
          "2023-03-16T00:00:00",
          "2023-03-18T00:00:00",
          "2023-03-19T00:00:00",
          "2023-03-20T00:00:00",
          "2023-03-21T00:00:00",
          "2023-03-22T00:00:00",
          "2023-03-23T00:00:00",
          "2023-03-25T00:00:00",
          "2023-03-26T00:00:00",
          "2023-03-28T00:00:00",
          "2023-03-29T00:00:00",
          "2023-03-30T00:00:00"
         ],
         "xaxis": "x",
         "y": [
          0,
          98165831.99999999,
          20184850,
          823417588,
          31174293359.000004,
          9257175597,
          0,
          308281127,
          9686619,
          0,
          455782780,
          10751079,
          0,
          29660796,
          2974051,
          23532000,
          0,
          237336555,
          795460,
          24207302.999999996,
          1380000,
          649772693,
          2623947342,
          1850863338,
          4464267540,
          31920356,
          188087957,
          18885900.000000004,
          1699591,
          0,
          179961,
          0,
          455782780,
          64703709,
          0,
          146909042,
          690000,
          12361359,
          1277321,
          1294736076,
          372130225,
          1479237961,
          6028335382,
          76800,
          20888006,
          477090384,
          0,
          1223073,
          680000,
          309969338,
          48,
          8000000,
          41613,
          64703707.99999999,
          355404560,
          7476624,
          4228801,
          469109748
         ],
         "yaxis": "y"
        },
        {
         "hovertemplate": "MAP=PPh Final<br>=%{y}<extra></extra>",
         "legendgroup": "PPh Final",
         "line": {
          "color": "#EF553B",
          "dash": "solid"
         },
         "marker": {
          "symbol": "circle"
         },
         "mode": "lines",
         "name": "PPh Final",
         "orientation": "v",
         "showlegend": true,
         "type": "scatter",
         "x": [
          "2022-12-31T00:00:00",
          "2023-01-01T00:00:00",
          "2023-01-02T00:00:00",
          "2023-01-03T00:00:00",
          "2023-01-04T00:00:00",
          "2023-01-05T00:00:00",
          "2023-01-06T00:00:00",
          "2023-01-07T00:00:00",
          "2023-01-08T00:00:00",
          "2023-01-09T00:00:00",
          "2023-01-10T00:00:00",
          "2023-01-11T00:00:00",
          "2023-01-12T00:00:00",
          "2023-01-13T00:00:00",
          "2023-01-14T00:00:00",
          "2023-01-15T00:00:00",
          "2023-01-16T00:00:00",
          "2023-01-17T00:00:00",
          "2023-01-18T00:00:00",
          "2023-01-19T00:00:00",
          "2023-01-20T00:00:00",
          "2023-01-21T00:00:00",
          "2023-01-22T00:00:00",
          "2023-01-23T00:00:00",
          "2023-01-24T00:00:00",
          "2023-01-25T00:00:00",
          "2023-01-26T00:00:00",
          "2023-01-27T00:00:00",
          "2023-01-28T00:00:00",
          "2023-01-29T00:00:00",
          "2023-01-30T00:00:00",
          "2023-01-31T00:00:00",
          "2023-02-01T00:00:00",
          "2023-02-02T00:00:00",
          "2023-02-03T00:00:00",
          "2023-02-04T00:00:00",
          "2023-02-05T00:00:00",
          "2023-02-06T00:00:00",
          "2023-02-07T00:00:00",
          "2023-02-08T00:00:00",
          "2023-02-09T00:00:00",
          "2023-02-10T00:00:00",
          "2023-02-11T00:00:00",
          "2023-02-12T00:00:00",
          "2023-02-13T00:00:00",
          "2023-02-14T00:00:00",
          "2023-02-15T00:00:00",
          "2023-02-16T00:00:00",
          "2023-02-17T00:00:00",
          "2023-02-18T00:00:00",
          "2023-02-19T00:00:00",
          "2023-02-20T00:00:00",
          "2023-02-21T00:00:00",
          "2023-02-22T00:00:00",
          "2023-02-23T00:00:00",
          "2023-02-24T00:00:00",
          "2023-02-25T00:00:00",
          "2023-02-26T00:00:00",
          "2023-02-27T00:00:00",
          "2023-02-28T00:00:00",
          "2023-03-01T00:00:00",
          "2023-03-02T00:00:00",
          "2023-03-03T00:00:00",
          "2023-03-04T00:00:00",
          "2023-03-05T00:00:00",
          "2023-03-06T00:00:00",
          "2023-03-07T00:00:00",
          "2023-03-08T00:00:00",
          "2023-03-09T00:00:00",
          "2023-03-10T00:00:00",
          "2023-03-11T00:00:00",
          "2023-03-12T00:00:00",
          "2023-03-13T00:00:00",
          "2023-03-14T00:00:00",
          "2023-03-15T00:00:00",
          "2023-03-16T00:00:00",
          "2023-03-17T00:00:00",
          "2023-03-18T00:00:00",
          "2023-03-19T00:00:00",
          "2023-03-20T00:00:00",
          "2023-03-21T00:00:00",
          "2023-03-22T00:00:00",
          "2023-03-23T00:00:00",
          "2023-03-24T00:00:00",
          "2023-03-25T00:00:00",
          "2023-03-26T00:00:00",
          "2023-03-27T00:00:00",
          "2023-03-28T00:00:00",
          "2023-03-29T00:00:00",
          "2023-03-30T00:00:00"
         ],
         "xaxis": "x",
         "y": [
          58236370,
          1558861130,
          1386718657,
          1514248744,
          2803016568,
          9142189433,
          559472714,
          139066204,
          36228410039,
          77870064074,
          3202042018,
          2966398037,
          2956178983,
          163861303,
          178452144,
          2280046927,
          2021660552,
          16821286546,
          1390624290,
          2220590316,
          61502102,
          11423158,
          22833202,
          8234211881,
          6863935913,
          1887307901,
          2017103473,
          71439034,
          27067893,
          1999430878,
          2264927496,
          2476788963,
          1758715518,
          2564192123,
          127210063,
          148049207,
          2644882541,
          4877290127,
          17937309506,
          21520615981,
          49810340180,
          91802241,
          167873546,
          3312912030,
          3784769406,
          5308497283,
          1158904378,
          1826805200,
          178284577,
          82551375,
          1968522848,
          2148866979,
          1982817210,
          14798667585,
          1725898527,
          134985297,
          107989609,
          4301120297,
          2097453245,
          2013603512,
          2872661148,
          4351010142,
          155018114,
          65449653,
          2506023235,
          5431967312,
          7839162381,
          20225905161,
          36880488611,
          830665645,
          170308742,
          1705437222,
          3945331930,
          4384306368,
          2424277951,
          1971599796,
          373038452,
          69713614,
          1864445084,
          2916615379,
          143748997,
          808961420,
          5159588436,
          221281000,
          86939444,
          3736820083,
          19973358793,
          3098264705,
          4228177865,
          4584458904
         ],
         "yaxis": "y"
        },
        {
         "hovertemplate": "MAP=PPh Migas Lainnya<br>=%{y}<extra></extra>",
         "legendgroup": "PPh Migas Lainnya",
         "line": {
          "color": "#00cc96",
          "dash": "solid"
         },
         "marker": {
          "symbol": "circle"
         },
         "mode": "lines",
         "name": "PPh Migas Lainnya",
         "orientation": "v",
         "showlegend": true,
         "type": "scatter",
         "x": [
          "2023-02-01T00:00:00",
          "2023-02-08T00:00:00"
         ],
         "xaxis": "x",
         "y": [
          37500,
          5174833
         ],
         "yaxis": "y"
        },
        {
         "hovertemplate": "MAP=PPh Minyak Bumi<br>=%{y}<extra></extra>",
         "legendgroup": "PPh Minyak Bumi",
         "line": {
          "color": "#ab63fa",
          "dash": "solid"
         },
         "marker": {
          "symbol": "circle"
         },
         "mode": "lines",
         "name": "PPh Minyak Bumi",
         "orientation": "v",
         "showlegend": true,
         "type": "scatter",
         "x": [
          "2023-03-20T00:00:00"
         ],
         "xaxis": "x",
         "y": [
          0
         ],
         "yaxis": "y"
        },
        {
         "hovertemplate": "MAP=PPh Non Migas Lainnya<br>=%{y}<extra></extra>",
         "legendgroup": "PPh Non Migas Lainnya",
         "line": {
          "color": "#FFA15A",
          "dash": "solid"
         },
         "marker": {
          "symbol": "circle"
         },
         "mode": "lines",
         "name": "PPh Non Migas Lainnya",
         "orientation": "v",
         "showlegend": true,
         "type": "scatter",
         "x": [
          "2023-01-05T00:00:00",
          "2023-01-08T00:00:00",
          "2023-01-09T00:00:00",
          "2023-01-18T00:00:00",
          "2023-02-05T00:00:00",
          "2023-02-08T00:00:00",
          "2023-02-16T00:00:00",
          "2023-02-19T00:00:00",
          "2023-03-02T00:00:00",
          "2023-03-08T00:00:00",
          "2023-03-09T00:00:00",
          "2023-03-14T00:00:00",
          "2023-03-28T00:00:00"
         ],
         "xaxis": "x",
         "y": [
          159839442,
          1949703,
          46009893,
          85697955,
          28271690,
          48885156,
          17008521,
          16136086,
          24390956,
          65244306,
          59205123,
          14894848.999999998,
          21734759
         ],
         "yaxis": "y"
        },
        {
         "hovertemplate": "MAP=PPnBM DN<br>=%{y}<extra></extra>",
         "legendgroup": "PPnBM DN",
         "line": {
          "color": "#19d3f3",
          "dash": "solid"
         },
         "marker": {
          "symbol": "circle"
         },
         "mode": "lines",
         "name": "PPnBM DN",
         "orientation": "v",
         "showlegend": true,
         "type": "scatter",
         "x": [
          "2023-01-01T00:00:00",
          "2023-01-02T00:00:00",
          "2023-01-03T00:00:00",
          "2023-01-04T00:00:00",
          "2023-01-08T00:00:00",
          "2023-01-09T00:00:00",
          "2023-01-10T00:00:00",
          "2023-01-11T00:00:00",
          "2023-01-12T00:00:00",
          "2023-01-13T00:00:00",
          "2023-01-16T00:00:00",
          "2023-01-17T00:00:00",
          "2023-01-18T00:00:00",
          "2023-01-19T00:00:00",
          "2023-01-23T00:00:00",
          "2023-01-24T00:00:00",
          "2023-01-25T00:00:00",
          "2023-01-29T00:00:00",
          "2023-01-30T00:00:00",
          "2023-02-01T00:00:00",
          "2023-02-05T00:00:00",
          "2023-02-06T00:00:00",
          "2023-02-07T00:00:00",
          "2023-02-08T00:00:00",
          "2023-02-09T00:00:00",
          "2023-02-12T00:00:00",
          "2023-02-14T00:00:00",
          "2023-02-15T00:00:00",
          "2023-02-16T00:00:00",
          "2023-02-19T00:00:00",
          "2023-02-20T00:00:00",
          "2023-02-21T00:00:00",
          "2023-02-22T00:00:00",
          "2023-02-23T00:00:00",
          "2023-02-26T00:00:00",
          "2023-02-27T00:00:00",
          "2023-03-01T00:00:00",
          "2023-03-02T00:00:00",
          "2023-03-03T00:00:00",
          "2023-03-05T00:00:00",
          "2023-03-06T00:00:00",
          "2023-03-07T00:00:00",
          "2023-03-08T00:00:00",
          "2023-03-09T00:00:00",
          "2023-03-14T00:00:00",
          "2023-03-15T00:00:00",
          "2023-03-16T00:00:00",
          "2023-03-18T00:00:00",
          "2023-03-19T00:00:00",
          "2023-03-20T00:00:00",
          "2023-03-27T00:00:00",
          "2023-03-28T00:00:00",
          "2023-03-29T00:00:00",
          "2023-03-30T00:00:00"
         ],
         "xaxis": "x",
         "y": [
          0,
          0,
          1505600,
          30346759,
          0,
          2002273,
          0,
          0,
          19396473,
          5505698,
          15374995.999999998,
          0,
          0,
          580815,
          69213293,
          3568400,
          0,
          0,
          36826433,
          2054622,
          0,
          4337574,
          301308382,
          6825500,
          0,
          0,
          0,
          0,
          493586573,
          0,
          0,
          26788759.999999996,
          492984294,
          184818630,
          351466947,
          132069368,
          0,
          5470250,
          3053334,
          594594,
          0,
          68052325,
          388353,
          16190106,
          0,
          36692269,
          266810548.00000003,
          2226400,
          55556918,
          6163395,
          0,
          343608521,
          33983400,
          1090167776
         ],
         "yaxis": "y"
        },
        {
         "hovertemplate": "MAP=PPnBM Impor<br>=%{y}<extra></extra>",
         "legendgroup": "PPnBM Impor",
         "line": {
          "color": "#FF6692",
          "dash": "solid"
         },
         "marker": {
          "symbol": "circle"
         },
         "mode": "lines",
         "name": "PPnBM Impor",
         "orientation": "v",
         "showlegend": true,
         "type": "scatter",
         "x": [
          "2023-01-09T00:00:00",
          "2023-01-23T00:00:00",
          "2023-01-29T00:00:00",
          "2023-01-30T00:00:00",
          "2023-02-02T00:00:00",
          "2023-02-05T00:00:00",
          "2023-02-09T00:00:00",
          "2023-02-13T00:00:00",
          "2023-02-14T00:00:00",
          "2023-02-15T00:00:00",
          "2023-02-16T00:00:00",
          "2023-02-20T00:00:00",
          "2023-02-26T00:00:00",
          "2023-02-27T00:00:00",
          "2023-02-28T00:00:00",
          "2023-03-02T00:00:00",
          "2023-03-05T00:00:00",
          "2023-03-13T00:00:00",
          "2023-03-15T00:00:00",
          "2023-03-19T00:00:00",
          "2023-03-23T00:00:00",
          "2023-03-26T00:00:00",
          "2023-03-28T00:00:00",
          "2023-03-29T00:00:00"
         ],
         "xaxis": "x",
         "y": [
          262656000,
          2534737000,
          6414837000,
          1006183000,
          3074007000,
          5989810000,
          2872833000,
          1705470000,
          9817078000,
          536142000,
          1449695000,
          1541382000,
          16358357000,
          1026739000,
          640438000,
          4204269000,
          2982072000,
          7711009000,
          1481971999.9999998,
          10617483000,
          622464000,
          11068774000,
          1537866000,
          9217757000
         ],
         "yaxis": "y"
        },
        {
         "hovertemplate": "MAP=PPnBM Lainnya<br>=%{y}<extra></extra>",
         "legendgroup": "PPnBM Lainnya",
         "line": {
          "color": "#B6E880",
          "dash": "solid"
         },
         "marker": {
          "symbol": "circle"
         },
         "mode": "lines",
         "name": "PPnBM Lainnya",
         "orientation": "v",
         "showlegend": true,
         "type": "scatter",
         "x": [
          "2023-02-19T00:00:00"
         ],
         "xaxis": "x",
         "y": [
          0
         ],
         "yaxis": "y"
        },
        {
         "hovertemplate": "MAP=Pajak Tidak Langsung<br>=%{y}<extra></extra>",
         "legendgroup": "Pajak Tidak Langsung",
         "line": {
          "color": "#FF97FF",
          "dash": "solid"
         },
         "marker": {
          "symbol": "circle"
         },
         "mode": "lines",
         "name": "Pajak Tidak Langsung",
         "orientation": "v",
         "showlegend": true,
         "type": "scatter",
         "x": [
          "2023-01-31T00:00:00",
          "2023-03-27T00:00:00"
         ],
         "xaxis": "x",
         "y": [
          2235081,
          120000
         ],
         "yaxis": "y"
        },
        {
         "hovertemplate": "MAP=STP atas Bunga Penagihan<br>=%{y}<extra></extra>",
         "legendgroup": "STP atas Bunga Penagihan",
         "line": {
          "color": "#FECB52",
          "dash": "solid"
         },
         "marker": {
          "symbol": "circle"
         },
         "mode": "lines",
         "name": "STP atas Bunga Penagihan",
         "orientation": "v",
         "showlegend": true,
         "type": "scatter",
         "x": [
          "2023-01-30T00:00:00",
          "2023-01-31T00:00:00",
          "2023-02-20T00:00:00",
          "2023-02-28T00:00:00",
          "2023-03-05T00:00:00",
          "2023-03-15T00:00:00",
          "2023-03-28T00:00:00"
         ],
         "xaxis": "x",
         "y": [
          325000000,
          841490514.9999999,
          39082248,
          25000000,
          2118543497,
          75750000,
          200000000
         ],
         "yaxis": "y"
        },
        {
         "hovertemplate": "MAP=STP atas Bunga Penagihan PPN<br>=%{y}<extra></extra>",
         "legendgroup": "STP atas Bunga Penagihan PPN",
         "line": {
          "color": "#636efa",
          "dash": "solid"
         },
         "marker": {
          "symbol": "circle"
         },
         "mode": "lines",
         "name": "STP atas Bunga Penagihan PPN",
         "orientation": "v",
         "showlegend": true,
         "type": "scatter",
         "x": [
          "2023-02-06T00:00:00",
          "2023-02-14T00:00:00",
          "2023-02-27T00:00:00"
         ],
         "xaxis": "x",
         "y": [
          1562759185,
          1086000,
          1500000
         ],
         "yaxis": "y"
        }
       ],
       "layout": {
        "font": {
         "color": "#018da2"
        },
        "height": 640,
        "legend": {
         "title": {
          "text": "MAP"
         },
         "tracegroupgap": 0
        },
        "margin": {
         "l": 10,
         "pad": 10,
         "r": 10,
         "t": 10
        },
        "plot_bgcolor": "whitesmoke",
        "showlegend": false,
        "template": {
         "data": {
          "bar": [
           {
            "error_x": {
             "color": "#2a3f5f"
            },
            "error_y": {
             "color": "#2a3f5f"
            },
            "marker": {
             "line": {
              "color": "#E5ECF6",
              "width": 0.5
             },
             "pattern": {
              "fillmode": "overlay",
              "size": 10,
              "solidity": 0.2
             }
            },
            "type": "bar"
           }
          ],
          "barpolar": [
           {
            "marker": {
             "line": {
              "color": "#E5ECF6",
              "width": 0.5
             },
             "pattern": {
              "fillmode": "overlay",
              "size": 10,
              "solidity": 0.2
             }
            },
            "type": "barpolar"
           }
          ],
          "carpet": [
           {
            "aaxis": {
             "endlinecolor": "#2a3f5f",
             "gridcolor": "white",
             "linecolor": "white",
             "minorgridcolor": "white",
             "startlinecolor": "#2a3f5f"
            },
            "baxis": {
             "endlinecolor": "#2a3f5f",
             "gridcolor": "white",
             "linecolor": "white",
             "minorgridcolor": "white",
             "startlinecolor": "#2a3f5f"
            },
            "type": "carpet"
           }
          ],
          "choropleth": [
           {
            "colorbar": {
             "outlinewidth": 0,
             "ticks": ""
            },
            "type": "choropleth"
           }
          ],
          "contour": [
           {
            "colorbar": {
             "outlinewidth": 0,
             "ticks": ""
            },
            "colorscale": [
             [
              0,
              "#0d0887"
             ],
             [
              0.1111111111111111,
              "#46039f"
             ],
             [
              0.2222222222222222,
              "#7201a8"
             ],
             [
              0.3333333333333333,
              "#9c179e"
             ],
             [
              0.4444444444444444,
              "#bd3786"
             ],
             [
              0.5555555555555556,
              "#d8576b"
             ],
             [
              0.6666666666666666,
              "#ed7953"
             ],
             [
              0.7777777777777778,
              "#fb9f3a"
             ],
             [
              0.8888888888888888,
              "#fdca26"
             ],
             [
              1,
              "#f0f921"
             ]
            ],
            "type": "contour"
           }
          ],
          "contourcarpet": [
           {
            "colorbar": {
             "outlinewidth": 0,
             "ticks": ""
            },
            "type": "contourcarpet"
           }
          ],
          "heatmap": [
           {
            "colorbar": {
             "outlinewidth": 0,
             "ticks": ""
            },
            "colorscale": [
             [
              0,
              "#0d0887"
             ],
             [
              0.1111111111111111,
              "#46039f"
             ],
             [
              0.2222222222222222,
              "#7201a8"
             ],
             [
              0.3333333333333333,
              "#9c179e"
             ],
             [
              0.4444444444444444,
              "#bd3786"
             ],
             [
              0.5555555555555556,
              "#d8576b"
             ],
             [
              0.6666666666666666,
              "#ed7953"
             ],
             [
              0.7777777777777778,
              "#fb9f3a"
             ],
             [
              0.8888888888888888,
              "#fdca26"
             ],
             [
              1,
              "#f0f921"
             ]
            ],
            "type": "heatmap"
           }
          ],
          "heatmapgl": [
           {
            "colorbar": {
             "outlinewidth": 0,
             "ticks": ""
            },
            "colorscale": [
             [
              0,
              "#0d0887"
             ],
             [
              0.1111111111111111,
              "#46039f"
             ],
             [
              0.2222222222222222,
              "#7201a8"
             ],
             [
              0.3333333333333333,
              "#9c179e"
             ],
             [
              0.4444444444444444,
              "#bd3786"
             ],
             [
              0.5555555555555556,
              "#d8576b"
             ],
             [
              0.6666666666666666,
              "#ed7953"
             ],
             [
              0.7777777777777778,
              "#fb9f3a"
             ],
             [
              0.8888888888888888,
              "#fdca26"
             ],
             [
              1,
              "#f0f921"
             ]
            ],
            "type": "heatmapgl"
           }
          ],
          "histogram": [
           {
            "marker": {
             "pattern": {
              "fillmode": "overlay",
              "size": 10,
              "solidity": 0.2
             }
            },
            "type": "histogram"
           }
          ],
          "histogram2d": [
           {
            "colorbar": {
             "outlinewidth": 0,
             "ticks": ""
            },
            "colorscale": [
             [
              0,
              "#0d0887"
             ],
             [
              0.1111111111111111,
              "#46039f"
             ],
             [
              0.2222222222222222,
              "#7201a8"
             ],
             [
              0.3333333333333333,
              "#9c179e"
             ],
             [
              0.4444444444444444,
              "#bd3786"
             ],
             [
              0.5555555555555556,
              "#d8576b"
             ],
             [
              0.6666666666666666,
              "#ed7953"
             ],
             [
              0.7777777777777778,
              "#fb9f3a"
             ],
             [
              0.8888888888888888,
              "#fdca26"
             ],
             [
              1,
              "#f0f921"
             ]
            ],
            "type": "histogram2d"
           }
          ],
          "histogram2dcontour": [
           {
            "colorbar": {
             "outlinewidth": 0,
             "ticks": ""
            },
            "colorscale": [
             [
              0,
              "#0d0887"
             ],
             [
              0.1111111111111111,
              "#46039f"
             ],
             [
              0.2222222222222222,
              "#7201a8"
             ],
             [
              0.3333333333333333,
              "#9c179e"
             ],
             [
              0.4444444444444444,
              "#bd3786"
             ],
             [
              0.5555555555555556,
              "#d8576b"
             ],
             [
              0.6666666666666666,
              "#ed7953"
             ],
             [
              0.7777777777777778,
              "#fb9f3a"
             ],
             [
              0.8888888888888888,
              "#fdca26"
             ],
             [
              1,
              "#f0f921"
             ]
            ],
            "type": "histogram2dcontour"
           }
          ],
          "mesh3d": [
           {
            "colorbar": {
             "outlinewidth": 0,
             "ticks": ""
            },
            "type": "mesh3d"
           }
          ],
          "parcoords": [
           {
            "line": {
             "colorbar": {
              "outlinewidth": 0,
              "ticks": ""
             }
            },
            "type": "parcoords"
           }
          ],
          "pie": [
           {
            "automargin": true,
            "type": "pie"
           }
          ],
          "scatter": [
           {
            "fillpattern": {
             "fillmode": "overlay",
             "size": 10,
             "solidity": 0.2
            },
            "type": "scatter"
           }
          ],
          "scatter3d": [
           {
            "line": {
             "colorbar": {
              "outlinewidth": 0,
              "ticks": ""
             }
            },
            "marker": {
             "colorbar": {
              "outlinewidth": 0,
              "ticks": ""
             }
            },
            "type": "scatter3d"
           }
          ],
          "scattercarpet": [
           {
            "marker": {
             "colorbar": {
              "outlinewidth": 0,
              "ticks": ""
             }
            },
            "type": "scattercarpet"
           }
          ],
          "scattergeo": [
           {
            "marker": {
             "colorbar": {
              "outlinewidth": 0,
              "ticks": ""
             }
            },
            "type": "scattergeo"
           }
          ],
          "scattergl": [
           {
            "marker": {
             "colorbar": {
              "outlinewidth": 0,
              "ticks": ""
             }
            },
            "type": "scattergl"
           }
          ],
          "scattermapbox": [
           {
            "marker": {
             "colorbar": {
              "outlinewidth": 0,
              "ticks": ""
             }
            },
            "type": "scattermapbox"
           }
          ],
          "scatterpolar": [
           {
            "marker": {
             "colorbar": {
              "outlinewidth": 0,
              "ticks": ""
             }
            },
            "type": "scatterpolar"
           }
          ],
          "scatterpolargl": [
           {
            "marker": {
             "colorbar": {
              "outlinewidth": 0,
              "ticks": ""
             }
            },
            "type": "scatterpolargl"
           }
          ],
          "scatterternary": [
           {
            "marker": {
             "colorbar": {
              "outlinewidth": 0,
              "ticks": ""
             }
            },
            "type": "scatterternary"
           }
          ],
          "surface": [
           {
            "colorbar": {
             "outlinewidth": 0,
             "ticks": ""
            },
            "colorscale": [
             [
              0,
              "#0d0887"
             ],
             [
              0.1111111111111111,
              "#46039f"
             ],
             [
              0.2222222222222222,
              "#7201a8"
             ],
             [
              0.3333333333333333,
              "#9c179e"
             ],
             [
              0.4444444444444444,
              "#bd3786"
             ],
             [
              0.5555555555555556,
              "#d8576b"
             ],
             [
              0.6666666666666666,
              "#ed7953"
             ],
             [
              0.7777777777777778,
              "#fb9f3a"
             ],
             [
              0.8888888888888888,
              "#fdca26"
             ],
             [
              1,
              "#f0f921"
             ]
            ],
            "type": "surface"
           }
          ],
          "table": [
           {
            "cells": {
             "fill": {
              "color": "#EBF0F8"
             },
             "line": {
              "color": "white"
             }
            },
            "header": {
             "fill": {
              "color": "#C8D4E3"
             },
             "line": {
              "color": "white"
             }
            },
            "type": "table"
           }
          ]
         },
         "layout": {
          "annotationdefaults": {
           "arrowcolor": "#2a3f5f",
           "arrowhead": 0,
           "arrowwidth": 1
          },
          "autotypenumbers": "strict",
          "coloraxis": {
           "colorbar": {
            "outlinewidth": 0,
            "ticks": ""
           }
          },
          "colorscale": {
           "diverging": [
            [
             0,
             "#8e0152"
            ],
            [
             0.1,
             "#c51b7d"
            ],
            [
             0.2,
             "#de77ae"
            ],
            [
             0.3,
             "#f1b6da"
            ],
            [
             0.4,
             "#fde0ef"
            ],
            [
             0.5,
             "#f7f7f7"
            ],
            [
             0.6,
             "#e6f5d0"
            ],
            [
             0.7,
             "#b8e186"
            ],
            [
             0.8,
             "#7fbc41"
            ],
            [
             0.9,
             "#4d9221"
            ],
            [
             1,
             "#276419"
            ]
           ],
           "sequential": [
            [
             0,
             "#0d0887"
            ],
            [
             0.1111111111111111,
             "#46039f"
            ],
            [
             0.2222222222222222,
             "#7201a8"
            ],
            [
             0.3333333333333333,
             "#9c179e"
            ],
            [
             0.4444444444444444,
             "#bd3786"
            ],
            [
             0.5555555555555556,
             "#d8576b"
            ],
            [
             0.6666666666666666,
             "#ed7953"
            ],
            [
             0.7777777777777778,
             "#fb9f3a"
            ],
            [
             0.8888888888888888,
             "#fdca26"
            ],
            [
             1,
             "#f0f921"
            ]
           ],
           "sequentialminus": [
            [
             0,
             "#0d0887"
            ],
            [
             0.1111111111111111,
             "#46039f"
            ],
            [
             0.2222222222222222,
             "#7201a8"
            ],
            [
             0.3333333333333333,
             "#9c179e"
            ],
            [
             0.4444444444444444,
             "#bd3786"
            ],
            [
             0.5555555555555556,
             "#d8576b"
            ],
            [
             0.6666666666666666,
             "#ed7953"
            ],
            [
             0.7777777777777778,
             "#fb9f3a"
            ],
            [
             0.8888888888888888,
             "#fdca26"
            ],
            [
             1,
             "#f0f921"
            ]
           ]
          },
          "colorway": [
           "#636efa",
           "#EF553B",
           "#00cc96",
           "#ab63fa",
           "#FFA15A",
           "#19d3f3",
           "#FF6692",
           "#B6E880",
           "#FF97FF",
           "#FECB52"
          ],
          "font": {
           "color": "#2a3f5f"
          },
          "geo": {
           "bgcolor": "white",
           "lakecolor": "white",
           "landcolor": "#E5ECF6",
           "showlakes": true,
           "showland": true,
           "subunitcolor": "white"
          },
          "hoverlabel": {
           "align": "left"
          },
          "hovermode": "closest",
          "mapbox": {
           "style": "light"
          },
          "paper_bgcolor": "white",
          "plot_bgcolor": "#E5ECF6",
          "polar": {
           "angularaxis": {
            "gridcolor": "white",
            "linecolor": "white",
            "ticks": ""
           },
           "bgcolor": "#E5ECF6",
           "radialaxis": {
            "gridcolor": "white",
            "linecolor": "white",
            "ticks": ""
           }
          },
          "scene": {
           "xaxis": {
            "backgroundcolor": "#E5ECF6",
            "gridcolor": "white",
            "gridwidth": 2,
            "linecolor": "white",
            "showbackground": true,
            "ticks": "",
            "zerolinecolor": "white"
           },
           "yaxis": {
            "backgroundcolor": "#E5ECF6",
            "gridcolor": "white",
            "gridwidth": 2,
            "linecolor": "white",
            "showbackground": true,
            "ticks": "",
            "zerolinecolor": "white"
           },
           "zaxis": {
            "backgroundcolor": "#E5ECF6",
            "gridcolor": "white",
            "gridwidth": 2,
            "linecolor": "white",
            "showbackground": true,
            "ticks": "",
            "zerolinecolor": "white"
           }
          },
          "shapedefaults": {
           "line": {
            "color": "#2a3f5f"
           }
          },
          "ternary": {
           "aaxis": {
            "gridcolor": "white",
            "linecolor": "white",
            "ticks": ""
           },
           "baxis": {
            "gridcolor": "white",
            "linecolor": "white",
            "ticks": ""
           },
           "bgcolor": "#E5ECF6",
           "caxis": {
            "gridcolor": "white",
            "linecolor": "white",
            "ticks": ""
           }
          },
          "title": {
           "x": 0.05
          },
          "xaxis": {
           "automargin": true,
           "gridcolor": "white",
           "linecolor": "white",
           "ticks": "",
           "title": {
            "standoff": 15
           },
           "zerolinecolor": "white",
           "zerolinewidth": 2
          },
          "yaxis": {
           "automargin": true,
           "gridcolor": "white",
           "linecolor": "white",
           "ticks": "",
           "title": {
            "standoff": 15
           },
           "zerolinecolor": "white",
           "zerolinewidth": 2
          }
         }
        },
        "title": {
         "font": {
          "size": 18
         },
         "text": "Penerimaan Pajak Bruto Per MAP",
         "x": 0.5,
         "y": 0.97
        },
        "width": 960,
        "xaxis": {
         "anchor": "y",
         "domain": [
          0,
          1
         ],
         "tickmode": "array",
         "ticktext": [
          "10-Jan-2023",
          "15-Jan-2023",
          "30-Jan-2023",
          "10-Feb-2023",
          "15-Feb-2023",
          "10-Mar-2023",
          "15-Mar-2023",
          "30-Mar-2023"
         ],
         "tickvals": [
          "2023-01-10T00:00:00",
          "2023-01-15T00:00:00",
          "2023-01-30T00:00:00",
          "2023-02-10T00:00:00",
          "2023-02-15T00:00:00",
          "2023-03-10T00:00:00",
          "2023-03-15T00:00:00",
          "2023-03-30T00:00:00"
         ],
         "title": {
          "text": ""
         }
        },
        "yaxis": {
         "anchor": "x",
         "domain": [
          0,
          1
         ],
         "title": {
          "text": ""
         },
         "visible": false
        }
       }
      }
     },
     "metadata": {},
     "output_type": "display_data"
    }
   ],
   "source": [
    "px.line(df[['MAP','NOMINAL','DATEBAYAR','KET']]\n",
    "        .query('KET !=\"SPMKP\"')\n",
    "        .groupby(['MAP','DATEBAYAR'], as_index=False).sum(),\n",
    "        x='DATEBAYAR',\n",
    "        y='NOMINAL',\n",
    "        color='MAP',\n",
    "        labels = {'NOMINAL':'',\n",
    "                'DATEBAYAR':''},\n",
    "        title = 'Penerimaan Pajak Bruto Per MAP',\n",
    "        height=640,width=960\n",
    "        ).update_layout(\n",
    "                title = dict(x=0.5, y=0.97,\n",
    "                        font=dict(size=18)),\n",
    "                yaxis_visible=False,\n",
    "                margin=dict(l=10, r=10, t=10, pad=10),\n",
    "                font=dict(color='#018da2'),\n",
    "                showlegend=False,\n",
    "                plot_bgcolor='whitesmoke'\n",
    "                \n",
    "                # legend=dict(yanchor='bottom',y=0.05,\n",
    "                #             xanchor='right', x=0.05)      \n",
    "        ).update_xaxes(\n",
    "                tickmode='array',\n",
    "                tickvals=tick_dates,\n",
    "                ticktext=tick_text\n",
    "        )"
   ]
  },
  {
   "attachments": {},
   "cell_type": "markdown",
   "metadata": {},
   "source": [
    "# (Bar Chart, Stacked, Grouped)"
   ]
  },
  {
   "cell_type": "code",
   "execution_count": 19,
   "metadata": {},
   "outputs": [],
   "source": [
    "df['DATEBAYAR'] = (pd.to_datetime(df['DATEBAYAR']))"
   ]
  },
  {
   "attachments": {},
   "cell_type": "markdown",
   "metadata": {},
   "source": [
    "### Jenis Pembayaran per bulan"
   ]
  },
  {
   "cell_type": "code",
   "execution_count": 65,
   "metadata": {},
   "outputs": [
    {
     "data": {
      "application/vnd.plotly.v1+json": {
       "config": {
        "plotlyServerURL": "https://plot.ly"
       },
       "data": [
        {
         "alignmentgroup": "True",
         "hovertemplate": "KET=MPN<br>bulan=%{x}<br>NOMINAL=%{y}<br>milyar=%{text}<extra></extra>",
         "legendgroup": "MPN",
         "marker": {
          "color": "#636efa",
          "pattern": {
           "shape": ""
          }
         },
         "name": "MPN",
         "offsetgroup": "MPN",
         "orientation": "v",
         "showlegend": true,
         "text": [
          "2536.77M",
          "2298.76M",
          "2623.97M"
         ],
         "textposition": "auto",
         "type": "bar",
         "x": [
          1,
          2,
          3
         ],
         "xaxis": "x",
         "y": [
          2536769011969.08,
          2298763464407.8,
          2623972739853.96
         ],
         "yaxis": "y"
        },
        {
         "alignmentgroup": "True",
         "hovertemplate": "KET=PBK KIRIM<br>bulan=%{x}<br>NOMINAL=%{y}<br>milyar=%{text}<extra></extra>",
         "legendgroup": "PBK KIRIM",
         "marker": {
          "color": "#EF553B",
          "pattern": {
           "shape": ""
          }
         },
         "name": "PBK KIRIM",
         "offsetgroup": "PBK KIRIM",
         "orientation": "v",
         "showlegend": true,
         "text": [
          "-12.40M",
          "-10.67M",
          "-11.92M"
         ],
         "textposition": "auto",
         "type": "bar",
         "x": [
          1,
          2,
          3
         ],
         "xaxis": "x",
         "y": [
          -12400705737,
          -10672648778,
          -11918504023
         ],
         "yaxis": "y"
        },
        {
         "alignmentgroup": "True",
         "hovertemplate": "KET=PBK TERIMA<br>bulan=%{x}<br>NOMINAL=%{y}<br>milyar=%{text}<extra></extra>",
         "legendgroup": "PBK TERIMA",
         "marker": {
          "color": "#00cc96",
          "pattern": {
           "shape": ""
          }
         },
         "name": "PBK TERIMA",
         "offsetgroup": "PBK TERIMA",
         "orientation": "v",
         "showlegend": true,
         "text": [
          "11.47M",
          "10.20M",
          "12.39M"
         ],
         "textposition": "auto",
         "type": "bar",
         "x": [
          1,
          2,
          3
         ],
         "xaxis": "x",
         "y": [
          11469002980,
          10201419355,
          12388184659
         ],
         "yaxis": "y"
        },
        {
         "alignmentgroup": "True",
         "hovertemplate": "KET=SPM<br>bulan=%{x}<br>NOMINAL=%{y}<br>milyar=%{text}<extra></extra>",
         "legendgroup": "SPM",
         "marker": {
          "color": "#ab63fa",
          "pattern": {
           "shape": ""
          }
         },
         "name": "SPM",
         "offsetgroup": "SPM",
         "orientation": "v",
         "showlegend": true,
         "text": [
          "64.00M",
          "100.45M",
          "171.28M"
         ],
         "textposition": "auto",
         "type": "bar",
         "x": [
          1,
          2,
          3
         ],
         "xaxis": "x",
         "y": [
          63997089453,
          100451470741,
          171282987883
         ],
         "yaxis": "y"
        },
        {
         "alignmentgroup": "True",
         "hovertemplate": "KET=SPMKP<br>bulan=%{x}<br>NOMINAL=%{y}<br>milyar=%{text}<extra></extra>",
         "legendgroup": "SPMKP",
         "marker": {
          "color": "#FFA15A",
          "pattern": {
           "shape": ""
          }
         },
         "name": "SPMKP",
         "offsetgroup": "SPMKP",
         "orientation": "v",
         "showlegend": true,
         "text": [
          "-159.93M",
          "-106.91M",
          "-728.42M"
         ],
         "textposition": "auto",
         "type": "bar",
         "x": [
          1,
          2,
          3
         ],
         "xaxis": "x",
         "y": [
          -159927708415,
          -106905502015,
          -728419580808
         ],
         "yaxis": "y"
        }
       ],
       "layout": {
        "barmode": "relative",
        "legend": {
         "title": {
          "text": "KET"
         },
         "tracegroupgap": 0
        },
        "margin": {
         "t": 60
        },
        "template": {
         "data": {
          "bar": [
           {
            "error_x": {
             "color": "#2a3f5f"
            },
            "error_y": {
             "color": "#2a3f5f"
            },
            "marker": {
             "line": {
              "color": "#E5ECF6",
              "width": 0.5
             },
             "pattern": {
              "fillmode": "overlay",
              "size": 10,
              "solidity": 0.2
             }
            },
            "type": "bar"
           }
          ],
          "barpolar": [
           {
            "marker": {
             "line": {
              "color": "#E5ECF6",
              "width": 0.5
             },
             "pattern": {
              "fillmode": "overlay",
              "size": 10,
              "solidity": 0.2
             }
            },
            "type": "barpolar"
           }
          ],
          "carpet": [
           {
            "aaxis": {
             "endlinecolor": "#2a3f5f",
             "gridcolor": "white",
             "linecolor": "white",
             "minorgridcolor": "white",
             "startlinecolor": "#2a3f5f"
            },
            "baxis": {
             "endlinecolor": "#2a3f5f",
             "gridcolor": "white",
             "linecolor": "white",
             "minorgridcolor": "white",
             "startlinecolor": "#2a3f5f"
            },
            "type": "carpet"
           }
          ],
          "choropleth": [
           {
            "colorbar": {
             "outlinewidth": 0,
             "ticks": ""
            },
            "type": "choropleth"
           }
          ],
          "contour": [
           {
            "colorbar": {
             "outlinewidth": 0,
             "ticks": ""
            },
            "colorscale": [
             [
              0,
              "#0d0887"
             ],
             [
              0.1111111111111111,
              "#46039f"
             ],
             [
              0.2222222222222222,
              "#7201a8"
             ],
             [
              0.3333333333333333,
              "#9c179e"
             ],
             [
              0.4444444444444444,
              "#bd3786"
             ],
             [
              0.5555555555555556,
              "#d8576b"
             ],
             [
              0.6666666666666666,
              "#ed7953"
             ],
             [
              0.7777777777777778,
              "#fb9f3a"
             ],
             [
              0.8888888888888888,
              "#fdca26"
             ],
             [
              1,
              "#f0f921"
             ]
            ],
            "type": "contour"
           }
          ],
          "contourcarpet": [
           {
            "colorbar": {
             "outlinewidth": 0,
             "ticks": ""
            },
            "type": "contourcarpet"
           }
          ],
          "heatmap": [
           {
            "colorbar": {
             "outlinewidth": 0,
             "ticks": ""
            },
            "colorscale": [
             [
              0,
              "#0d0887"
             ],
             [
              0.1111111111111111,
              "#46039f"
             ],
             [
              0.2222222222222222,
              "#7201a8"
             ],
             [
              0.3333333333333333,
              "#9c179e"
             ],
             [
              0.4444444444444444,
              "#bd3786"
             ],
             [
              0.5555555555555556,
              "#d8576b"
             ],
             [
              0.6666666666666666,
              "#ed7953"
             ],
             [
              0.7777777777777778,
              "#fb9f3a"
             ],
             [
              0.8888888888888888,
              "#fdca26"
             ],
             [
              1,
              "#f0f921"
             ]
            ],
            "type": "heatmap"
           }
          ],
          "heatmapgl": [
           {
            "colorbar": {
             "outlinewidth": 0,
             "ticks": ""
            },
            "colorscale": [
             [
              0,
              "#0d0887"
             ],
             [
              0.1111111111111111,
              "#46039f"
             ],
             [
              0.2222222222222222,
              "#7201a8"
             ],
             [
              0.3333333333333333,
              "#9c179e"
             ],
             [
              0.4444444444444444,
              "#bd3786"
             ],
             [
              0.5555555555555556,
              "#d8576b"
             ],
             [
              0.6666666666666666,
              "#ed7953"
             ],
             [
              0.7777777777777778,
              "#fb9f3a"
             ],
             [
              0.8888888888888888,
              "#fdca26"
             ],
             [
              1,
              "#f0f921"
             ]
            ],
            "type": "heatmapgl"
           }
          ],
          "histogram": [
           {
            "marker": {
             "pattern": {
              "fillmode": "overlay",
              "size": 10,
              "solidity": 0.2
             }
            },
            "type": "histogram"
           }
          ],
          "histogram2d": [
           {
            "colorbar": {
             "outlinewidth": 0,
             "ticks": ""
            },
            "colorscale": [
             [
              0,
              "#0d0887"
             ],
             [
              0.1111111111111111,
              "#46039f"
             ],
             [
              0.2222222222222222,
              "#7201a8"
             ],
             [
              0.3333333333333333,
              "#9c179e"
             ],
             [
              0.4444444444444444,
              "#bd3786"
             ],
             [
              0.5555555555555556,
              "#d8576b"
             ],
             [
              0.6666666666666666,
              "#ed7953"
             ],
             [
              0.7777777777777778,
              "#fb9f3a"
             ],
             [
              0.8888888888888888,
              "#fdca26"
             ],
             [
              1,
              "#f0f921"
             ]
            ],
            "type": "histogram2d"
           }
          ],
          "histogram2dcontour": [
           {
            "colorbar": {
             "outlinewidth": 0,
             "ticks": ""
            },
            "colorscale": [
             [
              0,
              "#0d0887"
             ],
             [
              0.1111111111111111,
              "#46039f"
             ],
             [
              0.2222222222222222,
              "#7201a8"
             ],
             [
              0.3333333333333333,
              "#9c179e"
             ],
             [
              0.4444444444444444,
              "#bd3786"
             ],
             [
              0.5555555555555556,
              "#d8576b"
             ],
             [
              0.6666666666666666,
              "#ed7953"
             ],
             [
              0.7777777777777778,
              "#fb9f3a"
             ],
             [
              0.8888888888888888,
              "#fdca26"
             ],
             [
              1,
              "#f0f921"
             ]
            ],
            "type": "histogram2dcontour"
           }
          ],
          "mesh3d": [
           {
            "colorbar": {
             "outlinewidth": 0,
             "ticks": ""
            },
            "type": "mesh3d"
           }
          ],
          "parcoords": [
           {
            "line": {
             "colorbar": {
              "outlinewidth": 0,
              "ticks": ""
             }
            },
            "type": "parcoords"
           }
          ],
          "pie": [
           {
            "automargin": true,
            "type": "pie"
           }
          ],
          "scatter": [
           {
            "fillpattern": {
             "fillmode": "overlay",
             "size": 10,
             "solidity": 0.2
            },
            "type": "scatter"
           }
          ],
          "scatter3d": [
           {
            "line": {
             "colorbar": {
              "outlinewidth": 0,
              "ticks": ""
             }
            },
            "marker": {
             "colorbar": {
              "outlinewidth": 0,
              "ticks": ""
             }
            },
            "type": "scatter3d"
           }
          ],
          "scattercarpet": [
           {
            "marker": {
             "colorbar": {
              "outlinewidth": 0,
              "ticks": ""
             }
            },
            "type": "scattercarpet"
           }
          ],
          "scattergeo": [
           {
            "marker": {
             "colorbar": {
              "outlinewidth": 0,
              "ticks": ""
             }
            },
            "type": "scattergeo"
           }
          ],
          "scattergl": [
           {
            "marker": {
             "colorbar": {
              "outlinewidth": 0,
              "ticks": ""
             }
            },
            "type": "scattergl"
           }
          ],
          "scattermapbox": [
           {
            "marker": {
             "colorbar": {
              "outlinewidth": 0,
              "ticks": ""
             }
            },
            "type": "scattermapbox"
           }
          ],
          "scatterpolar": [
           {
            "marker": {
             "colorbar": {
              "outlinewidth": 0,
              "ticks": ""
             }
            },
            "type": "scatterpolar"
           }
          ],
          "scatterpolargl": [
           {
            "marker": {
             "colorbar": {
              "outlinewidth": 0,
              "ticks": ""
             }
            },
            "type": "scatterpolargl"
           }
          ],
          "scatterternary": [
           {
            "marker": {
             "colorbar": {
              "outlinewidth": 0,
              "ticks": ""
             }
            },
            "type": "scatterternary"
           }
          ],
          "surface": [
           {
            "colorbar": {
             "outlinewidth": 0,
             "ticks": ""
            },
            "colorscale": [
             [
              0,
              "#0d0887"
             ],
             [
              0.1111111111111111,
              "#46039f"
             ],
             [
              0.2222222222222222,
              "#7201a8"
             ],
             [
              0.3333333333333333,
              "#9c179e"
             ],
             [
              0.4444444444444444,
              "#bd3786"
             ],
             [
              0.5555555555555556,
              "#d8576b"
             ],
             [
              0.6666666666666666,
              "#ed7953"
             ],
             [
              0.7777777777777778,
              "#fb9f3a"
             ],
             [
              0.8888888888888888,
              "#fdca26"
             ],
             [
              1,
              "#f0f921"
             ]
            ],
            "type": "surface"
           }
          ],
          "table": [
           {
            "cells": {
             "fill": {
              "color": "#EBF0F8"
             },
             "line": {
              "color": "white"
             }
            },
            "header": {
             "fill": {
              "color": "#C8D4E3"
             },
             "line": {
              "color": "white"
             }
            },
            "type": "table"
           }
          ]
         },
         "layout": {
          "annotationdefaults": {
           "arrowcolor": "#2a3f5f",
           "arrowhead": 0,
           "arrowwidth": 1
          },
          "autotypenumbers": "strict",
          "coloraxis": {
           "colorbar": {
            "outlinewidth": 0,
            "ticks": ""
           }
          },
          "colorscale": {
           "diverging": [
            [
             0,
             "#8e0152"
            ],
            [
             0.1,
             "#c51b7d"
            ],
            [
             0.2,
             "#de77ae"
            ],
            [
             0.3,
             "#f1b6da"
            ],
            [
             0.4,
             "#fde0ef"
            ],
            [
             0.5,
             "#f7f7f7"
            ],
            [
             0.6,
             "#e6f5d0"
            ],
            [
             0.7,
             "#b8e186"
            ],
            [
             0.8,
             "#7fbc41"
            ],
            [
             0.9,
             "#4d9221"
            ],
            [
             1,
             "#276419"
            ]
           ],
           "sequential": [
            [
             0,
             "#0d0887"
            ],
            [
             0.1111111111111111,
             "#46039f"
            ],
            [
             0.2222222222222222,
             "#7201a8"
            ],
            [
             0.3333333333333333,
             "#9c179e"
            ],
            [
             0.4444444444444444,
             "#bd3786"
            ],
            [
             0.5555555555555556,
             "#d8576b"
            ],
            [
             0.6666666666666666,
             "#ed7953"
            ],
            [
             0.7777777777777778,
             "#fb9f3a"
            ],
            [
             0.8888888888888888,
             "#fdca26"
            ],
            [
             1,
             "#f0f921"
            ]
           ],
           "sequentialminus": [
            [
             0,
             "#0d0887"
            ],
            [
             0.1111111111111111,
             "#46039f"
            ],
            [
             0.2222222222222222,
             "#7201a8"
            ],
            [
             0.3333333333333333,
             "#9c179e"
            ],
            [
             0.4444444444444444,
             "#bd3786"
            ],
            [
             0.5555555555555556,
             "#d8576b"
            ],
            [
             0.6666666666666666,
             "#ed7953"
            ],
            [
             0.7777777777777778,
             "#fb9f3a"
            ],
            [
             0.8888888888888888,
             "#fdca26"
            ],
            [
             1,
             "#f0f921"
            ]
           ]
          },
          "colorway": [
           "#636efa",
           "#EF553B",
           "#00cc96",
           "#ab63fa",
           "#FFA15A",
           "#19d3f3",
           "#FF6692",
           "#B6E880",
           "#FF97FF",
           "#FECB52"
          ],
          "font": {
           "color": "#2a3f5f"
          },
          "geo": {
           "bgcolor": "white",
           "lakecolor": "white",
           "landcolor": "#E5ECF6",
           "showlakes": true,
           "showland": true,
           "subunitcolor": "white"
          },
          "hoverlabel": {
           "align": "left"
          },
          "hovermode": "closest",
          "mapbox": {
           "style": "light"
          },
          "paper_bgcolor": "white",
          "plot_bgcolor": "#E5ECF6",
          "polar": {
           "angularaxis": {
            "gridcolor": "white",
            "linecolor": "white",
            "ticks": ""
           },
           "bgcolor": "#E5ECF6",
           "radialaxis": {
            "gridcolor": "white",
            "linecolor": "white",
            "ticks": ""
           }
          },
          "scene": {
           "xaxis": {
            "backgroundcolor": "#E5ECF6",
            "gridcolor": "white",
            "gridwidth": 2,
            "linecolor": "white",
            "showbackground": true,
            "ticks": "",
            "zerolinecolor": "white"
           },
           "yaxis": {
            "backgroundcolor": "#E5ECF6",
            "gridcolor": "white",
            "gridwidth": 2,
            "linecolor": "white",
            "showbackground": true,
            "ticks": "",
            "zerolinecolor": "white"
           },
           "zaxis": {
            "backgroundcolor": "#E5ECF6",
            "gridcolor": "white",
            "gridwidth": 2,
            "linecolor": "white",
            "showbackground": true,
            "ticks": "",
            "zerolinecolor": "white"
           }
          },
          "shapedefaults": {
           "line": {
            "color": "#2a3f5f"
           }
          },
          "ternary": {
           "aaxis": {
            "gridcolor": "white",
            "linecolor": "white",
            "ticks": ""
           },
           "baxis": {
            "gridcolor": "white",
            "linecolor": "white",
            "ticks": ""
           },
           "bgcolor": "#E5ECF6",
           "caxis": {
            "gridcolor": "white",
            "linecolor": "white",
            "ticks": ""
           }
          },
          "title": {
           "x": 0.05
          },
          "xaxis": {
           "automargin": true,
           "gridcolor": "white",
           "linecolor": "white",
           "ticks": "",
           "title": {
            "standoff": 15
           },
           "zerolinecolor": "white",
           "zerolinewidth": 2
          },
          "yaxis": {
           "automargin": true,
           "gridcolor": "white",
           "linecolor": "white",
           "ticks": "",
           "title": {
            "standoff": 15
           },
           "zerolinecolor": "white",
           "zerolinewidth": 2
          }
         }
        },
        "xaxis": {
         "anchor": "y",
         "domain": [
          0,
          1
         ],
         "title": {
          "text": "bulan"
         },
         "visible": false
        },
        "yaxis": {
         "anchor": "x",
         "domain": [
          0,
          1
         ],
         "title": {
          "text": "NOMINAL"
         },
         "visible": false
        }
       }
      }
     },
     "metadata": {},
     "output_type": "display_data"
    }
   ],
   "source": [
    "px.bar(df[['MAP','NOMINAL','DATEBAYAR','KET']]\n",
    "        .query('DATEBAYAR>20230101')\n",
    "        .assign(bulan = df['DATEBAYAR'].dt.month)\n",
    "        .groupby(['KET','bulan'], as_index=False)['NOMINAL'].sum()\n",
    "        .assign(milyar = lambda y:(y['NOMINAL']/1000000000).apply(lambda z:'{:.2f}M'.format(z))),\n",
    "        x='bulan',\n",
    "        y='NOMINAL',\n",
    "        color = 'KET',\n",
    "        text= 'milyar'\n",
    ").update_layout(\n",
    "    xaxis_visible=False, \n",
    "    yaxis_visible=False\n",
    ")"
   ]
  },
  {
   "cell_type": "code",
   "execution_count": 71,
   "metadata": {},
   "outputs": [],
   "source": [
    "monthly_dates = pd.date_range(start=df['DATEBAYAR'].min(), end=df['DATEBAYAR'].max(), freq='M') # Get the start of each month\n",
    "tick_dates = [date for date in monthly_dates] # Filter for the desired dates\n",
    "tick_text = [d.strftime('%B-%Y') for d in tick_dates]"
   ]
  },
  {
   "cell_type": "code",
   "execution_count": 79,
   "metadata": {},
   "outputs": [
    {
     "data": {
      "text/plain": [
       "['December-2022', 'January-2023', 'February-2023']"
      ]
     },
     "execution_count": 79,
     "metadata": {},
     "output_type": "execute_result"
    }
   ],
   "source": [
    "tick_text"
   ]
  },
  {
   "cell_type": "code",
   "execution_count": 93,
   "metadata": {},
   "outputs": [
    {
     "data": {
      "application/vnd.plotly.v1+json": {
       "config": {
        "plotlyServerURL": "https://plot.ly"
       },
       "data": [
        {
         "alignmentgroup": "True",
         "hovertemplate": "MAP=Bea Meterai<br>=%{y}<extra></extra>",
         "legendgroup": "Bea Meterai",
         "marker": {
          "color": "#636efa",
          "pattern": {
           "shape": ""
          }
         },
         "name": "Bea Meterai",
         "offsetgroup": "Bea Meterai",
         "orientation": "v",
         "showlegend": true,
         "textposition": "auto",
         "type": "bar",
         "x": [
          "February",
          "January",
          "March"
         ],
         "xaxis": "x",
         "y": [
          786720000,
          718117000,
          1511390000
         ],
         "yaxis": "y"
        },
        {
         "alignmentgroup": "True",
         "hovertemplate": "MAP=PPN DN<br>=%{y}<extra></extra>",
         "legendgroup": "PPN DN",
         "marker": {
          "color": "#EF553B",
          "pattern": {
           "shape": ""
          }
         },
         "name": "PPN DN",
         "offsetgroup": "PPN DN",
         "orientation": "v",
         "showlegend": true,
         "textposition": "auto",
         "type": "bar",
         "x": [
          "February",
          "January",
          "March"
         ],
         "xaxis": "x",
         "y": [
          804715392749,
          1050449892710,
          986754574772
         ],
         "yaxis": "y"
        },
        {
         "alignmentgroup": "True",
         "hovertemplate": "MAP=PPN Impor<br>=%{y}<extra></extra>",
         "legendgroup": "PPN Impor",
         "marker": {
          "color": "#00cc96",
          "pattern": {
           "shape": ""
          }
         },
         "name": "PPN Impor",
         "offsetgroup": "PPN Impor",
         "orientation": "v",
         "showlegend": true,
         "textposition": "auto",
         "type": "bar",
         "x": [
          "February",
          "January",
          "March"
         ],
         "xaxis": "x",
         "y": [
          456896514803,
          309952085000,
          443117270521
         ],
         "yaxis": "y"
        },
        {
         "alignmentgroup": "True",
         "hovertemplate": "MAP=PPN Lainnya<br>=%{y}<extra></extra>",
         "legendgroup": "PPN Lainnya",
         "marker": {
          "color": "#ab63fa",
          "pattern": {
           "shape": ""
          }
         },
         "name": "PPN Lainnya",
         "offsetgroup": "PPN Lainnya",
         "orientation": "v",
         "showlegend": true,
         "textposition": "auto",
         "type": "bar",
         "x": [
          "February",
          "January",
          "March"
         ],
         "xaxis": "x",
         "y": [
          35883097,
          159951992,
          29416754.000000004
         ],
         "yaxis": "y"
        },
        {
         "alignmentgroup": "True",
         "hovertemplate": "MAP=PPh 21<br>=%{y}<extra></extra>",
         "legendgroup": "PPh 21",
         "marker": {
          "color": "#FFA15A",
          "pattern": {
           "shape": ""
          }
         },
         "name": "PPh 21",
         "offsetgroup": "PPh 21",
         "orientation": "v",
         "showlegend": true,
         "textposition": "auto",
         "type": "bar",
         "x": [
          "February",
          "January",
          "March"
         ],
         "xaxis": "x",
         "y": [
          217066665667,
          331123611970,
          192263570343
         ],
         "yaxis": "y"
        },
        {
         "alignmentgroup": "True",
         "hovertemplate": "MAP=PPh 22<br>=%{y}<extra></extra>",
         "legendgroup": "PPh 22",
         "marker": {
          "color": "#19d3f3",
          "pattern": {
           "shape": ""
          }
         },
         "name": "PPh 22",
         "offsetgroup": "PPh 22",
         "orientation": "v",
         "showlegend": true,
         "textposition": "auto",
         "type": "bar",
         "x": [
          "February",
          "January",
          "March"
         ],
         "xaxis": "x",
         "y": [
          24633383897,
          22454976055,
          27545317260
         ],
         "yaxis": "y"
        },
        {
         "alignmentgroup": "True",
         "hovertemplate": "MAP=PPh 22 Impor<br>=%{y}<extra></extra>",
         "legendgroup": "PPh 22 Impor",
         "marker": {
          "color": "#FF6692",
          "pattern": {
           "shape": ""
          }
         },
         "name": "PPh 22 Impor",
         "offsetgroup": "PPh 22 Impor",
         "orientation": "v",
         "showlegend": true,
         "textposition": "auto",
         "type": "bar",
         "x": [
          "February",
          "January",
          "March"
         ],
         "xaxis": "x",
         "y": [
          139364701649,
          111814667521,
          165142484614
         ],
         "yaxis": "y"
        },
        {
         "alignmentgroup": "True",
         "hovertemplate": "MAP=PPh 23<br>=%{y}<extra></extra>",
         "legendgroup": "PPh 23",
         "marker": {
          "color": "#B6E880",
          "pattern": {
           "shape": ""
          }
         },
         "name": "PPh 23",
         "offsetgroup": "PPh 23",
         "orientation": "v",
         "showlegend": true,
         "textposition": "auto",
         "type": "bar",
         "x": [
          "February",
          "January",
          "March"
         ],
         "xaxis": "x",
         "y": [
          101227799678,
          161924673063,
          97940618248
         ],
         "yaxis": "y"
        },
        {
         "alignmentgroup": "True",
         "hovertemplate": "MAP=PPh 25 Badan<br>=%{y}<extra></extra>",
         "legendgroup": "PPh 25 Badan",
         "marker": {
          "color": "#FF97FF",
          "pattern": {
           "shape": ""
          }
         },
         "name": "PPh 25 Badan",
         "offsetgroup": "PPh 25 Badan",
         "orientation": "v",
         "showlegend": true,
         "textposition": "auto",
         "type": "bar",
         "x": [
          "February",
          "January",
          "March"
         ],
         "xaxis": "x",
         "y": [
          418954789020.8,
          402424214357.08,
          434059851501.96
         ],
         "yaxis": "y"
        },
        {
         "alignmentgroup": "True",
         "hovertemplate": "MAP=PPh 25 OP<br>=%{y}<extra></extra>",
         "legendgroup": "PPh 25 OP",
         "marker": {
          "color": "#FECB52",
          "pattern": {
           "shape": ""
          }
         },
         "name": "PPh 25 OP",
         "offsetgroup": "PPh 25 OP",
         "orientation": "v",
         "showlegend": true,
         "textposition": "auto",
         "type": "bar",
         "x": [
          "February",
          "January",
          "March"
         ],
         "xaxis": "x",
         "y": [
          27204388933,
          14054817438,
          239475720066
         ],
         "yaxis": "y"
        },
        {
         "alignmentgroup": "True",
         "hovertemplate": "MAP=PPh 26<br>=%{y}<extra></extra>",
         "legendgroup": "PPh 26",
         "marker": {
          "color": "#636efa",
          "pattern": {
           "shape": ""
          }
         },
         "name": "PPh 26",
         "offsetgroup": "PPh 26",
         "orientation": "v",
         "showlegend": true,
         "textposition": "auto",
         "type": "bar",
         "x": [
          "February",
          "January",
          "March"
         ],
         "xaxis": "x",
         "y": [
          10523402972,
          42451242233.00001,
          10907661027
         ],
         "yaxis": "y"
        },
        {
         "alignmentgroup": "True",
         "hovertemplate": "MAP=PPh Final<br>=%{y}<extra></extra>",
         "legendgroup": "PPh Final",
         "marker": {
          "color": "#EF553B",
          "pattern": {
           "shape": ""
          }
         },
         "name": "PPh Final",
         "offsetgroup": "PPh Final",
         "orientation": "v",
         "showlegend": true,
         "textposition": "auto",
         "type": "bar",
         "x": [
          "February",
          "January",
          "March"
         ],
         "xaxis": "x",
         "y": [
          148580930391,
          191341160573,
          143025025587
         ],
         "yaxis": "y"
        },
        {
         "alignmentgroup": "True",
         "hovertemplate": "MAP=PPh Migas Lainnya<br>=%{y}<extra></extra>",
         "legendgroup": "PPh Migas Lainnya",
         "marker": {
          "color": "#00cc96",
          "pattern": {
           "shape": ""
          }
         },
         "name": "PPh Migas Lainnya",
         "offsetgroup": "PPh Migas Lainnya",
         "orientation": "v",
         "showlegend": true,
         "textposition": "auto",
         "type": "bar",
         "x": [
          "February"
         ],
         "xaxis": "x",
         "y": [
          5212333
         ],
         "yaxis": "y"
        },
        {
         "alignmentgroup": "True",
         "hovertemplate": "MAP=PPh Minyak Bumi<br>=%{y}<extra></extra>",
         "legendgroup": "PPh Minyak Bumi",
         "marker": {
          "color": "#ab63fa",
          "pattern": {
           "shape": ""
          }
         },
         "name": "PPh Minyak Bumi",
         "offsetgroup": "PPh Minyak Bumi",
         "orientation": "v",
         "showlegend": true,
         "textposition": "auto",
         "type": "bar",
         "x": [
          "March"
         ],
         "xaxis": "x",
         "y": [
          0
         ],
         "yaxis": "y"
        },
        {
         "alignmentgroup": "True",
         "hovertemplate": "MAP=PPh Non Migas Lainnya<br>=%{y}<extra></extra>",
         "legendgroup": "PPh Non Migas Lainnya",
         "marker": {
          "color": "#FFA15A",
          "pattern": {
           "shape": ""
          }
         },
         "name": "PPh Non Migas Lainnya",
         "offsetgroup": "PPh Non Migas Lainnya",
         "orientation": "v",
         "showlegend": true,
         "textposition": "auto",
         "type": "bar",
         "x": [
          "February",
          "January",
          "March"
         ],
         "xaxis": "x",
         "y": [
          110301453,
          293496993,
          185469993
         ],
         "yaxis": "y"
        },
        {
         "alignmentgroup": "True",
         "hovertemplate": "MAP=PPnBM DN<br>=%{y}<extra></extra>",
         "legendgroup": "PPnBM DN",
         "marker": {
          "color": "#19d3f3",
          "pattern": {
           "shape": ""
          }
         },
         "name": "PPnBM DN",
         "offsetgroup": "PPnBM DN",
         "orientation": "v",
         "showlegend": true,
         "textposition": "auto",
         "type": "bar",
         "x": [
          "February",
          "January",
          "March"
         ],
         "xaxis": "x",
         "y": [
          1996240650,
          184320740,
          1928958189
         ],
         "yaxis": "y"
        },
        {
         "alignmentgroup": "True",
         "hovertemplate": "MAP=PPnBM Impor<br>=%{y}<extra></extra>",
         "legendgroup": "PPnBM Impor",
         "marker": {
          "color": "#FF6692",
          "pattern": {
           "shape": ""
          }
         },
         "name": "PPnBM Impor",
         "offsetgroup": "PPnBM Impor",
         "orientation": "v",
         "showlegend": true,
         "textposition": "auto",
         "type": "bar",
         "x": [
          "February",
          "January",
          "March"
         ],
         "xaxis": "x",
         "y": [
          45011951000,
          10218413000,
          49443666000
         ],
         "yaxis": "y"
        },
        {
         "alignmentgroup": "True",
         "hovertemplate": "MAP=PPnBM Lainnya<br>=%{y}<extra></extra>",
         "legendgroup": "PPnBM Lainnya",
         "marker": {
          "color": "#B6E880",
          "pattern": {
           "shape": ""
          }
         },
         "name": "PPnBM Lainnya",
         "offsetgroup": "PPnBM Lainnya",
         "orientation": "v",
         "showlegend": true,
         "textposition": "auto",
         "type": "bar",
         "x": [
          "February"
         ],
         "xaxis": "x",
         "y": [
          0
         ],
         "yaxis": "y"
        },
        {
         "alignmentgroup": "True",
         "hovertemplate": "MAP=Pajak Tidak Langsung<br>=%{y}<extra></extra>",
         "legendgroup": "Pajak Tidak Langsung",
         "marker": {
          "color": "#FF97FF",
          "pattern": {
           "shape": ""
          }
         },
         "name": "Pajak Tidak Langsung",
         "offsetgroup": "Pajak Tidak Langsung",
         "orientation": "v",
         "showlegend": true,
         "textposition": "auto",
         "type": "bar",
         "x": [
          "January",
          "March"
         ],
         "xaxis": "x",
         "y": [
          2235081,
          120000
         ],
         "yaxis": "y"
        },
        {
         "alignmentgroup": "True",
         "hovertemplate": "MAP=STP atas Bunga Penagihan<br>=%{y}<extra></extra>",
         "legendgroup": "STP atas Bunga Penagihan",
         "marker": {
          "color": "#FECB52",
          "pattern": {
           "shape": ""
          }
         },
         "name": "STP atas Bunga Penagihan",
         "offsetgroup": "STP atas Bunga Penagihan",
         "orientation": "v",
         "showlegend": true,
         "textposition": "auto",
         "type": "bar",
         "x": [
          "February",
          "January",
          "March"
         ],
         "xaxis": "x",
         "y": [
          64082248,
          1166490515,
          2394293497
         ],
         "yaxis": "y"
        },
        {
         "alignmentgroup": "True",
         "hovertemplate": "MAP=STP atas Bunga Penagihan PPN<br>=%{y}<extra></extra>",
         "legendgroup": "STP atas Bunga Penagihan PPN",
         "marker": {
          "color": "#636efa",
          "pattern": {
           "shape": ""
          }
         },
         "name": "STP atas Bunga Penagihan PPN",
         "offsetgroup": "STP atas Bunga Penagihan PPN",
         "orientation": "v",
         "showlegend": true,
         "textposition": "auto",
         "type": "bar",
         "x": [
          "February"
         ],
         "xaxis": "x",
         "y": [
          1565345185
         ],
         "yaxis": "y"
        }
       ],
       "layout": {
        "barmode": "group",
        "font": {
         "color": "#018da2"
        },
        "legend": {
         "title": {
          "text": "MAP"
         },
         "tracegroupgap": 0
        },
        "margin": {
         "l": 10,
         "pad": 10,
         "r": 10,
         "t": 10
        },
        "plot_bgcolor": "whitesmoke",
        "showlegend": false,
        "template": {
         "data": {
          "bar": [
           {
            "error_x": {
             "color": "#2a3f5f"
            },
            "error_y": {
             "color": "#2a3f5f"
            },
            "marker": {
             "line": {
              "color": "#E5ECF6",
              "width": 0.5
             },
             "pattern": {
              "fillmode": "overlay",
              "size": 10,
              "solidity": 0.2
             }
            },
            "type": "bar"
           }
          ],
          "barpolar": [
           {
            "marker": {
             "line": {
              "color": "#E5ECF6",
              "width": 0.5
             },
             "pattern": {
              "fillmode": "overlay",
              "size": 10,
              "solidity": 0.2
             }
            },
            "type": "barpolar"
           }
          ],
          "carpet": [
           {
            "aaxis": {
             "endlinecolor": "#2a3f5f",
             "gridcolor": "white",
             "linecolor": "white",
             "minorgridcolor": "white",
             "startlinecolor": "#2a3f5f"
            },
            "baxis": {
             "endlinecolor": "#2a3f5f",
             "gridcolor": "white",
             "linecolor": "white",
             "minorgridcolor": "white",
             "startlinecolor": "#2a3f5f"
            },
            "type": "carpet"
           }
          ],
          "choropleth": [
           {
            "colorbar": {
             "outlinewidth": 0,
             "ticks": ""
            },
            "type": "choropleth"
           }
          ],
          "contour": [
           {
            "colorbar": {
             "outlinewidth": 0,
             "ticks": ""
            },
            "colorscale": [
             [
              0,
              "#0d0887"
             ],
             [
              0.1111111111111111,
              "#46039f"
             ],
             [
              0.2222222222222222,
              "#7201a8"
             ],
             [
              0.3333333333333333,
              "#9c179e"
             ],
             [
              0.4444444444444444,
              "#bd3786"
             ],
             [
              0.5555555555555556,
              "#d8576b"
             ],
             [
              0.6666666666666666,
              "#ed7953"
             ],
             [
              0.7777777777777778,
              "#fb9f3a"
             ],
             [
              0.8888888888888888,
              "#fdca26"
             ],
             [
              1,
              "#f0f921"
             ]
            ],
            "type": "contour"
           }
          ],
          "contourcarpet": [
           {
            "colorbar": {
             "outlinewidth": 0,
             "ticks": ""
            },
            "type": "contourcarpet"
           }
          ],
          "heatmap": [
           {
            "colorbar": {
             "outlinewidth": 0,
             "ticks": ""
            },
            "colorscale": [
             [
              0,
              "#0d0887"
             ],
             [
              0.1111111111111111,
              "#46039f"
             ],
             [
              0.2222222222222222,
              "#7201a8"
             ],
             [
              0.3333333333333333,
              "#9c179e"
             ],
             [
              0.4444444444444444,
              "#bd3786"
             ],
             [
              0.5555555555555556,
              "#d8576b"
             ],
             [
              0.6666666666666666,
              "#ed7953"
             ],
             [
              0.7777777777777778,
              "#fb9f3a"
             ],
             [
              0.8888888888888888,
              "#fdca26"
             ],
             [
              1,
              "#f0f921"
             ]
            ],
            "type": "heatmap"
           }
          ],
          "heatmapgl": [
           {
            "colorbar": {
             "outlinewidth": 0,
             "ticks": ""
            },
            "colorscale": [
             [
              0,
              "#0d0887"
             ],
             [
              0.1111111111111111,
              "#46039f"
             ],
             [
              0.2222222222222222,
              "#7201a8"
             ],
             [
              0.3333333333333333,
              "#9c179e"
             ],
             [
              0.4444444444444444,
              "#bd3786"
             ],
             [
              0.5555555555555556,
              "#d8576b"
             ],
             [
              0.6666666666666666,
              "#ed7953"
             ],
             [
              0.7777777777777778,
              "#fb9f3a"
             ],
             [
              0.8888888888888888,
              "#fdca26"
             ],
             [
              1,
              "#f0f921"
             ]
            ],
            "type": "heatmapgl"
           }
          ],
          "histogram": [
           {
            "marker": {
             "pattern": {
              "fillmode": "overlay",
              "size": 10,
              "solidity": 0.2
             }
            },
            "type": "histogram"
           }
          ],
          "histogram2d": [
           {
            "colorbar": {
             "outlinewidth": 0,
             "ticks": ""
            },
            "colorscale": [
             [
              0,
              "#0d0887"
             ],
             [
              0.1111111111111111,
              "#46039f"
             ],
             [
              0.2222222222222222,
              "#7201a8"
             ],
             [
              0.3333333333333333,
              "#9c179e"
             ],
             [
              0.4444444444444444,
              "#bd3786"
             ],
             [
              0.5555555555555556,
              "#d8576b"
             ],
             [
              0.6666666666666666,
              "#ed7953"
             ],
             [
              0.7777777777777778,
              "#fb9f3a"
             ],
             [
              0.8888888888888888,
              "#fdca26"
             ],
             [
              1,
              "#f0f921"
             ]
            ],
            "type": "histogram2d"
           }
          ],
          "histogram2dcontour": [
           {
            "colorbar": {
             "outlinewidth": 0,
             "ticks": ""
            },
            "colorscale": [
             [
              0,
              "#0d0887"
             ],
             [
              0.1111111111111111,
              "#46039f"
             ],
             [
              0.2222222222222222,
              "#7201a8"
             ],
             [
              0.3333333333333333,
              "#9c179e"
             ],
             [
              0.4444444444444444,
              "#bd3786"
             ],
             [
              0.5555555555555556,
              "#d8576b"
             ],
             [
              0.6666666666666666,
              "#ed7953"
             ],
             [
              0.7777777777777778,
              "#fb9f3a"
             ],
             [
              0.8888888888888888,
              "#fdca26"
             ],
             [
              1,
              "#f0f921"
             ]
            ],
            "type": "histogram2dcontour"
           }
          ],
          "mesh3d": [
           {
            "colorbar": {
             "outlinewidth": 0,
             "ticks": ""
            },
            "type": "mesh3d"
           }
          ],
          "parcoords": [
           {
            "line": {
             "colorbar": {
              "outlinewidth": 0,
              "ticks": ""
             }
            },
            "type": "parcoords"
           }
          ],
          "pie": [
           {
            "automargin": true,
            "type": "pie"
           }
          ],
          "scatter": [
           {
            "fillpattern": {
             "fillmode": "overlay",
             "size": 10,
             "solidity": 0.2
            },
            "type": "scatter"
           }
          ],
          "scatter3d": [
           {
            "line": {
             "colorbar": {
              "outlinewidth": 0,
              "ticks": ""
             }
            },
            "marker": {
             "colorbar": {
              "outlinewidth": 0,
              "ticks": ""
             }
            },
            "type": "scatter3d"
           }
          ],
          "scattercarpet": [
           {
            "marker": {
             "colorbar": {
              "outlinewidth": 0,
              "ticks": ""
             }
            },
            "type": "scattercarpet"
           }
          ],
          "scattergeo": [
           {
            "marker": {
             "colorbar": {
              "outlinewidth": 0,
              "ticks": ""
             }
            },
            "type": "scattergeo"
           }
          ],
          "scattergl": [
           {
            "marker": {
             "colorbar": {
              "outlinewidth": 0,
              "ticks": ""
             }
            },
            "type": "scattergl"
           }
          ],
          "scattermapbox": [
           {
            "marker": {
             "colorbar": {
              "outlinewidth": 0,
              "ticks": ""
             }
            },
            "type": "scattermapbox"
           }
          ],
          "scatterpolar": [
           {
            "marker": {
             "colorbar": {
              "outlinewidth": 0,
              "ticks": ""
             }
            },
            "type": "scatterpolar"
           }
          ],
          "scatterpolargl": [
           {
            "marker": {
             "colorbar": {
              "outlinewidth": 0,
              "ticks": ""
             }
            },
            "type": "scatterpolargl"
           }
          ],
          "scatterternary": [
           {
            "marker": {
             "colorbar": {
              "outlinewidth": 0,
              "ticks": ""
             }
            },
            "type": "scatterternary"
           }
          ],
          "surface": [
           {
            "colorbar": {
             "outlinewidth": 0,
             "ticks": ""
            },
            "colorscale": [
             [
              0,
              "#0d0887"
             ],
             [
              0.1111111111111111,
              "#46039f"
             ],
             [
              0.2222222222222222,
              "#7201a8"
             ],
             [
              0.3333333333333333,
              "#9c179e"
             ],
             [
              0.4444444444444444,
              "#bd3786"
             ],
             [
              0.5555555555555556,
              "#d8576b"
             ],
             [
              0.6666666666666666,
              "#ed7953"
             ],
             [
              0.7777777777777778,
              "#fb9f3a"
             ],
             [
              0.8888888888888888,
              "#fdca26"
             ],
             [
              1,
              "#f0f921"
             ]
            ],
            "type": "surface"
           }
          ],
          "table": [
           {
            "cells": {
             "fill": {
              "color": "#EBF0F8"
             },
             "line": {
              "color": "white"
             }
            },
            "header": {
             "fill": {
              "color": "#C8D4E3"
             },
             "line": {
              "color": "white"
             }
            },
            "type": "table"
           }
          ]
         },
         "layout": {
          "annotationdefaults": {
           "arrowcolor": "#2a3f5f",
           "arrowhead": 0,
           "arrowwidth": 1
          },
          "autotypenumbers": "strict",
          "coloraxis": {
           "colorbar": {
            "outlinewidth": 0,
            "ticks": ""
           }
          },
          "colorscale": {
           "diverging": [
            [
             0,
             "#8e0152"
            ],
            [
             0.1,
             "#c51b7d"
            ],
            [
             0.2,
             "#de77ae"
            ],
            [
             0.3,
             "#f1b6da"
            ],
            [
             0.4,
             "#fde0ef"
            ],
            [
             0.5,
             "#f7f7f7"
            ],
            [
             0.6,
             "#e6f5d0"
            ],
            [
             0.7,
             "#b8e186"
            ],
            [
             0.8,
             "#7fbc41"
            ],
            [
             0.9,
             "#4d9221"
            ],
            [
             1,
             "#276419"
            ]
           ],
           "sequential": [
            [
             0,
             "#0d0887"
            ],
            [
             0.1111111111111111,
             "#46039f"
            ],
            [
             0.2222222222222222,
             "#7201a8"
            ],
            [
             0.3333333333333333,
             "#9c179e"
            ],
            [
             0.4444444444444444,
             "#bd3786"
            ],
            [
             0.5555555555555556,
             "#d8576b"
            ],
            [
             0.6666666666666666,
             "#ed7953"
            ],
            [
             0.7777777777777778,
             "#fb9f3a"
            ],
            [
             0.8888888888888888,
             "#fdca26"
            ],
            [
             1,
             "#f0f921"
            ]
           ],
           "sequentialminus": [
            [
             0,
             "#0d0887"
            ],
            [
             0.1111111111111111,
             "#46039f"
            ],
            [
             0.2222222222222222,
             "#7201a8"
            ],
            [
             0.3333333333333333,
             "#9c179e"
            ],
            [
             0.4444444444444444,
             "#bd3786"
            ],
            [
             0.5555555555555556,
             "#d8576b"
            ],
            [
             0.6666666666666666,
             "#ed7953"
            ],
            [
             0.7777777777777778,
             "#fb9f3a"
            ],
            [
             0.8888888888888888,
             "#fdca26"
            ],
            [
             1,
             "#f0f921"
            ]
           ]
          },
          "colorway": [
           "#636efa",
           "#EF553B",
           "#00cc96",
           "#ab63fa",
           "#FFA15A",
           "#19d3f3",
           "#FF6692",
           "#B6E880",
           "#FF97FF",
           "#FECB52"
          ],
          "font": {
           "color": "#2a3f5f"
          },
          "geo": {
           "bgcolor": "white",
           "lakecolor": "white",
           "landcolor": "#E5ECF6",
           "showlakes": true,
           "showland": true,
           "subunitcolor": "white"
          },
          "hoverlabel": {
           "align": "left"
          },
          "hovermode": "closest",
          "mapbox": {
           "style": "light"
          },
          "paper_bgcolor": "white",
          "plot_bgcolor": "#E5ECF6",
          "polar": {
           "angularaxis": {
            "gridcolor": "white",
            "linecolor": "white",
            "ticks": ""
           },
           "bgcolor": "#E5ECF6",
           "radialaxis": {
            "gridcolor": "white",
            "linecolor": "white",
            "ticks": ""
           }
          },
          "scene": {
           "xaxis": {
            "backgroundcolor": "#E5ECF6",
            "gridcolor": "white",
            "gridwidth": 2,
            "linecolor": "white",
            "showbackground": true,
            "ticks": "",
            "zerolinecolor": "white"
           },
           "yaxis": {
            "backgroundcolor": "#E5ECF6",
            "gridcolor": "white",
            "gridwidth": 2,
            "linecolor": "white",
            "showbackground": true,
            "ticks": "",
            "zerolinecolor": "white"
           },
           "zaxis": {
            "backgroundcolor": "#E5ECF6",
            "gridcolor": "white",
            "gridwidth": 2,
            "linecolor": "white",
            "showbackground": true,
            "ticks": "",
            "zerolinecolor": "white"
           }
          },
          "shapedefaults": {
           "line": {
            "color": "#2a3f5f"
           }
          },
          "ternary": {
           "aaxis": {
            "gridcolor": "white",
            "linecolor": "white",
            "ticks": ""
           },
           "baxis": {
            "gridcolor": "white",
            "linecolor": "white",
            "ticks": ""
           },
           "bgcolor": "#E5ECF6",
           "caxis": {
            "gridcolor": "white",
            "linecolor": "white",
            "ticks": ""
           }
          },
          "title": {
           "x": 0.05
          },
          "xaxis": {
           "automargin": true,
           "gridcolor": "white",
           "linecolor": "white",
           "ticks": "",
           "title": {
            "standoff": 15
           },
           "zerolinecolor": "white",
           "zerolinewidth": 2
          },
          "yaxis": {
           "automargin": true,
           "gridcolor": "white",
           "linecolor": "white",
           "ticks": "",
           "title": {
            "standoff": 15
           },
           "zerolinecolor": "white",
           "zerolinewidth": 2
          }
         }
        },
        "title": {
         "font": {
          "size": 18
         },
         "text": "Penerimaan Pajak Bruto Per MAP",
         "x": 0.5,
         "y": 0.97
        },
        "xaxis": {
         "anchor": "y",
         "categoryarray": [
          "January",
          "February",
          "March"
         ],
         "categoryorder": "array",
         "domain": [
          0,
          1
         ],
         "title": {
          "text": ""
         }
        },
        "yaxis": {
         "anchor": "x",
         "domain": [
          0,
          1
         ],
         "title": {
          "text": ""
         },
         "visible": false
        }
       }
      }
     },
     "metadata": {},
     "output_type": "display_data"
    }
   ],
   "source": [
    "month = ['January','February','March']\n",
    "px.bar(df[['MAP','NOMINAL','DATEBAYAR','KET']]\n",
    "        .query('KET !=\"SPMKP\" and DATEBAYAR>20221231')\n",
    "        .assign(bulan = df['DATEBAYAR'].dt.month_name())\n",
    "        .groupby(['MAP','bulan'], as_index=False)['NOMINAL'].sum(),\n",
    "        x='bulan',\n",
    "        y='NOMINAL',\n",
    "        color='MAP',\n",
    "        labels = {'NOMINAL':'',\n",
    "                'bulan':''},\n",
    "        title = 'Penerimaan Pajak Bruto Per MAP',\n",
    "        category_orders={'bulan':month}\n",
    "        ).update_layout(\n",
    "                title = dict(x=0.5, y=0.97,\n",
    "                        font=dict(size=18)),\n",
    "                yaxis_visible=False,\n",
    "                margin=dict(l=10, r=10, t=10, pad=10),\n",
    "                font=dict(color='#018da2'),\n",
    "                showlegend=False,\n",
    "                plot_bgcolor='whitesmoke',\n",
    "                barmode='group',\n",
    "   \n",
    "        )"
   ]
  },
  {
   "cell_type": "code",
   "execution_count": 177,
   "metadata": {},
   "outputs": [
    {
     "data": {
      "application/vnd.plotly.v1+json": {
       "config": {
        "plotlyServerURL": "https://plot.ly"
       },
       "data": [
        {
         "alignmentgroup": "True",
         "hovertemplate": "=%{marker.color}<br>text=%{text}<extra></extra>",
         "legendgroup": "",
         "marker": {
          "color": [
           2841919860231,
           1255438854879.84,
           1209965870324,
           740453847980,
           482947116551,
           416321853784,
           361093090989,
           280734926437,
           104674030000,
           151654029164
          ],
          "coloraxis": "coloraxis",
          "pattern": {
           "shape": ""
          }
         },
         "name": "",
         "offsetgroup": "",
         "orientation": "h",
         "showlegend": false,
         "text": [
          "2,841.92M",
          "1,255.44M",
          "1,209.97M",
          "740.45M",
          "482.95M",
          "416.32M",
          "361.09M",
          "280.73M",
          "104.67M",
          "151.65M"
         ],
         "textposition": "auto",
         "type": "bar",
         "x": [
          2841919860231,
          1255438854879.84,
          1209965870324,
          740453847980,
          482947116551,
          416321853784,
          361093090989,
          280734926437,
          104674030000,
          151654029164
         ],
         "xaxis": "x",
         "y": [
          "PPN DN",
          "PPh 25 Badan",
          "PPN Impor",
          "PPh 21",
          "PPh Final",
          "PPh 22 Impor",
          "PPh 23",
          "PPh 25 OP",
          "PPnBM Impor",
          "Lainnya"
         ],
         "yaxis": "y"
        }
       ],
       "layout": {
        "barmode": "relative",
        "coloraxis": {
         "colorbar": {
          "title": {
           "text": ""
          }
         },
         "colorscale": [
          [
           0,
           "rgb(209, 238, 234)"
          ],
          [
           0.16666666666666666,
           "rgb(168, 219, 217)"
          ],
          [
           0.3333333333333333,
           "rgb(133, 196, 201)"
          ],
          [
           0.5,
           "rgb(104, 171, 184)"
          ],
          [
           0.6666666666666666,
           "rgb(79, 144, 166)"
          ],
          [
           0.8333333333333334,
           "rgb(59, 115, 143)"
          ],
          [
           1,
           "rgb(42, 86, 116)"
          ]
         ],
         "showscale": false
        },
        "height": 640,
        "legend": {
         "tracegroupgap": 0
        },
        "margin": {
         "l": 10,
         "r": 10,
         "t": 40
        },
        "plot_bgcolor": "whitesmoke",
        "template": {
         "data": {
          "bar": [
           {
            "error_x": {
             "color": "#2a3f5f"
            },
            "error_y": {
             "color": "#2a3f5f"
            },
            "marker": {
             "line": {
              "color": "#E5ECF6",
              "width": 0.5
             },
             "pattern": {
              "fillmode": "overlay",
              "size": 10,
              "solidity": 0.2
             }
            },
            "type": "bar"
           }
          ],
          "barpolar": [
           {
            "marker": {
             "line": {
              "color": "#E5ECF6",
              "width": 0.5
             },
             "pattern": {
              "fillmode": "overlay",
              "size": 10,
              "solidity": 0.2
             }
            },
            "type": "barpolar"
           }
          ],
          "carpet": [
           {
            "aaxis": {
             "endlinecolor": "#2a3f5f",
             "gridcolor": "white",
             "linecolor": "white",
             "minorgridcolor": "white",
             "startlinecolor": "#2a3f5f"
            },
            "baxis": {
             "endlinecolor": "#2a3f5f",
             "gridcolor": "white",
             "linecolor": "white",
             "minorgridcolor": "white",
             "startlinecolor": "#2a3f5f"
            },
            "type": "carpet"
           }
          ],
          "choropleth": [
           {
            "colorbar": {
             "outlinewidth": 0,
             "ticks": ""
            },
            "type": "choropleth"
           }
          ],
          "contour": [
           {
            "colorbar": {
             "outlinewidth": 0,
             "ticks": ""
            },
            "colorscale": [
             [
              0,
              "#0d0887"
             ],
             [
              0.1111111111111111,
              "#46039f"
             ],
             [
              0.2222222222222222,
              "#7201a8"
             ],
             [
              0.3333333333333333,
              "#9c179e"
             ],
             [
              0.4444444444444444,
              "#bd3786"
             ],
             [
              0.5555555555555556,
              "#d8576b"
             ],
             [
              0.6666666666666666,
              "#ed7953"
             ],
             [
              0.7777777777777778,
              "#fb9f3a"
             ],
             [
              0.8888888888888888,
              "#fdca26"
             ],
             [
              1,
              "#f0f921"
             ]
            ],
            "type": "contour"
           }
          ],
          "contourcarpet": [
           {
            "colorbar": {
             "outlinewidth": 0,
             "ticks": ""
            },
            "type": "contourcarpet"
           }
          ],
          "heatmap": [
           {
            "colorbar": {
             "outlinewidth": 0,
             "ticks": ""
            },
            "colorscale": [
             [
              0,
              "#0d0887"
             ],
             [
              0.1111111111111111,
              "#46039f"
             ],
             [
              0.2222222222222222,
              "#7201a8"
             ],
             [
              0.3333333333333333,
              "#9c179e"
             ],
             [
              0.4444444444444444,
              "#bd3786"
             ],
             [
              0.5555555555555556,
              "#d8576b"
             ],
             [
              0.6666666666666666,
              "#ed7953"
             ],
             [
              0.7777777777777778,
              "#fb9f3a"
             ],
             [
              0.8888888888888888,
              "#fdca26"
             ],
             [
              1,
              "#f0f921"
             ]
            ],
            "type": "heatmap"
           }
          ],
          "heatmapgl": [
           {
            "colorbar": {
             "outlinewidth": 0,
             "ticks": ""
            },
            "colorscale": [
             [
              0,
              "#0d0887"
             ],
             [
              0.1111111111111111,
              "#46039f"
             ],
             [
              0.2222222222222222,
              "#7201a8"
             ],
             [
              0.3333333333333333,
              "#9c179e"
             ],
             [
              0.4444444444444444,
              "#bd3786"
             ],
             [
              0.5555555555555556,
              "#d8576b"
             ],
             [
              0.6666666666666666,
              "#ed7953"
             ],
             [
              0.7777777777777778,
              "#fb9f3a"
             ],
             [
              0.8888888888888888,
              "#fdca26"
             ],
             [
              1,
              "#f0f921"
             ]
            ],
            "type": "heatmapgl"
           }
          ],
          "histogram": [
           {
            "marker": {
             "pattern": {
              "fillmode": "overlay",
              "size": 10,
              "solidity": 0.2
             }
            },
            "type": "histogram"
           }
          ],
          "histogram2d": [
           {
            "colorbar": {
             "outlinewidth": 0,
             "ticks": ""
            },
            "colorscale": [
             [
              0,
              "#0d0887"
             ],
             [
              0.1111111111111111,
              "#46039f"
             ],
             [
              0.2222222222222222,
              "#7201a8"
             ],
             [
              0.3333333333333333,
              "#9c179e"
             ],
             [
              0.4444444444444444,
              "#bd3786"
             ],
             [
              0.5555555555555556,
              "#d8576b"
             ],
             [
              0.6666666666666666,
              "#ed7953"
             ],
             [
              0.7777777777777778,
              "#fb9f3a"
             ],
             [
              0.8888888888888888,
              "#fdca26"
             ],
             [
              1,
              "#f0f921"
             ]
            ],
            "type": "histogram2d"
           }
          ],
          "histogram2dcontour": [
           {
            "colorbar": {
             "outlinewidth": 0,
             "ticks": ""
            },
            "colorscale": [
             [
              0,
              "#0d0887"
             ],
             [
              0.1111111111111111,
              "#46039f"
             ],
             [
              0.2222222222222222,
              "#7201a8"
             ],
             [
              0.3333333333333333,
              "#9c179e"
             ],
             [
              0.4444444444444444,
              "#bd3786"
             ],
             [
              0.5555555555555556,
              "#d8576b"
             ],
             [
              0.6666666666666666,
              "#ed7953"
             ],
             [
              0.7777777777777778,
              "#fb9f3a"
             ],
             [
              0.8888888888888888,
              "#fdca26"
             ],
             [
              1,
              "#f0f921"
             ]
            ],
            "type": "histogram2dcontour"
           }
          ],
          "mesh3d": [
           {
            "colorbar": {
             "outlinewidth": 0,
             "ticks": ""
            },
            "type": "mesh3d"
           }
          ],
          "parcoords": [
           {
            "line": {
             "colorbar": {
              "outlinewidth": 0,
              "ticks": ""
             }
            },
            "type": "parcoords"
           }
          ],
          "pie": [
           {
            "automargin": true,
            "type": "pie"
           }
          ],
          "scatter": [
           {
            "fillpattern": {
             "fillmode": "overlay",
             "size": 10,
             "solidity": 0.2
            },
            "type": "scatter"
           }
          ],
          "scatter3d": [
           {
            "line": {
             "colorbar": {
              "outlinewidth": 0,
              "ticks": ""
             }
            },
            "marker": {
             "colorbar": {
              "outlinewidth": 0,
              "ticks": ""
             }
            },
            "type": "scatter3d"
           }
          ],
          "scattercarpet": [
           {
            "marker": {
             "colorbar": {
              "outlinewidth": 0,
              "ticks": ""
             }
            },
            "type": "scattercarpet"
           }
          ],
          "scattergeo": [
           {
            "marker": {
             "colorbar": {
              "outlinewidth": 0,
              "ticks": ""
             }
            },
            "type": "scattergeo"
           }
          ],
          "scattergl": [
           {
            "marker": {
             "colorbar": {
              "outlinewidth": 0,
              "ticks": ""
             }
            },
            "type": "scattergl"
           }
          ],
          "scattermapbox": [
           {
            "marker": {
             "colorbar": {
              "outlinewidth": 0,
              "ticks": ""
             }
            },
            "type": "scattermapbox"
           }
          ],
          "scatterpolar": [
           {
            "marker": {
             "colorbar": {
              "outlinewidth": 0,
              "ticks": ""
             }
            },
            "type": "scatterpolar"
           }
          ],
          "scatterpolargl": [
           {
            "marker": {
             "colorbar": {
              "outlinewidth": 0,
              "ticks": ""
             }
            },
            "type": "scatterpolargl"
           }
          ],
          "scatterternary": [
           {
            "marker": {
             "colorbar": {
              "outlinewidth": 0,
              "ticks": ""
             }
            },
            "type": "scatterternary"
           }
          ],
          "surface": [
           {
            "colorbar": {
             "outlinewidth": 0,
             "ticks": ""
            },
            "colorscale": [
             [
              0,
              "#0d0887"
             ],
             [
              0.1111111111111111,
              "#46039f"
             ],
             [
              0.2222222222222222,
              "#7201a8"
             ],
             [
              0.3333333333333333,
              "#9c179e"
             ],
             [
              0.4444444444444444,
              "#bd3786"
             ],
             [
              0.5555555555555556,
              "#d8576b"
             ],
             [
              0.6666666666666666,
              "#ed7953"
             ],
             [
              0.7777777777777778,
              "#fb9f3a"
             ],
             [
              0.8888888888888888,
              "#fdca26"
             ],
             [
              1,
              "#f0f921"
             ]
            ],
            "type": "surface"
           }
          ],
          "table": [
           {
            "cells": {
             "fill": {
              "color": "#EBF0F8"
             },
             "line": {
              "color": "white"
             }
            },
            "header": {
             "fill": {
              "color": "#C8D4E3"
             },
             "line": {
              "color": "white"
             }
            },
            "type": "table"
           }
          ]
         },
         "layout": {
          "annotationdefaults": {
           "arrowcolor": "#2a3f5f",
           "arrowhead": 0,
           "arrowwidth": 1
          },
          "autotypenumbers": "strict",
          "coloraxis": {
           "colorbar": {
            "outlinewidth": 0,
            "ticks": ""
           }
          },
          "colorscale": {
           "diverging": [
            [
             0,
             "#8e0152"
            ],
            [
             0.1,
             "#c51b7d"
            ],
            [
             0.2,
             "#de77ae"
            ],
            [
             0.3,
             "#f1b6da"
            ],
            [
             0.4,
             "#fde0ef"
            ],
            [
             0.5,
             "#f7f7f7"
            ],
            [
             0.6,
             "#e6f5d0"
            ],
            [
             0.7,
             "#b8e186"
            ],
            [
             0.8,
             "#7fbc41"
            ],
            [
             0.9,
             "#4d9221"
            ],
            [
             1,
             "#276419"
            ]
           ],
           "sequential": [
            [
             0,
             "#0d0887"
            ],
            [
             0.1111111111111111,
             "#46039f"
            ],
            [
             0.2222222222222222,
             "#7201a8"
            ],
            [
             0.3333333333333333,
             "#9c179e"
            ],
            [
             0.4444444444444444,
             "#bd3786"
            ],
            [
             0.5555555555555556,
             "#d8576b"
            ],
            [
             0.6666666666666666,
             "#ed7953"
            ],
            [
             0.7777777777777778,
             "#fb9f3a"
            ],
            [
             0.8888888888888888,
             "#fdca26"
            ],
            [
             1,
             "#f0f921"
            ]
           ],
           "sequentialminus": [
            [
             0,
             "#0d0887"
            ],
            [
             0.1111111111111111,
             "#46039f"
            ],
            [
             0.2222222222222222,
             "#7201a8"
            ],
            [
             0.3333333333333333,
             "#9c179e"
            ],
            [
             0.4444444444444444,
             "#bd3786"
            ],
            [
             0.5555555555555556,
             "#d8576b"
            ],
            [
             0.6666666666666666,
             "#ed7953"
            ],
            [
             0.7777777777777778,
             "#fb9f3a"
            ],
            [
             0.8888888888888888,
             "#fdca26"
            ],
            [
             1,
             "#f0f921"
            ]
           ]
          },
          "colorway": [
           "#636efa",
           "#EF553B",
           "#00cc96",
           "#ab63fa",
           "#FFA15A",
           "#19d3f3",
           "#FF6692",
           "#B6E880",
           "#FF97FF",
           "#FECB52"
          ],
          "font": {
           "color": "#2a3f5f"
          },
          "geo": {
           "bgcolor": "white",
           "lakecolor": "white",
           "landcolor": "#E5ECF6",
           "showlakes": true,
           "showland": true,
           "subunitcolor": "white"
          },
          "hoverlabel": {
           "align": "left"
          },
          "hovermode": "closest",
          "mapbox": {
           "style": "light"
          },
          "paper_bgcolor": "white",
          "plot_bgcolor": "#E5ECF6",
          "polar": {
           "angularaxis": {
            "gridcolor": "white",
            "linecolor": "white",
            "ticks": ""
           },
           "bgcolor": "#E5ECF6",
           "radialaxis": {
            "gridcolor": "white",
            "linecolor": "white",
            "ticks": ""
           }
          },
          "scene": {
           "xaxis": {
            "backgroundcolor": "#E5ECF6",
            "gridcolor": "white",
            "gridwidth": 2,
            "linecolor": "white",
            "showbackground": true,
            "ticks": "",
            "zerolinecolor": "white"
           },
           "yaxis": {
            "backgroundcolor": "#E5ECF6",
            "gridcolor": "white",
            "gridwidth": 2,
            "linecolor": "white",
            "showbackground": true,
            "ticks": "",
            "zerolinecolor": "white"
           },
           "zaxis": {
            "backgroundcolor": "#E5ECF6",
            "gridcolor": "white",
            "gridwidth": 2,
            "linecolor": "white",
            "showbackground": true,
            "ticks": "",
            "zerolinecolor": "white"
           }
          },
          "shapedefaults": {
           "line": {
            "color": "#2a3f5f"
           }
          },
          "ternary": {
           "aaxis": {
            "gridcolor": "white",
            "linecolor": "white",
            "ticks": ""
           },
           "baxis": {
            "gridcolor": "white",
            "linecolor": "white",
            "ticks": ""
           },
           "bgcolor": "#E5ECF6",
           "caxis": {
            "gridcolor": "white",
            "linecolor": "white",
            "ticks": ""
           }
          },
          "title": {
           "x": 0.05
          },
          "xaxis": {
           "automargin": true,
           "gridcolor": "white",
           "linecolor": "white",
           "ticks": "",
           "title": {
            "standoff": 15
           },
           "zerolinecolor": "white",
           "zerolinewidth": 2
          },
          "yaxis": {
           "automargin": true,
           "gridcolor": "white",
           "linecolor": "white",
           "ticks": "",
           "title": {
            "standoff": 15
           },
           "zerolinecolor": "white",
           "zerolinewidth": 2
          }
         }
        },
        "title": {
         "text": "Penerimaan Per Sektor Bruto 7,845.20 M",
         "x": 0.5,
         "y": 0.97
        },
        "width": 960,
        "xaxis": {
         "anchor": "y",
         "domain": [
          0,
          1
         ],
         "title": {
          "text": ""
         },
         "visible": false
        },
        "yaxis": {
         "anchor": "x",
         "categoryarray": [
          "Lainnya",
          "PPnBM Impor",
          "PPh 25 OP",
          "PPh 23",
          "PPh 22 Impor",
          "PPh Final",
          "PPh 21",
          "PPN Impor",
          "PPh 25 Badan",
          "PPN DN"
         ],
         "categoryorder": "array",
         "domain": [
          0,
          1
         ],
         "title": {
          "text": ""
         }
        }
       }
      }
     },
     "metadata": {},
     "output_type": "display_data"
    }
   ],
   "source": [
    "df_sektor = (df[['MAP','NOMINAL','DATEBAYAR','KET']]\n",
    "             .query('KET !=\"SPMKP\" and DATEBAYAR>20221231'))\n",
    "top9 = (df_sektor\n",
    "        .groupby('MAP', as_index=False)['NOMINAL'].sum()\n",
    "        .nlargest(9,'NOMINAL')\n",
    "        .sort_values(by='NOMINAL', ascending=False)\n",
    "        )\n",
    "other = pd.DataFrame([{'MAP':'Lainnya','NOMINAL':df_sektor['NOMINAL'].sum()-top9['NOMINAL'].sum()}])\n",
    "sektor = pd.concat([top9, other],axis=0,ignore_index=True)\n",
    "total = sektor[\"NOMINAL\"].sum()/1000000000\n",
    "px.bar(sektor\n",
    "       .assign(text = lambda x:(x['NOMINAL']/1000000000).apply(lambda y:'{:,.2f}M'.format(y))),\n",
    "        x='NOMINAL',\n",
    "        y='MAP',\n",
    "        orientation='h',\n",
    "        height=640,width=960,\n",
    "        labels={'MAP':'',\n",
    "                'NOMINAL':''},\n",
    "        text='text',\n",
    "        title=f\"Penerimaan Per Sektor Bruto {'{:,.2f} M'.format(total)}\" ,\n",
    "        category_orders={'MAP':list(sektor['MAP'])},\n",
    "        color='NOMINAL',\n",
    "        color_continuous_scale=px.colors.sequential.Teal\n",
    "        ).update_layout(\n",
    "            plot_bgcolor='whitesmoke',\n",
    "            xaxis_visible=False,\n",
    "            title=dict(x=0.5,y=0.97),\n",
    "            margin=dict(l=10, r=10, t=40),\n",
    "            coloraxis_showscale=False\n",
    "        )"
   ]
  },
  {
   "attachments": {},
   "cell_type": "markdown",
   "metadata": {},
   "source": [
    "# Scatter and Buble Chart"
   ]
  },
  {
   "cell_type": "code",
   "execution_count": 186,
   "metadata": {},
   "outputs": [
    {
     "data": {
      "application/vnd.plotly.v1+json": {
       "config": {
        "plotlyServerURL": "https://plot.ly"
       },
       "data": [
        {
         "customdata": [
          [
           "0.82M"
          ],
          [
           "0.14M"
          ],
          [
           "0.06M"
          ],
          [
           "0.07M"
          ],
          [
           "0.07M"
          ],
          [
           "1.80M"
          ],
          [
           "0.04M"
          ],
          [
           "2,053.99M"
          ],
          [
           "10.92M"
          ],
          [
           "27.56M"
          ],
          [
           "1.16M"
          ],
          [
           "0.06M"
          ],
          [
           "0.66M"
          ],
          [
           "0.22M"
          ],
          [
           "20.93M"
          ],
          [
           "38.93M"
          ],
          [
           "40.72M"
          ],
          [
           "0.00M"
          ],
          [
           "0.04M"
          ],
          [
           "2.40M"
          ],
          [
           "0.31M"
          ],
          [
           "385.76M"
          ],
          [
           "240.10M"
          ],
          [
           "18.15M"
          ],
          [
           "0.00M"
          ],
          [
           "1,209.96M"
          ],
          [
           "0.00M"
          ],
          [
           "0.00M"
          ],
          [
           "0.04M"
          ],
          [
           "0.03M"
          ],
          [
           "0.16M"
          ],
          [
           "712.95M"
          ],
          [
           "0.01M"
          ],
          [
           "0.01M"
          ],
          [
           "1.52M"
          ],
          [
           "2.36M"
          ],
          [
           "0.00M"
          ],
          [
           "18.48M"
          ],
          [
           "5.09M"
          ],
          [
           "0.02M"
          ],
          [
           "0.00M"
          ],
          [
           "44.45M"
          ],
          [
           "0.01M"
          ],
          [
           "0.00M"
          ],
          [
           "0.32M"
          ],
          [
           "5.01M"
          ],
          [
           "0.00M"
          ],
          [
           "0.00M"
          ],
          [
           "0.42M"
          ],
          [
           "17.56M"
          ],
          [
           "6.80M"
          ],
          [
           "0.06M"
          ],
          [
           "416.32M"
          ],
          [
           "0.00M"
          ],
          [
           "64.38M"
          ],
          [
           "0.02M"
          ],
          [
           "120.40M"
          ],
          [
           "12.89M"
          ],
          [
           "160.89M"
          ],
          [
           "0.09M"
          ],
          [
           "0.69M"
          ],
          [
           "1.73M"
          ],
          [
           "1,175.46M"
          ],
          [
           "0.04M"
          ],
          [
           "49.41M"
          ],
          [
           "6.52M"
          ],
          [
           "23.85M"
          ],
          [
           "0.00M"
          ],
          [
           "0.08M"
          ],
          [
           "0.08M"
          ],
          [
           "16.76M"
          ],
          [
           "0.03M"
          ],
          [
           "262.50M"
          ],
          [
           "0.00M"
          ],
          [
           "0.71M"
          ],
          [
           "0.73M"
          ],
          [
           "0.00M"
          ],
          [
           "3.56M"
          ],
          [
           "28.02M"
          ],
          [
           "12.38M"
          ],
          [
           "11.25M"
          ],
          [
           "7.09M"
          ],
          [
           "0.82M"
          ],
          [
           "0.75M"
          ],
          [
           "10.97M"
          ],
          [
           "0.00M"
          ],
          [
           "0.00M"
          ],
          [
           "0.44M"
          ],
          [
           "5.34M"
          ],
          [
           "0.18M"
          ],
          [
           "0.00M"
          ],
          [
           "8.41M"
          ],
          [
           "84.13M"
          ],
          [
           "111.07M"
          ],
          [
           "11.18M"
          ],
          [
           "0.31M"
          ],
          [
           "21.75M"
          ],
          [
           "0.00M"
          ],
          [
           "157.63M"
          ],
          [
           "7.08M"
          ],
          [
           "0.03M"
          ],
          [
           "0.00M"
          ],
          [
           "1.18M"
          ],
          [
           "0.02M"
          ],
          [
           "42.29M"
          ],
          [
           "19.22M"
          ],
          [
           "0.27M"
          ],
          [
           "0.59M"
          ],
          [
           "0.79M"
          ],
          [
           "0.00M"
          ],
          [
           "0.00M"
          ],
          [
           "0.07M"
          ],
          [
           "0.01M"
          ],
          [
           "0.00M"
          ],
          [
           "0.27M"
          ],
          [
           "0.32M"
          ],
          [
           "3.99M"
          ],
          [
           "0.11M"
          ],
          [
           "0.00M"
          ],
          [
           "0.00M"
          ],
          [
           "104.67M"
          ],
          [
           "0.00M"
          ],
          [
           "0.00M"
          ],
          [
           "0.11M"
          ],
          [
           "3.51M"
          ],
          [
           "0.00M"
          ],
          [
           "0.00M"
          ],
          [
           "1.56M"
          ]
         ],
         "hovertemplate": "=%{y}<br>NOMINAL=%{marker.size}<br>text=%{customdata[0]}<extra></extra>",
         "legendgroup": "",
         "marker": {
          "color": "#636efa",
          "size": [
           824167000,
           135000000,
           60000000,
           75000000,
           75000000,
           1804690000,
           42370000,
           2053993049237,
           10918405786,
           27562037635,
           1163830890,
           62797048,
           664593770,
           215762025,
           20925573669,
           38931468428,
           40717027166,
           3244989,
           36729417,
           2397921700,
           309163010,
           385760602973,
           240103823876,
           18153585423,
           243189,
           1209964172540,
           136973,
           1560811,
           37022720,
           31993681.000000004,
           156235442,
           712947995721,
           14191280,
           12265531,
           1524980166,
           2363057601,
           429950,
           18477267001,
           5093705630,
           19954100,
           1000,
           44447584910,
           9103105,
           345000,
           321257695,
           5005030888,
           495000,
           121216,
           423599138,
           17562389673,
           6804459645,
           59290942,
           416319923263,
           1930521,
           64377123690,
           22238099,
           120401473423,
           12893400110,
           160886612884,
           89212295,
           693075959,
           1729954529,
           1175455422587.84,
           40101529,
           49411076062,
           6518694512,
           23845250113,
           2017667,
           82601359,
           83691050,
           16760820913,
           29106246,
           262497411391,
           27000,
           713549326,
           733805620,
           205941,
           3563413654.9999995,
           28021459487.000004,
           12384228328,
           11251290119,
           7094878430,
           819862497,
           747173716,
           10965563751,
           1004122,
           110001,
           443324523,
           5338548044,
           180574100,
           100000,
           8410029464,
           84128000910,
           111074711820,
           11180472872,
           307137871,
           21747408800,
           1222222,
           157626962450,
           7081274550,
           29769384,
           145586,
           1179796747,
           17358822,
           42286153615,
           19222041132,
           268027256.00000003,
           592859383,
           790883179,
           3292542,
           3292542,
           67050863,
           5212333,
           0,
           271898949,
           317369490,
           3993586378,
           111689734,
           682351,
           3561116,
           104674030000,
           0,
           2355081,
           114832248,
           3510034012,
           1086000,
           1500000,
           1562759185
          ],
          "sizemode": "area",
          "sizeref": 5134982623.0925,
          "symbol": "circle"
         },
         "mode": "markers",
         "name": "",
         "orientation": "v",
         "showlegend": false,
         "type": "scatter",
         "x": [
          "100",
          "201",
          "202",
          "204",
          "205",
          "901",
          "902",
          "100",
          "101",
          "102",
          "103",
          "104",
          "106",
          "107",
          "121",
          "300",
          "310",
          "311",
          "312",
          "500",
          "510",
          "900",
          "910",
          "920",
          "930",
          "100",
          "900",
          "910",
          "100",
          "310",
          "900",
          "100",
          "106",
          "199",
          "300",
          "310",
          "390",
          "401",
          "402",
          "500",
          "510",
          "100",
          "101",
          "106",
          "401",
          "403",
          "404",
          "511",
          "900",
          "910",
          "920",
          "930",
          "100",
          "300",
          "100",
          "101",
          "102",
          "103",
          "104",
          "105",
          "300",
          "310",
          "100",
          "106",
          "200",
          "300",
          "310",
          "390",
          "500",
          "510",
          "100",
          "101",
          "200",
          "201",
          "300",
          "310",
          "390",
          "100",
          "101",
          "102",
          "103",
          "104",
          "300",
          "310",
          "100",
          "106",
          "199",
          "300",
          "310",
          "311",
          "390",
          "401",
          "402",
          "403",
          "404",
          "405",
          "407",
          "408",
          "409",
          "410",
          "411",
          "413",
          "417",
          "418",
          "419",
          "420",
          "422",
          "423",
          "499",
          "500",
          "510",
          "514",
          "100",
          "100",
          "100",
          "101",
          "100",
          "900",
          "910",
          "920",
          "100",
          "100",
          "910",
          "300",
          "301",
          "100",
          "300",
          "301"
         ],
         "xaxis": "x",
         "y": [
          "Bea Meterai",
          "Bea Meterai",
          "Bea Meterai",
          "Bea Meterai",
          "Bea Meterai",
          "Bea Meterai",
          "Bea Meterai",
          "PPN DN",
          "PPN DN",
          "PPN DN",
          "PPN DN",
          "PPN DN",
          "PPN DN",
          "PPN DN",
          "PPN DN",
          "PPN DN",
          "PPN DN",
          "PPN DN",
          "PPN DN",
          "PPN DN",
          "PPN DN",
          "PPN DN",
          "PPN DN",
          "PPN DN",
          "PPN DN",
          "PPN Impor",
          "PPN Impor",
          "PPN Impor",
          "PPN Lainnya",
          "PPN Lainnya",
          "PPN Lainnya",
          "PPh 21",
          "PPh 21",
          "PPh 21",
          "PPh 21",
          "PPh 21",
          "PPh 21",
          "PPh 21",
          "PPh 21",
          "PPh 21",
          "PPh 21",
          "PPh 22",
          "PPh 22",
          "PPh 22",
          "PPh 22",
          "PPh 22",
          "PPh 22",
          "PPh 22",
          "PPh 22",
          "PPh 22",
          "PPh 22",
          "PPh 22",
          "PPh 22 Impor",
          "PPh 22 Impor",
          "PPh 23",
          "PPh 23",
          "PPh 23",
          "PPh 23",
          "PPh 23",
          "PPh 23",
          "PPh 23",
          "PPh 23",
          "PPh 25 Badan",
          "PPh 25 Badan",
          "PPh 25 Badan",
          "PPh 25 Badan",
          "PPh 25 Badan",
          "PPh 25 Badan",
          "PPh 25 Badan",
          "PPh 25 Badan",
          "PPh 25 OP",
          "PPh 25 OP",
          "PPh 25 OP",
          "PPh 25 OP",
          "PPh 25 OP",
          "PPh 25 OP",
          "PPh 25 OP",
          "PPh 26",
          "PPh 26",
          "PPh 26",
          "PPh 26",
          "PPh 26",
          "PPh 26",
          "PPh 26",
          "PPh Final",
          "PPh Final",
          "PPh Final",
          "PPh Final",
          "PPh Final",
          "PPh Final",
          "PPh Final",
          "PPh Final",
          "PPh Final",
          "PPh Final",
          "PPh Final",
          "PPh Final",
          "PPh Final",
          "PPh Final",
          "PPh Final",
          "PPh Final",
          "PPh Final",
          "PPh Final",
          "PPh Final",
          "PPh Final",
          "PPh Final",
          "PPh Final",
          "PPh Final",
          "PPh Final",
          "PPh Final",
          "PPh Final",
          "PPh Final",
          "PPh Final",
          "PPh Migas Lainnya",
          "PPh Minyak Bumi",
          "PPh Non Migas Lainnya",
          "PPh Non Migas Lainnya",
          "PPnBM DN",
          "PPnBM DN",
          "PPnBM DN",
          "PPnBM DN",
          "PPnBM Impor",
          "PPnBM Lainnya",
          "Pajak Tidak Langsung",
          "STP atas Bunga Penagihan",
          "STP atas Bunga Penagihan",
          "STP atas Bunga Penagihan PPN",
          "STP atas Bunga Penagihan PPN",
          "STP atas Bunga Penagihan PPN"
         ],
         "yaxis": "y"
        }
       ],
       "layout": {
        "height": 640,
        "legend": {
         "itemsizing": "constant",
         "tracegroupgap": 0
        },
        "margin": {
         "t": 60
        },
        "template": {
         "data": {
          "bar": [
           {
            "error_x": {
             "color": "#2a3f5f"
            },
            "error_y": {
             "color": "#2a3f5f"
            },
            "marker": {
             "line": {
              "color": "#E5ECF6",
              "width": 0.5
             },
             "pattern": {
              "fillmode": "overlay",
              "size": 10,
              "solidity": 0.2
             }
            },
            "type": "bar"
           }
          ],
          "barpolar": [
           {
            "marker": {
             "line": {
              "color": "#E5ECF6",
              "width": 0.5
             },
             "pattern": {
              "fillmode": "overlay",
              "size": 10,
              "solidity": 0.2
             }
            },
            "type": "barpolar"
           }
          ],
          "carpet": [
           {
            "aaxis": {
             "endlinecolor": "#2a3f5f",
             "gridcolor": "white",
             "linecolor": "white",
             "minorgridcolor": "white",
             "startlinecolor": "#2a3f5f"
            },
            "baxis": {
             "endlinecolor": "#2a3f5f",
             "gridcolor": "white",
             "linecolor": "white",
             "minorgridcolor": "white",
             "startlinecolor": "#2a3f5f"
            },
            "type": "carpet"
           }
          ],
          "choropleth": [
           {
            "colorbar": {
             "outlinewidth": 0,
             "ticks": ""
            },
            "type": "choropleth"
           }
          ],
          "contour": [
           {
            "colorbar": {
             "outlinewidth": 0,
             "ticks": ""
            },
            "colorscale": [
             [
              0,
              "#0d0887"
             ],
             [
              0.1111111111111111,
              "#46039f"
             ],
             [
              0.2222222222222222,
              "#7201a8"
             ],
             [
              0.3333333333333333,
              "#9c179e"
             ],
             [
              0.4444444444444444,
              "#bd3786"
             ],
             [
              0.5555555555555556,
              "#d8576b"
             ],
             [
              0.6666666666666666,
              "#ed7953"
             ],
             [
              0.7777777777777778,
              "#fb9f3a"
             ],
             [
              0.8888888888888888,
              "#fdca26"
             ],
             [
              1,
              "#f0f921"
             ]
            ],
            "type": "contour"
           }
          ],
          "contourcarpet": [
           {
            "colorbar": {
             "outlinewidth": 0,
             "ticks": ""
            },
            "type": "contourcarpet"
           }
          ],
          "heatmap": [
           {
            "colorbar": {
             "outlinewidth": 0,
             "ticks": ""
            },
            "colorscale": [
             [
              0,
              "#0d0887"
             ],
             [
              0.1111111111111111,
              "#46039f"
             ],
             [
              0.2222222222222222,
              "#7201a8"
             ],
             [
              0.3333333333333333,
              "#9c179e"
             ],
             [
              0.4444444444444444,
              "#bd3786"
             ],
             [
              0.5555555555555556,
              "#d8576b"
             ],
             [
              0.6666666666666666,
              "#ed7953"
             ],
             [
              0.7777777777777778,
              "#fb9f3a"
             ],
             [
              0.8888888888888888,
              "#fdca26"
             ],
             [
              1,
              "#f0f921"
             ]
            ],
            "type": "heatmap"
           }
          ],
          "heatmapgl": [
           {
            "colorbar": {
             "outlinewidth": 0,
             "ticks": ""
            },
            "colorscale": [
             [
              0,
              "#0d0887"
             ],
             [
              0.1111111111111111,
              "#46039f"
             ],
             [
              0.2222222222222222,
              "#7201a8"
             ],
             [
              0.3333333333333333,
              "#9c179e"
             ],
             [
              0.4444444444444444,
              "#bd3786"
             ],
             [
              0.5555555555555556,
              "#d8576b"
             ],
             [
              0.6666666666666666,
              "#ed7953"
             ],
             [
              0.7777777777777778,
              "#fb9f3a"
             ],
             [
              0.8888888888888888,
              "#fdca26"
             ],
             [
              1,
              "#f0f921"
             ]
            ],
            "type": "heatmapgl"
           }
          ],
          "histogram": [
           {
            "marker": {
             "pattern": {
              "fillmode": "overlay",
              "size": 10,
              "solidity": 0.2
             }
            },
            "type": "histogram"
           }
          ],
          "histogram2d": [
           {
            "colorbar": {
             "outlinewidth": 0,
             "ticks": ""
            },
            "colorscale": [
             [
              0,
              "#0d0887"
             ],
             [
              0.1111111111111111,
              "#46039f"
             ],
             [
              0.2222222222222222,
              "#7201a8"
             ],
             [
              0.3333333333333333,
              "#9c179e"
             ],
             [
              0.4444444444444444,
              "#bd3786"
             ],
             [
              0.5555555555555556,
              "#d8576b"
             ],
             [
              0.6666666666666666,
              "#ed7953"
             ],
             [
              0.7777777777777778,
              "#fb9f3a"
             ],
             [
              0.8888888888888888,
              "#fdca26"
             ],
             [
              1,
              "#f0f921"
             ]
            ],
            "type": "histogram2d"
           }
          ],
          "histogram2dcontour": [
           {
            "colorbar": {
             "outlinewidth": 0,
             "ticks": ""
            },
            "colorscale": [
             [
              0,
              "#0d0887"
             ],
             [
              0.1111111111111111,
              "#46039f"
             ],
             [
              0.2222222222222222,
              "#7201a8"
             ],
             [
              0.3333333333333333,
              "#9c179e"
             ],
             [
              0.4444444444444444,
              "#bd3786"
             ],
             [
              0.5555555555555556,
              "#d8576b"
             ],
             [
              0.6666666666666666,
              "#ed7953"
             ],
             [
              0.7777777777777778,
              "#fb9f3a"
             ],
             [
              0.8888888888888888,
              "#fdca26"
             ],
             [
              1,
              "#f0f921"
             ]
            ],
            "type": "histogram2dcontour"
           }
          ],
          "mesh3d": [
           {
            "colorbar": {
             "outlinewidth": 0,
             "ticks": ""
            },
            "type": "mesh3d"
           }
          ],
          "parcoords": [
           {
            "line": {
             "colorbar": {
              "outlinewidth": 0,
              "ticks": ""
             }
            },
            "type": "parcoords"
           }
          ],
          "pie": [
           {
            "automargin": true,
            "type": "pie"
           }
          ],
          "scatter": [
           {
            "fillpattern": {
             "fillmode": "overlay",
             "size": 10,
             "solidity": 0.2
            },
            "type": "scatter"
           }
          ],
          "scatter3d": [
           {
            "line": {
             "colorbar": {
              "outlinewidth": 0,
              "ticks": ""
             }
            },
            "marker": {
             "colorbar": {
              "outlinewidth": 0,
              "ticks": ""
             }
            },
            "type": "scatter3d"
           }
          ],
          "scattercarpet": [
           {
            "marker": {
             "colorbar": {
              "outlinewidth": 0,
              "ticks": ""
             }
            },
            "type": "scattercarpet"
           }
          ],
          "scattergeo": [
           {
            "marker": {
             "colorbar": {
              "outlinewidth": 0,
              "ticks": ""
             }
            },
            "type": "scattergeo"
           }
          ],
          "scattergl": [
           {
            "marker": {
             "colorbar": {
              "outlinewidth": 0,
              "ticks": ""
             }
            },
            "type": "scattergl"
           }
          ],
          "scattermapbox": [
           {
            "marker": {
             "colorbar": {
              "outlinewidth": 0,
              "ticks": ""
             }
            },
            "type": "scattermapbox"
           }
          ],
          "scatterpolar": [
           {
            "marker": {
             "colorbar": {
              "outlinewidth": 0,
              "ticks": ""
             }
            },
            "type": "scatterpolar"
           }
          ],
          "scatterpolargl": [
           {
            "marker": {
             "colorbar": {
              "outlinewidth": 0,
              "ticks": ""
             }
            },
            "type": "scatterpolargl"
           }
          ],
          "scatterternary": [
           {
            "marker": {
             "colorbar": {
              "outlinewidth": 0,
              "ticks": ""
             }
            },
            "type": "scatterternary"
           }
          ],
          "surface": [
           {
            "colorbar": {
             "outlinewidth": 0,
             "ticks": ""
            },
            "colorscale": [
             [
              0,
              "#0d0887"
             ],
             [
              0.1111111111111111,
              "#46039f"
             ],
             [
              0.2222222222222222,
              "#7201a8"
             ],
             [
              0.3333333333333333,
              "#9c179e"
             ],
             [
              0.4444444444444444,
              "#bd3786"
             ],
             [
              0.5555555555555556,
              "#d8576b"
             ],
             [
              0.6666666666666666,
              "#ed7953"
             ],
             [
              0.7777777777777778,
              "#fb9f3a"
             ],
             [
              0.8888888888888888,
              "#fdca26"
             ],
             [
              1,
              "#f0f921"
             ]
            ],
            "type": "surface"
           }
          ],
          "table": [
           {
            "cells": {
             "fill": {
              "color": "#EBF0F8"
             },
             "line": {
              "color": "white"
             }
            },
            "header": {
             "fill": {
              "color": "#C8D4E3"
             },
             "line": {
              "color": "white"
             }
            },
            "type": "table"
           }
          ]
         },
         "layout": {
          "annotationdefaults": {
           "arrowcolor": "#2a3f5f",
           "arrowhead": 0,
           "arrowwidth": 1
          },
          "autotypenumbers": "strict",
          "coloraxis": {
           "colorbar": {
            "outlinewidth": 0,
            "ticks": ""
           }
          },
          "colorscale": {
           "diverging": [
            [
             0,
             "#8e0152"
            ],
            [
             0.1,
             "#c51b7d"
            ],
            [
             0.2,
             "#de77ae"
            ],
            [
             0.3,
             "#f1b6da"
            ],
            [
             0.4,
             "#fde0ef"
            ],
            [
             0.5,
             "#f7f7f7"
            ],
            [
             0.6,
             "#e6f5d0"
            ],
            [
             0.7,
             "#b8e186"
            ],
            [
             0.8,
             "#7fbc41"
            ],
            [
             0.9,
             "#4d9221"
            ],
            [
             1,
             "#276419"
            ]
           ],
           "sequential": [
            [
             0,
             "#0d0887"
            ],
            [
             0.1111111111111111,
             "#46039f"
            ],
            [
             0.2222222222222222,
             "#7201a8"
            ],
            [
             0.3333333333333333,
             "#9c179e"
            ],
            [
             0.4444444444444444,
             "#bd3786"
            ],
            [
             0.5555555555555556,
             "#d8576b"
            ],
            [
             0.6666666666666666,
             "#ed7953"
            ],
            [
             0.7777777777777778,
             "#fb9f3a"
            ],
            [
             0.8888888888888888,
             "#fdca26"
            ],
            [
             1,
             "#f0f921"
            ]
           ],
           "sequentialminus": [
            [
             0,
             "#0d0887"
            ],
            [
             0.1111111111111111,
             "#46039f"
            ],
            [
             0.2222222222222222,
             "#7201a8"
            ],
            [
             0.3333333333333333,
             "#9c179e"
            ],
            [
             0.4444444444444444,
             "#bd3786"
            ],
            [
             0.5555555555555556,
             "#d8576b"
            ],
            [
             0.6666666666666666,
             "#ed7953"
            ],
            [
             0.7777777777777778,
             "#fb9f3a"
            ],
            [
             0.8888888888888888,
             "#fdca26"
            ],
            [
             1,
             "#f0f921"
            ]
           ]
          },
          "colorway": [
           "#636efa",
           "#EF553B",
           "#00cc96",
           "#ab63fa",
           "#FFA15A",
           "#19d3f3",
           "#FF6692",
           "#B6E880",
           "#FF97FF",
           "#FECB52"
          ],
          "font": {
           "color": "#2a3f5f"
          },
          "geo": {
           "bgcolor": "white",
           "lakecolor": "white",
           "landcolor": "#E5ECF6",
           "showlakes": true,
           "showland": true,
           "subunitcolor": "white"
          },
          "hoverlabel": {
           "align": "left"
          },
          "hovermode": "closest",
          "mapbox": {
           "style": "light"
          },
          "paper_bgcolor": "white",
          "plot_bgcolor": "#E5ECF6",
          "polar": {
           "angularaxis": {
            "gridcolor": "white",
            "linecolor": "white",
            "ticks": ""
           },
           "bgcolor": "#E5ECF6",
           "radialaxis": {
            "gridcolor": "white",
            "linecolor": "white",
            "ticks": ""
           }
          },
          "scene": {
           "xaxis": {
            "backgroundcolor": "#E5ECF6",
            "gridcolor": "white",
            "gridwidth": 2,
            "linecolor": "white",
            "showbackground": true,
            "ticks": "",
            "zerolinecolor": "white"
           },
           "yaxis": {
            "backgroundcolor": "#E5ECF6",
            "gridcolor": "white",
            "gridwidth": 2,
            "linecolor": "white",
            "showbackground": true,
            "ticks": "",
            "zerolinecolor": "white"
           },
           "zaxis": {
            "backgroundcolor": "#E5ECF6",
            "gridcolor": "white",
            "gridwidth": 2,
            "linecolor": "white",
            "showbackground": true,
            "ticks": "",
            "zerolinecolor": "white"
           }
          },
          "shapedefaults": {
           "line": {
            "color": "#2a3f5f"
           }
          },
          "ternary": {
           "aaxis": {
            "gridcolor": "white",
            "linecolor": "white",
            "ticks": ""
           },
           "baxis": {
            "gridcolor": "white",
            "linecolor": "white",
            "ticks": ""
           },
           "bgcolor": "#E5ECF6",
           "caxis": {
            "gridcolor": "white",
            "linecolor": "white",
            "ticks": ""
           }
          },
          "title": {
           "x": 0.05
          },
          "xaxis": {
           "automargin": true,
           "gridcolor": "white",
           "linecolor": "white",
           "ticks": "",
           "title": {
            "standoff": 15
           },
           "zerolinecolor": "white",
           "zerolinewidth": 2
          },
          "yaxis": {
           "automargin": true,
           "gridcolor": "white",
           "linecolor": "white",
           "ticks": "",
           "title": {
            "standoff": 15
           },
           "zerolinecolor": "white",
           "zerolinewidth": 2
          }
         }
        },
        "width": 960,
        "xaxis": {
         "anchor": "y",
         "domain": [
          0,
          1
         ],
         "title": {
          "text": ""
         }
        },
        "yaxis": {
         "anchor": "x",
         "domain": [
          0,
          1
         ],
         "title": {
          "text": ""
         }
        }
       }
      }
     },
     "metadata": {},
     "output_type": "display_data"
    }
   ],
   "source": [
    "px.scatter(df[['MAP','KDBAYAR','NOMINAL','DATEBAYAR','KET']]\n",
    "           .query('KET !=\"SPMKP\" and DATEBAYAR>20221231')\n",
    "           .groupby(['MAP','KDBAYAR'],as_index=False)['NOMINAL'].sum()\n",
    "           .assign(text = lambda x:(x['NOMINAL']/1000000000).apply(lambda y:'{:,.2f}M'.format(y))),\n",
    "           x='KDBAYAR',\n",
    "           y='MAP',\n",
    "           size='NOMINAL',\n",
    "           labels={'MAP':'','KDBAYAR':''},\n",
    "           height=640, width=960,\n",
    "           hover_data='text'\n",
    "           )"
   ]
  },
  {
   "attachments": {},
   "cell_type": "markdown",
   "metadata": {},
   "source": [
    "# DONUT/PIE CHART"
   ]
  },
  {
   "cell_type": "code",
   "execution_count": 213,
   "metadata": {},
   "outputs": [
    {
     "data": {
      "application/vnd.plotly.v1+json": {
       "config": {
        "plotlyServerURL": "https://plot.ly"
       },
       "data": [
        {
         "customdata": [
          [
           "NON JAKTIM"
          ],
          [
           "MADYA DUA JAKARTA TIMUR"
          ],
          [
           "MADYA JAKARTA TIMUR"
          ],
          [
           "PRATAMA JAKARTA CAKUNG"
          ],
          [
           "PRATAMA JAKARTA DUREN SAWIT"
          ],
          [
           "PRATAMA JAKARTA JATINEGARA"
          ],
          [
           "PRATAMA JAKARTA KRAMATJATI"
          ],
          [
           "PRATAMA JAKARTA MATRAMAN"
          ],
          [
           "PRATAMA JAKARTA PASAR REBO"
          ],
          [
           "PRATAMA JAKARTA PULOGADUNG"
          ]
         ],
         "domain": {
          "x": [
           0,
           1
          ],
          "y": [
           0,
           1
          ]
         },
         "hole": 0.7,
         "hovertemplate": "KPP=%{customdata[0]}<br>NOMINAL=%{value}<extra></extra>",
         "labels": [
          "NON JAKTIM",
          "MADYA DUA JAKARTA TIMUR",
          "MADYA JAKARTA TIMUR",
          "PRATAMA JAKARTA CAKUNG",
          "PRATAMA JAKARTA DUREN SAWIT",
          "PRATAMA JAKARTA JATINEGARA",
          "PRATAMA JAKARTA KRAMATJATI",
          "PRATAMA JAKARTA MATRAMAN",
          "PRATAMA JAKARTA PASAR REBO",
          "PRATAMA JAKARTA PULOGADUNG"
         ],
         "legendgroup": "",
         "marker": {
          "colors": [
           "rgb(127, 60, 141)",
           "rgb(17, 165, 121)",
           "rgb(57, 105, 172)",
           "rgb(242, 183, 1)",
           "rgb(231, 63, 116)",
           "rgb(128, 186, 90)",
           "rgb(230, 131, 16)",
           "rgb(0, 134, 149)",
           "rgb(207, 28, 144)",
           "rgb(249, 123, 114)"
          ]
         },
         "name": "",
         "showlegend": true,
         "type": "pie",
         "values": [
          7972857820,
          2372717120868.84,
          3293916083733,
          277729378355,
          184184204586,
          508915724630,
          416622186810,
          126539600222,
          320797467268,
          335808856047
         ]
        }
       ],
       "layout": {
        "legend": {
         "tracegroupgap": 0
        },
        "margin": {
         "t": 60
        },
        "piecolorway": [
         "rgb(127, 60, 141)",
         "rgb(17, 165, 121)",
         "rgb(57, 105, 172)",
         "rgb(242, 183, 1)",
         "rgb(231, 63, 116)",
         "rgb(128, 186, 90)",
         "rgb(230, 131, 16)",
         "rgb(0, 134, 149)",
         "rgb(207, 28, 144)",
         "rgb(249, 123, 114)",
         "rgb(165, 170, 153)"
        ],
        "template": {
         "data": {
          "bar": [
           {
            "error_x": {
             "color": "#2a3f5f"
            },
            "error_y": {
             "color": "#2a3f5f"
            },
            "marker": {
             "line": {
              "color": "#E5ECF6",
              "width": 0.5
             },
             "pattern": {
              "fillmode": "overlay",
              "size": 10,
              "solidity": 0.2
             }
            },
            "type": "bar"
           }
          ],
          "barpolar": [
           {
            "marker": {
             "line": {
              "color": "#E5ECF6",
              "width": 0.5
             },
             "pattern": {
              "fillmode": "overlay",
              "size": 10,
              "solidity": 0.2
             }
            },
            "type": "barpolar"
           }
          ],
          "carpet": [
           {
            "aaxis": {
             "endlinecolor": "#2a3f5f",
             "gridcolor": "white",
             "linecolor": "white",
             "minorgridcolor": "white",
             "startlinecolor": "#2a3f5f"
            },
            "baxis": {
             "endlinecolor": "#2a3f5f",
             "gridcolor": "white",
             "linecolor": "white",
             "minorgridcolor": "white",
             "startlinecolor": "#2a3f5f"
            },
            "type": "carpet"
           }
          ],
          "choropleth": [
           {
            "colorbar": {
             "outlinewidth": 0,
             "ticks": ""
            },
            "type": "choropleth"
           }
          ],
          "contour": [
           {
            "colorbar": {
             "outlinewidth": 0,
             "ticks": ""
            },
            "colorscale": [
             [
              0,
              "#0d0887"
             ],
             [
              0.1111111111111111,
              "#46039f"
             ],
             [
              0.2222222222222222,
              "#7201a8"
             ],
             [
              0.3333333333333333,
              "#9c179e"
             ],
             [
              0.4444444444444444,
              "#bd3786"
             ],
             [
              0.5555555555555556,
              "#d8576b"
             ],
             [
              0.6666666666666666,
              "#ed7953"
             ],
             [
              0.7777777777777778,
              "#fb9f3a"
             ],
             [
              0.8888888888888888,
              "#fdca26"
             ],
             [
              1,
              "#f0f921"
             ]
            ],
            "type": "contour"
           }
          ],
          "contourcarpet": [
           {
            "colorbar": {
             "outlinewidth": 0,
             "ticks": ""
            },
            "type": "contourcarpet"
           }
          ],
          "heatmap": [
           {
            "colorbar": {
             "outlinewidth": 0,
             "ticks": ""
            },
            "colorscale": [
             [
              0,
              "#0d0887"
             ],
             [
              0.1111111111111111,
              "#46039f"
             ],
             [
              0.2222222222222222,
              "#7201a8"
             ],
             [
              0.3333333333333333,
              "#9c179e"
             ],
             [
              0.4444444444444444,
              "#bd3786"
             ],
             [
              0.5555555555555556,
              "#d8576b"
             ],
             [
              0.6666666666666666,
              "#ed7953"
             ],
             [
              0.7777777777777778,
              "#fb9f3a"
             ],
             [
              0.8888888888888888,
              "#fdca26"
             ],
             [
              1,
              "#f0f921"
             ]
            ],
            "type": "heatmap"
           }
          ],
          "heatmapgl": [
           {
            "colorbar": {
             "outlinewidth": 0,
             "ticks": ""
            },
            "colorscale": [
             [
              0,
              "#0d0887"
             ],
             [
              0.1111111111111111,
              "#46039f"
             ],
             [
              0.2222222222222222,
              "#7201a8"
             ],
             [
              0.3333333333333333,
              "#9c179e"
             ],
             [
              0.4444444444444444,
              "#bd3786"
             ],
             [
              0.5555555555555556,
              "#d8576b"
             ],
             [
              0.6666666666666666,
              "#ed7953"
             ],
             [
              0.7777777777777778,
              "#fb9f3a"
             ],
             [
              0.8888888888888888,
              "#fdca26"
             ],
             [
              1,
              "#f0f921"
             ]
            ],
            "type": "heatmapgl"
           }
          ],
          "histogram": [
           {
            "marker": {
             "pattern": {
              "fillmode": "overlay",
              "size": 10,
              "solidity": 0.2
             }
            },
            "type": "histogram"
           }
          ],
          "histogram2d": [
           {
            "colorbar": {
             "outlinewidth": 0,
             "ticks": ""
            },
            "colorscale": [
             [
              0,
              "#0d0887"
             ],
             [
              0.1111111111111111,
              "#46039f"
             ],
             [
              0.2222222222222222,
              "#7201a8"
             ],
             [
              0.3333333333333333,
              "#9c179e"
             ],
             [
              0.4444444444444444,
              "#bd3786"
             ],
             [
              0.5555555555555556,
              "#d8576b"
             ],
             [
              0.6666666666666666,
              "#ed7953"
             ],
             [
              0.7777777777777778,
              "#fb9f3a"
             ],
             [
              0.8888888888888888,
              "#fdca26"
             ],
             [
              1,
              "#f0f921"
             ]
            ],
            "type": "histogram2d"
           }
          ],
          "histogram2dcontour": [
           {
            "colorbar": {
             "outlinewidth": 0,
             "ticks": ""
            },
            "colorscale": [
             [
              0,
              "#0d0887"
             ],
             [
              0.1111111111111111,
              "#46039f"
             ],
             [
              0.2222222222222222,
              "#7201a8"
             ],
             [
              0.3333333333333333,
              "#9c179e"
             ],
             [
              0.4444444444444444,
              "#bd3786"
             ],
             [
              0.5555555555555556,
              "#d8576b"
             ],
             [
              0.6666666666666666,
              "#ed7953"
             ],
             [
              0.7777777777777778,
              "#fb9f3a"
             ],
             [
              0.8888888888888888,
              "#fdca26"
             ],
             [
              1,
              "#f0f921"
             ]
            ],
            "type": "histogram2dcontour"
           }
          ],
          "mesh3d": [
           {
            "colorbar": {
             "outlinewidth": 0,
             "ticks": ""
            },
            "type": "mesh3d"
           }
          ],
          "parcoords": [
           {
            "line": {
             "colorbar": {
              "outlinewidth": 0,
              "ticks": ""
             }
            },
            "type": "parcoords"
           }
          ],
          "pie": [
           {
            "automargin": true,
            "type": "pie"
           }
          ],
          "scatter": [
           {
            "fillpattern": {
             "fillmode": "overlay",
             "size": 10,
             "solidity": 0.2
            },
            "type": "scatter"
           }
          ],
          "scatter3d": [
           {
            "line": {
             "colorbar": {
              "outlinewidth": 0,
              "ticks": ""
             }
            },
            "marker": {
             "colorbar": {
              "outlinewidth": 0,
              "ticks": ""
             }
            },
            "type": "scatter3d"
           }
          ],
          "scattercarpet": [
           {
            "marker": {
             "colorbar": {
              "outlinewidth": 0,
              "ticks": ""
             }
            },
            "type": "scattercarpet"
           }
          ],
          "scattergeo": [
           {
            "marker": {
             "colorbar": {
              "outlinewidth": 0,
              "ticks": ""
             }
            },
            "type": "scattergeo"
           }
          ],
          "scattergl": [
           {
            "marker": {
             "colorbar": {
              "outlinewidth": 0,
              "ticks": ""
             }
            },
            "type": "scattergl"
           }
          ],
          "scattermapbox": [
           {
            "marker": {
             "colorbar": {
              "outlinewidth": 0,
              "ticks": ""
             }
            },
            "type": "scattermapbox"
           }
          ],
          "scatterpolar": [
           {
            "marker": {
             "colorbar": {
              "outlinewidth": 0,
              "ticks": ""
             }
            },
            "type": "scatterpolar"
           }
          ],
          "scatterpolargl": [
           {
            "marker": {
             "colorbar": {
              "outlinewidth": 0,
              "ticks": ""
             }
            },
            "type": "scatterpolargl"
           }
          ],
          "scatterternary": [
           {
            "marker": {
             "colorbar": {
              "outlinewidth": 0,
              "ticks": ""
             }
            },
            "type": "scatterternary"
           }
          ],
          "surface": [
           {
            "colorbar": {
             "outlinewidth": 0,
             "ticks": ""
            },
            "colorscale": [
             [
              0,
              "#0d0887"
             ],
             [
              0.1111111111111111,
              "#46039f"
             ],
             [
              0.2222222222222222,
              "#7201a8"
             ],
             [
              0.3333333333333333,
              "#9c179e"
             ],
             [
              0.4444444444444444,
              "#bd3786"
             ],
             [
              0.5555555555555556,
              "#d8576b"
             ],
             [
              0.6666666666666666,
              "#ed7953"
             ],
             [
              0.7777777777777778,
              "#fb9f3a"
             ],
             [
              0.8888888888888888,
              "#fdca26"
             ],
             [
              1,
              "#f0f921"
             ]
            ],
            "type": "surface"
           }
          ],
          "table": [
           {
            "cells": {
             "fill": {
              "color": "#EBF0F8"
             },
             "line": {
              "color": "white"
             }
            },
            "header": {
             "fill": {
              "color": "#C8D4E3"
             },
             "line": {
              "color": "white"
             }
            },
            "type": "table"
           }
          ]
         },
         "layout": {
          "annotationdefaults": {
           "arrowcolor": "#2a3f5f",
           "arrowhead": 0,
           "arrowwidth": 1
          },
          "autotypenumbers": "strict",
          "coloraxis": {
           "colorbar": {
            "outlinewidth": 0,
            "ticks": ""
           }
          },
          "colorscale": {
           "diverging": [
            [
             0,
             "#8e0152"
            ],
            [
             0.1,
             "#c51b7d"
            ],
            [
             0.2,
             "#de77ae"
            ],
            [
             0.3,
             "#f1b6da"
            ],
            [
             0.4,
             "#fde0ef"
            ],
            [
             0.5,
             "#f7f7f7"
            ],
            [
             0.6,
             "#e6f5d0"
            ],
            [
             0.7,
             "#b8e186"
            ],
            [
             0.8,
             "#7fbc41"
            ],
            [
             0.9,
             "#4d9221"
            ],
            [
             1,
             "#276419"
            ]
           ],
           "sequential": [
            [
             0,
             "#0d0887"
            ],
            [
             0.1111111111111111,
             "#46039f"
            ],
            [
             0.2222222222222222,
             "#7201a8"
            ],
            [
             0.3333333333333333,
             "#9c179e"
            ],
            [
             0.4444444444444444,
             "#bd3786"
            ],
            [
             0.5555555555555556,
             "#d8576b"
            ],
            [
             0.6666666666666666,
             "#ed7953"
            ],
            [
             0.7777777777777778,
             "#fb9f3a"
            ],
            [
             0.8888888888888888,
             "#fdca26"
            ],
            [
             1,
             "#f0f921"
            ]
           ],
           "sequentialminus": [
            [
             0,
             "#0d0887"
            ],
            [
             0.1111111111111111,
             "#46039f"
            ],
            [
             0.2222222222222222,
             "#7201a8"
            ],
            [
             0.3333333333333333,
             "#9c179e"
            ],
            [
             0.4444444444444444,
             "#bd3786"
            ],
            [
             0.5555555555555556,
             "#d8576b"
            ],
            [
             0.6666666666666666,
             "#ed7953"
            ],
            [
             0.7777777777777778,
             "#fb9f3a"
            ],
            [
             0.8888888888888888,
             "#fdca26"
            ],
            [
             1,
             "#f0f921"
            ]
           ]
          },
          "colorway": [
           "#636efa",
           "#EF553B",
           "#00cc96",
           "#ab63fa",
           "#FFA15A",
           "#19d3f3",
           "#FF6692",
           "#B6E880",
           "#FF97FF",
           "#FECB52"
          ],
          "font": {
           "color": "#2a3f5f"
          },
          "geo": {
           "bgcolor": "white",
           "lakecolor": "white",
           "landcolor": "#E5ECF6",
           "showlakes": true,
           "showland": true,
           "subunitcolor": "white"
          },
          "hoverlabel": {
           "align": "left"
          },
          "hovermode": "closest",
          "mapbox": {
           "style": "light"
          },
          "paper_bgcolor": "white",
          "plot_bgcolor": "#E5ECF6",
          "polar": {
           "angularaxis": {
            "gridcolor": "white",
            "linecolor": "white",
            "ticks": ""
           },
           "bgcolor": "#E5ECF6",
           "radialaxis": {
            "gridcolor": "white",
            "linecolor": "white",
            "ticks": ""
           }
          },
          "scene": {
           "xaxis": {
            "backgroundcolor": "#E5ECF6",
            "gridcolor": "white",
            "gridwidth": 2,
            "linecolor": "white",
            "showbackground": true,
            "ticks": "",
            "zerolinecolor": "white"
           },
           "yaxis": {
            "backgroundcolor": "#E5ECF6",
            "gridcolor": "white",
            "gridwidth": 2,
            "linecolor": "white",
            "showbackground": true,
            "ticks": "",
            "zerolinecolor": "white"
           },
           "zaxis": {
            "backgroundcolor": "#E5ECF6",
            "gridcolor": "white",
            "gridwidth": 2,
            "linecolor": "white",
            "showbackground": true,
            "ticks": "",
            "zerolinecolor": "white"
           }
          },
          "shapedefaults": {
           "line": {
            "color": "#2a3f5f"
           }
          },
          "ternary": {
           "aaxis": {
            "gridcolor": "white",
            "linecolor": "white",
            "ticks": ""
           },
           "baxis": {
            "gridcolor": "white",
            "linecolor": "white",
            "ticks": ""
           },
           "bgcolor": "#E5ECF6",
           "caxis": {
            "gridcolor": "white",
            "linecolor": "white",
            "ticks": ""
           }
          },
          "title": {
           "x": 0.05
          },
          "xaxis": {
           "automargin": true,
           "gridcolor": "white",
           "linecolor": "white",
           "ticks": "",
           "title": {
            "standoff": 15
           },
           "zerolinecolor": "white",
           "zerolinewidth": 2
          },
          "yaxis": {
           "automargin": true,
           "gridcolor": "white",
           "linecolor": "white",
           "ticks": "",
           "title": {
            "standoff": 15
           },
           "zerolinecolor": "white",
           "zerolinewidth": 2
          }
         }
        }
       }
      }
     },
     "metadata": {},
     "output_type": "display_data"
    }
   ],
   "source": [
    "px.pie(df[['KPP','NOMINAL','DATEBAYAR','KET']]\n",
    "       .query('KET !=\"SPMKP\" and DATEBAYAR>20221231')\n",
    "       .groupby(['KPP'],as_index=False)['NOMINAL'].sum()\n",
    "       .replace('','NON JAKTIM'),\n",
    "       names='KPP',\n",
    "       values='NOMINAL',\n",
    "       hole=0.7,\n",
    "       color='KPP',\n",
    "       color_discrete_sequence=px.colors.qualitative.Bold\n",
    "       )"
   ]
  },
  {
   "attachments": {},
   "cell_type": "markdown",
   "metadata": {},
   "source": [
    "# Histogram\n",
    "### untuk melihat persebaran data"
   ]
  },
  {
   "cell_type": "code",
   "execution_count": 222,
   "metadata": {},
   "outputs": [
    {
     "data": {
      "application/vnd.plotly.v1+json": {
       "config": {
        "plotlyServerURL": "https://plot.ly"
       },
       "data": [
        {
         "alignmentgroup": "True",
         "bingroup": "x",
         "histnorm": "percent",
         "hovertemplate": "NOMINAL=%{x}<br>percent=%{y}<extra></extra>",
         "legendgroup": "",
         "marker": {
          "color": "#636efa",
          "pattern": {
           "shape": ""
          }
         },
         "name": "",
         "offsetgroup": "",
         "orientation": "v",
         "showlegend": false,
         "type": "histogram",
         "x": [
          3016227000,
          2841919860231,
          1209965870324,
          225251843,
          740453847980,
          74633677212,
          416321853784,
          361093090989,
          1255438854879.84,
          280734926437,
          63882306232.00001,
          482947116551,
          5212333,
          0,
          589268439,
          4109519579,
          104674030000,
          0,
          2355081,
          3624866260,
          1565345185
         ],
         "xaxis": "x",
         "yaxis": "y"
        }
       ],
       "layout": {
        "barmode": "relative",
        "legend": {
         "tracegroupgap": 0
        },
        "margin": {
         "t": 60
        },
        "template": {
         "data": {
          "bar": [
           {
            "error_x": {
             "color": "#2a3f5f"
            },
            "error_y": {
             "color": "#2a3f5f"
            },
            "marker": {
             "line": {
              "color": "#E5ECF6",
              "width": 0.5
             },
             "pattern": {
              "fillmode": "overlay",
              "size": 10,
              "solidity": 0.2
             }
            },
            "type": "bar"
           }
          ],
          "barpolar": [
           {
            "marker": {
             "line": {
              "color": "#E5ECF6",
              "width": 0.5
             },
             "pattern": {
              "fillmode": "overlay",
              "size": 10,
              "solidity": 0.2
             }
            },
            "type": "barpolar"
           }
          ],
          "carpet": [
           {
            "aaxis": {
             "endlinecolor": "#2a3f5f",
             "gridcolor": "white",
             "linecolor": "white",
             "minorgridcolor": "white",
             "startlinecolor": "#2a3f5f"
            },
            "baxis": {
             "endlinecolor": "#2a3f5f",
             "gridcolor": "white",
             "linecolor": "white",
             "minorgridcolor": "white",
             "startlinecolor": "#2a3f5f"
            },
            "type": "carpet"
           }
          ],
          "choropleth": [
           {
            "colorbar": {
             "outlinewidth": 0,
             "ticks": ""
            },
            "type": "choropleth"
           }
          ],
          "contour": [
           {
            "colorbar": {
             "outlinewidth": 0,
             "ticks": ""
            },
            "colorscale": [
             [
              0,
              "#0d0887"
             ],
             [
              0.1111111111111111,
              "#46039f"
             ],
             [
              0.2222222222222222,
              "#7201a8"
             ],
             [
              0.3333333333333333,
              "#9c179e"
             ],
             [
              0.4444444444444444,
              "#bd3786"
             ],
             [
              0.5555555555555556,
              "#d8576b"
             ],
             [
              0.6666666666666666,
              "#ed7953"
             ],
             [
              0.7777777777777778,
              "#fb9f3a"
             ],
             [
              0.8888888888888888,
              "#fdca26"
             ],
             [
              1,
              "#f0f921"
             ]
            ],
            "type": "contour"
           }
          ],
          "contourcarpet": [
           {
            "colorbar": {
             "outlinewidth": 0,
             "ticks": ""
            },
            "type": "contourcarpet"
           }
          ],
          "heatmap": [
           {
            "colorbar": {
             "outlinewidth": 0,
             "ticks": ""
            },
            "colorscale": [
             [
              0,
              "#0d0887"
             ],
             [
              0.1111111111111111,
              "#46039f"
             ],
             [
              0.2222222222222222,
              "#7201a8"
             ],
             [
              0.3333333333333333,
              "#9c179e"
             ],
             [
              0.4444444444444444,
              "#bd3786"
             ],
             [
              0.5555555555555556,
              "#d8576b"
             ],
             [
              0.6666666666666666,
              "#ed7953"
             ],
             [
              0.7777777777777778,
              "#fb9f3a"
             ],
             [
              0.8888888888888888,
              "#fdca26"
             ],
             [
              1,
              "#f0f921"
             ]
            ],
            "type": "heatmap"
           }
          ],
          "heatmapgl": [
           {
            "colorbar": {
             "outlinewidth": 0,
             "ticks": ""
            },
            "colorscale": [
             [
              0,
              "#0d0887"
             ],
             [
              0.1111111111111111,
              "#46039f"
             ],
             [
              0.2222222222222222,
              "#7201a8"
             ],
             [
              0.3333333333333333,
              "#9c179e"
             ],
             [
              0.4444444444444444,
              "#bd3786"
             ],
             [
              0.5555555555555556,
              "#d8576b"
             ],
             [
              0.6666666666666666,
              "#ed7953"
             ],
             [
              0.7777777777777778,
              "#fb9f3a"
             ],
             [
              0.8888888888888888,
              "#fdca26"
             ],
             [
              1,
              "#f0f921"
             ]
            ],
            "type": "heatmapgl"
           }
          ],
          "histogram": [
           {
            "marker": {
             "pattern": {
              "fillmode": "overlay",
              "size": 10,
              "solidity": 0.2
             }
            },
            "type": "histogram"
           }
          ],
          "histogram2d": [
           {
            "colorbar": {
             "outlinewidth": 0,
             "ticks": ""
            },
            "colorscale": [
             [
              0,
              "#0d0887"
             ],
             [
              0.1111111111111111,
              "#46039f"
             ],
             [
              0.2222222222222222,
              "#7201a8"
             ],
             [
              0.3333333333333333,
              "#9c179e"
             ],
             [
              0.4444444444444444,
              "#bd3786"
             ],
             [
              0.5555555555555556,
              "#d8576b"
             ],
             [
              0.6666666666666666,
              "#ed7953"
             ],
             [
              0.7777777777777778,
              "#fb9f3a"
             ],
             [
              0.8888888888888888,
              "#fdca26"
             ],
             [
              1,
              "#f0f921"
             ]
            ],
            "type": "histogram2d"
           }
          ],
          "histogram2dcontour": [
           {
            "colorbar": {
             "outlinewidth": 0,
             "ticks": ""
            },
            "colorscale": [
             [
              0,
              "#0d0887"
             ],
             [
              0.1111111111111111,
              "#46039f"
             ],
             [
              0.2222222222222222,
              "#7201a8"
             ],
             [
              0.3333333333333333,
              "#9c179e"
             ],
             [
              0.4444444444444444,
              "#bd3786"
             ],
             [
              0.5555555555555556,
              "#d8576b"
             ],
             [
              0.6666666666666666,
              "#ed7953"
             ],
             [
              0.7777777777777778,
              "#fb9f3a"
             ],
             [
              0.8888888888888888,
              "#fdca26"
             ],
             [
              1,
              "#f0f921"
             ]
            ],
            "type": "histogram2dcontour"
           }
          ],
          "mesh3d": [
           {
            "colorbar": {
             "outlinewidth": 0,
             "ticks": ""
            },
            "type": "mesh3d"
           }
          ],
          "parcoords": [
           {
            "line": {
             "colorbar": {
              "outlinewidth": 0,
              "ticks": ""
             }
            },
            "type": "parcoords"
           }
          ],
          "pie": [
           {
            "automargin": true,
            "type": "pie"
           }
          ],
          "scatter": [
           {
            "fillpattern": {
             "fillmode": "overlay",
             "size": 10,
             "solidity": 0.2
            },
            "type": "scatter"
           }
          ],
          "scatter3d": [
           {
            "line": {
             "colorbar": {
              "outlinewidth": 0,
              "ticks": ""
             }
            },
            "marker": {
             "colorbar": {
              "outlinewidth": 0,
              "ticks": ""
             }
            },
            "type": "scatter3d"
           }
          ],
          "scattercarpet": [
           {
            "marker": {
             "colorbar": {
              "outlinewidth": 0,
              "ticks": ""
             }
            },
            "type": "scattercarpet"
           }
          ],
          "scattergeo": [
           {
            "marker": {
             "colorbar": {
              "outlinewidth": 0,
              "ticks": ""
             }
            },
            "type": "scattergeo"
           }
          ],
          "scattergl": [
           {
            "marker": {
             "colorbar": {
              "outlinewidth": 0,
              "ticks": ""
             }
            },
            "type": "scattergl"
           }
          ],
          "scattermapbox": [
           {
            "marker": {
             "colorbar": {
              "outlinewidth": 0,
              "ticks": ""
             }
            },
            "type": "scattermapbox"
           }
          ],
          "scatterpolar": [
           {
            "marker": {
             "colorbar": {
              "outlinewidth": 0,
              "ticks": ""
             }
            },
            "type": "scatterpolar"
           }
          ],
          "scatterpolargl": [
           {
            "marker": {
             "colorbar": {
              "outlinewidth": 0,
              "ticks": ""
             }
            },
            "type": "scatterpolargl"
           }
          ],
          "scatterternary": [
           {
            "marker": {
             "colorbar": {
              "outlinewidth": 0,
              "ticks": ""
             }
            },
            "type": "scatterternary"
           }
          ],
          "surface": [
           {
            "colorbar": {
             "outlinewidth": 0,
             "ticks": ""
            },
            "colorscale": [
             [
              0,
              "#0d0887"
             ],
             [
              0.1111111111111111,
              "#46039f"
             ],
             [
              0.2222222222222222,
              "#7201a8"
             ],
             [
              0.3333333333333333,
              "#9c179e"
             ],
             [
              0.4444444444444444,
              "#bd3786"
             ],
             [
              0.5555555555555556,
              "#d8576b"
             ],
             [
              0.6666666666666666,
              "#ed7953"
             ],
             [
              0.7777777777777778,
              "#fb9f3a"
             ],
             [
              0.8888888888888888,
              "#fdca26"
             ],
             [
              1,
              "#f0f921"
             ]
            ],
            "type": "surface"
           }
          ],
          "table": [
           {
            "cells": {
             "fill": {
              "color": "#EBF0F8"
             },
             "line": {
              "color": "white"
             }
            },
            "header": {
             "fill": {
              "color": "#C8D4E3"
             },
             "line": {
              "color": "white"
             }
            },
            "type": "table"
           }
          ]
         },
         "layout": {
          "annotationdefaults": {
           "arrowcolor": "#2a3f5f",
           "arrowhead": 0,
           "arrowwidth": 1
          },
          "autotypenumbers": "strict",
          "coloraxis": {
           "colorbar": {
            "outlinewidth": 0,
            "ticks": ""
           }
          },
          "colorscale": {
           "diverging": [
            [
             0,
             "#8e0152"
            ],
            [
             0.1,
             "#c51b7d"
            ],
            [
             0.2,
             "#de77ae"
            ],
            [
             0.3,
             "#f1b6da"
            ],
            [
             0.4,
             "#fde0ef"
            ],
            [
             0.5,
             "#f7f7f7"
            ],
            [
             0.6,
             "#e6f5d0"
            ],
            [
             0.7,
             "#b8e186"
            ],
            [
             0.8,
             "#7fbc41"
            ],
            [
             0.9,
             "#4d9221"
            ],
            [
             1,
             "#276419"
            ]
           ],
           "sequential": [
            [
             0,
             "#0d0887"
            ],
            [
             0.1111111111111111,
             "#46039f"
            ],
            [
             0.2222222222222222,
             "#7201a8"
            ],
            [
             0.3333333333333333,
             "#9c179e"
            ],
            [
             0.4444444444444444,
             "#bd3786"
            ],
            [
             0.5555555555555556,
             "#d8576b"
            ],
            [
             0.6666666666666666,
             "#ed7953"
            ],
            [
             0.7777777777777778,
             "#fb9f3a"
            ],
            [
             0.8888888888888888,
             "#fdca26"
            ],
            [
             1,
             "#f0f921"
            ]
           ],
           "sequentialminus": [
            [
             0,
             "#0d0887"
            ],
            [
             0.1111111111111111,
             "#46039f"
            ],
            [
             0.2222222222222222,
             "#7201a8"
            ],
            [
             0.3333333333333333,
             "#9c179e"
            ],
            [
             0.4444444444444444,
             "#bd3786"
            ],
            [
             0.5555555555555556,
             "#d8576b"
            ],
            [
             0.6666666666666666,
             "#ed7953"
            ],
            [
             0.7777777777777778,
             "#fb9f3a"
            ],
            [
             0.8888888888888888,
             "#fdca26"
            ],
            [
             1,
             "#f0f921"
            ]
           ]
          },
          "colorway": [
           "#636efa",
           "#EF553B",
           "#00cc96",
           "#ab63fa",
           "#FFA15A",
           "#19d3f3",
           "#FF6692",
           "#B6E880",
           "#FF97FF",
           "#FECB52"
          ],
          "font": {
           "color": "#2a3f5f"
          },
          "geo": {
           "bgcolor": "white",
           "lakecolor": "white",
           "landcolor": "#E5ECF6",
           "showlakes": true,
           "showland": true,
           "subunitcolor": "white"
          },
          "hoverlabel": {
           "align": "left"
          },
          "hovermode": "closest",
          "mapbox": {
           "style": "light"
          },
          "paper_bgcolor": "white",
          "plot_bgcolor": "#E5ECF6",
          "polar": {
           "angularaxis": {
            "gridcolor": "white",
            "linecolor": "white",
            "ticks": ""
           },
           "bgcolor": "#E5ECF6",
           "radialaxis": {
            "gridcolor": "white",
            "linecolor": "white",
            "ticks": ""
           }
          },
          "scene": {
           "xaxis": {
            "backgroundcolor": "#E5ECF6",
            "gridcolor": "white",
            "gridwidth": 2,
            "linecolor": "white",
            "showbackground": true,
            "ticks": "",
            "zerolinecolor": "white"
           },
           "yaxis": {
            "backgroundcolor": "#E5ECF6",
            "gridcolor": "white",
            "gridwidth": 2,
            "linecolor": "white",
            "showbackground": true,
            "ticks": "",
            "zerolinecolor": "white"
           },
           "zaxis": {
            "backgroundcolor": "#E5ECF6",
            "gridcolor": "white",
            "gridwidth": 2,
            "linecolor": "white",
            "showbackground": true,
            "ticks": "",
            "zerolinecolor": "white"
           }
          },
          "shapedefaults": {
           "line": {
            "color": "#2a3f5f"
           }
          },
          "ternary": {
           "aaxis": {
            "gridcolor": "white",
            "linecolor": "white",
            "ticks": ""
           },
           "baxis": {
            "gridcolor": "white",
            "linecolor": "white",
            "ticks": ""
           },
           "bgcolor": "#E5ECF6",
           "caxis": {
            "gridcolor": "white",
            "linecolor": "white",
            "ticks": ""
           }
          },
          "title": {
           "x": 0.05
          },
          "xaxis": {
           "automargin": true,
           "gridcolor": "white",
           "linecolor": "white",
           "ticks": "",
           "title": {
            "standoff": 15
           },
           "zerolinecolor": "white",
           "zerolinewidth": 2
          },
          "yaxis": {
           "automargin": true,
           "gridcolor": "white",
           "linecolor": "white",
           "ticks": "",
           "title": {
            "standoff": 15
           },
           "zerolinecolor": "white",
           "zerolinewidth": 2
          }
         }
        },
        "xaxis": {
         "anchor": "y",
         "domain": [
          0,
          1
         ],
         "title": {
          "text": "NOMINAL"
         }
        },
        "yaxis": {
         "anchor": "x",
         "domain": [
          0,
          1
         ],
         "title": {
          "text": "percent"
         }
        }
       }
      }
     },
     "metadata": {},
     "output_type": "display_data"
    }
   ],
   "source": [
    "px.histogram(df[['MAP','NOMINAL','DATEBAYAR','KET']]\n",
    "       .query('KET !=\"SPMKP\" and DATEBAYAR>20221231 and NM_KATEGORI=\"PERDAGANGAN BESAR')\n",
    "       .groupby(['MAP'],as_index=False)['NOMINAL'].sum(),\n",
    "       x='NOMINAL',\n",
    "       histnorm='percent'\n",
    "    \n",
    ")"
   ]
  },
  {
   "cell_type": "code",
   "execution_count": null,
   "metadata": {},
   "outputs": [],
   "source": []
  }
 ],
 "metadata": {
  "kernelspec": {
   "display_name": "dash",
   "language": "python",
   "name": "python3"
  },
  "language_info": {
   "codemirror_mode": {
    "name": "ipython",
    "version": 3
   },
   "file_extension": ".py",
   "mimetype": "text/x-python",
   "name": "python",
   "nbconvert_exporter": "python",
   "pygments_lexer": "ipython3",
   "version": "3.11.2"
  },
  "orig_nbformat": 4
 },
 "nbformat": 4,
 "nbformat_minor": 2
}
