{
 "cells": [
  {
   "cell_type": "code",
   "execution_count": 1,
   "metadata": {},
   "outputs": [],
   "source": [
    "from dash import Dash, html, dcc , callback, Input, Output\n",
    "from jupyter_dash import JupyterDash\n",
    "import dash\n",
    "import plotly.express as px\n",
    "import pandas as pd"
   ]
  },
  {
   "cell_type": "code",
   "execution_count": 5,
   "metadata": {},
   "outputs": [],
   "source": [
    "df = pd.json_normalize(pd.read_json('/Users/sugengw07/Documents/PROYEK/AlcoDash/ppmpkm_2023_202304160724.json', \n",
    "                                    orient='records')['ppmpkm_2023'])"
   ]
  },
  {
   "cell_type": "code",
   "execution_count": 44,
   "metadata": {},
   "outputs": [
    {
     "name": "stdout",
     "output_type": "stream",
     "text": [
      "<class 'pandas.core.frame.DataFrame'>\n",
      "RangeIndex: 269905 entries, 0 to 269904\n",
      "Data columns (total 25 columns):\n",
      " #   Column         Non-Null Count   Dtype  \n",
      "---  ------         --------------   -----  \n",
      " 0   NAMA           269905 non-null  object \n",
      " 1   KDMAP          269905 non-null  object \n",
      " 2   KDBAYAR        269905 non-null  object \n",
      " 3   MASA           269905 non-null  object \n",
      " 4   MASA2          269905 non-null  object \n",
      " 5   TAHUN          269905 non-null  int64  \n",
      " 6   TANGGALBAYAR   269905 non-null  int64  \n",
      " 7   BULANBAYAR     269905 non-null  int64  \n",
      " 8   TAHUNBAYAR     269905 non-null  int64  \n",
      " 9   DATEBAYAR      269905 non-null  object \n",
      " 10  NOMINAL        269905 non-null  float64\n",
      " 11  NTPN           269905 non-null  object \n",
      " 12  KET            269905 non-null  object \n",
      " 13  NPWP           269905 non-null  object \n",
      " 14  KPP            269905 non-null  object \n",
      " 15  NAMA_WP        269905 non-null  object \n",
      " 16  NAMA_AR        269905 non-null  object \n",
      " 17  SEKSI          269905 non-null  object \n",
      " 18  SEGMENTASI_WP  269905 non-null  object \n",
      " 19  KD_KATEGORI    269905 non-null  object \n",
      " 20  NM_KATEGORI    269905 non-null  object \n",
      " 21  MAP            269905 non-null  object \n",
      " 22  PAJAK          269905 non-null  object \n",
      " 23  KLASIFIKASI    269905 non-null  object \n",
      " 24  NO             269905 non-null  int64  \n",
      "dtypes: float64(1), int64(5), object(19)\n",
      "memory usage: 51.5+ MB\n"
     ]
    }
   ],
   "source": [
    "df.info()"
   ]
  },
  {
   "cell_type": "code",
   "execution_count": 57,
   "metadata": {},
   "outputs": [
    {
     "name": "stdout",
     "output_type": "stream",
     "text": [
      "Dash is running on http://127.0.0.1:8050/\n",
      "\n"
     ]
    },
    {
     "data": {
      "text/html": [
       "\n",
       "        <iframe\n",
       "            width=\"100%\"\n",
       "            height=\"650\"\n",
       "            src=\"http://127.0.0.1:8050/\"\n",
       "            frameborder=\"0\"\n",
       "            allowfullscreen\n",
       "            \n",
       "        ></iframe>\n",
       "        "
      ],
      "text/plain": [
       "<IPython.lib.display.IFrame at 0x272802a50>"
      ]
     },
     "metadata": {},
     "output_type": "display_data"
    }
   ],
   "source": [
    "app = JupyterDash(__name__)\n",
    "app.layout = html.Div([\n",
    "    html.H1('Testing by gengsu'),\n",
    "    dcc.Dropdown(df['NM_KATEGORI'].unique(),id='sektor'),\n",
    "    dcc.Graph(id='monthly_grap', figure={})\n",
    "    ])\n",
    "\n",
    "@callback(Output(component_id='monthly_grap', component_property='figure'),\n",
    "          Input(component_id='sektor', component_property='value'))\n",
    "def filtersektor(sektor):\n",
    "    if not sektor:\n",
    "        raise dash.exceptions.PreventUpdate\n",
    "    else:\n",
    "        sektor = df[(df['NM_KATEGORI']==sektor) & (df['TAHUNBAYAR']==2023)]\n",
    "        sektor = sektor.groupby('BULANBAYAR')['NOMINAL'].sum().reset_index()\n",
    "        bar = px.bar(sektor, x='NOMINAL', y='BULANBAYAR', orientation='h', title='PerSektor per bulan')\n",
    "    return bar\n",
    "\n",
    "\n",
    "\n",
    "\n",
    "if __name__ == '__main__':\n",
    "    app.run_server(debug=True, mode='inline')"
   ]
  },
  {
   "cell_type": "code",
   "execution_count": 7,
   "metadata": {},
   "outputs": [],
   "source": [
    "dict_sektor = {\n",
    "    'PERDAGANGAN BESAR DAN ECERAN; REPARASI DAN PERAWATAN MOBIL DAN SEPEDA MOTOR': 'PERDAGANGAN BESAR ECERAN<br>REPARASI PERAWATAN MOBIL',\n",
    "    'PENYEDIAAN AKOMODASI DAN PENYEDIAAN MAKAN MINUM': 'PENYEDIAAN AKOMODASI<br>DAN PENYEDIAAN MAKAN MINUM',\n",
    "    \"PENGADAAN LISTRIK, GAS,UAP/AIR PANAS DAN UDARA DINGIN\": \"PENGADAAN LISTRIK, GAS,UAP/AIR PANAS<br>UDARA DINGIN\",\n",
    "    \"PENGADAAN AIR, PENGELOLAAN SAMPAH DAN DAUR ULANG, PEMBUANGAN DAN PEMBERSIHAN LIMBAH DAN SAMPAH\": \"PENGADAAN AIR, PENGELOLAAN SAMPAH\",\n",
    "    \"KEGIATAN BADAN INTERNASIONAL DAN BADAN EKSTRA INTERNASIONAL LAINNYA\": \"KEGIATAN BADAN INTERNASIONAL\",\n",
    "    \"JASA PERSEWAAN, KETENAGAKERJAAN, AGEN PERJALANAN DAN PENUNJANG USAHA LAINNYA\": \"JASA PERSEWAAN, KETENAGAKERJAAN\",\n",
    "    \"JASA PERORANGAN YANG MELAYANI RUMAH TANGGA; KEGIATAN YANG MENGHASILKAN BARANG DAN JASA OLEH RUMAH TANGGA YANG DIGUNAKAN SENDIRI UNTUK MEMENUHI KEBUTUHAN\": \"JASA PERORANGAN MELAYANI<br>RUMAH TANGGA\",\n",
    "    \"ADMINISTRASI PEMERINTAHAN DAN JAMINAN SOSIAL WAJIB\": \"ADMINISTRASI PEMERINTAHAN<br>JAMINAN SOSIAL WAJIB\",\n",
    "    \"JASA PENDIDIKAN\": \"JASA PENDIDIKAN\",\n",
    "    \"INFORMASI DAN KOMUNIKASI\":\"INFORMASI KOMUNIKASI\",\n",
    "    \"TRANSPORTASI DAN PERGUDANGAN\" : \"TRANSPORTASI DAN PERGUDANGAN\",\n",
    "    \"JASA KESEHATAN DAN KEGIATAN SOSIAL\": \"JASA KESEHATAN DAN KEGIATAN SOSIAL\",\n",
    "    \"KONSTRUKSI\": \"KONSTRUKSI\",\n",
    "    \"REAL ESTAT\" : \"REAL ESTAT\",\n",
    "    \"KEGIATAN JASA LAINNYA\": \"KEGIATAN JASA LAINNYA\",\n",
    "    \"INDUSTRI PENGOLAHAN\" : \"INDUSTRI PENGOLAHAN\",\n",
    "    \"KLU ERROR\":\"KLU ERROR\",\n",
    "    \"PERTAMBANGAN DAN PENGGALIAN\" : \"PERTAMBANGAN DAN PENGGALIAN\",\n",
    "    \"JASA KEUANGAN DAN ASURANSI\" :\"JASA KEUANGAN DAN ASURANSI\",\n",
    "    \"PERTANIAN, KEHUTANAN DAN PERIKANAN\" :\"PERTANIAN,KEHUTANAN,PERIKANAN\",\n",
    "    \"JASA PROFESIONAL, ILMIAH DAN TEKNIS\":\"JASA PROFESIONAL,ILMIAH,TEKNIS\"\n",
    "}"
   ]
  },
  {
   "attachments": {},
   "cell_type": "markdown",
   "metadata": {},
   "source": [
    "### Set Default Color Themes"
   ]
  },
  {
   "cell_type": "code",
   "execution_count": 23,
   "metadata": {},
   "outputs": [],
   "source": [
    "px.defaults.color_continuous_scale = px.colors.sequential.Darkmint"
   ]
  },
  {
   "cell_type": "code",
   "execution_count": 36,
   "metadata": {},
   "outputs": [
    {
     "data": {
      "application/vnd.plotly.v1+json": {
       "config": {
        "plotlyServerURL": "https://plot.ly"
       },
       "data": [
        {
         "alignmentgroup": "True",
         "hovertemplate": "milyar=%{text}<br>=%{marker.color}<extra></extra>",
         "legendgroup": "",
         "marker": {
          "color": [
           35170761,
           897282775,
           10246497241,
           11595777351,
           16028680329,
           26439450694,
           55592446611,
           56249791453,
           63768908917,
           101728313974
          ],
          "coloraxis": "coloraxis",
          "pattern": {
           "shape": ""
          }
         },
         "name": "",
         "offsetgroup": "",
         "orientation": "h",
         "showlegend": false,
         "text": [
          "0.04M",
          "0.90M",
          "10.25M",
          "11.60M",
          "16.03M",
          "26.44M",
          "55.59M",
          "56.25M",
          "63.77M",
          "101.73M"
         ],
         "textposition": "auto",
         "type": "bar",
         "x": [
          "0.04M",
          "0.90M",
          "10.25M",
          "11.60M",
          "16.03M",
          "26.44M",
          "55.59M",
          "56.25M",
          "63.77M",
          "101.73M"
         ],
         "xaxis": "x",
         "y": [
          "KEGIATAN BADAN INTERNASIONAL",
          "JASA PERORANGAN MELAYANI<br>RUMAH TANGGA",
          "PENGADAAN AIR, PENGELOLAAN SAMPAH",
          "KEBUDAYAAN, HIBURAN DAN REKREASI",
          "PENGADAAN LISTRIK, GAS, UAP/AIR PANAS DAN UDARA DINGIN",
          "JASA PENDIDIKAN",
          "PENYEDIAAN AKOMODASI<br>DAN PENYEDIAAN MAKAN MINUM",
          "KLU ERROR",
          "JASA KESEHATAN DAN KEGIATAN SOSIAL",
          "INFORMASI KOMUNIKASI"
         ],
         "yaxis": "y"
        }
       ],
       "layout": {
        "barmode": "relative",
        "coloraxis": {
         "colorbar": {
          "title": {
           "text": ""
          }
         },
         "colorscale": [
          [
           0,
           "rgb(210, 251, 212)"
          ],
          [
           0.16666666666666666,
           "rgb(165, 219, 194)"
          ],
          [
           0.3333333333333333,
           "rgb(123, 188, 176)"
          ],
          [
           0.5,
           "rgb(85, 156, 158)"
          ],
          [
           0.6666666666666666,
           "rgb(58, 124, 137)"
          ],
          [
           0.8333333333333334,
           "rgb(35, 93, 114)"
          ],
          [
           1,
           "rgb(18, 63, 90)"
          ]
         ],
         "showscale": false
        },
        "height": 720,
        "legend": {
         "tracegroupgap": 0
        },
        "margin": {
         "l": 0
        },
        "plot_bgcolor": "white",
        "template": {
         "data": {
          "bar": [
           {
            "error_x": {
             "color": "#2a3f5f"
            },
            "error_y": {
             "color": "#2a3f5f"
            },
            "marker": {
             "line": {
              "color": "#E5ECF6",
              "width": 0.5
             },
             "pattern": {
              "fillmode": "overlay",
              "size": 10,
              "solidity": 0.2
             }
            },
            "type": "bar"
           }
          ],
          "barpolar": [
           {
            "marker": {
             "line": {
              "color": "#E5ECF6",
              "width": 0.5
             },
             "pattern": {
              "fillmode": "overlay",
              "size": 10,
              "solidity": 0.2
             }
            },
            "type": "barpolar"
           }
          ],
          "carpet": [
           {
            "aaxis": {
             "endlinecolor": "#2a3f5f",
             "gridcolor": "white",
             "linecolor": "white",
             "minorgridcolor": "white",
             "startlinecolor": "#2a3f5f"
            },
            "baxis": {
             "endlinecolor": "#2a3f5f",
             "gridcolor": "white",
             "linecolor": "white",
             "minorgridcolor": "white",
             "startlinecolor": "#2a3f5f"
            },
            "type": "carpet"
           }
          ],
          "choropleth": [
           {
            "colorbar": {
             "outlinewidth": 0,
             "ticks": ""
            },
            "type": "choropleth"
           }
          ],
          "contour": [
           {
            "colorbar": {
             "outlinewidth": 0,
             "ticks": ""
            },
            "colorscale": [
             [
              0,
              "#0d0887"
             ],
             [
              0.1111111111111111,
              "#46039f"
             ],
             [
              0.2222222222222222,
              "#7201a8"
             ],
             [
              0.3333333333333333,
              "#9c179e"
             ],
             [
              0.4444444444444444,
              "#bd3786"
             ],
             [
              0.5555555555555556,
              "#d8576b"
             ],
             [
              0.6666666666666666,
              "#ed7953"
             ],
             [
              0.7777777777777778,
              "#fb9f3a"
             ],
             [
              0.8888888888888888,
              "#fdca26"
             ],
             [
              1,
              "#f0f921"
             ]
            ],
            "type": "contour"
           }
          ],
          "contourcarpet": [
           {
            "colorbar": {
             "outlinewidth": 0,
             "ticks": ""
            },
            "type": "contourcarpet"
           }
          ],
          "heatmap": [
           {
            "colorbar": {
             "outlinewidth": 0,
             "ticks": ""
            },
            "colorscale": [
             [
              0,
              "#0d0887"
             ],
             [
              0.1111111111111111,
              "#46039f"
             ],
             [
              0.2222222222222222,
              "#7201a8"
             ],
             [
              0.3333333333333333,
              "#9c179e"
             ],
             [
              0.4444444444444444,
              "#bd3786"
             ],
             [
              0.5555555555555556,
              "#d8576b"
             ],
             [
              0.6666666666666666,
              "#ed7953"
             ],
             [
              0.7777777777777778,
              "#fb9f3a"
             ],
             [
              0.8888888888888888,
              "#fdca26"
             ],
             [
              1,
              "#f0f921"
             ]
            ],
            "type": "heatmap"
           }
          ],
          "heatmapgl": [
           {
            "colorbar": {
             "outlinewidth": 0,
             "ticks": ""
            },
            "colorscale": [
             [
              0,
              "#0d0887"
             ],
             [
              0.1111111111111111,
              "#46039f"
             ],
             [
              0.2222222222222222,
              "#7201a8"
             ],
             [
              0.3333333333333333,
              "#9c179e"
             ],
             [
              0.4444444444444444,
              "#bd3786"
             ],
             [
              0.5555555555555556,
              "#d8576b"
             ],
             [
              0.6666666666666666,
              "#ed7953"
             ],
             [
              0.7777777777777778,
              "#fb9f3a"
             ],
             [
              0.8888888888888888,
              "#fdca26"
             ],
             [
              1,
              "#f0f921"
             ]
            ],
            "type": "heatmapgl"
           }
          ],
          "histogram": [
           {
            "marker": {
             "pattern": {
              "fillmode": "overlay",
              "size": 10,
              "solidity": 0.2
             }
            },
            "type": "histogram"
           }
          ],
          "histogram2d": [
           {
            "colorbar": {
             "outlinewidth": 0,
             "ticks": ""
            },
            "colorscale": [
             [
              0,
              "#0d0887"
             ],
             [
              0.1111111111111111,
              "#46039f"
             ],
             [
              0.2222222222222222,
              "#7201a8"
             ],
             [
              0.3333333333333333,
              "#9c179e"
             ],
             [
              0.4444444444444444,
              "#bd3786"
             ],
             [
              0.5555555555555556,
              "#d8576b"
             ],
             [
              0.6666666666666666,
              "#ed7953"
             ],
             [
              0.7777777777777778,
              "#fb9f3a"
             ],
             [
              0.8888888888888888,
              "#fdca26"
             ],
             [
              1,
              "#f0f921"
             ]
            ],
            "type": "histogram2d"
           }
          ],
          "histogram2dcontour": [
           {
            "colorbar": {
             "outlinewidth": 0,
             "ticks": ""
            },
            "colorscale": [
             [
              0,
              "#0d0887"
             ],
             [
              0.1111111111111111,
              "#46039f"
             ],
             [
              0.2222222222222222,
              "#7201a8"
             ],
             [
              0.3333333333333333,
              "#9c179e"
             ],
             [
              0.4444444444444444,
              "#bd3786"
             ],
             [
              0.5555555555555556,
              "#d8576b"
             ],
             [
              0.6666666666666666,
              "#ed7953"
             ],
             [
              0.7777777777777778,
              "#fb9f3a"
             ],
             [
              0.8888888888888888,
              "#fdca26"
             ],
             [
              1,
              "#f0f921"
             ]
            ],
            "type": "histogram2dcontour"
           }
          ],
          "mesh3d": [
           {
            "colorbar": {
             "outlinewidth": 0,
             "ticks": ""
            },
            "type": "mesh3d"
           }
          ],
          "parcoords": [
           {
            "line": {
             "colorbar": {
              "outlinewidth": 0,
              "ticks": ""
             }
            },
            "type": "parcoords"
           }
          ],
          "pie": [
           {
            "automargin": true,
            "type": "pie"
           }
          ],
          "scatter": [
           {
            "fillpattern": {
             "fillmode": "overlay",
             "size": 10,
             "solidity": 0.2
            },
            "type": "scatter"
           }
          ],
          "scatter3d": [
           {
            "line": {
             "colorbar": {
              "outlinewidth": 0,
              "ticks": ""
             }
            },
            "marker": {
             "colorbar": {
              "outlinewidth": 0,
              "ticks": ""
             }
            },
            "type": "scatter3d"
           }
          ],
          "scattercarpet": [
           {
            "marker": {
             "colorbar": {
              "outlinewidth": 0,
              "ticks": ""
             }
            },
            "type": "scattercarpet"
           }
          ],
          "scattergeo": [
           {
            "marker": {
             "colorbar": {
              "outlinewidth": 0,
              "ticks": ""
             }
            },
            "type": "scattergeo"
           }
          ],
          "scattergl": [
           {
            "marker": {
             "colorbar": {
              "outlinewidth": 0,
              "ticks": ""
             }
            },
            "type": "scattergl"
           }
          ],
          "scattermapbox": [
           {
            "marker": {
             "colorbar": {
              "outlinewidth": 0,
              "ticks": ""
             }
            },
            "type": "scattermapbox"
           }
          ],
          "scatterpolar": [
           {
            "marker": {
             "colorbar": {
              "outlinewidth": 0,
              "ticks": ""
             }
            },
            "type": "scatterpolar"
           }
          ],
          "scatterpolargl": [
           {
            "marker": {
             "colorbar": {
              "outlinewidth": 0,
              "ticks": ""
             }
            },
            "type": "scatterpolargl"
           }
          ],
          "scatterternary": [
           {
            "marker": {
             "colorbar": {
              "outlinewidth": 0,
              "ticks": ""
             }
            },
            "type": "scatterternary"
           }
          ],
          "surface": [
           {
            "colorbar": {
             "outlinewidth": 0,
             "ticks": ""
            },
            "colorscale": [
             [
              0,
              "#0d0887"
             ],
             [
              0.1111111111111111,
              "#46039f"
             ],
             [
              0.2222222222222222,
              "#7201a8"
             ],
             [
              0.3333333333333333,
              "#9c179e"
             ],
             [
              0.4444444444444444,
              "#bd3786"
             ],
             [
              0.5555555555555556,
              "#d8576b"
             ],
             [
              0.6666666666666666,
              "#ed7953"
             ],
             [
              0.7777777777777778,
              "#fb9f3a"
             ],
             [
              0.8888888888888888,
              "#fdca26"
             ],
             [
              1,
              "#f0f921"
             ]
            ],
            "type": "surface"
           }
          ],
          "table": [
           {
            "cells": {
             "fill": {
              "color": "#EBF0F8"
             },
             "line": {
              "color": "white"
             }
            },
            "header": {
             "fill": {
              "color": "#C8D4E3"
             },
             "line": {
              "color": "white"
             }
            },
            "type": "table"
           }
          ]
         },
         "layout": {
          "annotationdefaults": {
           "arrowcolor": "#2a3f5f",
           "arrowhead": 0,
           "arrowwidth": 1
          },
          "autotypenumbers": "strict",
          "coloraxis": {
           "colorbar": {
            "outlinewidth": 0,
            "ticks": ""
           }
          },
          "colorscale": {
           "diverging": [
            [
             0,
             "#8e0152"
            ],
            [
             0.1,
             "#c51b7d"
            ],
            [
             0.2,
             "#de77ae"
            ],
            [
             0.3,
             "#f1b6da"
            ],
            [
             0.4,
             "#fde0ef"
            ],
            [
             0.5,
             "#f7f7f7"
            ],
            [
             0.6,
             "#e6f5d0"
            ],
            [
             0.7,
             "#b8e186"
            ],
            [
             0.8,
             "#7fbc41"
            ],
            [
             0.9,
             "#4d9221"
            ],
            [
             1,
             "#276419"
            ]
           ],
           "sequential": [
            [
             0,
             "#0d0887"
            ],
            [
             0.1111111111111111,
             "#46039f"
            ],
            [
             0.2222222222222222,
             "#7201a8"
            ],
            [
             0.3333333333333333,
             "#9c179e"
            ],
            [
             0.4444444444444444,
             "#bd3786"
            ],
            [
             0.5555555555555556,
             "#d8576b"
            ],
            [
             0.6666666666666666,
             "#ed7953"
            ],
            [
             0.7777777777777778,
             "#fb9f3a"
            ],
            [
             0.8888888888888888,
             "#fdca26"
            ],
            [
             1,
             "#f0f921"
            ]
           ],
           "sequentialminus": [
            [
             0,
             "#0d0887"
            ],
            [
             0.1111111111111111,
             "#46039f"
            ],
            [
             0.2222222222222222,
             "#7201a8"
            ],
            [
             0.3333333333333333,
             "#9c179e"
            ],
            [
             0.4444444444444444,
             "#bd3786"
            ],
            [
             0.5555555555555556,
             "#d8576b"
            ],
            [
             0.6666666666666666,
             "#ed7953"
            ],
            [
             0.7777777777777778,
             "#fb9f3a"
            ],
            [
             0.8888888888888888,
             "#fdca26"
            ],
            [
             1,
             "#f0f921"
            ]
           ]
          },
          "colorway": [
           "#636efa",
           "#EF553B",
           "#00cc96",
           "#ab63fa",
           "#FFA15A",
           "#19d3f3",
           "#FF6692",
           "#B6E880",
           "#FF97FF",
           "#FECB52"
          ],
          "font": {
           "color": "#2a3f5f"
          },
          "geo": {
           "bgcolor": "white",
           "lakecolor": "white",
           "landcolor": "#E5ECF6",
           "showlakes": true,
           "showland": true,
           "subunitcolor": "white"
          },
          "hoverlabel": {
           "align": "left"
          },
          "hovermode": "closest",
          "mapbox": {
           "style": "light"
          },
          "paper_bgcolor": "white",
          "plot_bgcolor": "#E5ECF6",
          "polar": {
           "angularaxis": {
            "gridcolor": "white",
            "linecolor": "white",
            "ticks": ""
           },
           "bgcolor": "#E5ECF6",
           "radialaxis": {
            "gridcolor": "white",
            "linecolor": "white",
            "ticks": ""
           }
          },
          "scene": {
           "xaxis": {
            "backgroundcolor": "#E5ECF6",
            "gridcolor": "white",
            "gridwidth": 2,
            "linecolor": "white",
            "showbackground": true,
            "ticks": "",
            "zerolinecolor": "white"
           },
           "yaxis": {
            "backgroundcolor": "#E5ECF6",
            "gridcolor": "white",
            "gridwidth": 2,
            "linecolor": "white",
            "showbackground": true,
            "ticks": "",
            "zerolinecolor": "white"
           },
           "zaxis": {
            "backgroundcolor": "#E5ECF6",
            "gridcolor": "white",
            "gridwidth": 2,
            "linecolor": "white",
            "showbackground": true,
            "ticks": "",
            "zerolinecolor": "white"
           }
          },
          "shapedefaults": {
           "line": {
            "color": "#2a3f5f"
           }
          },
          "ternary": {
           "aaxis": {
            "gridcolor": "white",
            "linecolor": "white",
            "ticks": ""
           },
           "baxis": {
            "gridcolor": "white",
            "linecolor": "white",
            "ticks": ""
           },
           "bgcolor": "#E5ECF6",
           "caxis": {
            "gridcolor": "white",
            "linecolor": "white",
            "ticks": ""
           }
          },
          "title": {
           "x": 0.05
          },
          "xaxis": {
           "automargin": true,
           "gridcolor": "white",
           "linecolor": "white",
           "ticks": "",
           "title": {
            "standoff": 15
           },
           "zerolinecolor": "white",
           "zerolinewidth": 2
          },
          "yaxis": {
           "automargin": true,
           "gridcolor": "white",
           "linecolor": "white",
           "ticks": "",
           "title": {
            "standoff": 15
           },
           "zerolinecolor": "white",
           "zerolinewidth": 2
          }
         }
        },
        "title": {
         "text": "Penerimaan Per Sektor 2023 (bruto)",
         "x": 0.5,
         "y": 0.9
        },
        "xaxis": {
         "anchor": "y",
         "domain": [
          0,
          1
         ],
         "title": {
          "text": "milyar"
         },
         "visible": false
        },
        "yaxis": {
         "anchor": "x",
         "domain": [
          0,
          1
         ],
         "title": {
          "text": ""
         }
        }
       }
      }
     },
     "metadata": {},
     "output_type": "display_data"
    }
   ],
   "source": [
    "px.bar(df\n",
    "    .query(\"TAHUNBAYAR == 2023 & KET not in ('SPMKP')\")\n",
    "    .groupby('NM_KATEGORI', as_index=False)['NOMINAL']\n",
    "    .sum()\n",
    "    .sort_values(by='NOMINAL', ascending=True)[:10]\n",
    "    .replace(dict_sektor)\n",
    "    .assign(milyar = lambda x:(x['NOMINAL']/1000000000).apply(lambda y:'{:.2f}M'.format(y))),\n",
    "    x='milyar',\n",
    "    y='NM_KATEGORI',\n",
    "    orientation='h',\n",
    "    height=720,\n",
    "    title='Penerimaan Per Sektor 2023 (bruto)',\n",
    "    labels={'NM_KATEGORI':'', 'NOMINAL':''},\n",
    "    color='NOMINAL',\n",
    "    # color_continuous_scale='ylgnbu',\n",
    "    text = 'milyar'\n",
    "    # text_auto=',.2f'\n",
    ").update_layout(\n",
    "    title = dict(x=0.5, y=0.9),\n",
    "    coloraxis_showscale=False,\n",
    "    plot_bgcolor='white',\n",
    "    xaxis_visible=False,\n",
    "    margin = dict(l=0)\n",
    "    )"
   ]
  },
  {
   "attachments": {},
   "cell_type": "markdown",
   "metadata": {},
   "source": [
    "### Analyze Penerimaan by Day"
   ]
  },
  {
   "cell_type": "code",
   "execution_count": 50,
   "metadata": {},
   "outputs": [
    {
     "data": {
      "application/vnd.plotly.v1+json": {
       "config": {
        "plotlyServerURL": "https://plot.ly"
       },
       "data": [
        {
         "hovertemplate": "MAP=Bea Meterai<br>TANGGALBAYAR=%{x}<br>NOMINAL=%{y}<extra></extra>",
         "legendgroup": "Bea Meterai",
         "marker": {
          "color": "#636efa",
          "symbol": "circle"
         },
         "mode": "markers",
         "name": "Bea Meterai",
         "orientation": "v",
         "showlegend": true,
         "type": "scatter",
         "x": [
          1,
          2,
          3,
          4,
          5,
          6,
          8,
          9,
          10,
          12,
          14,
          15,
          16,
          24,
          25,
          28
         ],
         "xaxis": "x",
         "y": [
          15000000,
          7000,
          350000,
          21000,
          30028000,
          14464000,
          63760000,
          4330000,
          1864577000,
          7000,
          195000000,
          35000,
          105000,
          798067000,
          15000000,
          15476000
         ],
         "yaxis": "y"
        },
        {
         "alignmentgroup": "True",
         "bingroup": "x",
         "hovertemplate": "MAP=Bea Meterai<br>TANGGALBAYAR=%{x}<br>count=%{y}<extra></extra>",
         "legendgroup": "Bea Meterai",
         "marker": {
          "color": "#636efa"
         },
         "name": "Bea Meterai",
         "offsetgroup": "Bea Meterai",
         "opacity": 0.5,
         "showlegend": false,
         "type": "histogram",
         "x": [
          1,
          2,
          3,
          4,
          5,
          6,
          8,
          9,
          10,
          12,
          14,
          15,
          16,
          24,
          25,
          28
         ],
         "xaxis": "x3",
         "yaxis": "y3"
        },
        {
         "alignmentgroup": "True",
         "hovertemplate": "MAP=Bea Meterai<br>NOMINAL=%{y}<extra></extra>",
         "legendgroup": "Bea Meterai",
         "marker": {
          "color": "#636efa",
          "symbol": "circle"
         },
         "name": "Bea Meterai",
         "offsetgroup": "Bea Meterai",
         "scalegroup": "y",
         "showlegend": false,
         "type": "violin",
         "xaxis": "x2",
         "y": [
          15000000,
          7000,
          350000,
          21000,
          30028000,
          14464000,
          63760000,
          4330000,
          1864577000,
          7000,
          195000000,
          35000,
          105000,
          798067000,
          15000000,
          15476000
         ],
         "yaxis": "y2"
        },
        {
         "hovertemplate": "MAP=PPN DN<br>TANGGALBAYAR=%{x}<br>NOMINAL=%{y}<extra></extra>",
         "legendgroup": "PPN DN",
         "marker": {
          "color": "#EF553B",
          "symbol": "circle"
         },
         "mode": "markers",
         "name": "PPN DN",
         "orientation": "v",
         "showlegend": true,
         "type": "scatter",
         "x": [
          1,
          2,
          3,
          4,
          5,
          6,
          7,
          8,
          9,
          10,
          11,
          12,
          13,
          14,
          15,
          16,
          17,
          18,
          19,
          20,
          21,
          22,
          23,
          24,
          25,
          26,
          27,
          28,
          29,
          30,
          31
         ],
         "xaxis": "x",
         "y": [
          23006295947,
          54819280378,
          26280453927,
          10538294029,
          27221071569,
          46724441035,
          67925249314,
          27231182037,
          54916172599,
          54689762945,
          18301772872,
          17286438373,
          95515488888,
          62832799202,
          184257538729,
          89635596205,
          80719778760,
          13858419504,
          11891998770,
          61984007815,
          59226705581,
          34298669072,
          61930749874,
          225318827686,
          70231635673,
          61465235948,
          357030414389,
          284874829759,
          83483412562,
          296800789322,
          278196478736
         ],
         "yaxis": "y"
        },
        {
         "alignmentgroup": "True",
         "bingroup": "x",
         "hovertemplate": "MAP=PPN DN<br>TANGGALBAYAR=%{x}<br>count=%{y}<extra></extra>",
         "legendgroup": "PPN DN",
         "marker": {
          "color": "#EF553B"
         },
         "name": "PPN DN",
         "offsetgroup": "PPN DN",
         "opacity": 0.5,
         "showlegend": false,
         "type": "histogram",
         "x": [
          1,
          2,
          3,
          4,
          5,
          6,
          7,
          8,
          9,
          10,
          11,
          12,
          13,
          14,
          15,
          16,
          17,
          18,
          19,
          20,
          21,
          22,
          23,
          24,
          25,
          26,
          27,
          28,
          29,
          30,
          31
         ],
         "xaxis": "x3",
         "yaxis": "y3"
        },
        {
         "alignmentgroup": "True",
         "hovertemplate": "MAP=PPN DN<br>NOMINAL=%{y}<extra></extra>",
         "legendgroup": "PPN DN",
         "marker": {
          "color": "#EF553B",
          "symbol": "circle"
         },
         "name": "PPN DN",
         "offsetgroup": "PPN DN",
         "scalegroup": "y",
         "showlegend": false,
         "type": "violin",
         "xaxis": "x2",
         "y": [
          23006295947,
          54819280378,
          26280453927,
          10538294029,
          27221071569,
          46724441035,
          67925249314,
          27231182037,
          54916172599,
          54689762945,
          18301772872,
          17286438373,
          95515488888,
          62832799202,
          184257538729,
          89635596205,
          80719778760,
          13858419504,
          11891998770,
          61984007815,
          59226705581,
          34298669072,
          61930749874,
          225318827686,
          70231635673,
          61465235948,
          357030414389,
          284874829759,
          83483412562,
          296800789322,
          278196478736
         ],
         "yaxis": "y2"
        },
        {
         "hovertemplate": "MAP=PPN Impor<br>TANGGALBAYAR=%{x}<br>NOMINAL=%{y}<extra></extra>",
         "legendgroup": "PPN Impor",
         "marker": {
          "color": "#00cc96",
          "symbol": "circle"
         },
         "mode": "markers",
         "name": "PPN Impor",
         "orientation": "v",
         "showlegend": true,
         "type": "scatter",
         "x": [
          1,
          2,
          3,
          4,
          5,
          6,
          7,
          8,
          9,
          10,
          11,
          12,
          13,
          14,
          15,
          16,
          17,
          18,
          19,
          20,
          21,
          22,
          23,
          24,
          25,
          26,
          27,
          28,
          29,
          30,
          31
         ],
         "xaxis": "x",
         "y": [
          20366690000,
          80262877000,
          33625606000,
          10660147000,
          17790263000,
          46605372000,
          39113303000,
          17051243000,
          57452770000.00001,
          54945615749,
          11935066000,
          9394578000,
          35859228000,
          22673971000,
          51951688913,
          42431455000,
          54646632000,
          17076977000,
          11095116000,
          46845305000,
          55788365000,
          42481438000,
          14864053973,
          72312615000,
          14518701000,
          8037256000,
          90010593000,
          95145195689,
          30827159000,
          37782201000,
          66414389000
         ],
         "yaxis": "y"
        },
        {
         "alignmentgroup": "True",
         "bingroup": "x",
         "hovertemplate": "MAP=PPN Impor<br>TANGGALBAYAR=%{x}<br>count=%{y}<extra></extra>",
         "legendgroup": "PPN Impor",
         "marker": {
          "color": "#00cc96"
         },
         "name": "PPN Impor",
         "offsetgroup": "PPN Impor",
         "opacity": 0.5,
         "showlegend": false,
         "type": "histogram",
         "x": [
          1,
          2,
          3,
          4,
          5,
          6,
          7,
          8,
          9,
          10,
          11,
          12,
          13,
          14,
          15,
          16,
          17,
          18,
          19,
          20,
          21,
          22,
          23,
          24,
          25,
          26,
          27,
          28,
          29,
          30,
          31
         ],
         "xaxis": "x3",
         "yaxis": "y3"
        },
        {
         "alignmentgroup": "True",
         "hovertemplate": "MAP=PPN Impor<br>NOMINAL=%{y}<extra></extra>",
         "legendgroup": "PPN Impor",
         "marker": {
          "color": "#00cc96",
          "symbol": "circle"
         },
         "name": "PPN Impor",
         "offsetgroup": "PPN Impor",
         "scalegroup": "y",
         "showlegend": false,
         "type": "violin",
         "xaxis": "x2",
         "y": [
          20366690000,
          80262877000,
          33625606000,
          10660147000,
          17790263000,
          46605372000,
          39113303000,
          17051243000,
          57452770000.00001,
          54945615749,
          11935066000,
          9394578000,
          35859228000,
          22673971000,
          51951688913,
          42431455000,
          54646632000,
          17076977000,
          11095116000,
          46845305000,
          55788365000,
          42481438000,
          14864053973,
          72312615000,
          14518701000,
          8037256000,
          90010593000,
          95145195689,
          30827159000,
          37782201000,
          66414389000
         ],
         "yaxis": "y2"
        },
        {
         "hovertemplate": "MAP=PPh 21<br>TANGGALBAYAR=%{x}<br>NOMINAL=%{y}<extra></extra>",
         "legendgroup": "PPh 21",
         "marker": {
          "color": "#ab63fa",
          "symbol": "circle"
         },
         "mode": "markers",
         "name": "PPh 21",
         "orientation": "v",
         "showlegend": true,
         "type": "scatter",
         "x": [
          1,
          2,
          3,
          4,
          5,
          6,
          7,
          8,
          9,
          10,
          11,
          12,
          13,
          14,
          15,
          16,
          17,
          18,
          19,
          20,
          21,
          22,
          23,
          24,
          25,
          26,
          27,
          28,
          29,
          30,
          31
         ],
         "xaxis": "x",
         "y": [
          10747186810,
          12650102295,
          6038992737,
          2737700402,
          6839402977,
          24576956291,
          22175743841,
          34913000365,
          146907208487,
          360495103514,
          4444408417,
          2727140269,
          5826240981,
          3596485910,
          3392716331,
          9104648054,
          6172533259,
          1384450630,
          1951380865,
          12235938276,
          7107341015,
          7333817368,
          1925017347,
          6143606630,
          4399490578,
          3794141993,
          7370102557,
          7381285892,
          1821532249,
          8683913614,
          6381869683
         ],
         "yaxis": "y"
        },
        {
         "alignmentgroup": "True",
         "bingroup": "x",
         "hovertemplate": "MAP=PPh 21<br>TANGGALBAYAR=%{x}<br>count=%{y}<extra></extra>",
         "legendgroup": "PPh 21",
         "marker": {
          "color": "#ab63fa"
         },
         "name": "PPh 21",
         "offsetgroup": "PPh 21",
         "opacity": 0.5,
         "showlegend": false,
         "type": "histogram",
         "x": [
          1,
          2,
          3,
          4,
          5,
          6,
          7,
          8,
          9,
          10,
          11,
          12,
          13,
          14,
          15,
          16,
          17,
          18,
          19,
          20,
          21,
          22,
          23,
          24,
          25,
          26,
          27,
          28,
          29,
          30,
          31
         ],
         "xaxis": "x3",
         "yaxis": "y3"
        },
        {
         "alignmentgroup": "True",
         "hovertemplate": "MAP=PPh 21<br>NOMINAL=%{y}<extra></extra>",
         "legendgroup": "PPh 21",
         "marker": {
          "color": "#ab63fa",
          "symbol": "circle"
         },
         "name": "PPh 21",
         "offsetgroup": "PPh 21",
         "scalegroup": "y",
         "showlegend": false,
         "type": "violin",
         "xaxis": "x2",
         "y": [
          10747186810,
          12650102295,
          6038992737,
          2737700402,
          6839402977,
          24576956291,
          22175743841,
          34913000365,
          146907208487,
          360495103514,
          4444408417,
          2727140269,
          5826240981,
          3596485910,
          3392716331,
          9104648054,
          6172533259,
          1384450630,
          1951380865,
          12235938276,
          7107341015,
          7333817368,
          1925017347,
          6143606630,
          4399490578,
          3794141993,
          7370102557,
          7381285892,
          1821532249,
          8683913614,
          6381869683
         ],
         "yaxis": "y2"
        },
        {
         "hovertemplate": "MAP=PPh 22<br>TANGGALBAYAR=%{x}<br>NOMINAL=%{y}<extra></extra>",
         "legendgroup": "PPh 22",
         "marker": {
          "color": "#FFA15A",
          "symbol": "circle"
         },
         "mode": "markers",
         "name": "PPh 22",
         "orientation": "v",
         "showlegend": true,
         "type": "scatter",
         "x": [
          1,
          2,
          3,
          4,
          5,
          6,
          7,
          8,
          9,
          10,
          11,
          12,
          13,
          14,
          15,
          16,
          17,
          18,
          19,
          20,
          21,
          22,
          23,
          24,
          25,
          26,
          27,
          28,
          29,
          30,
          31
         ],
         "xaxis": "x",
         "y": [
          400638868,
          1748603516,
          524783463,
          67270202,
          374460049,
          1566138530,
          1209030913,
          1087077175,
          6644829842,
          42616716395,
          71195436,
          91705089,
          744067048,
          470369738,
          1936013362,
          748364326,
          770703134,
          359003953,
          321383063,
          2298380905,
          1002452586,
          1472428620,
          539310223,
          1742238174,
          187110228,
          333844210,
          1180361541,
          1332922922,
          963187115,
          614800570,
          1216958157
         ],
         "yaxis": "y"
        },
        {
         "alignmentgroup": "True",
         "bingroup": "x",
         "hovertemplate": "MAP=PPh 22<br>TANGGALBAYAR=%{x}<br>count=%{y}<extra></extra>",
         "legendgroup": "PPh 22",
         "marker": {
          "color": "#FFA15A"
         },
         "name": "PPh 22",
         "offsetgroup": "PPh 22",
         "opacity": 0.5,
         "showlegend": false,
         "type": "histogram",
         "x": [
          1,
          2,
          3,
          4,
          5,
          6,
          7,
          8,
          9,
          10,
          11,
          12,
          13,
          14,
          15,
          16,
          17,
          18,
          19,
          20,
          21,
          22,
          23,
          24,
          25,
          26,
          27,
          28,
          29,
          30,
          31
         ],
         "xaxis": "x3",
         "yaxis": "y3"
        },
        {
         "alignmentgroup": "True",
         "hovertemplate": "MAP=PPh 22<br>NOMINAL=%{y}<extra></extra>",
         "legendgroup": "PPh 22",
         "marker": {
          "color": "#FFA15A",
          "symbol": "circle"
         },
         "name": "PPh 22",
         "offsetgroup": "PPh 22",
         "scalegroup": "y",
         "showlegend": false,
         "type": "violin",
         "xaxis": "x2",
         "y": [
          400638868,
          1748603516,
          524783463,
          67270202,
          374460049,
          1566138530,
          1209030913,
          1087077175,
          6644829842,
          42616716395,
          71195436,
          91705089,
          744067048,
          470369738,
          1936013362,
          748364326,
          770703134,
          359003953,
          321383063,
          2298380905,
          1002452586,
          1472428620,
          539310223,
          1742238174,
          187110228,
          333844210,
          1180361541,
          1332922922,
          963187115,
          614800570,
          1216958157
         ],
         "yaxis": "y2"
        },
        {
         "hovertemplate": "MAP=PPh 22 Impor<br>TANGGALBAYAR=%{x}<br>NOMINAL=%{y}<extra></extra>",
         "legendgroup": "PPh 22 Impor",
         "marker": {
          "color": "#19d3f3",
          "symbol": "circle"
         },
         "mode": "markers",
         "name": "PPh 22 Impor",
         "orientation": "v",
         "showlegend": true,
         "type": "scatter",
         "x": [
          1,
          2,
          3,
          4,
          5,
          6,
          7,
          8,
          9,
          10,
          11,
          12,
          13,
          14,
          15,
          16,
          17,
          18,
          19,
          20,
          21,
          22,
          23,
          24,
          25,
          26,
          27,
          28,
          29,
          30,
          31
         ],
         "xaxis": "x",
         "y": [
          7184283000,
          20813479000,
          12673644614,
          4134238000,
          5772448000,
          17999589000,
          7605635000,
          4834015000,
          14059659000,
          24908676000,
          4478178000,
          2583255000,
          11945654000,
          10689447000,
          27831479000,
          13230990000,
          15889883000,
          5181384000,
          3288795000,
          18490044000,
          15745952649,
          10366872000,
          4912924000,
          32118418000,
          5403910000,
          2892517000,
          37977660000,
          33357755000,
          6884705000,
          15306740521,
          17759624000
         ],
         "yaxis": "y"
        },
        {
         "alignmentgroup": "True",
         "bingroup": "x",
         "hovertemplate": "MAP=PPh 22 Impor<br>TANGGALBAYAR=%{x}<br>count=%{y}<extra></extra>",
         "legendgroup": "PPh 22 Impor",
         "marker": {
          "color": "#19d3f3"
         },
         "name": "PPh 22 Impor",
         "offsetgroup": "PPh 22 Impor",
         "opacity": 0.5,
         "showlegend": false,
         "type": "histogram",
         "x": [
          1,
          2,
          3,
          4,
          5,
          6,
          7,
          8,
          9,
          10,
          11,
          12,
          13,
          14,
          15,
          16,
          17,
          18,
          19,
          20,
          21,
          22,
          23,
          24,
          25,
          26,
          27,
          28,
          29,
          30,
          31
         ],
         "xaxis": "x3",
         "yaxis": "y3"
        },
        {
         "alignmentgroup": "True",
         "hovertemplate": "MAP=PPh 22 Impor<br>NOMINAL=%{y}<extra></extra>",
         "legendgroup": "PPh 22 Impor",
         "marker": {
          "color": "#19d3f3",
          "symbol": "circle"
         },
         "name": "PPh 22 Impor",
         "offsetgroup": "PPh 22 Impor",
         "scalegroup": "y",
         "showlegend": false,
         "type": "violin",
         "xaxis": "x2",
         "y": [
          7184283000,
          20813479000,
          12673644614,
          4134238000,
          5772448000,
          17999589000,
          7605635000,
          4834015000,
          14059659000,
          24908676000,
          4478178000,
          2583255000,
          11945654000,
          10689447000,
          27831479000,
          13230990000,
          15889883000,
          5181384000,
          3288795000,
          18490044000,
          15745952649,
          10366872000,
          4912924000,
          32118418000,
          5403910000,
          2892517000,
          37977660000,
          33357755000,
          6884705000,
          15306740521,
          17759624000
         ],
         "yaxis": "y2"
        },
        {
         "hovertemplate": "MAP=PPh 23<br>TANGGALBAYAR=%{x}<br>NOMINAL=%{y}<extra></extra>",
         "legendgroup": "PPh 23",
         "marker": {
          "color": "#FF6692",
          "symbol": "circle"
         },
         "mode": "markers",
         "name": "PPh 23",
         "orientation": "v",
         "showlegend": true,
         "type": "scatter",
         "x": [
          1,
          2,
          3,
          4,
          5,
          6,
          7,
          8,
          9,
          10,
          11,
          12,
          13,
          14,
          15,
          16,
          17,
          18,
          19,
          20,
          21,
          22,
          23,
          24,
          25,
          26,
          27,
          28,
          29,
          30,
          31
         ],
         "xaxis": "x",
         "y": [
          727799758,
          1156311809,
          1244300468,
          1172054445,
          2177123281,
          7912125408,
          7208059230,
          12338963203,
          108344749329,
          190488434257,
          1334565167,
          785126154,
          1270060810,
          954125262,
          959348314,
          5993575880,
          2886690028,
          436356322,
          436450075,
          1356746574,
          2073059706,
          293986612,
          293560710,
          950675706,
          148557362,
          532861779,
          2106934461,
          1121751370,
          679580240,
          1841536749,
          1867620520
         ],
         "yaxis": "y"
        },
        {
         "alignmentgroup": "True",
         "bingroup": "x",
         "hovertemplate": "MAP=PPh 23<br>TANGGALBAYAR=%{x}<br>count=%{y}<extra></extra>",
         "legendgroup": "PPh 23",
         "marker": {
          "color": "#FF6692"
         },
         "name": "PPh 23",
         "offsetgroup": "PPh 23",
         "opacity": 0.5,
         "showlegend": false,
         "type": "histogram",
         "x": [
          1,
          2,
          3,
          4,
          5,
          6,
          7,
          8,
          9,
          10,
          11,
          12,
          13,
          14,
          15,
          16,
          17,
          18,
          19,
          20,
          21,
          22,
          23,
          24,
          25,
          26,
          27,
          28,
          29,
          30,
          31
         ],
         "xaxis": "x3",
         "yaxis": "y3"
        },
        {
         "alignmentgroup": "True",
         "hovertemplate": "MAP=PPh 23<br>NOMINAL=%{y}<extra></extra>",
         "legendgroup": "PPh 23",
         "marker": {
          "color": "#FF6692",
          "symbol": "circle"
         },
         "name": "PPh 23",
         "offsetgroup": "PPh 23",
         "scalegroup": "y",
         "showlegend": false,
         "type": "violin",
         "xaxis": "x2",
         "y": [
          727799758,
          1156311809,
          1244300468,
          1172054445,
          2177123281,
          7912125408,
          7208059230,
          12338963203,
          108344749329,
          190488434257,
          1334565167,
          785126154,
          1270060810,
          954125262,
          959348314,
          5993575880,
          2886690028,
          436356322,
          436450075,
          1356746574,
          2073059706,
          293986612,
          293560710,
          950675706,
          148557362,
          532861779,
          2106934461,
          1121751370,
          679580240,
          1841536749,
          1867620520
         ],
         "yaxis": "y2"
        },
        {
         "hovertemplate": "MAP=PPh 25 Badan<br>TANGGALBAYAR=%{x}<br>NOMINAL=%{y}<extra></extra>",
         "legendgroup": "PPh 25 Badan",
         "marker": {
          "color": "#B6E880",
          "symbol": "circle"
         },
         "mode": "markers",
         "name": "PPh 25 Badan",
         "orientation": "v",
         "showlegend": true,
         "type": "scatter",
         "x": [
          1,
          2,
          3,
          4,
          5,
          6,
          7,
          8,
          9,
          10,
          11,
          12,
          13,
          14,
          15,
          16,
          17,
          18,
          19,
          20,
          21,
          22,
          23,
          24,
          25,
          26,
          27,
          28,
          29,
          30,
          31
         ],
         "xaxis": "x",
         "y": [
          3366800964,
          10325939226,
          5674779656,
          2815062683,
          7198297434,
          38241657981,
          24619196443,
          51308736805,
          260299891319,
          213239717630.03998,
          4562922737,
          7019791726,
          93616814439.79999,
          172702581664,
          215519519941,
          97536260260,
          4823197648,
          768573191,
          426461053,
          4331832693,
          2295012574,
          825440732,
          1370335555,
          5874443155,
          216266856,
          1937883015,
          5642339203,
          8236970934,
          1955493088,
          3480576744,
          5217337807
         ],
         "yaxis": "y"
        },
        {
         "alignmentgroup": "True",
         "bingroup": "x",
         "hovertemplate": "MAP=PPh 25 Badan<br>TANGGALBAYAR=%{x}<br>count=%{y}<extra></extra>",
         "legendgroup": "PPh 25 Badan",
         "marker": {
          "color": "#B6E880"
         },
         "name": "PPh 25 Badan",
         "offsetgroup": "PPh 25 Badan",
         "opacity": 0.5,
         "showlegend": false,
         "type": "histogram",
         "x": [
          1,
          2,
          3,
          4,
          5,
          6,
          7,
          8,
          9,
          10,
          11,
          12,
          13,
          14,
          15,
          16,
          17,
          18,
          19,
          20,
          21,
          22,
          23,
          24,
          25,
          26,
          27,
          28,
          29,
          30,
          31
         ],
         "xaxis": "x3",
         "yaxis": "y3"
        },
        {
         "alignmentgroup": "True",
         "hovertemplate": "MAP=PPh 25 Badan<br>NOMINAL=%{y}<extra></extra>",
         "legendgroup": "PPh 25 Badan",
         "marker": {
          "color": "#B6E880",
          "symbol": "circle"
         },
         "name": "PPh 25 Badan",
         "offsetgroup": "PPh 25 Badan",
         "scalegroup": "y",
         "showlegend": false,
         "type": "violin",
         "xaxis": "x2",
         "y": [
          3366800964,
          10325939226,
          5674779656,
          2815062683,
          7198297434,
          38241657981,
          24619196443,
          51308736805,
          260299891319,
          213239717630.03998,
          4562922737,
          7019791726,
          93616814439.79999,
          172702581664,
          215519519941,
          97536260260,
          4823197648,
          768573191,
          426461053,
          4331832693,
          2295012574,
          825440732,
          1370335555,
          5874443155,
          216266856,
          1937883015,
          5642339203,
          8236970934,
          1955493088,
          3480576744,
          5217337807
         ],
         "yaxis": "y2"
        },
        {
         "hovertemplate": "MAP=PPh 25 OP<br>TANGGALBAYAR=%{x}<br>NOMINAL=%{y}<extra></extra>",
         "legendgroup": "PPh 25 OP",
         "marker": {
          "color": "#FF97FF",
          "symbol": "circle"
         },
         "mode": "markers",
         "name": "PPh 25 OP",
         "orientation": "v",
         "showlegend": true,
         "type": "scatter",
         "x": [
          1,
          2,
          3,
          4,
          5,
          6,
          7,
          8,
          9,
          10,
          11,
          12,
          13,
          14,
          15,
          16,
          17,
          18,
          19,
          20,
          21,
          22,
          23,
          24,
          25,
          26,
          27,
          28,
          29,
          30,
          31
         ],
         "xaxis": "x",
         "y": [
          2191061326,
          6232057866,
          3604003610,
          523312850,
          730792305,
          4388022860,
          4590742500,
          4229320984,
          8375320997,
          8746891186,
          803101007,
          1433772280,
          4345129750,
          11507387605,
          8265131631,
          6607882657,
          7551072906,
          1856591364,
          1576105130,
          19874973826,
          11267000347,
          3048448579,
          3586327292,
          20551208250,
          3171866742,
          4191633056,
          28244963981,
          15961663505,
          30724318124,
          26210000174,
          26345087947
         ],
         "yaxis": "y"
        },
        {
         "alignmentgroup": "True",
         "bingroup": "x",
         "hovertemplate": "MAP=PPh 25 OP<br>TANGGALBAYAR=%{x}<br>count=%{y}<extra></extra>",
         "legendgroup": "PPh 25 OP",
         "marker": {
          "color": "#FF97FF"
         },
         "name": "PPh 25 OP",
         "offsetgroup": "PPh 25 OP",
         "opacity": 0.5,
         "showlegend": false,
         "type": "histogram",
         "x": [
          1,
          2,
          3,
          4,
          5,
          6,
          7,
          8,
          9,
          10,
          11,
          12,
          13,
          14,
          15,
          16,
          17,
          18,
          19,
          20,
          21,
          22,
          23,
          24,
          25,
          26,
          27,
          28,
          29,
          30,
          31
         ],
         "xaxis": "x3",
         "yaxis": "y3"
        },
        {
         "alignmentgroup": "True",
         "hovertemplate": "MAP=PPh 25 OP<br>NOMINAL=%{y}<extra></extra>",
         "legendgroup": "PPh 25 OP",
         "marker": {
          "color": "#FF97FF",
          "symbol": "circle"
         },
         "name": "PPh 25 OP",
         "offsetgroup": "PPh 25 OP",
         "scalegroup": "y",
         "showlegend": false,
         "type": "violin",
         "xaxis": "x2",
         "y": [
          2191061326,
          6232057866,
          3604003610,
          523312850,
          730792305,
          4388022860,
          4590742500,
          4229320984,
          8375320997,
          8746891186,
          803101007,
          1433772280,
          4345129750,
          11507387605,
          8265131631,
          6607882657,
          7551072906,
          1856591364,
          1576105130,
          19874973826,
          11267000347,
          3048448579,
          3586327292,
          20551208250,
          3171866742,
          4191633056,
          28244963981,
          15961663505,
          30724318124,
          26210000174,
          26345087947
         ],
         "yaxis": "y2"
        },
        {
         "hovertemplate": "MAP=PPh 26<br>TANGGALBAYAR=%{x}<br>NOMINAL=%{y}<extra></extra>",
         "legendgroup": "PPh 26",
         "marker": {
          "color": "#FECB52",
          "symbol": "circle"
         },
         "mode": "markers",
         "name": "PPh 26",
         "orientation": "v",
         "showlegend": true,
         "type": "scatter",
         "x": [
          1,
          2,
          3,
          4,
          5,
          6,
          7,
          8,
          9,
          10,
          11,
          12,
          13,
          14,
          15,
          16,
          17,
          18,
          19,
          20,
          21,
          22,
          23,
          24,
          25,
          26,
          27,
          28,
          29,
          30,
          31
         ],
         "xaxis": "x",
         "y": [
          384245597,
          1485460,
          36568662,
          98165831.99999999,
          20184850,
          826074909,
          1944508769,
          2996077567,
          34504394658.00001,
          19749778519,
          31920356,
          308281127,
          9763419,
          188087957,
          39773906,
          477090384,
          455782780,
          10751079,
          2922664,
          680000,
          310149299,
          48,
          463782780,
          64745322,
          29660796,
          64703707.99999999,
          358378611,
          0,
          7476624,
          27760801,
          469109748
         ],
         "yaxis": "y"
        },
        {
         "alignmentgroup": "True",
         "bingroup": "x",
         "hovertemplate": "MAP=PPh 26<br>TANGGALBAYAR=%{x}<br>count=%{y}<extra></extra>",
         "legendgroup": "PPh 26",
         "marker": {
          "color": "#FECB52"
         },
         "name": "PPh 26",
         "offsetgroup": "PPh 26",
         "opacity": 0.5,
         "showlegend": false,
         "type": "histogram",
         "x": [
          1,
          2,
          3,
          4,
          5,
          6,
          7,
          8,
          9,
          10,
          11,
          12,
          13,
          14,
          15,
          16,
          17,
          18,
          19,
          20,
          21,
          22,
          23,
          24,
          25,
          26,
          27,
          28,
          29,
          30,
          31
         ],
         "xaxis": "x3",
         "yaxis": "y3"
        },
        {
         "alignmentgroup": "True",
         "hovertemplate": "MAP=PPh 26<br>NOMINAL=%{y}<extra></extra>",
         "legendgroup": "PPh 26",
         "marker": {
          "color": "#FECB52",
          "symbol": "circle"
         },
         "name": "PPh 26",
         "offsetgroup": "PPh 26",
         "scalegroup": "y",
         "showlegend": false,
         "type": "violin",
         "xaxis": "x2",
         "y": [
          384245597,
          1485460,
          36568662,
          98165831.99999999,
          20184850,
          826074909,
          1944508769,
          2996077567,
          34504394658.00001,
          19749778519,
          31920356,
          308281127,
          9763419,
          188087957,
          39773906,
          477090384,
          455782780,
          10751079,
          2922664,
          680000,
          310149299,
          48,
          463782780,
          64745322,
          29660796,
          64703707.99999999,
          358378611,
          0,
          7476624,
          27760801,
          469109748
         ],
         "yaxis": "y2"
        },
        {
         "hovertemplate": "MAP=PPh Final<br>TANGGALBAYAR=%{x}<br>NOMINAL=%{y}<extra></extra>",
         "legendgroup": "PPh Final",
         "marker": {
          "color": "#636efa",
          "symbol": "circle"
         },
         "mode": "markers",
         "name": "PPh Final",
         "orientation": "v",
         "showlegend": true,
         "type": "scatter",
         "x": [
          1,
          2,
          3,
          4,
          5,
          6,
          7,
          8,
          9,
          10,
          11,
          12,
          13,
          14,
          15,
          16,
          17,
          18,
          19,
          20,
          21,
          22,
          23,
          24,
          25,
          26,
          27,
          28,
          29,
          30,
          31
         ],
         "xaxis": "x",
         "y": [
          4548628845,
          6190237796,
          8301920922,
          1796476921,
          3016515428,
          14293095209,
          10868730153,
          25915538091,
          77974931181,
          164560892865,
          4124509904,
          3304580325,
          7974528235,
          7893962639,
          9871255795,
          5863229256,
          5820065548,
          17372609575,
          1542889279,
          6053558248,
          5126984460,
          2137989365,
          15630462207,
          15119698844,
          7220202210,
          2082236954,
          10055043853,
          22142251072,
          3125332598,
          6227608743,
          6849386400
         ],
         "yaxis": "y"
        },
        {
         "alignmentgroup": "True",
         "bingroup": "x",
         "hovertemplate": "MAP=PPh Final<br>TANGGALBAYAR=%{x}<br>count=%{y}<extra></extra>",
         "legendgroup": "PPh Final",
         "marker": {
          "color": "#636efa"
         },
         "name": "PPh Final",
         "offsetgroup": "PPh Final",
         "opacity": 0.5,
         "showlegend": false,
         "type": "histogram",
         "x": [
          1,
          2,
          3,
          4,
          5,
          6,
          7,
          8,
          9,
          10,
          11,
          12,
          13,
          14,
          15,
          16,
          17,
          18,
          19,
          20,
          21,
          22,
          23,
          24,
          25,
          26,
          27,
          28,
          29,
          30,
          31
         ],
         "xaxis": "x3",
         "yaxis": "y3"
        },
        {
         "alignmentgroup": "True",
         "hovertemplate": "MAP=PPh Final<br>NOMINAL=%{y}<extra></extra>",
         "legendgroup": "PPh Final",
         "marker": {
          "color": "#636efa",
          "symbol": "circle"
         },
         "name": "PPh Final",
         "offsetgroup": "PPh Final",
         "scalegroup": "y",
         "showlegend": false,
         "type": "violin",
         "xaxis": "x2",
         "y": [
          4548628845,
          6190237796,
          8301920922,
          1796476921,
          3016515428,
          14293095209,
          10868730153,
          25915538091,
          77974931181,
          164560892865,
          4124509904,
          3304580325,
          7974528235,
          7893962639,
          9871255795,
          5863229256,
          5820065548,
          17372609575,
          1542889279,
          6053558248,
          5126984460,
          2137989365,
          15630462207,
          15119698844,
          7220202210,
          2082236954,
          10055043853,
          22142251072,
          3125332598,
          6227608743,
          6849386400
         ],
         "yaxis": "y2"
        },
        {
         "hovertemplate": "MAP=PPnBM Impor<br>TANGGALBAYAR=%{x}<br>NOMINAL=%{y}<extra></extra>",
         "legendgroup": "PPnBM Impor",
         "marker": {
          "color": "#EF553B",
          "symbol": "circle"
         },
         "mode": "markers",
         "name": "PPnBM Impor",
         "orientation": "v",
         "showlegend": true,
         "type": "scatter",
         "x": [
          1,
          3,
          6,
          10,
          14,
          15,
          16,
          17,
          20,
          21,
          24,
          27,
          28,
          29,
          30,
          31
         ],
         "xaxis": "x",
         "y": [
          640438000,
          7278276000,
          8971882000,
          3135489000,
          9416479000,
          9817078000,
          2018113999.9999998,
          1449695000,
          10617483000,
          1541382000,
          3157201000,
          27427131000,
          1026739000,
          1537866000,
          15632594000,
          1006183000
         ],
         "yaxis": "y"
        },
        {
         "alignmentgroup": "True",
         "bingroup": "x",
         "hovertemplate": "MAP=PPnBM Impor<br>TANGGALBAYAR=%{x}<br>count=%{y}<extra></extra>",
         "legendgroup": "PPnBM Impor",
         "marker": {
          "color": "#EF553B"
         },
         "name": "PPnBM Impor",
         "offsetgroup": "PPnBM Impor",
         "opacity": 0.5,
         "showlegend": false,
         "type": "histogram",
         "x": [
          1,
          3,
          6,
          10,
          14,
          15,
          16,
          17,
          20,
          21,
          24,
          27,
          28,
          29,
          30,
          31
         ],
         "xaxis": "x3",
         "yaxis": "y3"
        },
        {
         "alignmentgroup": "True",
         "hovertemplate": "MAP=PPnBM Impor<br>NOMINAL=%{y}<extra></extra>",
         "legendgroup": "PPnBM Impor",
         "marker": {
          "color": "#EF553B",
          "symbol": "circle"
         },
         "name": "PPnBM Impor",
         "offsetgroup": "PPnBM Impor",
         "scalegroup": "y",
         "showlegend": false,
         "type": "violin",
         "xaxis": "x2",
         "y": [
          640438000,
          7278276000,
          8971882000,
          3135489000,
          9416479000,
          9817078000,
          2018113999.9999998,
          1449695000,
          10617483000,
          1541382000,
          3157201000,
          27427131000,
          1026739000,
          1537866000,
          15632594000,
          1006183000
         ],
         "yaxis": "y2"
        },
        {
         "hovertemplate": "MAP=Pajak Tidak Langsung<br>TANGGALBAYAR=%{x}<br>NOMINAL=%{y}<extra></extra>",
         "legendgroup": "Pajak Tidak Langsung",
         "marker": {
          "color": "#00cc96",
          "symbol": "circle"
         },
         "mode": "markers",
         "name": "Pajak Tidak Langsung",
         "orientation": "v",
         "showlegend": true,
         "type": "scatter",
         "x": [
          1,
          28
         ],
         "xaxis": "x",
         "y": [
          2235081,
          120000
         ],
         "yaxis": "y"
        },
        {
         "alignmentgroup": "True",
         "bingroup": "x",
         "hovertemplate": "MAP=Pajak Tidak Langsung<br>TANGGALBAYAR=%{x}<br>count=%{y}<extra></extra>",
         "legendgroup": "Pajak Tidak Langsung",
         "marker": {
          "color": "#00cc96"
         },
         "name": "Pajak Tidak Langsung",
         "offsetgroup": "Pajak Tidak Langsung",
         "opacity": 0.5,
         "showlegend": false,
         "type": "histogram",
         "x": [
          1,
          28
         ],
         "xaxis": "x3",
         "yaxis": "y3"
        },
        {
         "alignmentgroup": "True",
         "hovertemplate": "MAP=Pajak Tidak Langsung<br>NOMINAL=%{y}<extra></extra>",
         "legendgroup": "Pajak Tidak Langsung",
         "marker": {
          "color": "#00cc96",
          "symbol": "circle"
         },
         "name": "Pajak Tidak Langsung",
         "offsetgroup": "Pajak Tidak Langsung",
         "scalegroup": "y",
         "showlegend": false,
         "type": "violin",
         "xaxis": "x2",
         "y": [
          2235081,
          120000
         ],
         "yaxis": "y2"
        },
        {
         "hovertemplate": "MAP=STP atas Bunga Penagihan<br>TANGGALBAYAR=%{x}<br>NOMINAL=%{y}<extra></extra>",
         "legendgroup": "STP atas Bunga Penagihan",
         "marker": {
          "color": "#ab63fa",
          "symbol": "circle"
         },
         "mode": "markers",
         "name": "STP atas Bunga Penagihan",
         "orientation": "v",
         "showlegend": true,
         "type": "scatter",
         "x": [
          1,
          6,
          16,
          21,
          29,
          31
         ],
         "xaxis": "x",
         "y": [
          866490514.9999999,
          2118543497,
          75750000,
          39082248,
          200000000,
          325000000
         ],
         "yaxis": "y"
        },
        {
         "alignmentgroup": "True",
         "bingroup": "x",
         "hovertemplate": "MAP=STP atas Bunga Penagihan<br>TANGGALBAYAR=%{x}<br>count=%{y}<extra></extra>",
         "legendgroup": "STP atas Bunga Penagihan",
         "marker": {
          "color": "#ab63fa"
         },
         "name": "STP atas Bunga Penagihan",
         "offsetgroup": "STP atas Bunga Penagihan",
         "opacity": 0.5,
         "showlegend": false,
         "type": "histogram",
         "x": [
          1,
          6,
          16,
          21,
          29,
          31
         ],
         "xaxis": "x3",
         "yaxis": "y3"
        },
        {
         "alignmentgroup": "True",
         "hovertemplate": "MAP=STP atas Bunga Penagihan<br>NOMINAL=%{y}<extra></extra>",
         "legendgroup": "STP atas Bunga Penagihan",
         "marker": {
          "color": "#ab63fa",
          "symbol": "circle"
         },
         "name": "STP atas Bunga Penagihan",
         "offsetgroup": "STP atas Bunga Penagihan",
         "scalegroup": "y",
         "showlegend": false,
         "type": "violin",
         "xaxis": "x2",
         "y": [
          866490514.9999999,
          2118543497,
          75750000,
          39082248,
          200000000,
          325000000
         ],
         "yaxis": "y2"
        },
        {
         "hovertemplate": "MAP=PPh Migas Lainnya<br>TANGGALBAYAR=%{x}<br>NOMINAL=%{y}<extra></extra>",
         "legendgroup": "PPh Migas Lainnya",
         "marker": {
          "color": "#FFA15A",
          "symbol": "circle"
         },
         "mode": "markers",
         "name": "PPh Migas Lainnya",
         "orientation": "v",
         "showlegend": true,
         "type": "scatter",
         "x": [
          2,
          9
         ],
         "xaxis": "x",
         "y": [
          37500,
          5174833
         ],
         "yaxis": "y"
        },
        {
         "alignmentgroup": "True",
         "bingroup": "x",
         "hovertemplate": "MAP=PPh Migas Lainnya<br>TANGGALBAYAR=%{x}<br>count=%{y}<extra></extra>",
         "legendgroup": "PPh Migas Lainnya",
         "marker": {
          "color": "#FFA15A"
         },
         "name": "PPh Migas Lainnya",
         "offsetgroup": "PPh Migas Lainnya",
         "opacity": 0.5,
         "showlegend": false,
         "type": "histogram",
         "x": [
          2,
          9
         ],
         "xaxis": "x3",
         "yaxis": "y3"
        },
        {
         "alignmentgroup": "True",
         "hovertemplate": "MAP=PPh Migas Lainnya<br>NOMINAL=%{y}<extra></extra>",
         "legendgroup": "PPh Migas Lainnya",
         "marker": {
          "color": "#FFA15A",
          "symbol": "circle"
         },
         "name": "PPh Migas Lainnya",
         "offsetgroup": "PPh Migas Lainnya",
         "scalegroup": "y",
         "showlegend": false,
         "type": "violin",
         "xaxis": "x2",
         "y": [
          37500,
          5174833
         ],
         "yaxis": "y2"
        },
        {
         "hovertemplate": "MAP=PPnBM DN<br>TANGGALBAYAR=%{x}<br>NOMINAL=%{y}<extra></extra>",
         "legendgroup": "PPnBM DN",
         "marker": {
          "color": "#19d3f3",
          "symbol": "circle"
         },
         "mode": "markers",
         "name": "PPnBM DN",
         "orientation": "v",
         "showlegend": true,
         "type": "scatter",
         "x": [
          2,
          3,
          4,
          5,
          6,
          7,
          8,
          9,
          10,
          11,
          12,
          13,
          14,
          15,
          16,
          17,
          18,
          19,
          20,
          21,
          22,
          23,
          24,
          25,
          26,
          27,
          28,
          29,
          30,
          31
         ],
         "xaxis": "x",
         "y": [
          2054622.0000000019,
          5470249.999999996,
          4558934,
          30346759,
          594594,
          4337574,
          369360707,
          7213853,
          18192379,
          0,
          0,
          19396473,
          5505698,
          0,
          36692269,
          775772117,
          0,
          2226400,
          56137733,
          6163395,
          26788759.999999996,
          492984294,
          254031923,
          3568400,
          0,
          351466947,
          132069368,
          343608521,
          33983400,
          1126994209
         ],
         "yaxis": "y"
        },
        {
         "alignmentgroup": "True",
         "bingroup": "x",
         "hovertemplate": "MAP=PPnBM DN<br>TANGGALBAYAR=%{x}<br>count=%{y}<extra></extra>",
         "legendgroup": "PPnBM DN",
         "marker": {
          "color": "#19d3f3"
         },
         "name": "PPnBM DN",
         "offsetgroup": "PPnBM DN",
         "opacity": 0.5,
         "showlegend": false,
         "type": "histogram",
         "x": [
          2,
          3,
          4,
          5,
          6,
          7,
          8,
          9,
          10,
          11,
          12,
          13,
          14,
          15,
          16,
          17,
          18,
          19,
          20,
          21,
          22,
          23,
          24,
          25,
          26,
          27,
          28,
          29,
          30,
          31
         ],
         "xaxis": "x3",
         "yaxis": "y3"
        },
        {
         "alignmentgroup": "True",
         "hovertemplate": "MAP=PPnBM DN<br>NOMINAL=%{y}<extra></extra>",
         "legendgroup": "PPnBM DN",
         "marker": {
          "color": "#19d3f3",
          "symbol": "circle"
         },
         "name": "PPnBM DN",
         "offsetgroup": "PPnBM DN",
         "scalegroup": "y",
         "showlegend": false,
         "type": "violin",
         "xaxis": "x2",
         "y": [
          2054622.0000000019,
          5470249.999999996,
          4558934,
          30346759,
          594594,
          4337574,
          369360707,
          7213853,
          18192379,
          0,
          0,
          19396473,
          5505698,
          0,
          36692269,
          775772117,
          0,
          2226400,
          56137733,
          6163395,
          26788759.999999996,
          492984294,
          254031923,
          3568400,
          0,
          351466947,
          132069368,
          343608521,
          33983400,
          1126994209
         ],
         "yaxis": "y2"
        },
        {
         "hovertemplate": "MAP=PPN Lainnya<br>TANGGALBAYAR=%{x}<br>NOMINAL=%{y}<extra></extra>",
         "legendgroup": "PPN Lainnya",
         "marker": {
          "color": "#FF6692",
          "symbol": "circle"
         },
         "mode": "markers",
         "name": "PPN Lainnya",
         "orientation": "v",
         "showlegend": true,
         "type": "scatter",
         "x": [
          3,
          6,
          8,
          10,
          13,
          17,
          24,
          26,
          27,
          28
         ],
         "xaxis": "x",
         "y": [
          267568,
          4241600,
          0,
          594594,
          161154900,
          0,
          31993681.000000004,
          874500,
          825000,
          25300000.000000004
         ],
         "yaxis": "y"
        },
        {
         "alignmentgroup": "True",
         "bingroup": "x",
         "hovertemplate": "MAP=PPN Lainnya<br>TANGGALBAYAR=%{x}<br>count=%{y}<extra></extra>",
         "legendgroup": "PPN Lainnya",
         "marker": {
          "color": "#FF6692"
         },
         "name": "PPN Lainnya",
         "offsetgroup": "PPN Lainnya",
         "opacity": 0.5,
         "showlegend": false,
         "type": "histogram",
         "x": [
          3,
          6,
          8,
          10,
          13,
          17,
          24,
          26,
          27,
          28
         ],
         "xaxis": "x3",
         "yaxis": "y3"
        },
        {
         "alignmentgroup": "True",
         "hovertemplate": "MAP=PPN Lainnya<br>NOMINAL=%{y}<extra></extra>",
         "legendgroup": "PPN Lainnya",
         "marker": {
          "color": "#FF6692",
          "symbol": "circle"
         },
         "name": "PPN Lainnya",
         "offsetgroup": "PPN Lainnya",
         "scalegroup": "y",
         "showlegend": false,
         "type": "violin",
         "xaxis": "x2",
         "y": [
          267568,
          4241600,
          0,
          594594,
          161154900,
          0,
          31993681.000000004,
          874500,
          825000,
          25300000.000000004
         ],
         "yaxis": "y2"
        },
        {
         "hovertemplate": "MAP=PPh Non Migas Lainnya<br>TANGGALBAYAR=%{x}<br>NOMINAL=%{y}<extra></extra>",
         "legendgroup": "PPh Non Migas Lainnya",
         "marker": {
          "color": "#B6E880",
          "symbol": "circle"
         },
         "mode": "markers",
         "name": "PPh Non Migas Lainnya",
         "orientation": "v",
         "showlegend": true,
         "type": "scatter",
         "x": [
          3,
          6,
          9,
          10,
          15,
          17,
          19,
          20,
          29
         ],
         "xaxis": "x",
         "y": [
          24390956,
          188111132,
          116079165,
          105215016,
          14894848.999999998,
          17008521,
          85697955,
          16136086,
          21734759
         ],
         "yaxis": "y"
        },
        {
         "alignmentgroup": "True",
         "bingroup": "x",
         "hovertemplate": "MAP=PPh Non Migas Lainnya<br>TANGGALBAYAR=%{x}<br>count=%{y}<extra></extra>",
         "legendgroup": "PPh Non Migas Lainnya",
         "marker": {
          "color": "#B6E880"
         },
         "name": "PPh Non Migas Lainnya",
         "offsetgroup": "PPh Non Migas Lainnya",
         "opacity": 0.5,
         "showlegend": false,
         "type": "histogram",
         "x": [
          3,
          6,
          9,
          10,
          15,
          17,
          19,
          20,
          29
         ],
         "xaxis": "x3",
         "yaxis": "y3"
        },
        {
         "alignmentgroup": "True",
         "hovertemplate": "MAP=PPh Non Migas Lainnya<br>NOMINAL=%{y}<extra></extra>",
         "legendgroup": "PPh Non Migas Lainnya",
         "marker": {
          "color": "#B6E880",
          "symbol": "circle"
         },
         "name": "PPh Non Migas Lainnya",
         "offsetgroup": "PPh Non Migas Lainnya",
         "scalegroup": "y",
         "showlegend": false,
         "type": "violin",
         "xaxis": "x2",
         "y": [
          24390956,
          188111132,
          116079165,
          105215016,
          14894848.999999998,
          17008521,
          85697955,
          16136086,
          21734759
         ],
         "yaxis": "y2"
        },
        {
         "hovertemplate": "MAP=STP atas Bunga Penagihan PPN<br>TANGGALBAYAR=%{x}<br>NOMINAL=%{y}<extra></extra>",
         "legendgroup": "STP atas Bunga Penagihan PPN",
         "marker": {
          "color": "#FF97FF",
          "symbol": "circle"
         },
         "mode": "markers",
         "name": "STP atas Bunga Penagihan PPN",
         "orientation": "v",
         "showlegend": true,
         "type": "scatter",
         "x": [
          7,
          15,
          28
         ],
         "xaxis": "x",
         "y": [
          1562759185,
          1086000,
          1500000
         ],
         "yaxis": "y"
        },
        {
         "alignmentgroup": "True",
         "bingroup": "x",
         "hovertemplate": "MAP=STP atas Bunga Penagihan PPN<br>TANGGALBAYAR=%{x}<br>count=%{y}<extra></extra>",
         "legendgroup": "STP atas Bunga Penagihan PPN",
         "marker": {
          "color": "#FF97FF"
         },
         "name": "STP atas Bunga Penagihan PPN",
         "offsetgroup": "STP atas Bunga Penagihan PPN",
         "opacity": 0.5,
         "showlegend": false,
         "type": "histogram",
         "x": [
          7,
          15,
          28
         ],
         "xaxis": "x3",
         "yaxis": "y3"
        },
        {
         "alignmentgroup": "True",
         "hovertemplate": "MAP=STP atas Bunga Penagihan PPN<br>NOMINAL=%{y}<extra></extra>",
         "legendgroup": "STP atas Bunga Penagihan PPN",
         "marker": {
          "color": "#FF97FF",
          "symbol": "circle"
         },
         "name": "STP atas Bunga Penagihan PPN",
         "offsetgroup": "STP atas Bunga Penagihan PPN",
         "scalegroup": "y",
         "showlegend": false,
         "type": "violin",
         "xaxis": "x2",
         "y": [
          1562759185,
          1086000,
          1500000
         ],
         "yaxis": "y2"
        },
        {
         "hovertemplate": "MAP=PPnBM Lainnya<br>TANGGALBAYAR=%{x}<br>NOMINAL=%{y}<extra></extra>",
         "legendgroup": "PPnBM Lainnya",
         "marker": {
          "color": "#FECB52",
          "symbol": "circle"
         },
         "mode": "markers",
         "name": "PPnBM Lainnya",
         "orientation": "v",
         "showlegend": true,
         "type": "scatter",
         "x": [
          20
         ],
         "xaxis": "x",
         "y": [
          0
         ],
         "yaxis": "y"
        },
        {
         "alignmentgroup": "True",
         "bingroup": "x",
         "hovertemplate": "MAP=PPnBM Lainnya<br>TANGGALBAYAR=%{x}<br>count=%{y}<extra></extra>",
         "legendgroup": "PPnBM Lainnya",
         "marker": {
          "color": "#FECB52"
         },
         "name": "PPnBM Lainnya",
         "offsetgroup": "PPnBM Lainnya",
         "opacity": 0.5,
         "showlegend": false,
         "type": "histogram",
         "x": [
          20
         ],
         "xaxis": "x3",
         "yaxis": "y3"
        },
        {
         "alignmentgroup": "True",
         "hovertemplate": "MAP=PPnBM Lainnya<br>NOMINAL=%{y}<extra></extra>",
         "legendgroup": "PPnBM Lainnya",
         "marker": {
          "color": "#FECB52",
          "symbol": "circle"
         },
         "name": "PPnBM Lainnya",
         "offsetgroup": "PPnBM Lainnya",
         "scalegroup": "y",
         "showlegend": false,
         "type": "violin",
         "xaxis": "x2",
         "y": [
          0
         ],
         "yaxis": "y2"
        },
        {
         "hovertemplate": "MAP=PPh Minyak Bumi<br>TANGGALBAYAR=%{x}<br>NOMINAL=%{y}<extra></extra>",
         "legendgroup": "PPh Minyak Bumi",
         "marker": {
          "color": "#636efa",
          "symbol": "circle"
         },
         "mode": "markers",
         "name": "PPh Minyak Bumi",
         "orientation": "v",
         "showlegend": true,
         "type": "scatter",
         "x": [
          21
         ],
         "xaxis": "x",
         "y": [
          0
         ],
         "yaxis": "y"
        },
        {
         "alignmentgroup": "True",
         "bingroup": "x",
         "hovertemplate": "MAP=PPh Minyak Bumi<br>TANGGALBAYAR=%{x}<br>count=%{y}<extra></extra>",
         "legendgroup": "PPh Minyak Bumi",
         "marker": {
          "color": "#636efa"
         },
         "name": "PPh Minyak Bumi",
         "offsetgroup": "PPh Minyak Bumi",
         "opacity": 0.5,
         "showlegend": false,
         "type": "histogram",
         "x": [
          21
         ],
         "xaxis": "x3",
         "yaxis": "y3"
        },
        {
         "alignmentgroup": "True",
         "hovertemplate": "MAP=PPh Minyak Bumi<br>NOMINAL=%{y}<extra></extra>",
         "legendgroup": "PPh Minyak Bumi",
         "marker": {
          "color": "#636efa",
          "symbol": "circle"
         },
         "name": "PPh Minyak Bumi",
         "offsetgroup": "PPh Minyak Bumi",
         "scalegroup": "y",
         "showlegend": false,
         "type": "violin",
         "xaxis": "x2",
         "y": [
          0
         ],
         "yaxis": "y2"
        },
        {
         "hovertemplate": "<b>OLS trendline</b><br>NOMINAL = 2.64627e+08 * TANGGALBAYAR + 1.51201e+10<br>R<sup>2</sup>=0.002511<br><br>TANGGALBAYAR=%{x}<br>NOMINAL=%{y} <b>(trend)</b><extra></extra>",
         "legendgroup": "Overall Trendline",
         "line": {
          "color": "#EF553B"
         },
         "mode": "lines",
         "name": "Overall Trendline",
         "showlegend": false,
         "type": "scatter",
         "x": [
          1,
          1,
          1,
          1,
          1,
          1,
          1,
          1,
          1,
          1,
          1,
          1,
          1,
          1,
          2,
          2,
          2,
          2,
          2,
          2,
          2,
          2,
          2,
          2,
          2,
          2,
          2,
          3,
          3,
          3,
          3,
          3,
          3,
          3,
          3,
          3,
          3,
          3,
          3,
          3,
          3,
          3,
          4,
          4,
          4,
          4,
          4,
          4,
          4,
          4,
          4,
          4,
          4,
          4,
          5,
          5,
          5,
          5,
          5,
          5,
          5,
          5,
          5,
          5,
          5,
          5,
          6,
          6,
          6,
          6,
          6,
          6,
          6,
          6,
          6,
          6,
          6,
          6,
          6,
          6,
          6,
          6,
          7,
          7,
          7,
          7,
          7,
          7,
          7,
          7,
          7,
          7,
          7,
          7,
          8,
          8,
          8,
          8,
          8,
          8,
          8,
          8,
          8,
          8,
          8,
          8,
          8,
          9,
          9,
          9,
          9,
          9,
          9,
          9,
          9,
          9,
          9,
          9,
          9,
          9,
          9,
          10,
          10,
          10,
          10,
          10,
          10,
          10,
          10,
          10,
          10,
          10,
          10,
          10,
          10,
          10,
          11,
          11,
          11,
          11,
          11,
          11,
          11,
          11,
          11,
          11,
          11,
          12,
          12,
          12,
          12,
          12,
          12,
          12,
          12,
          12,
          12,
          12,
          12,
          13,
          13,
          13,
          13,
          13,
          13,
          13,
          13,
          13,
          13,
          13,
          13,
          14,
          14,
          14,
          14,
          14,
          14,
          14,
          14,
          14,
          14,
          14,
          14,
          14,
          15,
          15,
          15,
          15,
          15,
          15,
          15,
          15,
          15,
          15,
          15,
          15,
          15,
          15,
          15,
          16,
          16,
          16,
          16,
          16,
          16,
          16,
          16,
          16,
          16,
          16,
          16,
          16,
          16,
          17,
          17,
          17,
          17,
          17,
          17,
          17,
          17,
          17,
          17,
          17,
          17,
          17,
          17,
          18,
          18,
          18,
          18,
          18,
          18,
          18,
          18,
          18,
          18,
          18,
          19,
          19,
          19,
          19,
          19,
          19,
          19,
          19,
          19,
          19,
          19,
          19,
          20,
          20,
          20,
          20,
          20,
          20,
          20,
          20,
          20,
          20,
          20,
          20,
          20,
          20,
          21,
          21,
          21,
          21,
          21,
          21,
          21,
          21,
          21,
          21,
          21,
          21,
          21,
          21,
          22,
          22,
          22,
          22,
          22,
          22,
          22,
          22,
          22,
          22,
          22,
          23,
          23,
          23,
          23,
          23,
          23,
          23,
          23,
          23,
          23,
          23,
          24,
          24,
          24,
          24,
          24,
          24,
          24,
          24,
          24,
          24,
          24,
          24,
          24,
          24,
          25,
          25,
          25,
          25,
          25,
          25,
          25,
          25,
          25,
          25,
          25,
          25,
          26,
          26,
          26,
          26,
          26,
          26,
          26,
          26,
          26,
          26,
          26,
          26,
          27,
          27,
          27,
          27,
          27,
          27,
          27,
          27,
          27,
          27,
          27,
          27,
          27,
          28,
          28,
          28,
          28,
          28,
          28,
          28,
          28,
          28,
          28,
          28,
          28,
          28,
          28,
          28,
          28,
          29,
          29,
          29,
          29,
          29,
          29,
          29,
          29,
          29,
          29,
          29,
          29,
          29,
          29,
          30,
          30,
          30,
          30,
          30,
          30,
          30,
          30,
          30,
          30,
          30,
          30,
          31,
          31,
          31,
          31,
          31,
          31,
          31,
          31,
          31,
          31,
          31,
          31,
          31
         ],
         "xaxis": "x",
         "y": [
          15384700465.059711,
          15384700465.059711,
          15384700465.059711,
          15384700465.059711,
          15384700465.059711,
          15384700465.059711,
          15384700465.059711,
          15384700465.059711,
          15384700465.059711,
          15384700465.059711,
          15384700465.059711,
          15384700465.059711,
          15384700465.059711,
          15384700465.059711,
          15649327960.006735,
          15649327960.006735,
          15649327960.006735,
          15649327960.006735,
          15649327960.006735,
          15649327960.006735,
          15649327960.006735,
          15649327960.006735,
          15649327960.006735,
          15649327960.006735,
          15649327960.006735,
          15649327960.006735,
          15649327960.006735,
          15913955454.953756,
          15913955454.953756,
          15913955454.953756,
          15913955454.953756,
          15913955454.953756,
          15913955454.953756,
          15913955454.953756,
          15913955454.953756,
          15913955454.953756,
          15913955454.953756,
          15913955454.953756,
          15913955454.953756,
          15913955454.953756,
          15913955454.953756,
          15913955454.953756,
          16178582949.900778,
          16178582949.900778,
          16178582949.900778,
          16178582949.900778,
          16178582949.900778,
          16178582949.900778,
          16178582949.900778,
          16178582949.900778,
          16178582949.900778,
          16178582949.900778,
          16178582949.900778,
          16178582949.900778,
          16443210444.8478,
          16443210444.8478,
          16443210444.8478,
          16443210444.8478,
          16443210444.8478,
          16443210444.8478,
          16443210444.8478,
          16443210444.8478,
          16443210444.8478,
          16443210444.8478,
          16443210444.8478,
          16443210444.8478,
          16707837939.794823,
          16707837939.794823,
          16707837939.794823,
          16707837939.794823,
          16707837939.794823,
          16707837939.794823,
          16707837939.794823,
          16707837939.794823,
          16707837939.794823,
          16707837939.794823,
          16707837939.794823,
          16707837939.794823,
          16707837939.794823,
          16707837939.794823,
          16707837939.794823,
          16707837939.794823,
          16972465434.741844,
          16972465434.741844,
          16972465434.741844,
          16972465434.741844,
          16972465434.741844,
          16972465434.741844,
          16972465434.741844,
          16972465434.741844,
          16972465434.741844,
          16972465434.741844,
          16972465434.741844,
          16972465434.741844,
          17237092929.688866,
          17237092929.688866,
          17237092929.688866,
          17237092929.688866,
          17237092929.688866,
          17237092929.688866,
          17237092929.688866,
          17237092929.688866,
          17237092929.688866,
          17237092929.688866,
          17237092929.688866,
          17237092929.688866,
          17237092929.688866,
          17501720424.635887,
          17501720424.635887,
          17501720424.635887,
          17501720424.635887,
          17501720424.635887,
          17501720424.635887,
          17501720424.635887,
          17501720424.635887,
          17501720424.635887,
          17501720424.635887,
          17501720424.635887,
          17501720424.635887,
          17501720424.635887,
          17501720424.635887,
          17766347919.58291,
          17766347919.58291,
          17766347919.58291,
          17766347919.58291,
          17766347919.58291,
          17766347919.58291,
          17766347919.58291,
          17766347919.58291,
          17766347919.58291,
          17766347919.58291,
          17766347919.58291,
          17766347919.58291,
          17766347919.58291,
          17766347919.58291,
          17766347919.58291,
          18030975414.52993,
          18030975414.52993,
          18030975414.52993,
          18030975414.52993,
          18030975414.52993,
          18030975414.52993,
          18030975414.52993,
          18030975414.52993,
          18030975414.52993,
          18030975414.52993,
          18030975414.52993,
          18295602909.476955,
          18295602909.476955,
          18295602909.476955,
          18295602909.476955,
          18295602909.476955,
          18295602909.476955,
          18295602909.476955,
          18295602909.476955,
          18295602909.476955,
          18295602909.476955,
          18295602909.476955,
          18295602909.476955,
          18560230404.423977,
          18560230404.423977,
          18560230404.423977,
          18560230404.423977,
          18560230404.423977,
          18560230404.423977,
          18560230404.423977,
          18560230404.423977,
          18560230404.423977,
          18560230404.423977,
          18560230404.423977,
          18560230404.423977,
          18824857899.371,
          18824857899.371,
          18824857899.371,
          18824857899.371,
          18824857899.371,
          18824857899.371,
          18824857899.371,
          18824857899.371,
          18824857899.371,
          18824857899.371,
          18824857899.371,
          18824857899.371,
          18824857899.371,
          19089485394.31802,
          19089485394.31802,
          19089485394.31802,
          19089485394.31802,
          19089485394.31802,
          19089485394.31802,
          19089485394.31802,
          19089485394.31802,
          19089485394.31802,
          19089485394.31802,
          19089485394.31802,
          19089485394.31802,
          19089485394.31802,
          19089485394.31802,
          19089485394.31802,
          19354112889.26504,
          19354112889.26504,
          19354112889.26504,
          19354112889.26504,
          19354112889.26504,
          19354112889.26504,
          19354112889.26504,
          19354112889.26504,
          19354112889.26504,
          19354112889.26504,
          19354112889.26504,
          19354112889.26504,
          19354112889.26504,
          19354112889.26504,
          19618740384.212067,
          19618740384.212067,
          19618740384.212067,
          19618740384.212067,
          19618740384.212067,
          19618740384.212067,
          19618740384.212067,
          19618740384.212067,
          19618740384.212067,
          19618740384.212067,
          19618740384.212067,
          19618740384.212067,
          19618740384.212067,
          19618740384.212067,
          19883367879.15909,
          19883367879.15909,
          19883367879.15909,
          19883367879.15909,
          19883367879.15909,
          19883367879.15909,
          19883367879.15909,
          19883367879.15909,
          19883367879.15909,
          19883367879.15909,
          19883367879.15909,
          20147995374.10611,
          20147995374.10611,
          20147995374.10611,
          20147995374.10611,
          20147995374.10611,
          20147995374.10611,
          20147995374.10611,
          20147995374.10611,
          20147995374.10611,
          20147995374.10611,
          20147995374.10611,
          20147995374.10611,
          20412622869.05313,
          20412622869.05313,
          20412622869.05313,
          20412622869.05313,
          20412622869.05313,
          20412622869.05313,
          20412622869.05313,
          20412622869.05313,
          20412622869.05313,
          20412622869.05313,
          20412622869.05313,
          20412622869.05313,
          20412622869.05313,
          20412622869.05313,
          20677250364.000153,
          20677250364.000153,
          20677250364.000153,
          20677250364.000153,
          20677250364.000153,
          20677250364.000153,
          20677250364.000153,
          20677250364.000153,
          20677250364.000153,
          20677250364.000153,
          20677250364.000153,
          20677250364.000153,
          20677250364.000153,
          20677250364.000153,
          20941877858.947174,
          20941877858.947174,
          20941877858.947174,
          20941877858.947174,
          20941877858.947174,
          20941877858.947174,
          20941877858.947174,
          20941877858.947174,
          20941877858.947174,
          20941877858.947174,
          20941877858.947174,
          21206505353.894196,
          21206505353.894196,
          21206505353.894196,
          21206505353.894196,
          21206505353.894196,
          21206505353.894196,
          21206505353.894196,
          21206505353.894196,
          21206505353.894196,
          21206505353.894196,
          21206505353.894196,
          21471132848.841217,
          21471132848.841217,
          21471132848.841217,
          21471132848.841217,
          21471132848.841217,
          21471132848.841217,
          21471132848.841217,
          21471132848.841217,
          21471132848.841217,
          21471132848.841217,
          21471132848.841217,
          21471132848.841217,
          21471132848.841217,
          21471132848.841217,
          21735760343.78824,
          21735760343.78824,
          21735760343.78824,
          21735760343.78824,
          21735760343.78824,
          21735760343.78824,
          21735760343.78824,
          21735760343.78824,
          21735760343.78824,
          21735760343.78824,
          21735760343.78824,
          21735760343.78824,
          22000387838.735264,
          22000387838.735264,
          22000387838.735264,
          22000387838.735264,
          22000387838.735264,
          22000387838.735264,
          22000387838.735264,
          22000387838.735264,
          22000387838.735264,
          22000387838.735264,
          22000387838.735264,
          22000387838.735264,
          22265015333.682285,
          22265015333.682285,
          22265015333.682285,
          22265015333.682285,
          22265015333.682285,
          22265015333.682285,
          22265015333.682285,
          22265015333.682285,
          22265015333.682285,
          22265015333.682285,
          22265015333.682285,
          22265015333.682285,
          22265015333.682285,
          22529642828.629307,
          22529642828.629307,
          22529642828.629307,
          22529642828.629307,
          22529642828.629307,
          22529642828.629307,
          22529642828.629307,
          22529642828.629307,
          22529642828.629307,
          22529642828.629307,
          22529642828.629307,
          22529642828.629307,
          22529642828.629307,
          22529642828.629307,
          22529642828.629307,
          22529642828.629307,
          22794270323.57633,
          22794270323.57633,
          22794270323.57633,
          22794270323.57633,
          22794270323.57633,
          22794270323.57633,
          22794270323.57633,
          22794270323.57633,
          22794270323.57633,
          22794270323.57633,
          22794270323.57633,
          22794270323.57633,
          22794270323.57633,
          22794270323.57633,
          23058897818.52335,
          23058897818.52335,
          23058897818.52335,
          23058897818.52335,
          23058897818.52335,
          23058897818.52335,
          23058897818.52335,
          23058897818.52335,
          23058897818.52335,
          23058897818.52335,
          23058897818.52335,
          23058897818.52335,
          23323525313.47037,
          23323525313.47037,
          23323525313.47037,
          23323525313.47037,
          23323525313.47037,
          23323525313.47037,
          23323525313.47037,
          23323525313.47037,
          23323525313.47037,
          23323525313.47037,
          23323525313.47037,
          23323525313.47037,
          23323525313.47037
         ],
         "yaxis": "y"
        },
        {
         "hovertemplate": "<b>OLS trendline</b><br>NOMINAL = 2.64627e+08 * TANGGALBAYAR + 1.51201e+10<br>R<sup>2</sup>=0.002511<br><br>TANGGALBAYAR=%{x}<br>NOMINAL=%{y} <b>(trend)</b><extra></extra>",
         "legendgroup": "Overall Trendline",
         "line": {
          "color": "#EF553B"
         },
         "mode": "lines",
         "name": "Overall Trendline",
         "showlegend": false,
         "type": "scatter",
         "x": [
          1,
          1,
          1,
          1,
          1,
          1,
          1,
          1,
          1,
          1,
          1,
          1,
          1,
          1,
          2,
          2,
          2,
          2,
          2,
          2,
          2,
          2,
          2,
          2,
          2,
          2,
          2,
          3,
          3,
          3,
          3,
          3,
          3,
          3,
          3,
          3,
          3,
          3,
          3,
          3,
          3,
          3,
          4,
          4,
          4,
          4,
          4,
          4,
          4,
          4,
          4,
          4,
          4,
          4,
          5,
          5,
          5,
          5,
          5,
          5,
          5,
          5,
          5,
          5,
          5,
          5,
          6,
          6,
          6,
          6,
          6,
          6,
          6,
          6,
          6,
          6,
          6,
          6,
          6,
          6,
          6,
          6,
          7,
          7,
          7,
          7,
          7,
          7,
          7,
          7,
          7,
          7,
          7,
          7,
          8,
          8,
          8,
          8,
          8,
          8,
          8,
          8,
          8,
          8,
          8,
          8,
          8,
          9,
          9,
          9,
          9,
          9,
          9,
          9,
          9,
          9,
          9,
          9,
          9,
          9,
          9,
          10,
          10,
          10,
          10,
          10,
          10,
          10,
          10,
          10,
          10,
          10,
          10,
          10,
          10,
          10,
          11,
          11,
          11,
          11,
          11,
          11,
          11,
          11,
          11,
          11,
          11,
          12,
          12,
          12,
          12,
          12,
          12,
          12,
          12,
          12,
          12,
          12,
          12,
          13,
          13,
          13,
          13,
          13,
          13,
          13,
          13,
          13,
          13,
          13,
          13,
          14,
          14,
          14,
          14,
          14,
          14,
          14,
          14,
          14,
          14,
          14,
          14,
          14,
          15,
          15,
          15,
          15,
          15,
          15,
          15,
          15,
          15,
          15,
          15,
          15,
          15,
          15,
          15,
          16,
          16,
          16,
          16,
          16,
          16,
          16,
          16,
          16,
          16,
          16,
          16,
          16,
          16,
          17,
          17,
          17,
          17,
          17,
          17,
          17,
          17,
          17,
          17,
          17,
          17,
          17,
          17,
          18,
          18,
          18,
          18,
          18,
          18,
          18,
          18,
          18,
          18,
          18,
          19,
          19,
          19,
          19,
          19,
          19,
          19,
          19,
          19,
          19,
          19,
          19,
          20,
          20,
          20,
          20,
          20,
          20,
          20,
          20,
          20,
          20,
          20,
          20,
          20,
          20,
          21,
          21,
          21,
          21,
          21,
          21,
          21,
          21,
          21,
          21,
          21,
          21,
          21,
          21,
          22,
          22,
          22,
          22,
          22,
          22,
          22,
          22,
          22,
          22,
          22,
          23,
          23,
          23,
          23,
          23,
          23,
          23,
          23,
          23,
          23,
          23,
          24,
          24,
          24,
          24,
          24,
          24,
          24,
          24,
          24,
          24,
          24,
          24,
          24,
          24,
          25,
          25,
          25,
          25,
          25,
          25,
          25,
          25,
          25,
          25,
          25,
          25,
          26,
          26,
          26,
          26,
          26,
          26,
          26,
          26,
          26,
          26,
          26,
          26,
          27,
          27,
          27,
          27,
          27,
          27,
          27,
          27,
          27,
          27,
          27,
          27,
          27,
          28,
          28,
          28,
          28,
          28,
          28,
          28,
          28,
          28,
          28,
          28,
          28,
          28,
          28,
          28,
          28,
          29,
          29,
          29,
          29,
          29,
          29,
          29,
          29,
          29,
          29,
          29,
          29,
          29,
          29,
          30,
          30,
          30,
          30,
          30,
          30,
          30,
          30,
          30,
          30,
          30,
          30,
          31,
          31,
          31,
          31,
          31,
          31,
          31,
          31,
          31,
          31,
          31,
          31,
          31
         ],
         "xaxis": "x2",
         "y": [
          15384700465.059711,
          15384700465.059711,
          15384700465.059711,
          15384700465.059711,
          15384700465.059711,
          15384700465.059711,
          15384700465.059711,
          15384700465.059711,
          15384700465.059711,
          15384700465.059711,
          15384700465.059711,
          15384700465.059711,
          15384700465.059711,
          15384700465.059711,
          15649327960.006735,
          15649327960.006735,
          15649327960.006735,
          15649327960.006735,
          15649327960.006735,
          15649327960.006735,
          15649327960.006735,
          15649327960.006735,
          15649327960.006735,
          15649327960.006735,
          15649327960.006735,
          15649327960.006735,
          15649327960.006735,
          15913955454.953756,
          15913955454.953756,
          15913955454.953756,
          15913955454.953756,
          15913955454.953756,
          15913955454.953756,
          15913955454.953756,
          15913955454.953756,
          15913955454.953756,
          15913955454.953756,
          15913955454.953756,
          15913955454.953756,
          15913955454.953756,
          15913955454.953756,
          15913955454.953756,
          16178582949.900778,
          16178582949.900778,
          16178582949.900778,
          16178582949.900778,
          16178582949.900778,
          16178582949.900778,
          16178582949.900778,
          16178582949.900778,
          16178582949.900778,
          16178582949.900778,
          16178582949.900778,
          16178582949.900778,
          16443210444.8478,
          16443210444.8478,
          16443210444.8478,
          16443210444.8478,
          16443210444.8478,
          16443210444.8478,
          16443210444.8478,
          16443210444.8478,
          16443210444.8478,
          16443210444.8478,
          16443210444.8478,
          16443210444.8478,
          16707837939.794823,
          16707837939.794823,
          16707837939.794823,
          16707837939.794823,
          16707837939.794823,
          16707837939.794823,
          16707837939.794823,
          16707837939.794823,
          16707837939.794823,
          16707837939.794823,
          16707837939.794823,
          16707837939.794823,
          16707837939.794823,
          16707837939.794823,
          16707837939.794823,
          16707837939.794823,
          16972465434.741844,
          16972465434.741844,
          16972465434.741844,
          16972465434.741844,
          16972465434.741844,
          16972465434.741844,
          16972465434.741844,
          16972465434.741844,
          16972465434.741844,
          16972465434.741844,
          16972465434.741844,
          16972465434.741844,
          17237092929.688866,
          17237092929.688866,
          17237092929.688866,
          17237092929.688866,
          17237092929.688866,
          17237092929.688866,
          17237092929.688866,
          17237092929.688866,
          17237092929.688866,
          17237092929.688866,
          17237092929.688866,
          17237092929.688866,
          17237092929.688866,
          17501720424.635887,
          17501720424.635887,
          17501720424.635887,
          17501720424.635887,
          17501720424.635887,
          17501720424.635887,
          17501720424.635887,
          17501720424.635887,
          17501720424.635887,
          17501720424.635887,
          17501720424.635887,
          17501720424.635887,
          17501720424.635887,
          17501720424.635887,
          17766347919.58291,
          17766347919.58291,
          17766347919.58291,
          17766347919.58291,
          17766347919.58291,
          17766347919.58291,
          17766347919.58291,
          17766347919.58291,
          17766347919.58291,
          17766347919.58291,
          17766347919.58291,
          17766347919.58291,
          17766347919.58291,
          17766347919.58291,
          17766347919.58291,
          18030975414.52993,
          18030975414.52993,
          18030975414.52993,
          18030975414.52993,
          18030975414.52993,
          18030975414.52993,
          18030975414.52993,
          18030975414.52993,
          18030975414.52993,
          18030975414.52993,
          18030975414.52993,
          18295602909.476955,
          18295602909.476955,
          18295602909.476955,
          18295602909.476955,
          18295602909.476955,
          18295602909.476955,
          18295602909.476955,
          18295602909.476955,
          18295602909.476955,
          18295602909.476955,
          18295602909.476955,
          18295602909.476955,
          18560230404.423977,
          18560230404.423977,
          18560230404.423977,
          18560230404.423977,
          18560230404.423977,
          18560230404.423977,
          18560230404.423977,
          18560230404.423977,
          18560230404.423977,
          18560230404.423977,
          18560230404.423977,
          18560230404.423977,
          18824857899.371,
          18824857899.371,
          18824857899.371,
          18824857899.371,
          18824857899.371,
          18824857899.371,
          18824857899.371,
          18824857899.371,
          18824857899.371,
          18824857899.371,
          18824857899.371,
          18824857899.371,
          18824857899.371,
          19089485394.31802,
          19089485394.31802,
          19089485394.31802,
          19089485394.31802,
          19089485394.31802,
          19089485394.31802,
          19089485394.31802,
          19089485394.31802,
          19089485394.31802,
          19089485394.31802,
          19089485394.31802,
          19089485394.31802,
          19089485394.31802,
          19089485394.31802,
          19089485394.31802,
          19354112889.26504,
          19354112889.26504,
          19354112889.26504,
          19354112889.26504,
          19354112889.26504,
          19354112889.26504,
          19354112889.26504,
          19354112889.26504,
          19354112889.26504,
          19354112889.26504,
          19354112889.26504,
          19354112889.26504,
          19354112889.26504,
          19354112889.26504,
          19618740384.212067,
          19618740384.212067,
          19618740384.212067,
          19618740384.212067,
          19618740384.212067,
          19618740384.212067,
          19618740384.212067,
          19618740384.212067,
          19618740384.212067,
          19618740384.212067,
          19618740384.212067,
          19618740384.212067,
          19618740384.212067,
          19618740384.212067,
          19883367879.15909,
          19883367879.15909,
          19883367879.15909,
          19883367879.15909,
          19883367879.15909,
          19883367879.15909,
          19883367879.15909,
          19883367879.15909,
          19883367879.15909,
          19883367879.15909,
          19883367879.15909,
          20147995374.10611,
          20147995374.10611,
          20147995374.10611,
          20147995374.10611,
          20147995374.10611,
          20147995374.10611,
          20147995374.10611,
          20147995374.10611,
          20147995374.10611,
          20147995374.10611,
          20147995374.10611,
          20147995374.10611,
          20412622869.05313,
          20412622869.05313,
          20412622869.05313,
          20412622869.05313,
          20412622869.05313,
          20412622869.05313,
          20412622869.05313,
          20412622869.05313,
          20412622869.05313,
          20412622869.05313,
          20412622869.05313,
          20412622869.05313,
          20412622869.05313,
          20412622869.05313,
          20677250364.000153,
          20677250364.000153,
          20677250364.000153,
          20677250364.000153,
          20677250364.000153,
          20677250364.000153,
          20677250364.000153,
          20677250364.000153,
          20677250364.000153,
          20677250364.000153,
          20677250364.000153,
          20677250364.000153,
          20677250364.000153,
          20677250364.000153,
          20941877858.947174,
          20941877858.947174,
          20941877858.947174,
          20941877858.947174,
          20941877858.947174,
          20941877858.947174,
          20941877858.947174,
          20941877858.947174,
          20941877858.947174,
          20941877858.947174,
          20941877858.947174,
          21206505353.894196,
          21206505353.894196,
          21206505353.894196,
          21206505353.894196,
          21206505353.894196,
          21206505353.894196,
          21206505353.894196,
          21206505353.894196,
          21206505353.894196,
          21206505353.894196,
          21206505353.894196,
          21471132848.841217,
          21471132848.841217,
          21471132848.841217,
          21471132848.841217,
          21471132848.841217,
          21471132848.841217,
          21471132848.841217,
          21471132848.841217,
          21471132848.841217,
          21471132848.841217,
          21471132848.841217,
          21471132848.841217,
          21471132848.841217,
          21471132848.841217,
          21735760343.78824,
          21735760343.78824,
          21735760343.78824,
          21735760343.78824,
          21735760343.78824,
          21735760343.78824,
          21735760343.78824,
          21735760343.78824,
          21735760343.78824,
          21735760343.78824,
          21735760343.78824,
          21735760343.78824,
          22000387838.735264,
          22000387838.735264,
          22000387838.735264,
          22000387838.735264,
          22000387838.735264,
          22000387838.735264,
          22000387838.735264,
          22000387838.735264,
          22000387838.735264,
          22000387838.735264,
          22000387838.735264,
          22000387838.735264,
          22265015333.682285,
          22265015333.682285,
          22265015333.682285,
          22265015333.682285,
          22265015333.682285,
          22265015333.682285,
          22265015333.682285,
          22265015333.682285,
          22265015333.682285,
          22265015333.682285,
          22265015333.682285,
          22265015333.682285,
          22265015333.682285,
          22529642828.629307,
          22529642828.629307,
          22529642828.629307,
          22529642828.629307,
          22529642828.629307,
          22529642828.629307,
          22529642828.629307,
          22529642828.629307,
          22529642828.629307,
          22529642828.629307,
          22529642828.629307,
          22529642828.629307,
          22529642828.629307,
          22529642828.629307,
          22529642828.629307,
          22529642828.629307,
          22794270323.57633,
          22794270323.57633,
          22794270323.57633,
          22794270323.57633,
          22794270323.57633,
          22794270323.57633,
          22794270323.57633,
          22794270323.57633,
          22794270323.57633,
          22794270323.57633,
          22794270323.57633,
          22794270323.57633,
          22794270323.57633,
          22794270323.57633,
          23058897818.52335,
          23058897818.52335,
          23058897818.52335,
          23058897818.52335,
          23058897818.52335,
          23058897818.52335,
          23058897818.52335,
          23058897818.52335,
          23058897818.52335,
          23058897818.52335,
          23058897818.52335,
          23058897818.52335,
          23323525313.47037,
          23323525313.47037,
          23323525313.47037,
          23323525313.47037,
          23323525313.47037,
          23323525313.47037,
          23323525313.47037,
          23323525313.47037,
          23323525313.47037,
          23323525313.47037,
          23323525313.47037,
          23323525313.47037,
          23323525313.47037
         ],
         "yaxis": "y2"
        },
        {
         "hovertemplate": "<b>OLS trendline</b><br>NOMINAL = 2.64627e+08 * TANGGALBAYAR + 1.51201e+10<br>R<sup>2</sup>=0.002511<br><br>TANGGALBAYAR=%{x}<br>NOMINAL=%{y} <b>(trend)</b><extra></extra>",
         "legendgroup": "Overall Trendline",
         "line": {
          "color": "#EF553B"
         },
         "mode": "lines",
         "name": "Overall Trendline",
         "showlegend": true,
         "type": "scatter",
         "x": [
          1,
          1,
          1,
          1,
          1,
          1,
          1,
          1,
          1,
          1,
          1,
          1,
          1,
          1,
          2,
          2,
          2,
          2,
          2,
          2,
          2,
          2,
          2,
          2,
          2,
          2,
          2,
          3,
          3,
          3,
          3,
          3,
          3,
          3,
          3,
          3,
          3,
          3,
          3,
          3,
          3,
          3,
          4,
          4,
          4,
          4,
          4,
          4,
          4,
          4,
          4,
          4,
          4,
          4,
          5,
          5,
          5,
          5,
          5,
          5,
          5,
          5,
          5,
          5,
          5,
          5,
          6,
          6,
          6,
          6,
          6,
          6,
          6,
          6,
          6,
          6,
          6,
          6,
          6,
          6,
          6,
          6,
          7,
          7,
          7,
          7,
          7,
          7,
          7,
          7,
          7,
          7,
          7,
          7,
          8,
          8,
          8,
          8,
          8,
          8,
          8,
          8,
          8,
          8,
          8,
          8,
          8,
          9,
          9,
          9,
          9,
          9,
          9,
          9,
          9,
          9,
          9,
          9,
          9,
          9,
          9,
          10,
          10,
          10,
          10,
          10,
          10,
          10,
          10,
          10,
          10,
          10,
          10,
          10,
          10,
          10,
          11,
          11,
          11,
          11,
          11,
          11,
          11,
          11,
          11,
          11,
          11,
          12,
          12,
          12,
          12,
          12,
          12,
          12,
          12,
          12,
          12,
          12,
          12,
          13,
          13,
          13,
          13,
          13,
          13,
          13,
          13,
          13,
          13,
          13,
          13,
          14,
          14,
          14,
          14,
          14,
          14,
          14,
          14,
          14,
          14,
          14,
          14,
          14,
          15,
          15,
          15,
          15,
          15,
          15,
          15,
          15,
          15,
          15,
          15,
          15,
          15,
          15,
          15,
          16,
          16,
          16,
          16,
          16,
          16,
          16,
          16,
          16,
          16,
          16,
          16,
          16,
          16,
          17,
          17,
          17,
          17,
          17,
          17,
          17,
          17,
          17,
          17,
          17,
          17,
          17,
          17,
          18,
          18,
          18,
          18,
          18,
          18,
          18,
          18,
          18,
          18,
          18,
          19,
          19,
          19,
          19,
          19,
          19,
          19,
          19,
          19,
          19,
          19,
          19,
          20,
          20,
          20,
          20,
          20,
          20,
          20,
          20,
          20,
          20,
          20,
          20,
          20,
          20,
          21,
          21,
          21,
          21,
          21,
          21,
          21,
          21,
          21,
          21,
          21,
          21,
          21,
          21,
          22,
          22,
          22,
          22,
          22,
          22,
          22,
          22,
          22,
          22,
          22,
          23,
          23,
          23,
          23,
          23,
          23,
          23,
          23,
          23,
          23,
          23,
          24,
          24,
          24,
          24,
          24,
          24,
          24,
          24,
          24,
          24,
          24,
          24,
          24,
          24,
          25,
          25,
          25,
          25,
          25,
          25,
          25,
          25,
          25,
          25,
          25,
          25,
          26,
          26,
          26,
          26,
          26,
          26,
          26,
          26,
          26,
          26,
          26,
          26,
          27,
          27,
          27,
          27,
          27,
          27,
          27,
          27,
          27,
          27,
          27,
          27,
          27,
          28,
          28,
          28,
          28,
          28,
          28,
          28,
          28,
          28,
          28,
          28,
          28,
          28,
          28,
          28,
          28,
          29,
          29,
          29,
          29,
          29,
          29,
          29,
          29,
          29,
          29,
          29,
          29,
          29,
          29,
          30,
          30,
          30,
          30,
          30,
          30,
          30,
          30,
          30,
          30,
          30,
          30,
          31,
          31,
          31,
          31,
          31,
          31,
          31,
          31,
          31,
          31,
          31,
          31,
          31
         ],
         "xaxis": "x3",
         "y": [
          15384700465.059711,
          15384700465.059711,
          15384700465.059711,
          15384700465.059711,
          15384700465.059711,
          15384700465.059711,
          15384700465.059711,
          15384700465.059711,
          15384700465.059711,
          15384700465.059711,
          15384700465.059711,
          15384700465.059711,
          15384700465.059711,
          15384700465.059711,
          15649327960.006735,
          15649327960.006735,
          15649327960.006735,
          15649327960.006735,
          15649327960.006735,
          15649327960.006735,
          15649327960.006735,
          15649327960.006735,
          15649327960.006735,
          15649327960.006735,
          15649327960.006735,
          15649327960.006735,
          15649327960.006735,
          15913955454.953756,
          15913955454.953756,
          15913955454.953756,
          15913955454.953756,
          15913955454.953756,
          15913955454.953756,
          15913955454.953756,
          15913955454.953756,
          15913955454.953756,
          15913955454.953756,
          15913955454.953756,
          15913955454.953756,
          15913955454.953756,
          15913955454.953756,
          15913955454.953756,
          16178582949.900778,
          16178582949.900778,
          16178582949.900778,
          16178582949.900778,
          16178582949.900778,
          16178582949.900778,
          16178582949.900778,
          16178582949.900778,
          16178582949.900778,
          16178582949.900778,
          16178582949.900778,
          16178582949.900778,
          16443210444.8478,
          16443210444.8478,
          16443210444.8478,
          16443210444.8478,
          16443210444.8478,
          16443210444.8478,
          16443210444.8478,
          16443210444.8478,
          16443210444.8478,
          16443210444.8478,
          16443210444.8478,
          16443210444.8478,
          16707837939.794823,
          16707837939.794823,
          16707837939.794823,
          16707837939.794823,
          16707837939.794823,
          16707837939.794823,
          16707837939.794823,
          16707837939.794823,
          16707837939.794823,
          16707837939.794823,
          16707837939.794823,
          16707837939.794823,
          16707837939.794823,
          16707837939.794823,
          16707837939.794823,
          16707837939.794823,
          16972465434.741844,
          16972465434.741844,
          16972465434.741844,
          16972465434.741844,
          16972465434.741844,
          16972465434.741844,
          16972465434.741844,
          16972465434.741844,
          16972465434.741844,
          16972465434.741844,
          16972465434.741844,
          16972465434.741844,
          17237092929.688866,
          17237092929.688866,
          17237092929.688866,
          17237092929.688866,
          17237092929.688866,
          17237092929.688866,
          17237092929.688866,
          17237092929.688866,
          17237092929.688866,
          17237092929.688866,
          17237092929.688866,
          17237092929.688866,
          17237092929.688866,
          17501720424.635887,
          17501720424.635887,
          17501720424.635887,
          17501720424.635887,
          17501720424.635887,
          17501720424.635887,
          17501720424.635887,
          17501720424.635887,
          17501720424.635887,
          17501720424.635887,
          17501720424.635887,
          17501720424.635887,
          17501720424.635887,
          17501720424.635887,
          17766347919.58291,
          17766347919.58291,
          17766347919.58291,
          17766347919.58291,
          17766347919.58291,
          17766347919.58291,
          17766347919.58291,
          17766347919.58291,
          17766347919.58291,
          17766347919.58291,
          17766347919.58291,
          17766347919.58291,
          17766347919.58291,
          17766347919.58291,
          17766347919.58291,
          18030975414.52993,
          18030975414.52993,
          18030975414.52993,
          18030975414.52993,
          18030975414.52993,
          18030975414.52993,
          18030975414.52993,
          18030975414.52993,
          18030975414.52993,
          18030975414.52993,
          18030975414.52993,
          18295602909.476955,
          18295602909.476955,
          18295602909.476955,
          18295602909.476955,
          18295602909.476955,
          18295602909.476955,
          18295602909.476955,
          18295602909.476955,
          18295602909.476955,
          18295602909.476955,
          18295602909.476955,
          18295602909.476955,
          18560230404.423977,
          18560230404.423977,
          18560230404.423977,
          18560230404.423977,
          18560230404.423977,
          18560230404.423977,
          18560230404.423977,
          18560230404.423977,
          18560230404.423977,
          18560230404.423977,
          18560230404.423977,
          18560230404.423977,
          18824857899.371,
          18824857899.371,
          18824857899.371,
          18824857899.371,
          18824857899.371,
          18824857899.371,
          18824857899.371,
          18824857899.371,
          18824857899.371,
          18824857899.371,
          18824857899.371,
          18824857899.371,
          18824857899.371,
          19089485394.31802,
          19089485394.31802,
          19089485394.31802,
          19089485394.31802,
          19089485394.31802,
          19089485394.31802,
          19089485394.31802,
          19089485394.31802,
          19089485394.31802,
          19089485394.31802,
          19089485394.31802,
          19089485394.31802,
          19089485394.31802,
          19089485394.31802,
          19089485394.31802,
          19354112889.26504,
          19354112889.26504,
          19354112889.26504,
          19354112889.26504,
          19354112889.26504,
          19354112889.26504,
          19354112889.26504,
          19354112889.26504,
          19354112889.26504,
          19354112889.26504,
          19354112889.26504,
          19354112889.26504,
          19354112889.26504,
          19354112889.26504,
          19618740384.212067,
          19618740384.212067,
          19618740384.212067,
          19618740384.212067,
          19618740384.212067,
          19618740384.212067,
          19618740384.212067,
          19618740384.212067,
          19618740384.212067,
          19618740384.212067,
          19618740384.212067,
          19618740384.212067,
          19618740384.212067,
          19618740384.212067,
          19883367879.15909,
          19883367879.15909,
          19883367879.15909,
          19883367879.15909,
          19883367879.15909,
          19883367879.15909,
          19883367879.15909,
          19883367879.15909,
          19883367879.15909,
          19883367879.15909,
          19883367879.15909,
          20147995374.10611,
          20147995374.10611,
          20147995374.10611,
          20147995374.10611,
          20147995374.10611,
          20147995374.10611,
          20147995374.10611,
          20147995374.10611,
          20147995374.10611,
          20147995374.10611,
          20147995374.10611,
          20147995374.10611,
          20412622869.05313,
          20412622869.05313,
          20412622869.05313,
          20412622869.05313,
          20412622869.05313,
          20412622869.05313,
          20412622869.05313,
          20412622869.05313,
          20412622869.05313,
          20412622869.05313,
          20412622869.05313,
          20412622869.05313,
          20412622869.05313,
          20412622869.05313,
          20677250364.000153,
          20677250364.000153,
          20677250364.000153,
          20677250364.000153,
          20677250364.000153,
          20677250364.000153,
          20677250364.000153,
          20677250364.000153,
          20677250364.000153,
          20677250364.000153,
          20677250364.000153,
          20677250364.000153,
          20677250364.000153,
          20677250364.000153,
          20941877858.947174,
          20941877858.947174,
          20941877858.947174,
          20941877858.947174,
          20941877858.947174,
          20941877858.947174,
          20941877858.947174,
          20941877858.947174,
          20941877858.947174,
          20941877858.947174,
          20941877858.947174,
          21206505353.894196,
          21206505353.894196,
          21206505353.894196,
          21206505353.894196,
          21206505353.894196,
          21206505353.894196,
          21206505353.894196,
          21206505353.894196,
          21206505353.894196,
          21206505353.894196,
          21206505353.894196,
          21471132848.841217,
          21471132848.841217,
          21471132848.841217,
          21471132848.841217,
          21471132848.841217,
          21471132848.841217,
          21471132848.841217,
          21471132848.841217,
          21471132848.841217,
          21471132848.841217,
          21471132848.841217,
          21471132848.841217,
          21471132848.841217,
          21471132848.841217,
          21735760343.78824,
          21735760343.78824,
          21735760343.78824,
          21735760343.78824,
          21735760343.78824,
          21735760343.78824,
          21735760343.78824,
          21735760343.78824,
          21735760343.78824,
          21735760343.78824,
          21735760343.78824,
          21735760343.78824,
          22000387838.735264,
          22000387838.735264,
          22000387838.735264,
          22000387838.735264,
          22000387838.735264,
          22000387838.735264,
          22000387838.735264,
          22000387838.735264,
          22000387838.735264,
          22000387838.735264,
          22000387838.735264,
          22000387838.735264,
          22265015333.682285,
          22265015333.682285,
          22265015333.682285,
          22265015333.682285,
          22265015333.682285,
          22265015333.682285,
          22265015333.682285,
          22265015333.682285,
          22265015333.682285,
          22265015333.682285,
          22265015333.682285,
          22265015333.682285,
          22265015333.682285,
          22529642828.629307,
          22529642828.629307,
          22529642828.629307,
          22529642828.629307,
          22529642828.629307,
          22529642828.629307,
          22529642828.629307,
          22529642828.629307,
          22529642828.629307,
          22529642828.629307,
          22529642828.629307,
          22529642828.629307,
          22529642828.629307,
          22529642828.629307,
          22529642828.629307,
          22529642828.629307,
          22794270323.57633,
          22794270323.57633,
          22794270323.57633,
          22794270323.57633,
          22794270323.57633,
          22794270323.57633,
          22794270323.57633,
          22794270323.57633,
          22794270323.57633,
          22794270323.57633,
          22794270323.57633,
          22794270323.57633,
          22794270323.57633,
          22794270323.57633,
          23058897818.52335,
          23058897818.52335,
          23058897818.52335,
          23058897818.52335,
          23058897818.52335,
          23058897818.52335,
          23058897818.52335,
          23058897818.52335,
          23058897818.52335,
          23058897818.52335,
          23058897818.52335,
          23058897818.52335,
          23323525313.47037,
          23323525313.47037,
          23323525313.47037,
          23323525313.47037,
          23323525313.47037,
          23323525313.47037,
          23323525313.47037,
          23323525313.47037,
          23323525313.47037,
          23323525313.47037,
          23323525313.47037,
          23323525313.47037,
          23323525313.47037
         ],
         "yaxis": "y3"
        }
       ],
       "layout": {
        "barmode": "overlay",
        "legend": {
         "title": {
          "text": "MAP"
         },
         "tracegroupgap": 0
        },
        "margin": {
         "t": 60
        },
        "template": {
         "data": {
          "bar": [
           {
            "error_x": {
             "color": "#2a3f5f"
            },
            "error_y": {
             "color": "#2a3f5f"
            },
            "marker": {
             "line": {
              "color": "#E5ECF6",
              "width": 0.5
             },
             "pattern": {
              "fillmode": "overlay",
              "size": 10,
              "solidity": 0.2
             }
            },
            "type": "bar"
           }
          ],
          "barpolar": [
           {
            "marker": {
             "line": {
              "color": "#E5ECF6",
              "width": 0.5
             },
             "pattern": {
              "fillmode": "overlay",
              "size": 10,
              "solidity": 0.2
             }
            },
            "type": "barpolar"
           }
          ],
          "carpet": [
           {
            "aaxis": {
             "endlinecolor": "#2a3f5f",
             "gridcolor": "white",
             "linecolor": "white",
             "minorgridcolor": "white",
             "startlinecolor": "#2a3f5f"
            },
            "baxis": {
             "endlinecolor": "#2a3f5f",
             "gridcolor": "white",
             "linecolor": "white",
             "minorgridcolor": "white",
             "startlinecolor": "#2a3f5f"
            },
            "type": "carpet"
           }
          ],
          "choropleth": [
           {
            "colorbar": {
             "outlinewidth": 0,
             "ticks": ""
            },
            "type": "choropleth"
           }
          ],
          "contour": [
           {
            "colorbar": {
             "outlinewidth": 0,
             "ticks": ""
            },
            "colorscale": [
             [
              0,
              "#0d0887"
             ],
             [
              0.1111111111111111,
              "#46039f"
             ],
             [
              0.2222222222222222,
              "#7201a8"
             ],
             [
              0.3333333333333333,
              "#9c179e"
             ],
             [
              0.4444444444444444,
              "#bd3786"
             ],
             [
              0.5555555555555556,
              "#d8576b"
             ],
             [
              0.6666666666666666,
              "#ed7953"
             ],
             [
              0.7777777777777778,
              "#fb9f3a"
             ],
             [
              0.8888888888888888,
              "#fdca26"
             ],
             [
              1,
              "#f0f921"
             ]
            ],
            "type": "contour"
           }
          ],
          "contourcarpet": [
           {
            "colorbar": {
             "outlinewidth": 0,
             "ticks": ""
            },
            "type": "contourcarpet"
           }
          ],
          "heatmap": [
           {
            "colorbar": {
             "outlinewidth": 0,
             "ticks": ""
            },
            "colorscale": [
             [
              0,
              "#0d0887"
             ],
             [
              0.1111111111111111,
              "#46039f"
             ],
             [
              0.2222222222222222,
              "#7201a8"
             ],
             [
              0.3333333333333333,
              "#9c179e"
             ],
             [
              0.4444444444444444,
              "#bd3786"
             ],
             [
              0.5555555555555556,
              "#d8576b"
             ],
             [
              0.6666666666666666,
              "#ed7953"
             ],
             [
              0.7777777777777778,
              "#fb9f3a"
             ],
             [
              0.8888888888888888,
              "#fdca26"
             ],
             [
              1,
              "#f0f921"
             ]
            ],
            "type": "heatmap"
           }
          ],
          "heatmapgl": [
           {
            "colorbar": {
             "outlinewidth": 0,
             "ticks": ""
            },
            "colorscale": [
             [
              0,
              "#0d0887"
             ],
             [
              0.1111111111111111,
              "#46039f"
             ],
             [
              0.2222222222222222,
              "#7201a8"
             ],
             [
              0.3333333333333333,
              "#9c179e"
             ],
             [
              0.4444444444444444,
              "#bd3786"
             ],
             [
              0.5555555555555556,
              "#d8576b"
             ],
             [
              0.6666666666666666,
              "#ed7953"
             ],
             [
              0.7777777777777778,
              "#fb9f3a"
             ],
             [
              0.8888888888888888,
              "#fdca26"
             ],
             [
              1,
              "#f0f921"
             ]
            ],
            "type": "heatmapgl"
           }
          ],
          "histogram": [
           {
            "marker": {
             "pattern": {
              "fillmode": "overlay",
              "size": 10,
              "solidity": 0.2
             }
            },
            "type": "histogram"
           }
          ],
          "histogram2d": [
           {
            "colorbar": {
             "outlinewidth": 0,
             "ticks": ""
            },
            "colorscale": [
             [
              0,
              "#0d0887"
             ],
             [
              0.1111111111111111,
              "#46039f"
             ],
             [
              0.2222222222222222,
              "#7201a8"
             ],
             [
              0.3333333333333333,
              "#9c179e"
             ],
             [
              0.4444444444444444,
              "#bd3786"
             ],
             [
              0.5555555555555556,
              "#d8576b"
             ],
             [
              0.6666666666666666,
              "#ed7953"
             ],
             [
              0.7777777777777778,
              "#fb9f3a"
             ],
             [
              0.8888888888888888,
              "#fdca26"
             ],
             [
              1,
              "#f0f921"
             ]
            ],
            "type": "histogram2d"
           }
          ],
          "histogram2dcontour": [
           {
            "colorbar": {
             "outlinewidth": 0,
             "ticks": ""
            },
            "colorscale": [
             [
              0,
              "#0d0887"
             ],
             [
              0.1111111111111111,
              "#46039f"
             ],
             [
              0.2222222222222222,
              "#7201a8"
             ],
             [
              0.3333333333333333,
              "#9c179e"
             ],
             [
              0.4444444444444444,
              "#bd3786"
             ],
             [
              0.5555555555555556,
              "#d8576b"
             ],
             [
              0.6666666666666666,
              "#ed7953"
             ],
             [
              0.7777777777777778,
              "#fb9f3a"
             ],
             [
              0.8888888888888888,
              "#fdca26"
             ],
             [
              1,
              "#f0f921"
             ]
            ],
            "type": "histogram2dcontour"
           }
          ],
          "mesh3d": [
           {
            "colorbar": {
             "outlinewidth": 0,
             "ticks": ""
            },
            "type": "mesh3d"
           }
          ],
          "parcoords": [
           {
            "line": {
             "colorbar": {
              "outlinewidth": 0,
              "ticks": ""
             }
            },
            "type": "parcoords"
           }
          ],
          "pie": [
           {
            "automargin": true,
            "type": "pie"
           }
          ],
          "scatter": [
           {
            "fillpattern": {
             "fillmode": "overlay",
             "size": 10,
             "solidity": 0.2
            },
            "type": "scatter"
           }
          ],
          "scatter3d": [
           {
            "line": {
             "colorbar": {
              "outlinewidth": 0,
              "ticks": ""
             }
            },
            "marker": {
             "colorbar": {
              "outlinewidth": 0,
              "ticks": ""
             }
            },
            "type": "scatter3d"
           }
          ],
          "scattercarpet": [
           {
            "marker": {
             "colorbar": {
              "outlinewidth": 0,
              "ticks": ""
             }
            },
            "type": "scattercarpet"
           }
          ],
          "scattergeo": [
           {
            "marker": {
             "colorbar": {
              "outlinewidth": 0,
              "ticks": ""
             }
            },
            "type": "scattergeo"
           }
          ],
          "scattergl": [
           {
            "marker": {
             "colorbar": {
              "outlinewidth": 0,
              "ticks": ""
             }
            },
            "type": "scattergl"
           }
          ],
          "scattermapbox": [
           {
            "marker": {
             "colorbar": {
              "outlinewidth": 0,
              "ticks": ""
             }
            },
            "type": "scattermapbox"
           }
          ],
          "scatterpolar": [
           {
            "marker": {
             "colorbar": {
              "outlinewidth": 0,
              "ticks": ""
             }
            },
            "type": "scatterpolar"
           }
          ],
          "scatterpolargl": [
           {
            "marker": {
             "colorbar": {
              "outlinewidth": 0,
              "ticks": ""
             }
            },
            "type": "scatterpolargl"
           }
          ],
          "scatterternary": [
           {
            "marker": {
             "colorbar": {
              "outlinewidth": 0,
              "ticks": ""
             }
            },
            "type": "scatterternary"
           }
          ],
          "surface": [
           {
            "colorbar": {
             "outlinewidth": 0,
             "ticks": ""
            },
            "colorscale": [
             [
              0,
              "#0d0887"
             ],
             [
              0.1111111111111111,
              "#46039f"
             ],
             [
              0.2222222222222222,
              "#7201a8"
             ],
             [
              0.3333333333333333,
              "#9c179e"
             ],
             [
              0.4444444444444444,
              "#bd3786"
             ],
             [
              0.5555555555555556,
              "#d8576b"
             ],
             [
              0.6666666666666666,
              "#ed7953"
             ],
             [
              0.7777777777777778,
              "#fb9f3a"
             ],
             [
              0.8888888888888888,
              "#fdca26"
             ],
             [
              1,
              "#f0f921"
             ]
            ],
            "type": "surface"
           }
          ],
          "table": [
           {
            "cells": {
             "fill": {
              "color": "#EBF0F8"
             },
             "line": {
              "color": "white"
             }
            },
            "header": {
             "fill": {
              "color": "#C8D4E3"
             },
             "line": {
              "color": "white"
             }
            },
            "type": "table"
           }
          ]
         },
         "layout": {
          "annotationdefaults": {
           "arrowcolor": "#2a3f5f",
           "arrowhead": 0,
           "arrowwidth": 1
          },
          "autotypenumbers": "strict",
          "coloraxis": {
           "colorbar": {
            "outlinewidth": 0,
            "ticks": ""
           }
          },
          "colorscale": {
           "diverging": [
            [
             0,
             "#8e0152"
            ],
            [
             0.1,
             "#c51b7d"
            ],
            [
             0.2,
             "#de77ae"
            ],
            [
             0.3,
             "#f1b6da"
            ],
            [
             0.4,
             "#fde0ef"
            ],
            [
             0.5,
             "#f7f7f7"
            ],
            [
             0.6,
             "#e6f5d0"
            ],
            [
             0.7,
             "#b8e186"
            ],
            [
             0.8,
             "#7fbc41"
            ],
            [
             0.9,
             "#4d9221"
            ],
            [
             1,
             "#276419"
            ]
           ],
           "sequential": [
            [
             0,
             "#0d0887"
            ],
            [
             0.1111111111111111,
             "#46039f"
            ],
            [
             0.2222222222222222,
             "#7201a8"
            ],
            [
             0.3333333333333333,
             "#9c179e"
            ],
            [
             0.4444444444444444,
             "#bd3786"
            ],
            [
             0.5555555555555556,
             "#d8576b"
            ],
            [
             0.6666666666666666,
             "#ed7953"
            ],
            [
             0.7777777777777778,
             "#fb9f3a"
            ],
            [
             0.8888888888888888,
             "#fdca26"
            ],
            [
             1,
             "#f0f921"
            ]
           ],
           "sequentialminus": [
            [
             0,
             "#0d0887"
            ],
            [
             0.1111111111111111,
             "#46039f"
            ],
            [
             0.2222222222222222,
             "#7201a8"
            ],
            [
             0.3333333333333333,
             "#9c179e"
            ],
            [
             0.4444444444444444,
             "#bd3786"
            ],
            [
             0.5555555555555556,
             "#d8576b"
            ],
            [
             0.6666666666666666,
             "#ed7953"
            ],
            [
             0.7777777777777778,
             "#fb9f3a"
            ],
            [
             0.8888888888888888,
             "#fdca26"
            ],
            [
             1,
             "#f0f921"
            ]
           ]
          },
          "colorway": [
           "#636efa",
           "#EF553B",
           "#00cc96",
           "#ab63fa",
           "#FFA15A",
           "#19d3f3",
           "#FF6692",
           "#B6E880",
           "#FF97FF",
           "#FECB52"
          ],
          "font": {
           "color": "#2a3f5f"
          },
          "geo": {
           "bgcolor": "white",
           "lakecolor": "white",
           "landcolor": "#E5ECF6",
           "showlakes": true,
           "showland": true,
           "subunitcolor": "white"
          },
          "hoverlabel": {
           "align": "left"
          },
          "hovermode": "closest",
          "mapbox": {
           "style": "light"
          },
          "paper_bgcolor": "white",
          "plot_bgcolor": "#E5ECF6",
          "polar": {
           "angularaxis": {
            "gridcolor": "white",
            "linecolor": "white",
            "ticks": ""
           },
           "bgcolor": "#E5ECF6",
           "radialaxis": {
            "gridcolor": "white",
            "linecolor": "white",
            "ticks": ""
           }
          },
          "scene": {
           "xaxis": {
            "backgroundcolor": "#E5ECF6",
            "gridcolor": "white",
            "gridwidth": 2,
            "linecolor": "white",
            "showbackground": true,
            "ticks": "",
            "zerolinecolor": "white"
           },
           "yaxis": {
            "backgroundcolor": "#E5ECF6",
            "gridcolor": "white",
            "gridwidth": 2,
            "linecolor": "white",
            "showbackground": true,
            "ticks": "",
            "zerolinecolor": "white"
           },
           "zaxis": {
            "backgroundcolor": "#E5ECF6",
            "gridcolor": "white",
            "gridwidth": 2,
            "linecolor": "white",
            "showbackground": true,
            "ticks": "",
            "zerolinecolor": "white"
           }
          },
          "shapedefaults": {
           "line": {
            "color": "#2a3f5f"
           }
          },
          "ternary": {
           "aaxis": {
            "gridcolor": "white",
            "linecolor": "white",
            "ticks": ""
           },
           "baxis": {
            "gridcolor": "white",
            "linecolor": "white",
            "ticks": ""
           },
           "bgcolor": "#E5ECF6",
           "caxis": {
            "gridcolor": "white",
            "linecolor": "white",
            "ticks": ""
           }
          },
          "title": {
           "x": 0.05
          },
          "xaxis": {
           "automargin": true,
           "gridcolor": "white",
           "linecolor": "white",
           "ticks": "",
           "title": {
            "standoff": 15
           },
           "zerolinecolor": "white",
           "zerolinewidth": 2
          },
          "yaxis": {
           "automargin": true,
           "gridcolor": "white",
           "linecolor": "white",
           "ticks": "",
           "title": {
            "standoff": 15
           },
           "zerolinecolor": "white",
           "zerolinewidth": 2
          }
         }
        },
        "xaxis": {
         "anchor": "y",
         "domain": [
          0,
          0.7363
         ],
         "title": {
          "text": "TANGGALBAYAR"
         }
        },
        "xaxis2": {
         "anchor": "y2",
         "domain": [
          0.7413,
          1
         ],
         "matches": "x2",
         "showgrid": false,
         "showline": false,
         "showticklabels": false,
         "ticks": ""
        },
        "xaxis3": {
         "anchor": "y3",
         "domain": [
          0,
          0.7363
         ],
         "matches": "x",
         "showgrid": true,
         "showticklabels": false
        },
        "xaxis4": {
         "anchor": "y4",
         "domain": [
          0.7413,
          1
         ],
         "matches": "x2",
         "showgrid": false,
         "showline": false,
         "showticklabels": false,
         "ticks": ""
        },
        "yaxis": {
         "anchor": "x",
         "domain": [
          0,
          0.7326
         ],
         "title": {
          "text": "NOMINAL"
         }
        },
        "yaxis2": {
         "anchor": "x2",
         "domain": [
          0,
          0.7326
         ],
         "matches": "y",
         "showgrid": true,
         "showticklabels": false
        },
        "yaxis3": {
         "anchor": "x3",
         "domain": [
          0.7426,
          1
         ],
         "matches": "y3",
         "showgrid": true,
         "showline": false,
         "showticklabels": false,
         "ticks": ""
        },
        "yaxis4": {
         "anchor": "x4",
         "domain": [
          0.7426,
          1
         ],
         "matches": "y3",
         "showgrid": true,
         "showline": false,
         "showticklabels": false,
         "ticks": ""
        }
       }
      }
     },
     "metadata": {},
     "output_type": "display_data"
    }
   ],
   "source": [
    "px.scatter(df\n",
    "    .query(\"TAHUNBAYAR == 2023 & KET not in ('SPMKP')\")\n",
    "    .groupby(['TANGGALBAYAR','MAP'], as_index=False)['NOMINAL']\n",
    "    .sum(),\n",
    "    x='TANGGALBAYAR',\n",
    "    y='NOMINAL',\n",
    "    color='MAP',\n",
    "    trendline='ols',\n",
    "    trendline_scope='overall',\n",
    "    marginal_x='histogram',\n",
    "    marginal_y='violin'\n",
    ")"
   ]
  },
  {
   "cell_type": "code",
   "execution_count": null,
   "metadata": {},
   "outputs": [],
   "source": []
  }
 ],
 "metadata": {
  "kernelspec": {
   "display_name": "dash",
   "language": "python",
   "name": "python3"
  },
  "language_info": {
   "codemirror_mode": {
    "name": "ipython",
    "version": 3
   },
   "file_extension": ".py",
   "mimetype": "text/x-python",
   "name": "python",
   "nbconvert_exporter": "python",
   "pygments_lexer": "ipython3",
   "version": "3.11.2"
  },
  "orig_nbformat": 4
 },
 "nbformat": 4,
 "nbformat_minor": 2
}
